{
 "cells": [
  {
   "cell_type": "code",
   "execution_count": 1,
   "metadata": {},
   "outputs": [],
   "source": [
    "import yfinance as yf"
   ]
  },
  {
   "cell_type": "code",
   "execution_count": 2,
   "metadata": {},
   "outputs": [
    {
     "name": "stdout",
     "output_type": "stream",
     "text": [
      "[{'uuid': '28ef3dbd-9b3d-3b05-a012-3ef5da9f6305', 'title': 'Al Gore’s Firm Dumps Intel Stock. What Else It Sold.', 'publisher': 'Barrons.com', 'link': 'https://finance.yahoo.com/m/28ef3dbd-9b3d-3b05-a012-3ef5da9f6305/al-gore%E2%80%99s-firm-dumps-intel.html', 'providerPublishTime': 1669045920, 'type': 'STORY', 'thumbnail': {'resolutions': [{'url': 'https://s.yimg.com/uu/api/res/1.2/_wxfKp9ITtLxycgewxB9Vg--~B/aD02NDA7dz0xMjgwO2FwcGlkPXl0YWNoeW9u/https://media.zenfs.com/en/Barrons.com/010d0bcd91e2dc9f82dcce93f4908f14', 'width': 1280, 'height': 640, 'tag': 'original'}, {'url': 'https://s.yimg.com/uu/api/res/1.2/UI7hre2TsBSioU4VGMmGtQ--~B/Zmk9ZmlsbDtoPTE0MDtweW9mZj0wO3c9MTQwO2FwcGlkPXl0YWNoeW9u/https://media.zenfs.com/en/Barrons.com/010d0bcd91e2dc9f82dcce93f4908f14', 'width': 140, 'height': 140, 'tag': '140x140'}]}, 'relatedTickers': ['MSFT', 'SHOP', 'INTC', 'TWLO']}, {'uuid': '333b8bbd-d019-30fc-8243-65e70f93cdf8', 'title': 'Top 15 Edge Computing Companies in the World', 'publisher': 'Insider Monkey', 'link': 'https://finance.yahoo.com/news/top-15-edge-computing-companies-145908729.html', 'providerPublishTime': 1669042748, 'type': 'STORY', 'thumbnail': {'resolutions': [{'url': 'https://s.yimg.com/uu/api/res/1.2/fNvRiYfHDxmz9NNnexstgw--~B/aD00MzE7dz03Njg7YXBwaWQ9eXRhY2h5b24-/https://media.zenfs.com/en/insidermonkey.com/1c6c6c43f7c150d9fcdc403788403c08', 'width': 768, 'height': 431, 'tag': 'original'}, {'url': 'https://s.yimg.com/uu/api/res/1.2/50J4lydar7bvOO45dMRHBw--~B/Zmk9ZmlsbDtoPTE0MDtweW9mZj0wO3c9MTQwO2FwcGlkPXl0YWNoeW9u/https://media.zenfs.com/en/insidermonkey.com/1c6c6c43f7c150d9fcdc403788403c08', 'width': 140, 'height': 140, 'tag': '140x140'}]}, 'relatedTickers': ['IBM', 'ANET', 'HPE', 'QLYS', 'FSLY', 'NET', 'ORCL', 'AKAM', 'DELL', 'LUMN', 'MSFT', 'AMZN', 'GOOGL']}, {'uuid': '5962d59d-fd09-36cb-afa4-1c9b22a80cb4', 'title': 'Software Growth Stocks: How 2023 Guidance Plays Out Will Be Key', 'publisher': \"Investor's Business Daily\", 'link': 'https://finance.yahoo.com/m/5962d59d-fd09-36cb-afa4-1c9b22a80cb4/software-growth-stocks%3A-how.html', 'providerPublishTime': 1669039849, 'type': 'STORY', 'thumbnail': {'resolutions': [{'url': 'https://s.yimg.com/uu/api/res/1.2/3c5WY3s3eN6IXGKnoHrm1A--~B/aD01NjM7dz0xMDAwO2FwcGlkPXl0YWNoeW9u/https://media.zenfs.com/en/ibd.com/d560847537467224d0b3d9d9306b02d3', 'width': 1000, 'height': 563, 'tag': 'original'}, {'url': 'https://s.yimg.com/uu/api/res/1.2/BqPbfjyvBGdkhBMNw_mdLA--~B/Zmk9ZmlsbDtoPTE0MDtweW9mZj0wO3c9MTQwO2FwcGlkPXl0YWNoeW9u/https://media.zenfs.com/en/ibd.com/d560847537467224d0b3d9d9306b02d3', 'width': 140, 'height': 140, 'tag': '140x140'}]}, 'relatedTickers': ['ADBE', 'TEAM', 'CRM', 'MSFT']}, {'uuid': '9944e128-5b78-31bc-8325-c3308553d527', 'title': 'Is Salesforce Stock A Buy Or Sell As Activist Investor Takes Stake?', 'publisher': \"Investor's Business Daily\", 'link': 'https://finance.yahoo.com/m/9944e128-5b78-31bc-8325-c3308553d527/is-salesforce-stock-a-buy-or.html', 'providerPublishTime': 1669037155, 'type': 'STORY', 'thumbnail': {'resolutions': [{'url': 'https://s.yimg.com/uu/api/res/1.2/HX4Lps6aWcWpdNa3h7gllg--~B/aD01NjM7dz0xMDAwO2FwcGlkPXl0YWNoeW9u/https://media.zenfs.com/en/ibd.com/6a9c339816a6cb16c4be875e2944119b', 'width': 1000, 'height': 563, 'tag': 'original'}, {'url': 'https://s.yimg.com/uu/api/res/1.2/_Bdpw1GRikSII1OYp1_JnQ--~B/Zmk9ZmlsbDtoPTE0MDtweW9mZj0wO3c9MTQwO2FwcGlkPXl0YWNoeW9u/https://media.zenfs.com/en/ibd.com/6a9c339816a6cb16c4be875e2944119b', 'width': 140, 'height': 140, 'tag': '140x140'}]}, 'relatedTickers': ['CRM', 'DATA', 'MSFT', 'GOOGL']}, {'uuid': 'd588c647-f927-3b86-a238-3b2f34553513', 'title': 'Zacks Investment Ideas feature highlights: Visa, UnitedHealth Group, Exxon Mobil, Microsoft, Apple', 'publisher': 'Zacks', 'link': 'https://finance.yahoo.com/news/zacks-investment-ideas-feature-highlights-130901411.html', 'providerPublishTime': 1669036141, 'type': 'STORY', 'thumbnail': {'resolutions': [{'url': 'https://s.yimg.com/uu/api/res/1.2/ALdIqrzzngmHdZ8dtcMAtw--~B/aD00MDA7dz02MzU7YXBwaWQ9eXRhY2h5b24-/https://media.zenfs.com/en/zacks.com/bd614b5b4cd86d012677e26365ef58e3', 'width': 635, 'height': 400, 'tag': 'original'}, {'url': 'https://s.yimg.com/uu/api/res/1.2/35a5.veehpSZUdzA8EbsCQ--~B/Zmk9ZmlsbDtoPTE0MDtweW9mZj0wO3c9MTQwO2FwcGlkPXl0YWNoeW9u/https://media.zenfs.com/en/zacks.com/bd614b5b4cd86d012677e26365ef58e3', 'width': 140, 'height': 140, 'tag': '140x140'}]}, 'relatedTickers': ['UNH', 'V', 'XOM', '^GSPC', 'AAPL', 'MSFT']}, {'uuid': '3bb1eb99-7f4a-3e6c-842c-be1dc0655c20', 'title': 'Apple Stock Isn’t Recession Proof. Why It Could Have a Tough Time.', 'publisher': 'Barrons.com', 'link': 'https://finance.yahoo.com/m/3bb1eb99-7f4a-3e6c-842c-be1dc0655c20/apple-stock-isn%E2%80%99t-recession.html', 'providerPublishTime': 1669018200, 'type': 'STORY', 'thumbnail': {'resolutions': [{'url': 'https://s.yimg.com/uu/api/res/1.2/HAWC207nwKm227i1v31wgQ--~B/aD02NDA7dz0xMjgwO2FwcGlkPXl0YWNoeW9u/https://media.zenfs.com/en/Barrons.com/1f575592e08cd0570c6cd27b0607260d', 'width': 1280, 'height': 640, 'tag': 'original'}, {'url': 'https://s.yimg.com/uu/api/res/1.2/yLexRQjOcgaBLBrEZ8VQqw--~B/Zmk9ZmlsbDtoPTE0MDtweW9mZj0wO3c9MTQwO2FwcGlkPXl0YWNoeW9u/https://media.zenfs.com/en/Barrons.com/1f575592e08cd0570c6cd27b0607260d', 'width': 140, 'height': 140, 'tag': '140x140'}]}, 'relatedTickers': ['AAPL', 'AMZN', 'MSFT']}, {'uuid': '3d8e6b05-fa7d-387b-8926-f2fae66cc513', 'title': 'A severe injury that kept Aseem Datar from pro cricket ignited his career in tech', 'publisher': 'American City Business Journals', 'link': 'https://finance.yahoo.com/m/3d8e6b05-fa7d-387b-8926-f2fae66cc513/a-severe-injury-that-kept.html', 'providerPublishTime': 1668988800, 'type': 'STORY', 'thumbnail': {'resolutions': [{'url': 'https://s.yimg.com/uu/api/res/1.2/SC93wcmNNvw5Ri2teCs5qw--~B/aD05NjA7dz0xNDQwO2FwcGlkPXl0YWNoeW9u/https://media.zenfs.com/en/bizjournals.com/65a0211a3cb16a47b38396f92d937a7b', 'width': 1440, 'height': 960, 'tag': 'original'}, {'url': 'https://s.yimg.com/uu/api/res/1.2/.e.ZPurwXQSaFT8W5hVYcg--~B/Zmk9ZmlsbDtoPTE0MDtweW9mZj0wO3c9MTQwO2FwcGlkPXl0YWNoeW9u/https://media.zenfs.com/en/bizjournals.com/65a0211a3cb16a47b38396f92d937a7b', 'width': 140, 'height': 140, 'tag': '140x140'}]}, 'relatedTickers': ['MSFT']}, {'uuid': 'aae9eadb-dc58-3ddf-90da-431f190515e1', 'title': 'Nvidia Scores a Huge Win -- Microsoft Will Be First Public Cloud to Adopt Its AI Stack', 'publisher': 'Motley Fool', 'link': 'https://finance.yahoo.com/m/aae9eadb-dc58-3ddf-90da-431f190515e1/nvidia-scores-a-huge-win-.html', 'providerPublishTime': 1668957300, 'type': 'STORY', 'thumbnail': {'resolutions': [{'url': 'https://s.yimg.com/uu/api/res/1.2/9lr8mxmHX_LCniPRLDM_pA--~B/aD0yODgwO3c9NTEyMDthcHBpZD15dGFjaHlvbg--/https://media.zenfs.com/en/motleyfool.com/4f9e38756661c677155f3807b5851e8c', 'width': 5120, 'height': 2880, 'tag': 'original'}, {'url': 'https://s.yimg.com/uu/api/res/1.2/nj54v7fl6RTLWHm0_mdAGQ--~B/Zmk9ZmlsbDtoPTE0MDtweW9mZj0wO3c9MTQwO2FwcGlkPXl0YWNoeW9u/https://media.zenfs.com/en/motleyfool.com/4f9e38756661c677155f3807b5851e8c', 'width': 140, 'height': 140, 'tag': '140x140'}]}, 'relatedTickers': ['NVDA', 'MSFT', 'ORCL']}]\n"
     ]
    }
   ],
   "source": [
    "msft = yf.Ticker(\"MSFT\")\n",
    "news = msft.news\n",
    "print(news)"
   ]
  },
  {
   "cell_type": "code",
   "execution_count": 3,
   "metadata": {},
   "outputs": [],
   "source": [
    "from bs4 import BeautifulSoup\n",
    "from requests import get\n",
    "\n",
    "# example_url = \"https://finance.yahoo.com/m/28ef3dbd-9b3d-3b05-a012-3ef5da9f6305/al-gore%E2%80%99s-firm-dumps-intel.html\"\n",
    "headers = {'User-Agent': 'Mozilla/5.0 (Macintosh; Intel Mac OS X 10_10_1) AppleWebKit/537.36 (KHTML, like Gecko) Chrome/39.0.2171.95 Safari/537.36'}\n",
    "\n",
    "def getArticleText(url):\n",
    "\n",
    "    html = get(url, headers=headers).text\n",
    "    soup = BeautifulSoup(html)\n",
    "\n",
    "    if \"finance.yahoo\" in url:\n",
    "        print(\"loading sub-domain...\")\n",
    "        # grab class \"link caas-button\" in a link\n",
    "        mydivs = soup.find_all(\"a\", {\"class\": \"link caas-button\"})\n",
    "        continue_link = mydivs[0].get('href')\n",
    "        html = get(url, headers=headers).text\n",
    "        soup = BeautifulSoup(html)\n",
    "\n",
    "    # kill all script and style elements\n",
    "    for script in soup([\"script\", \"style\"]):\n",
    "        script.extract()    # rip it out\n",
    "\n",
    "    # get text\n",
    "    text = soup.get_text()\n",
    "    return text\n"
   ]
  },
  {
   "cell_type": "code",
   "execution_count": 4,
   "metadata": {},
   "outputs": [
    {
     "name": "stdout",
     "output_type": "stream",
     "text": [
      "Al Gore’s Firm Dumps Intel Stock. What Else It Sold. 1669045920 Barrons.com\n"
     ]
    }
   ],
   "source": [
    "title, link, providerPublishTime, publisher = news[0][\"title\"], news[0][\"link\"], news[0][\"providerPublishTime\"], news[0][\"publisher\"]\n",
    "print(title, providerPublishTime, publisher)"
   ]
  },
  {
   "cell_type": "code",
   "execution_count": 24,
   "metadata": {},
   "outputs": [
    {
     "name": "stdout",
     "output_type": "stream",
     "text": [
      "loading sub-domain...\n",
      "Al Gore’s Firm Dumps Intel Stock. What Else It Sold.         HOME    MAIL    NEWS    FINANCE    SPORTS    ENTERTAINMENT    LIFE    SEARCH    SHOPPING    YAHOO PLUS    MORE...       Yahoo Finance           Yahoo Finance  Sign in   Mail Sign in to view your mail    Finance     Watchlists     My Portfolio     Crypto    Yahoo Finance Plus     Dashboard Research Reports Investment Ideas Community Insights Webinars Blog    News     Latest News Politics Stock Market News Crypto News Economic News Morning Brief Bidenomics Report Card    Screeners     Saved Screeners Equity Screener Mutual Fund Screener ETF Screener Futures Screener Index Screener Analyst Rating Screener   Technical Events Screener   Smart Money Screener   Top Holdings Screener      Markets     Calendars Trending Tickers Stocks: Most Actives Stocks: Gainers Stocks: Losers Top ETFs Futures World Indices Currencies Top Mutual Funds Options: Highest Open Interest Options: Highest Implied Volatility US Treasury Bonds Rates Currency Converter    Videos     Yahoo Finance Live Yahoo Finance Presents All Markets Summit Events ETF Report FA Corner    Personal Finance     Home My Money Retirement Taxes Rates    Industries     Saved Screeners Equity Screener Mutual Fund Screener ETF Screener Futures Screener Index Screener Analyst Rating Screener   Technical Events Screener   Smart Money Screener   Top Holdings Screener       Contact Us    …  AdvertisementU.S. markets close in 2 hours 48 minutesS&P 5003,951.36-13.98 (-0.35%) Dow 3033,728.30-17.39 (-0.05%) Nasdaq11,027.05-119.01 (-1.07%) Russell 20001,835.85-13.88 (-0.75%) Crude Oil79.59-0.49 (-0.61%) Gold1,738.10-16.30 (-0.93%) Silver20.85-0.14 (-0.68%) EUR/USD1.0245-0.0075 (-0.73%) 10-Yr Bond3.8160-0.0020 (-0.05%) GBP/USD1.1807-0.0090 (-0.75%) USD/JPY142.0620+1.7370 (+1.24%) BTC-USD15,964.65-598.85 (-3.62%) CMC Crypto 200367.70-4.65 (-1.25%) FTSE 1007,376.85-8.67 (-0.12%) Nikkei 22527,944.79+45.02 (+0.16%) Yahoo Finance Survey:What's the worst-performing company of 2022? We want your nominees. Tell us here.Barrons.comAl Gore’s Firm Dumps Intel Stock. What Else It Sold.Read full article24Ed LinNovember 21, 2022, 4:52 PM·3 min readAl Gore’s Firm Dumps Intel Stock. What Else It Sold.In this article: Oops!Something went wrong.Please try again later.More content belowOops!Something went wrong.Please try again later.More content belowOops!Something went wrong.Please try again later.More content belowOops!Something went wrong.Please try again later.More content belowMSFTWatchlistSHOPINTCTWLOGeneration Investment exited its investment in Intel, reduced stakes in Shopify and Microsoft, and bought more Twilio shares in the third quarter.Continue readingAdvertisementTRENDING 1. Real impact of Fed hikes likely bigger than what target rate implies, Daly says 2. Prosecutors rest case in Trump Organization's criminal tax fraud trial 3. Analysis-First U.S. coral insurance marks the rise of the reef brigades 4. Finance Billionaire Smith Bets Canada’s Housing Slump Won’t Last 5. US STOCKS-Energy shares, China COVID cases weigh on Wall St; Disney jumpsAdvertisementAdvertisementAdvertisement\n",
      "\n"
     ]
    }
   ],
   "source": [
    "article = getArticleText(link)\n",
    "print(article)"
   ]
  },
  {
   "cell_type": "code",
   "execution_count": 17,
   "metadata": {},
   "outputs": [],
   "source": [
    "from nltk.sentiment.vader import SentimentIntensityAnalyzer\n",
    "from nltk import tokenize"
   ]
  },
  {
   "cell_type": "code",
   "execution_count": 23,
   "metadata": {},
   "outputs": [
    {
     "name": "stdout",
     "output_type": "stream",
     "text": [
      "{'neg': 0.351, 'neu': 0.649, 'pos': 0.0, 'compound': -0.4019} Al Gore’s Firm Dumps Intel Stock.\n",
      "{'neg': 0.0, 'neu': 1.0, 'pos': 0.0, 'compound': 0.0} What Else It Sold.\n"
     ]
    }
   ],
   "source": [
    "lines_list = tokenize.sent_tokenize(title)\n",
    "sid = SentimentIntensityAnalyzer()\n",
    "for sentence in lines_list:\n",
    "    ss = sid.polarity_scores(sentence)\n",
    "    print(ss, sentence)"
   ]
  },
  {
   "cell_type": "code",
   "execution_count": 26,
   "metadata": {},
   "outputs": [
    {
     "data": {
      "text/plain": [
       "{'neg': 0.231, 'neu': 0.769, 'pos': 0.0, 'compound': -0.4019}"
      ]
     },
     "execution_count": 26,
     "metadata": {},
     "output_type": "execute_result"
    }
   ],
   "source": [
    "sid.polarity_scores(title)"
   ]
  }
 ],
 "metadata": {
  "kernelspec": {
   "display_name": "Python 3.10.8 ('base')",
   "language": "python",
   "name": "python3"
  },
  "language_info": {
   "codemirror_mode": {
    "name": "ipython",
    "version": 3
   },
   "file_extension": ".py",
   "mimetype": "text/x-python",
   "name": "python",
   "nbconvert_exporter": "python",
   "pygments_lexer": "ipython3",
   "version": "3.10.8"
  },
  "orig_nbformat": 4,
  "vscode": {
   "interpreter": {
    "hash": "d436247b9f043f8630513ed1454a5d25f3879733eb5c0e6e904c7c35a517ff37"
   }
  }
 },
 "nbformat": 4,
 "nbformat_minor": 2
}
