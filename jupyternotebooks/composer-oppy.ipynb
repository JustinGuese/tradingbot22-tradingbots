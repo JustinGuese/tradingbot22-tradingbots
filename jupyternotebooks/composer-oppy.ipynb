{
 "cells": [
  {
   "cell_type": "code",
   "execution_count": null,
   "metadata": {},
   "outputs": [],
   "source": [
    "# try to optimize oppy strategy of composer/oppy/oppy.py"
   ]
  },
  {
   "cell_type": "code",
   "execution_count": 4,
   "metadata": {},
   "outputs": [],
   "source": [
    "from basebot22.basebot import BaseBot\n",
    "from datetime import datetime, timedelta\n",
    "import pandas as pd\n",
    "bot = BaseBot(\"testbot\",) #  backendurl = \"http://tradingbot-baseimage-service:8000\"\n",
    "symbols = ['NTSX', 'GLD', 'UUP', 'DBMF', 'VDE', 'VNQ', 'VHT', 'VFH', 'VOX', 'VPU', \n",
    "        'VAW', 'VGT', 'VIS', 'VDC', 'VCR', 'VLUE', 'FNDX', 'VTV', 'RWL', 'DBA', 'SHV', \n",
    "        'DBB', 'DBO', 'URA', 'WOOD', 'DBE']"
   ]
  },
  {
   "cell_type": "code",
   "execution_count": 2,
   "metadata": {},
   "outputs": [],
   "source": [
    "datas = dict()\n",
    "for ticker in symbols:\n",
    "    datas[ticker] = bot.getData(ticker, start_date = datetime.now() - timedelta(days=int(365*3)))"
   ]
  },
  {
   "cell_type": "code",
   "execution_count": 6,
   "metadata": {},
   "outputs": [],
   "source": [
    "# helper\n",
    "def effcore(budget: float):\n",
    "    return {\"NTSX\": 1. * budget} # bc we want to return this \n",
    "\n",
    "def calculateCurrentVolatility(df: pd.DataFrame, range: int = 45):\n",
    "    df[\"daily_returns\"] = df[\"adj_close\"].pct_change()\n",
    "    # 45 bc we need 45 d volatility\n",
    "    df[\"daily_volatility\"] = df[\"daily_returns\"].rolling(range).std()\n",
    "    return df[\"daily_volatility\"][-1]\n",
    "\n",
    "def inverseVolatilityWeights(datas, tickers: list, range: int = 45):\n",
    "    crntVolatilities = dict()\n",
    "    for ticker in tickers:\n",
    "        crntVolatilities[ticker] = calculateCurrentVolatility(datas[ticker], range)\n",
    "    # create weights according to inverse volatilities (lower volatilities get higher weights)\n",
    "    print(\"volatilities: \" + str(crntVolatilities))\n",
    "    for ticker, volatility in crntVolatilities.items():\n",
    "        crntVolatilities[ticker] = 1 / volatility\n",
    "    weights = dict()\n",
    "    for ticker, volatility in crntVolatilities.items():\n",
    "        weights[ticker] = crntVolatilities[ticker] / sum(crntVolatilities.values())\n",
    "    print(\"weights: \" + str(weights))\n",
    "    return weights\n",
    "\n",
    "def volhedge(datas, budget: float):\n",
    "    weights = inverseVolatilityWeights(datas, [\"GLD\", \"UUP\", \"DBMF\"], 30)\n",
    "    return {k: v * budget for k, v in weights.items()}\n",
    "\n",
    "def sectormom(datas, budget: float, range: int = 200):\n",
    "    tickers = [\"VDE\", \"VNQ\", \"VHT\", \"VFH\", \"VOX\", \"VPU\", \"VAW\", \"VGT\", \"VIS\", \"VDC\", \"VCR\"]\n",
    "    cumret = dict()\n",
    "    for ticker in tickers:\n",
    "        df = datas[ticker]\n",
    "        df[\"cumulative_return\"] = (df[\"close\"] / df[\"close\"].shift(range)) - 1\n",
    "        cumret[ticker] = df[\"cumulative_return\"].iloc[-1]\n",
    "        assert cumret[ticker] is not None, f\"cumret is None for {ticker}\"\n",
    "    cumret = {k: v for k, v in sorted(cumret.items(), key=lambda item: item[1], reverse=True)}\n",
    "    print(\"sectormom cumret: \", cumret)\n",
    "    biggestTwo = list(cumret.keys())[:2]\n",
    "    return {biggestTwo[0]: 0.5 * budget, biggestTwo[1]: 0.5 * budget}\n",
    "\n",
    "def largecapval(datas, budget: float):\n",
    "    weights = inverseVolatilityWeights(datas, [\"VLUE\", \"FNDX\", \"VTV\", \"RWL\"], 21)\n",
    "    return {k: v * budget for k, v in weights.items()}\n",
    "\n",
    "def __buyHelper(tobuy: dict, cumret: dict, ticker: str):\n",
    "    if cumret[ticker] > cumret[\"SHV\"]:\n",
    "        if ticker not in tobuy:\n",
    "            tobuy[ticker] = 0\n",
    "        tobuy[ticker] +=  1\n",
    "    else:\n",
    "        if \"SHV\" not in tobuy:\n",
    "            tobuy[\"SHV\"] = 0\n",
    "        tobuy[\"SHV\"] += 1\n",
    "    return tobuy, cumret\n",
    "\n",
    "def commodmom(datas, budget: float, range: int = 42):\n",
    "    symbols = ['DBA', 'SHV', 'DBB', 'DBO', 'URA', 'WOOD', 'DBE', 'GLD']\n",
    "    tobuy = dict()\n",
    "    cumret = dict()\n",
    "    # get several cum returns\n",
    "    for ticker in symbols:\n",
    "        df = datas[ticker]\n",
    "        df[\"cumulative_return\"] = (df[\"close\"] / df[\"close\"].shift(range)) - 1\n",
    "        cumret[ticker] = df[\"cumulative_return\"].iloc[-1]\n",
    "    ## logics\n",
    "    # agriculture \n",
    "    tobuy, cumret = __buyHelper(tobuy, cumret, \"DBA\")\n",
    "    # base metals\n",
    "    tobuy, cumret = __buyHelper(tobuy, cumret, \"DBB\")\n",
    "    # oil\n",
    "    tobuy, cumret = __buyHelper(tobuy, cumret, \"DBO\")\n",
    "    # uranium\n",
    "    tobuy, cumret = __buyHelper(tobuy, cumret, \"URA\")\n",
    "    # timber\n",
    "    tobuy, cumret = __buyHelper(tobuy, cumret, \"WOOD\")\n",
    "    # gold\n",
    "    tobuy, cumret = __buyHelper(tobuy, cumret, \"GLD\")\n",
    "    # energy\n",
    "    tobuy, cumret = __buyHelper(tobuy, cumret, \"DBE\")\n",
    "    \n",
    "    # convert the counts to weights\n",
    "    tobuy = {k: v / sum(tobuy.values()) for k, v in tobuy.items()}\n",
    "    print(\"commodmom tobuy: \", tobuy)\n",
    "    return {k: v * budget for k, v in tobuy.items()}"
   ]
  },
  {
   "cell_type": "code",
   "execution_count": 9,
   "metadata": {},
   "outputs": [],
   "source": [
    "import warnings\n",
    "warnings.filterwarnings(\"ignore\")\n",
    "# yolo"
   ]
  },
  {
   "cell_type": "code",
   "execution_count": 10,
   "metadata": {},
   "outputs": [
    {
     "name": "stdout",
     "output_type": "stream",
     "text": [
      "volatilities: {'GLD': 0.010408978271971061, 'UUP': 0.00359210335454936, 'DBMF': 0.010653434338288716}\n",
      "weights: {'GLD': 0.20513692149609364, 'UUP': 0.5944332742897225, 'DBMF': 0.20042980421418397}\n",
      "sectormom cumret:  {'VCR': 0.5568588146235256, 'VFH': 0.48746092625795323, 'VIS': 0.4616286348660352, 'VOX': 0.4460185131130525, 'VAW': 0.4374789710806197, 'VDE': 0.39419903125846334, 'VGT': 0.3917557761324082, 'VNQ': 0.19591887006529274, 'VHT': 0.16041099241266754, 'VDC': 0.15430418389460265, 'VPU': 0.060781562909646425}\n",
      "volatilities: {'VLUE': 0.012803192797389071, 'FNDX': 0.011627666820547724, 'VTV': 0.010378189492168786, 'RWL': 0.010363294473252257}\n",
      "weights: {'VLUE': 0.21880893413986402, 'FNDX': 0.2409299314143853, 'VTV': 0.2699365791786532, 'RWL': 0.27032455526709753}\n",
      "commodmom tobuy:  {'DBA': 0.14285714285714285, 'DBB': 0.14285714285714285, 'DBO': 0.14285714285714285, 'URA': 0.14285714285714285, 'WOOD': 0.14285714285714285, 'SHV': 0.14285714285714285, 'DBE': 0.14285714285714285}\n"
     ]
    },
    {
     "data": {
      "text/plain": [
       "{'NTSX': 0.15,\n",
       " 'GLD': 0.05128423037402341,\n",
       " 'UUP': 0.14860831857243062,\n",
       " 'DBMF': 0.05010745105354599,\n",
       " 'VCR': 0.125,\n",
       " 'VFH': 0.125,\n",
       " 'VLUE': 0.0328213401209796,\n",
       " 'FNDX': 0.036139489712157795,\n",
       " 'VTV': 0.04049048687679798,\n",
       " 'RWL': 0.04054868329006463,\n",
       " 'DBA': 0.02857142857142857,\n",
       " 'DBB': 0.02857142857142857,\n",
       " 'DBO': 0.02857142857142857,\n",
       " 'URA': 0.02857142857142857,\n",
       " 'WOOD': 0.02857142857142857,\n",
       " 'SHV': 0.02857142857142857,\n",
       " 'DBE': 0.02857142857142857}"
      ]
     },
     "execution_count": 10,
     "metadata": {},
     "output_type": "execute_result"
    }
   ],
   "source": [
    "# opus default\n",
    "# weights\n",
    "# 15% eff core\n",
    "# 25% vol hedge\n",
    "# 25% sector momentum\n",
    "# 15% large cap val\n",
    "# 20% commodity momentum\n",
    "portfolioWorth = 10000\n",
    "datas_train = dict()\n",
    "datas_test = dict()\n",
    "for ticker in symbols:\n",
    "    datas_train[ticker] = datas[ticker][:int(len(datas[ticker]) * 0.4)]\n",
    "    datas_test[ticker] = datas[ticker][int(len(datas[ticker]) * 0.4):]\n",
    "\n",
    "effcoreweights = effcore(0.15 * 1)\n",
    "volhedgeweights = volhedge(datas_train, 0.25 * 1)\n",
    "sectormomweights = sectormom(datas_train, 0.25 * 1)\n",
    "largecapvalweights = largecapval(datas_train, 0.15 * 1)\n",
    "commodmomweights = commodmom(datas_train, 0.20 * 1)\n",
    "# merge\n",
    "allWeights = {**effcoreweights, **volhedgeweights, **sectormomweights, **largecapvalweights, **commodmomweights}\n",
    "allWeights"
   ]
  },
  {
   "cell_type": "code",
   "execution_count": 12,
   "metadata": {},
   "outputs": [],
   "source": [
    "assert sum(allWeights.values()) == 1, \"weights don't sum to 1\""
   ]
  },
  {
   "cell_type": "code",
   "execution_count": 17,
   "metadata": {},
   "outputs": [],
   "source": [
    "def buyAccordingToWeights(weights:dict, money: float, datas):\n",
    "    portfolio = dict()\n",
    "    for ticker, weight in weights.items():\n",
    "        crntPrice = datas[ticker][\"close\"].iloc[-1]\n",
    "        howMany = weight * money / crntPrice\n",
    "        portfolio[ticker] = howMany\n",
    "    return portfolio"
   ]
  },
  {
   "cell_type": "code",
   "execution_count": 19,
   "metadata": {},
   "outputs": [
    {
     "name": "stdout",
     "output_type": "stream",
     "text": [
      "{'NTSX': 40.09623111783478, 'GLD': 3.158868398275525, 'UUP': 60.06803554861716, 'DBMF': 18.289393811605944, 'VCR': 4.223115785132488, 'VFH': 14.635287980376708, 'VLUE': 3.1763611283625766, 'FNDX': 6.945894783787304, 'VTV': 3.0847545765125917, 'RWL': 5.863025035130239, 'DBA': 16.458195603053014, 'DBB': 15.278838184890763, 'DBO': 25.442056755185668, 'URA': 14.165309104291444, 'WOOD': 3.302291918629917, 'SHV': 2.585415620226605, 'DBE': 20.540207681414284}\n"
     ]
    }
   ],
   "source": [
    "# test it\n",
    "startWeights = allWeights\n",
    "portfolio = buyAccordingToWeights(startWeights, 10000, datas_train)\n",
    "print(portfolio)\n"
   ]
  },
  {
   "cell_type": "code",
   "execution_count": 24,
   "metadata": {},
   "outputs": [],
   "source": [
    "def calculatePortfolioWorth(portfolio: dict, datas: dict):\n",
    "    totalWorth = 0\n",
    "    positionsWorth = dict()\n",
    "    for ticker, count in portfolio.items():\n",
    "        w = count * datas[ticker][\"close\"].iloc[-1]\n",
    "        positionsWorth[ticker] = w\n",
    "        totalWorth += count * w\n",
    "    return totalWorth, positionsWorth"
   ]
  },
  {
   "cell_type": "code",
   "execution_count": 28,
   "metadata": {},
   "outputs": [
    {
     "name": "stdout",
     "output_type": "stream",
     "text": [
      "volatilities: {'GLD': 0.006831989876012147, 'UUP': 0.002832049855810573, 'DBMF': 0.00902248797219956}\n",
      "weights: {'GLD': 0.23983108476298684, 'UUP': 0.5785645120942859, 'DBMF': 0.18160440314272733}\n",
      "sectormom cumret:  {'VDE': nan, 'VNQ': nan, 'VHT': nan, 'VFH': nan, 'VOX': nan, 'VPU': nan, 'VAW': nan, 'VGT': nan, 'VIS': nan, 'VDC': nan, 'VCR': nan}\n",
      "volatilities: {'VLUE': 0.010273007782311962, 'FNDX': 0.009848092142582048, 'VTV': 0.008387777061776892, 'RWL': 0.008129065579389144}\n",
      "weights: {'VLUE': 0.2206704616503569, 'FNDX': 0.23019173023965264, 'VTV': 0.270268195394818, 'RWL': 0.27886961271517247}\n",
      "commodmom tobuy:  {'SHV': 0.8571428571428571, 'DBE': 0.14285714285714285}\n",
      "selling  NTSX  for  0.5794433943221144  at  42.18000030517578  for  24.44092254933888\n",
      "selling  GLD  for  1.0781269538236269  at  164.63999938964844  for  177.50282101948545\n",
      "selling  UUP  for  0.2710854993975341  at  24.93000030517578  for  6.7581615827092545\n",
      "selling  DBMF  for  0.09863164099912713  at  27.517000198364258  for  2.7140468849379737\n",
      "selling  VDE  for  0.8732721098155065  at  69.2699966430664  for  60.491556115403654\n"
     ]
    },
    {
     "ename": "KeyError",
     "evalue": "'VDE'",
     "output_type": "error",
     "traceback": [
      "\u001b[0;31m---------------------------------------------------------------------------\u001b[0m",
      "\u001b[0;31mKeyError\u001b[0m                                  Traceback (most recent call last)",
      "Cell \u001b[0;32mIn[28], line 43\u001b[0m\n\u001b[1;32m     41\u001b[0m                     portfolio[\u001b[39m\"\u001b[39m\u001b[39mUSD\u001b[39m\u001b[39m\"\u001b[39m] \u001b[39m=\u001b[39m \u001b[39m0\u001b[39m\n\u001b[1;32m     42\u001b[0m                 portfolio[\u001b[39m\"\u001b[39m\u001b[39mUSD\u001b[39m\u001b[39m\"\u001b[39m] \u001b[39m+\u001b[39m\u001b[39m=\u001b[39m \u001b[39mabs\u001b[39m(diff[ticker]) \u001b[39m*\u001b[39m datas_subset[ticker][\u001b[39m\"\u001b[39m\u001b[39mclose\u001b[39m\u001b[39m\"\u001b[39m]\u001b[39m.\u001b[39miloc[\u001b[39m-\u001b[39m\u001b[39m1\u001b[39m]\n\u001b[0;32m---> 43\u001b[0m                 portfolio[ticker] \u001b[39m-\u001b[39m\u001b[39m=\u001b[39m \u001b[39mabs\u001b[39m(diff[ticker])\n\u001b[1;32m     44\u001b[0m \u001b[39m# buy according to tobuy\u001b[39;00m\n\u001b[1;32m     45\u001b[0m \u001b[39mfor\u001b[39;00m ticker, amount \u001b[39min\u001b[39;00m tobuy\u001b[39m.\u001b[39mitems():\n",
      "\u001b[0;31mKeyError\u001b[0m: 'VDE'"
     ]
    }
   ],
   "source": [
    "\n",
    "from tqdm import tqdm\n",
    "startMoney = 10000\n",
    "worthTrack = []\n",
    "\n",
    "for i in range(100, len(datas_test[\"NTSX\"]), 20): # recalculate every month\n",
    "    datas_subset = dict()\n",
    "    for ticker in symbols:\n",
    "        datas_subset[ticker] = datas_test[ticker][:i]\n",
    "    # recalculate weights\n",
    "    effcoreweights = effcore(0.15 * 1)\n",
    "    volhedgeweights = volhedge(datas_subset, 0.25 * 1)\n",
    "    sectormomweights = sectormom(datas_subset, 0.25 * 1)\n",
    "    largecapvalweights = largecapval(datas_subset, 0.15 * 1)\n",
    "    commodmomweights = commodmom(datas_subset, 0.20 * 1)\n",
    "    # merge\n",
    "    allWeights = {**effcoreweights, **volhedgeweights, **sectormomweights, **largecapvalweights, **commodmomweights}\n",
    "    \n",
    "    # calculate the diff to current portfolio\n",
    "    totalWorth, positionsWorth = calculatePortfolioWorth(allWeights, datas_subset)\n",
    "    worthTrack.append(totalWorth)\n",
    "    # calculcate pct of position in portfolio\n",
    "    positionsWorth = {k: v / totalWorth for k, v in positionsWorth.items()}\n",
    "    \n",
    "    diff = dict()\n",
    "    tobuy = dict()\n",
    "    for ticker, weight in allWeights.items():\n",
    "        if ticker != \"USD\":\n",
    "            if ticker not in positionsWorth:\n",
    "                diff[ticker] = weight\n",
    "            else:\n",
    "                diff[ticker] = weight - positionsWorth.get(ticker, 0)\n",
    "            # buy/sell according to diff\n",
    "            if abs(diff[ticker]) > 0.02: # only buy if difference is bigger than 2 pct\n",
    "                if diff[ticker] > 0:\n",
    "                    # buy later\n",
    "                    tobuy[ticker] = diff[ticker]\n",
    "                else:\n",
    "                    print(\"selling \", ticker, \" for \", abs(diff[ticker]), \" at \", datas_subset[ticker][\"close\"].iloc[-1], \" for \", abs(diff[ticker]) * datas_subset[ticker][\"close\"].iloc[-1])\n",
    "                    # sell now to get cash\n",
    "                    if \"USD\" not in portfolio:\n",
    "                        portfolio[\"USD\"] = 0\n",
    "                    portfolio[\"USD\"] += abs(diff[ticker]) * datas_subset[ticker][\"close\"].iloc[-1]\n",
    "                    portfolio[ticker] -= abs(diff[ticker])\n",
    "    # buy according to tobuy\n",
    "    for ticker, amount in tobuy.items():\n",
    "        if \"USD\" not in portfolio:\n",
    "            portfolio[\"USD\"] = 0\n",
    "        cost = amount * datas_subset[ticker][\"close\"].iloc[-1]\n",
    "        if cost > portfolio[\"USD\"]:\n",
    "            # not enough money\n",
    "            print(\"not enough money to buy \", ticker, \" for \", amount, \" at \", cost)\n",
    "            continue\n",
    "        portfolio[\"USD\"] -= cost\n",
    "        portfolio[ticker] += amount\n",
    "        \n",
    "print(\"done!\")\n",
    "\n",
    "    \n",
    "    "
   ]
  }
 ],
 "metadata": {
  "kernelspec": {
   "display_name": "base",
   "language": "python",
   "name": "python3"
  },
  "language_info": {
   "codemirror_mode": {
    "name": "ipython",
    "version": 3
   },
   "file_extension": ".py",
   "mimetype": "text/x-python",
   "name": "python",
   "nbconvert_exporter": "python",
   "pygments_lexer": "ipython3",
   "version": "3.10.8 (main, Nov 24 2022, 14:13:03) [GCC 11.2.0]"
  },
  "orig_nbformat": 4,
  "vscode": {
   "interpreter": {
    "hash": "d436247b9f043f8630513ed1454a5d25f3879733eb5c0e6e904c7c35a517ff37"
   }
  }
 },
 "nbformat": 4,
 "nbformat_minor": 2
}
