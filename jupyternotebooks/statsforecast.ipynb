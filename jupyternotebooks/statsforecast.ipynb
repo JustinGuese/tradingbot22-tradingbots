{
 "cells": [
  {
   "attachments": {},
   "cell_type": "markdown",
   "metadata": {},
   "source": [
    "playing around with\n",
    "https://github.com/Nixtla/statsforecast"
   ]
  },
  {
   "cell_type": "code",
   "execution_count": 1,
   "metadata": {},
   "outputs": [
    {
     "name": "stdout",
     "output_type": "stream",
     "text": [
      "Requirement already satisfied: statsforecast in /home/jguese/miniconda3/lib/python3.10/site-packages (1.4.0)\n",
      "Requirement already satisfied: numpy>=1.21.6 in /home/jguese/miniconda3/lib/python3.10/site-packages (from statsforecast) (1.23.5)\n",
      "Requirement already satisfied: statsmodels>=0.13.2 in /home/jguese/miniconda3/lib/python3.10/site-packages (from statsforecast) (0.13.5)\n",
      "Requirement already satisfied: numba>=0.55.0 in /home/jguese/miniconda3/lib/python3.10/site-packages (from statsforecast) (0.56.4)\n",
      "Requirement already satisfied: tqdm in /home/jguese/miniconda3/lib/python3.10/site-packages (from statsforecast) (4.64.1)\n",
      "Requirement already satisfied: pandas>=1.3.5 in /home/jguese/miniconda3/lib/python3.10/site-packages (from statsforecast) (1.5.2)\n",
      "Requirement already satisfied: matplotlib in /home/jguese/miniconda3/lib/python3.10/site-packages (from statsforecast) (3.6.2)\n",
      "Requirement already satisfied: plotly in /home/jguese/miniconda3/lib/python3.10/site-packages (from statsforecast) (5.11.0)\n",
      "Requirement already satisfied: scipy>=1.7.3 in /home/jguese/miniconda3/lib/python3.10/site-packages (from statsforecast) (1.9.3)\n",
      "Requirement already satisfied: llvmlite<0.40,>=0.39.0dev0 in /home/jguese/miniconda3/lib/python3.10/site-packages (from numba>=0.55.0->statsforecast) (0.39.1)\n",
      "Requirement already satisfied: setuptools in /home/jguese/miniconda3/lib/python3.10/site-packages (from numba>=0.55.0->statsforecast) (65.5.0)\n",
      "Requirement already satisfied: pytz>=2020.1 in /home/jguese/miniconda3/lib/python3.10/site-packages (from pandas>=1.3.5->statsforecast) (2022.7)\n",
      "Requirement already satisfied: python-dateutil>=2.8.1 in /home/jguese/miniconda3/lib/python3.10/site-packages (from pandas>=1.3.5->statsforecast) (2.8.2)\n",
      "Requirement already satisfied: packaging>=21.3 in /home/jguese/miniconda3/lib/python3.10/site-packages (from statsmodels>=0.13.2->statsforecast) (22.0)\n",
      "Requirement already satisfied: patsy>=0.5.2 in /home/jguese/miniconda3/lib/python3.10/site-packages (from statsmodels>=0.13.2->statsforecast) (0.5.3)\n",
      "Requirement already satisfied: contourpy>=1.0.1 in /home/jguese/miniconda3/lib/python3.10/site-packages (from matplotlib->statsforecast) (1.0.6)\n",
      "Requirement already satisfied: pyparsing>=2.2.1 in /home/jguese/miniconda3/lib/python3.10/site-packages (from matplotlib->statsforecast) (3.0.9)\n",
      "Requirement already satisfied: kiwisolver>=1.0.1 in /home/jguese/miniconda3/lib/python3.10/site-packages (from matplotlib->statsforecast) (1.4.4)\n",
      "Requirement already satisfied: fonttools>=4.22.0 in /home/jguese/miniconda3/lib/python3.10/site-packages (from matplotlib->statsforecast) (4.38.0)\n",
      "Requirement already satisfied: cycler>=0.10 in /home/jguese/miniconda3/lib/python3.10/site-packages (from matplotlib->statsforecast) (0.11.0)\n",
      "Requirement already satisfied: pillow>=6.2.0 in /home/jguese/miniconda3/lib/python3.10/site-packages (from matplotlib->statsforecast) (9.3.0)\n",
      "Requirement already satisfied: tenacity>=6.2.0 in /home/jguese/miniconda3/lib/python3.10/site-packages (from plotly->statsforecast) (8.1.0)\n",
      "Requirement already satisfied: six in /home/jguese/miniconda3/lib/python3.10/site-packages (from patsy>=0.5.2->statsmodels>=0.13.2->statsforecast) (1.16.0)\n"
     ]
    }
   ],
   "source": [
    "!pip install statsforecast"
   ]
  },
  {
   "cell_type": "code",
   "execution_count": 3,
   "metadata": {},
   "outputs": [
    {
     "name": "stderr",
     "output_type": "stream",
     "text": [
      "/home/jguese/miniconda3/lib/python3.10/site-packages/statsforecast/core.py:21: TqdmExperimentalWarning: Using `tqdm.autonotebook.tqdm` in notebook mode. Use `tqdm.tqdm` instead to force console mode (e.g. in jupyter console)\n",
      "  from tqdm.autonotebook import tqdm\n"
     ]
    }
   ],
   "source": [
    "import matplotlib.pyplot as plt\n",
    "import numpy as np\n",
    "import pandas as pd\n",
    "\n",
    "from statsforecast import StatsForecast\n",
    "from statsforecast.models import AutoARIMA"
   ]
  },
  {
   "cell_type": "code",
   "execution_count": 6,
   "metadata": {},
   "outputs": [
    {
     "ename": "KeyError",
     "evalue": "'ds'",
     "output_type": "error",
     "traceback": [
      "\u001b[0;31m---------------------------------------------------------------------------\u001b[0m",
      "\u001b[0;31mKeyError\u001b[0m                                  Traceback (most recent call last)",
      "File \u001b[0;32m~/miniconda3/lib/python3.10/site-packages/pandas/core/indexes/base.py:3803\u001b[0m, in \u001b[0;36mIndex.get_loc\u001b[0;34m(self, key, method, tolerance)\u001b[0m\n\u001b[1;32m   3802\u001b[0m \u001b[39mtry\u001b[39;00m:\n\u001b[0;32m-> 3803\u001b[0m     \u001b[39mreturn\u001b[39;00m \u001b[39mself\u001b[39;49m\u001b[39m.\u001b[39;49m_engine\u001b[39m.\u001b[39;49mget_loc(casted_key)\n\u001b[1;32m   3804\u001b[0m \u001b[39mexcept\u001b[39;00m \u001b[39mKeyError\u001b[39;00m \u001b[39mas\u001b[39;00m err:\n",
      "File \u001b[0;32m~/miniconda3/lib/python3.10/site-packages/pandas/_libs/index.pyx:138\u001b[0m, in \u001b[0;36mpandas._libs.index.IndexEngine.get_loc\u001b[0;34m()\u001b[0m\n",
      "File \u001b[0;32m~/miniconda3/lib/python3.10/site-packages/pandas/_libs/index.pyx:165\u001b[0m, in \u001b[0;36mpandas._libs.index.IndexEngine.get_loc\u001b[0;34m()\u001b[0m\n",
      "File \u001b[0;32mpandas/_libs/hashtable_class_helper.pxi:5745\u001b[0m, in \u001b[0;36mpandas._libs.hashtable.PyObjectHashTable.get_item\u001b[0;34m()\u001b[0m\n",
      "File \u001b[0;32mpandas/_libs/hashtable_class_helper.pxi:5753\u001b[0m, in \u001b[0;36mpandas._libs.hashtable.PyObjectHashTable.get_item\u001b[0;34m()\u001b[0m\n",
      "\u001b[0;31mKeyError\u001b[0m: 'ds'",
      "\nThe above exception was the direct cause of the following exception:\n",
      "\u001b[0;31mKeyError\u001b[0m                                  Traceback (most recent call last)",
      "Cell \u001b[0;32mIn[6], line 15\u001b[0m\n\u001b[1;32m      7\u001b[0m df[\u001b[39m\"\u001b[39m\u001b[39munique_id\u001b[39m\u001b[39m\"\u001b[39m] \u001b[39m=\u001b[39m \u001b[39mlist\u001b[39m(\u001b[39mrange\u001b[39m(\u001b[39m1\u001b[39m, \u001b[39mlen\u001b[39m(df) \u001b[39m+\u001b[39m \u001b[39m1\u001b[39m))\n\u001b[1;32m      9\u001b[0m sf \u001b[39m=\u001b[39m StatsForecast(\n\u001b[1;32m     10\u001b[0m     models \u001b[39m=\u001b[39m [AutoARIMA(season_length \u001b[39m=\u001b[39m \u001b[39m30\u001b[39m)],\n\u001b[1;32m     11\u001b[0m     freq \u001b[39m=\u001b[39m \u001b[39m'\u001b[39m\u001b[39mD\u001b[39m\u001b[39m'\u001b[39m,\n\u001b[1;32m     12\u001b[0m     n_jobs \u001b[39m=\u001b[39m \u001b[39m-\u001b[39m\u001b[39m1\u001b[39m\n\u001b[1;32m     13\u001b[0m )\n\u001b[0;32m---> 15\u001b[0m sf\u001b[39m.\u001b[39;49mfit(df)\n",
      "File \u001b[0;32m~/miniconda3/lib/python3.10/site-packages/statsforecast/core.py:533\u001b[0m, in \u001b[0;36m_StatsForecast.fit\u001b[0;34m(self, df, sort_df)\u001b[0m\n\u001b[1;32m    520\u001b[0m \u001b[39mdef\u001b[39;00m \u001b[39mfit\u001b[39m(\u001b[39mself\u001b[39m, df: Optional[pd\u001b[39m.\u001b[39mDataFrame] \u001b[39m=\u001b[39m \u001b[39mNone\u001b[39;00m, sort_df: \u001b[39mbool\u001b[39m \u001b[39m=\u001b[39m \u001b[39mTrue\u001b[39;00m):\n\u001b[1;32m    521\u001b[0m     \u001b[39m\"\"\"Fit the core.StatsForecast.\u001b[39;00m\n\u001b[1;32m    522\u001b[0m \n\u001b[1;32m    523\u001b[0m \u001b[39m    Fit `models` to a large set of time series from DataFrame `df`.\u001b[39;00m\n\u001b[0;32m   (...)\u001b[0m\n\u001b[1;32m    531\u001b[0m \u001b[39m    `self`: Returns with stored `StatsForecast` fitted `models`.\u001b[39;00m\n\u001b[1;32m    532\u001b[0m \u001b[39m    \"\"\"\u001b[39;00m\n\u001b[0;32m--> 533\u001b[0m     \u001b[39mself\u001b[39;49m\u001b[39m.\u001b[39;49m_prepare_fit(df, sort_df)\n\u001b[1;32m    534\u001b[0m     \u001b[39mif\u001b[39;00m \u001b[39mself\u001b[39m\u001b[39m.\u001b[39mn_jobs \u001b[39m==\u001b[39m \u001b[39m1\u001b[39m:\n\u001b[1;32m    535\u001b[0m         \u001b[39mself\u001b[39m\u001b[39m.\u001b[39mfitted_ \u001b[39m=\u001b[39m \u001b[39mself\u001b[39m\u001b[39m.\u001b[39mga\u001b[39m.\u001b[39mfit(models\u001b[39m=\u001b[39m\u001b[39mself\u001b[39m\u001b[39m.\u001b[39mmodels)\n",
      "File \u001b[0;32m~/miniconda3/lib/python3.10/site-packages/statsforecast/core.py:513\u001b[0m, in \u001b[0;36m_StatsForecast._prepare_fit\u001b[0;34m(self, df, sort_df)\u001b[0m\n\u001b[1;32m    511\u001b[0m \u001b[39mif\u001b[39;00m df\u001b[39m.\u001b[39mindex\u001b[39m.\u001b[39mname \u001b[39m!=\u001b[39m \u001b[39m\"\u001b[39m\u001b[39munique_id\u001b[39m\u001b[39m\"\u001b[39m:\n\u001b[1;32m    512\u001b[0m     df \u001b[39m=\u001b[39m df\u001b[39m.\u001b[39mset_index(\u001b[39m\"\u001b[39m\u001b[39munique_id\u001b[39m\u001b[39m\"\u001b[39m)\n\u001b[0;32m--> 513\u001b[0m df \u001b[39m=\u001b[39m _parse_ds_type(df)\n\u001b[1;32m    514\u001b[0m \u001b[39mself\u001b[39m\u001b[39m.\u001b[39mga, \u001b[39mself\u001b[39m\u001b[39m.\u001b[39muids, \u001b[39mself\u001b[39m\u001b[39m.\u001b[39mlast_dates, \u001b[39mself\u001b[39m\u001b[39m.\u001b[39mds \u001b[39m=\u001b[39m _grouped_array_from_df(\n\u001b[1;32m    515\u001b[0m     df, sort_df\n\u001b[1;32m    516\u001b[0m )\n\u001b[1;32m    517\u001b[0m \u001b[39mself\u001b[39m\u001b[39m.\u001b[39mn_jobs \u001b[39m=\u001b[39m _get_n_jobs(\u001b[39mlen\u001b[39m(\u001b[39mself\u001b[39m\u001b[39m.\u001b[39mga), \u001b[39mself\u001b[39m\u001b[39m.\u001b[39mn_jobs, \u001b[39mself\u001b[39m\u001b[39m.\u001b[39mray_address)\n",
      "File \u001b[0;32m~/miniconda3/lib/python3.10/site-packages/statsforecast/core.py:448\u001b[0m, in \u001b[0;36m_parse_ds_type\u001b[0;34m(df)\u001b[0m\n\u001b[1;32m    447\u001b[0m \u001b[39mdef\u001b[39;00m \u001b[39m_parse_ds_type\u001b[39m(df):\n\u001b[0;32m--> 448\u001b[0m     \u001b[39mif\u001b[39;00m \u001b[39mnot\u001b[39;00m pd\u001b[39m.\u001b[39mapi\u001b[39m.\u001b[39mtypes\u001b[39m.\u001b[39mis_datetime64_any_dtype(df[\u001b[39m\"\u001b[39;49m\u001b[39mds\u001b[39;49m\u001b[39m\"\u001b[39;49m]) \u001b[39mand\u001b[39;00m \u001b[39mnot\u001b[39;00m \u001b[39missubclass\u001b[39m(\n\u001b[1;32m    449\u001b[0m         df[\u001b[39m\"\u001b[39m\u001b[39mds\u001b[39m\u001b[39m\"\u001b[39m]\u001b[39m.\u001b[39mdtype\u001b[39m.\u001b[39mtype, np\u001b[39m.\u001b[39minteger\n\u001b[1;32m    450\u001b[0m     ):\n\u001b[1;32m    451\u001b[0m         df \u001b[39m=\u001b[39m df\u001b[39m.\u001b[39mcopy()\n\u001b[1;32m    452\u001b[0m         \u001b[39mtry\u001b[39;00m:\n",
      "File \u001b[0;32m~/miniconda3/lib/python3.10/site-packages/pandas/core/frame.py:3805\u001b[0m, in \u001b[0;36mDataFrame.__getitem__\u001b[0;34m(self, key)\u001b[0m\n\u001b[1;32m   3803\u001b[0m \u001b[39mif\u001b[39;00m \u001b[39mself\u001b[39m\u001b[39m.\u001b[39mcolumns\u001b[39m.\u001b[39mnlevels \u001b[39m>\u001b[39m \u001b[39m1\u001b[39m:\n\u001b[1;32m   3804\u001b[0m     \u001b[39mreturn\u001b[39;00m \u001b[39mself\u001b[39m\u001b[39m.\u001b[39m_getitem_multilevel(key)\n\u001b[0;32m-> 3805\u001b[0m indexer \u001b[39m=\u001b[39m \u001b[39mself\u001b[39;49m\u001b[39m.\u001b[39;49mcolumns\u001b[39m.\u001b[39;49mget_loc(key)\n\u001b[1;32m   3806\u001b[0m \u001b[39mif\u001b[39;00m is_integer(indexer):\n\u001b[1;32m   3807\u001b[0m     indexer \u001b[39m=\u001b[39m [indexer]\n",
      "File \u001b[0;32m~/miniconda3/lib/python3.10/site-packages/pandas/core/indexes/base.py:3805\u001b[0m, in \u001b[0;36mIndex.get_loc\u001b[0;34m(self, key, method, tolerance)\u001b[0m\n\u001b[1;32m   3803\u001b[0m     \u001b[39mreturn\u001b[39;00m \u001b[39mself\u001b[39m\u001b[39m.\u001b[39m_engine\u001b[39m.\u001b[39mget_loc(casted_key)\n\u001b[1;32m   3804\u001b[0m \u001b[39mexcept\u001b[39;00m \u001b[39mKeyError\u001b[39;00m \u001b[39mas\u001b[39;00m err:\n\u001b[0;32m-> 3805\u001b[0m     \u001b[39mraise\u001b[39;00m \u001b[39mKeyError\u001b[39;00m(key) \u001b[39mfrom\u001b[39;00m \u001b[39merr\u001b[39;00m\n\u001b[1;32m   3806\u001b[0m \u001b[39mexcept\u001b[39;00m \u001b[39mTypeError\u001b[39;00m:\n\u001b[1;32m   3807\u001b[0m     \u001b[39m# If we have a listlike key, _check_indexing_error will raise\u001b[39;00m\n\u001b[1;32m   3808\u001b[0m     \u001b[39m#  InvalidIndexError. Otherwise we fall through and re-raise\u001b[39;00m\n\u001b[1;32m   3809\u001b[0m     \u001b[39m#  the TypeError.\u001b[39;00m\n\u001b[1;32m   3810\u001b[0m     \u001b[39mself\u001b[39m\u001b[39m.\u001b[39m_check_indexing_error(key)\n",
      "\u001b[0;31mKeyError\u001b[0m: 'ds'"
     ]
    }
   ],
   "source": [
    "from basebot22.basebot import BaseBot\n",
    "from datetime import datetime\n",
    "\n",
    "bot = BaseBot(\"testbot\")\n",
    "df = bot.getData(\"MSFT\", start_date=datetime(2019, 1, 1), technical_indicators=[\"all\"])\n",
    "df = df.drop([\"ticker\"], axis=1)\n"
   ]
  },
  {
   "cell_type": "code",
   "execution_count": 7,
   "metadata": {},
   "outputs": [
    {
     "ename": "ValueError",
     "evalue": "math domain error",
     "output_type": "error",
     "traceback": [
      "\u001b[0;31m---------------------------------------------------------------------------\u001b[0m",
      "\u001b[0;31mRemoteTraceback\u001b[0m                           Traceback (most recent call last)",
      "\u001b[0;31mRemoteTraceback\u001b[0m: \n\"\"\"\nTraceback (most recent call last):\n  File \"/home/jguese/miniconda3/lib/python3.10/multiprocessing/pool.py\", line 125, in worker\n    result = (True, func(*args, **kwds))\n  File \"/home/jguese/miniconda3/lib/python3.10/site-packages/statsforecast/core.py\", line 69, in fit\n    fm[i, i_model] = new_model.fit(y=y, X=X)\n  File \"/home/jguese/miniconda3/lib/python3.10/site-packages/statsforecast/models.py\", line 196, in fit\n    self.model_ = auto_arima_f(\n  File \"/home/jguese/miniconda3/lib/python3.10/site-packages/statsforecast/arima.py\", line 1742, in auto_arima_f\n    fit = Arima(x, order=(0, 0, 0), include_mean=False)\n  File \"/home/jguese/miniconda3/lib/python3.10/site-packages/statsforecast/arima.py\", line 1391, in Arima\n    tmp[\"bic\"] = tmp[\"aic\"] + npar * (math.log(nstar) - 2)\nValueError: math domain error\n\"\"\"",
      "\nThe above exception was the direct cause of the following exception:\n",
      "\u001b[0;31mValueError\u001b[0m                                Traceback (most recent call last)",
      "Cell \u001b[0;32mIn[7], line 11\u001b[0m\n\u001b[1;32m      3\u001b[0m df\u001b[39m.\u001b[39mrename(columns\u001b[39m=\u001b[39m{\u001b[39m'\u001b[39m\u001b[39mtimestamp\u001b[39m\u001b[39m'\u001b[39m: \u001b[39m'\u001b[39m\u001b[39mds\u001b[39m\u001b[39m'\u001b[39m, \u001b[39m'\u001b[39m\u001b[39mclose\u001b[39m\u001b[39m'\u001b[39m: \u001b[39m'\u001b[39m\u001b[39my\u001b[39m\u001b[39m'\u001b[39m}, inplace\u001b[39m=\u001b[39m\u001b[39mTrue\u001b[39;00m)\n\u001b[1;32m      5\u001b[0m sf \u001b[39m=\u001b[39m StatsForecast(\n\u001b[1;32m      6\u001b[0m     models \u001b[39m=\u001b[39m [AutoARIMA(season_length \u001b[39m=\u001b[39m \u001b[39m30\u001b[39m)],\n\u001b[1;32m      7\u001b[0m     freq \u001b[39m=\u001b[39m \u001b[39m'\u001b[39m\u001b[39mD\u001b[39m\u001b[39m'\u001b[39m,\n\u001b[1;32m      8\u001b[0m     n_jobs \u001b[39m=\u001b[39m \u001b[39m-\u001b[39m\u001b[39m1\u001b[39m\n\u001b[1;32m      9\u001b[0m )\n\u001b[0;32m---> 11\u001b[0m sf\u001b[39m.\u001b[39;49mfit(df)\n",
      "File \u001b[0;32m~/miniconda3/lib/python3.10/site-packages/statsforecast/core.py:537\u001b[0m, in \u001b[0;36m_StatsForecast.fit\u001b[0;34m(self, df, sort_df)\u001b[0m\n\u001b[1;32m    535\u001b[0m     \u001b[39mself\u001b[39m\u001b[39m.\u001b[39mfitted_ \u001b[39m=\u001b[39m \u001b[39mself\u001b[39m\u001b[39m.\u001b[39mga\u001b[39m.\u001b[39mfit(models\u001b[39m=\u001b[39m\u001b[39mself\u001b[39m\u001b[39m.\u001b[39mmodels)\n\u001b[1;32m    536\u001b[0m \u001b[39melse\u001b[39;00m:\n\u001b[0;32m--> 537\u001b[0m     \u001b[39mself\u001b[39m\u001b[39m.\u001b[39mfitted_ \u001b[39m=\u001b[39m \u001b[39mself\u001b[39;49m\u001b[39m.\u001b[39;49m_fit_parallel()\n\u001b[1;32m    538\u001b[0m \u001b[39mreturn\u001b[39;00m \u001b[39mself\u001b[39m\n",
      "File \u001b[0;32m~/miniconda3/lib/python3.10/site-packages/statsforecast/core.py:855\u001b[0m, in \u001b[0;36m_StatsForecast._fit_parallel\u001b[0;34m(self)\u001b[0m\n\u001b[1;32m    853\u001b[0m         future \u001b[39m=\u001b[39m executor\u001b[39m.\u001b[39mapply_async(ga\u001b[39m.\u001b[39mfit, (\u001b[39mself\u001b[39m\u001b[39m.\u001b[39mmodels,))\n\u001b[1;32m    854\u001b[0m         futures\u001b[39m.\u001b[39mappend(future)\n\u001b[0;32m--> 855\u001b[0m     fm \u001b[39m=\u001b[39m np\u001b[39m.\u001b[39mvstack([f\u001b[39m.\u001b[39mget() \u001b[39mfor\u001b[39;00m f \u001b[39min\u001b[39;00m futures])\n\u001b[1;32m    856\u001b[0m \u001b[39mreturn\u001b[39;00m fm\n",
      "File \u001b[0;32m~/miniconda3/lib/python3.10/site-packages/statsforecast/core.py:855\u001b[0m, in \u001b[0;36m<listcomp>\u001b[0;34m(.0)\u001b[0m\n\u001b[1;32m    853\u001b[0m         future \u001b[39m=\u001b[39m executor\u001b[39m.\u001b[39mapply_async(ga\u001b[39m.\u001b[39mfit, (\u001b[39mself\u001b[39m\u001b[39m.\u001b[39mmodels,))\n\u001b[1;32m    854\u001b[0m         futures\u001b[39m.\u001b[39mappend(future)\n\u001b[0;32m--> 855\u001b[0m     fm \u001b[39m=\u001b[39m np\u001b[39m.\u001b[39mvstack([f\u001b[39m.\u001b[39;49mget() \u001b[39mfor\u001b[39;00m f \u001b[39min\u001b[39;00m futures])\n\u001b[1;32m    856\u001b[0m \u001b[39mreturn\u001b[39;00m fm\n",
      "File \u001b[0;32m~/miniconda3/lib/python3.10/multiprocessing/pool.py:774\u001b[0m, in \u001b[0;36mApplyResult.get\u001b[0;34m(self, timeout)\u001b[0m\n\u001b[1;32m    772\u001b[0m     \u001b[39mreturn\u001b[39;00m \u001b[39mself\u001b[39m\u001b[39m.\u001b[39m_value\n\u001b[1;32m    773\u001b[0m \u001b[39melse\u001b[39;00m:\n\u001b[0;32m--> 774\u001b[0m     \u001b[39mraise\u001b[39;00m \u001b[39mself\u001b[39m\u001b[39m.\u001b[39m_value\n",
      "\u001b[0;31mValueError\u001b[0m: math domain error"
     ]
    }
   ],
   "source": [
    "df[\"unique_id\"] = list(range(1, len(df) + 1))\n",
    "df = df.reset_index()\n",
    "df.rename(columns={'timestamp': 'ds', 'close': 'y'}, inplace=True)\n",
    "\n",
    "sf = StatsForecast(\n",
    "    models = [AutoARIMA(season_length = 30)],\n",
    "    freq = 'D',\n",
    "    n_jobs = -1\n",
    ")\n",
    "\n",
    "sf.fit(df)"
   ]
  }
 ],
 "metadata": {
  "kernelspec": {
   "display_name": "base",
   "language": "python",
   "name": "python3"
  },
  "language_info": {
   "codemirror_mode": {
    "name": "ipython",
    "version": 3
   },
   "file_extension": ".py",
   "mimetype": "text/x-python",
   "name": "python",
   "nbconvert_exporter": "python",
   "pygments_lexer": "ipython3",
   "version": "3.10.8 (main, Nov 24 2022, 14:13:03) [GCC 11.2.0]"
  },
  "orig_nbformat": 4,
  "vscode": {
   "interpreter": {
    "hash": "d436247b9f043f8630513ed1454a5d25f3879733eb5c0e6e904c7c35a517ff37"
   }
  }
 },
 "nbformat": 4,
 "nbformat_minor": 2
}
