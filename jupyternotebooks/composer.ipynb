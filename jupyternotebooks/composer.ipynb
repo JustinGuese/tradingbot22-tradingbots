{
 "cells": [
  {
   "cell_type": "code",
   "execution_count": 1,
   "metadata": {},
   "outputs": [],
   "source": [
    "# trying to \"emulate\" (;)) the composer trade logics    "
   ]
  },
  {
   "attachments": {},
   "cell_type": "markdown",
   "metadata": {},
   "source": [
    "The Not Boring: Rising Rates with Vol Switch\n",
    "\n",
    "21.9% annualized return, 23% max drawdown, 1.12 sharpe ratio\n",
    "\n",
    "Risk Parity, but make it Fed-friendly. This symphony seeks to navigate a rising interest rate environment by including financials and avoiding equity and bond market volatility. The symphony is Risk On if treasuries and the Nasdaq 100 are stable; otherwise, it adds Risk-Off assets, including gold and the US dollar. The Risk-On assets are an inverse-volatility-weighted blend of 3x levered ETFs, representing large-cap equities, financials, and long-dated treasuries. This symphony was developed by Composer. By choosing to trade this strategy, you understand that the strategy employs ETFs, and that you understand the associated risks of trading, holding, and costs associated with ETFs, and also leveraged ETFs. Before investing in ANY strategy containing an ETF, please review the relevant ETF prospectus."
   ]
  },
  {
   "cell_type": "code",
   "execution_count": null,
   "metadata": {},
   "outputs": [],
   "source": [
    "# if 10d max drawdown of QQQ is greater than 6%\n",
    "    # \"risk off mode\"\n",
    "        # inverse volatility weight 45d = Assets that are more volatile receive lower weights\n",
    "        # GLD, TMF, FAS, TQQQ, UUP = Gold, Treasury bond, financial bull, 3x qqq, usd bullish\n",
    "# else \n",
    "    # if 10d max drawdown of TMF is greather than 7%\n",
    "        # \"risk off mode\"\n",
    "            # inverse volatility weight 45d = Assets that are more volatile receive lower weights\n",
    "            # GLD, TMF, FAS, TQQQ, UUP = Gold, Treasury bond, financial bull, 3x qqq, usd bullish\n",
    "    # else\n",
    "        # \"risk on mode\"\n",
    "        # inverse volatility weight 45d = Assets that are more volatile receive lower weights\n",
    "        # TMF, FAS, TQQQ (treasury bull 3x, financial bull 3x, 3x qqq)"
   ]
  },
  {
   "cell_type": "code",
   "execution_count": 10,
   "metadata": {},
   "outputs": [],
   "source": [
    "from basebot22.basebot import BaseBot\n",
    "from datetime import datetime, timedelta\n",
    "\n",
    "bot = BaseBot(\"testbot\")\n",
    "STOCKS = [\"GLD\", \"TMF\", \"FAS\", \"TQQQ\", \"UUP\", \"QQQ\"]\n"
   ]
  },
  {
   "cell_type": "code",
   "execution_count": 48,
   "metadata": {},
   "outputs": [],
   "source": [
    "\n",
    "currentMode = \"none\"\n",
    "\n",
    "def get10DayMaxDrawdown(ticker):\n",
    "    qqq = bot.getData(ticker, start_date = datetime.now() - timedelta(days=100))\n",
    "    # calculate the max percentage drawdown of the last 45 days\n",
    "    rollMax = qqq['adj_close'].rolling(10, min_periods=1).max()\n",
    "    dailyDrawdown = qqq['adj_close'] / rollMax - 1.0\n",
    "\n",
    "    maxDailyDrawdown = dailyDrawdown.rolling(10, min_periods=1).min()\n",
    "\n",
    "    crntMaxDailyDrawdown = maxDailyDrawdown[-1]\n",
    "\n",
    "    # print(\"crnt max daily drawdown qqq: \" + str(crntMaxDailyDrawdown))\n",
    "    return crntMaxDailyDrawdown\n",
    "\n"
   ]
  },
  {
   "cell_type": "code",
   "execution_count": 31,
   "metadata": {},
   "outputs": [],
   "source": [
    "import pandas as pd\n",
    "def calculateCurrent45dVolatility(df: pd.DataFrame):\n",
    "    df[\"daily_returns\"] = df[\"adj_close\"].pct_change()\n",
    "    # 45 bc we need 45 d volatility\n",
    "    df[\"daily_volatility\"] = df[\"daily_returns\"].rolling(45).std()\n",
    "    return df[\"daily_volatility\"][-1]"
   ]
  },
  {
   "cell_type": "code",
   "execution_count": 44,
   "metadata": {},
   "outputs": [],
   "source": [
    "def inverseVolatilityWeights(tickers: list):\n",
    "    crntVolatilities = dict()\n",
    "    for ticker in tickers:\n",
    "        df = bot.getData(ticker, start_date = datetime.now() - timedelta(days=100))\n",
    "        crntVolatilities[ticker] = calculateCurrent45dVolatility(df)\n",
    "    # create weights according to inverse volatilities (lower volatilities get higher weights)\n",
    "    print(\"volatilities: \" + str(crntVolatilities))\n",
    "    for ticker, volatility in crntVolatilities.items():\n",
    "        crntVolatilities[ticker] = 1 / volatility\n",
    "    weights = dict()\n",
    "    for ticker, volatility in crntVolatilities.items():\n",
    "        weights[ticker] = crntVolatilities[ticker] / sum(crntVolatilities.values())\n",
    "    print(\"weights: \" + str(weights))\n",
    "    return weights"
   ]
  },
  {
   "cell_type": "code",
   "execution_count": 45,
   "metadata": {},
   "outputs": [
    {
     "name": "stdout",
     "output_type": "stream",
     "text": [
      "volatilities: {'GLD': 0.010789899006536223, 'TMF': 0.04174950594038894, 'FAS': 0.039695852529190646, 'TQQQ': 0.0593806897897067, 'UUP': 0.007318079356015833}\n",
      "weights: {'GLD': 0.31383556629146425, 'TMF': 0.08110884161788613, 'FAS': 0.08530498400189027, 'TQQQ': 0.0570261827024278, 'UUP': 0.46272442538633174}\n"
     ]
    },
    {
     "data": {
      "text/plain": [
       "{'GLD': 0.31383556629146425,\n",
       " 'TMF': 0.08110884161788613,\n",
       " 'FAS': 0.08530498400189027,\n",
       " 'TQQQ': 0.0570261827024278,\n",
       " 'UUP': 0.46272442538633174}"
      ]
     },
     "execution_count": 45,
     "metadata": {},
     "output_type": "execute_result"
    }
   ],
   "source": [
    "# weights = inverseVolatilityWeights([\"GLD\", \"TMF\", \"FAS\", \"TQQQ\", \"UUP\"])\n",
    "# weights"
   ]
  },
  {
   "cell_type": "code",
   "execution_count": 50,
   "metadata": {},
   "outputs": [],
   "source": [
    "def buyAccordingToWeights(weights: dict):\n",
    "    portfolio = bot.getPortfolio()\n",
    "    usd = portfolio[\"USD\"]\n",
    "    print(\"portfolio: \", portfolio)\n",
    "    if len(portfolio) > 1:\n",
    "        # sell all stocks\n",
    "        print(\"selling all open stocks\")\n",
    "        for ticker, amount in portfolio.items():\n",
    "            if ticker != \"USD\":\n",
    "                bot.sell(ticker) # all\n",
    "        # reset\n",
    "        portfolio = bot.getPortfolio()\n",
    "        usd = portfolio[\"USD\"]\n",
    "    # buy according to weights\n",
    "    for ticker, weight in weights.items():\n",
    "        print(f'buying {weight*usd}$ of {ticker}')\n",
    "        bot.buy(ticker, amount = weight*usd, amountInUSD=True)\n",
    "    "
   ]
  },
  {
   "cell_type": "code",
   "execution_count": 51,
   "metadata": {},
   "outputs": [
    {
     "name": "stdout",
     "output_type": "stream",
     "text": [
      "risk off mode\n"
     ]
    }
   ],
   "source": [
    "# trade logic\n",
    "qqqCrntMaxDailyDrawdown = get10DayMaxDrawdown(\"QQQ\")\n",
    "if qqqCrntMaxDailyDrawdown < -0.06: # question: how is the \"grater than\" meant? \n",
    "    print(\"risk off mode\")\n",
    "    if currentMode != \"risk off\":\n",
    "        currentMode = \"risk off\"\n",
    "        print(\"switching mode to risk off\")\n",
    "        # get 45d inverse volatility weights\n",
    "        weights = inverseVolatilityWeights([\"GLD\", \"TMF\", \"FAS\", \"TQQQ\", \"UUP\"])\n",
    "        print(weights)\n",
    "        buyAccordingToWeights(weights)\n",
    "else:\n",
    "    # if 10d max drawdown of TMF is greather than 7%\n",
    "    # \"risk off mode\"\n",
    "    tmfCrntMaxDailyDrawdown = get10DayMaxDrawdown(\"TMF\")\n",
    "    if tmfCrntMaxDailyDrawdown < -0.07:\n",
    "        print(\"risk off mode\")\n",
    "        if currentMode != \"risk off\":\n",
    "            currentMode = \"risk off\"\n",
    "            print(\"switching mode to risk off\")\n",
    "            # get 45d inverse volatility weights\n",
    "            weights = inverseVolatilityWeights([\"GLD\", \"TMF\", \"FAS\", \"TQQQ\", \"UUP\"])\n",
    "            print(weights)\n",
    "            buyAccordingToWeights(weights)\n",
    "    else:\n",
    "        # \"risk on mode\"\n",
    "        # inverse volatility weight 45d = Assets that are more volatile receive lower weights\n",
    "        # TMF, FAS, TQQQ (treasury bull 3x, financial bull 3x, 3x qqq)\n",
    "        print(\"risk off on\")\n",
    "        if currentMode != \"risk on\":\n",
    "            currentMode = \"risk on\"\n",
    "            print(\"switching mode to risk on\")\n",
    "            # get 45d inverse volatility weights\n",
    "            weights = inverseVolatilityWeights([\"TMF\", \"FAS\", \"TQQQ\"])\n",
    "            print(weights)\n",
    "            buyAccordingToWeights(weights)\n",
    "    "
   ]
  },
  {
   "cell_type": "code",
   "execution_count": 46,
   "metadata": {},
   "outputs": [
    {
     "name": "stdout",
     "output_type": "stream",
     "text": [
      "{'GLD': 0.31383556629146425, 'TMF': 0.08110884161788613, 'FAS': 0.08530498400189027, 'TQQQ': 0.0570261827024278, 'UUP': 0.46272442538633174}\n"
     ]
    }
   ],
   "source": [
    "print(weights)"
   ]
  }
 ],
 "metadata": {
  "kernelspec": {
   "display_name": "base",
   "language": "python",
   "name": "python3"
  },
  "language_info": {
   "codemirror_mode": {
    "name": "ipython",
    "version": 3
   },
   "file_extension": ".py",
   "mimetype": "text/x-python",
   "name": "python",
   "nbconvert_exporter": "python",
   "pygments_lexer": "ipython3",
   "version": "3.10.8"
  },
  "orig_nbformat": 4,
  "vscode": {
   "interpreter": {
    "hash": "d436247b9f043f8630513ed1454a5d25f3879733eb5c0e6e904c7c35a517ff37"
   }
  }
 },
 "nbformat": 4,
 "nbformat_minor": 2
}
