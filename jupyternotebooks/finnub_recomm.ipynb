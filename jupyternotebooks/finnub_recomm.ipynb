{
 "cells": [
  {
   "cell_type": "code",
   "execution_count": 2,
   "metadata": {},
   "outputs": [
    {
     "name": "stdout",
     "output_type": "stream",
     "text": [
      "Collecting finnhub-python\n",
      "  Downloading finnhub_python-2.4.15-py3-none-any.whl (11 kB)\n",
      "Requirement already satisfied: requests>=2.22.0 in /home/jguese/miniconda3/lib/python3.10/site-packages (from finnhub-python) (2.28.1)\n",
      "Requirement already satisfied: idna<4,>=2.5 in /home/jguese/miniconda3/lib/python3.10/site-packages (from requests>=2.22.0->finnhub-python) (3.4)\n",
      "Requirement already satisfied: urllib3<1.27,>=1.21.1 in /home/jguese/miniconda3/lib/python3.10/site-packages (from requests>=2.22.0->finnhub-python) (1.26.12)\n",
      "Requirement already satisfied: charset-normalizer<3,>=2 in /home/jguese/miniconda3/lib/python3.10/site-packages (from requests>=2.22.0->finnhub-python) (2.1.1)\n",
      "Requirement already satisfied: certifi>=2017.4.17 in /home/jguese/miniconda3/lib/python3.10/site-packages (from requests>=2.22.0->finnhub-python) (2022.9.24)\n",
      "Installing collected packages: finnhub-python\n",
      "Successfully installed finnhub-python-2.4.15\n"
     ]
    }
   ],
   "source": [
    "!pip install finnhub-python"
   ]
  },
  {
   "cell_type": "code",
   "execution_count": 3,
   "metadata": {},
   "outputs": [
    {
     "name": "stdout",
     "output_type": "stream",
     "text": [
      "[{'buy': 29, 'hold': 6, 'period': '2022-11-01', 'sell': 1, 'strongBuy': 14, 'strongSell': 0, 'symbol': 'AAPL'}, {'buy': 29, 'hold': 6, 'period': '2022-10-01', 'sell': 1, 'strongBuy': 14, 'strongSell': 0, 'symbol': 'AAPL'}, {'buy': 29, 'hold': 7, 'period': '2022-09-01', 'sell': 1, 'strongBuy': 16, 'strongSell': 0, 'symbol': 'AAPL'}, {'buy': 27, 'hold': 9, 'period': '2022-08-01', 'sell': 1, 'strongBuy': 17, 'strongSell': 0, 'symbol': 'AAPL'}]\n"
     ]
    }
   ],
   "source": [
    "import finnhub\n",
    "finnhub_client = finnhub.Client(api_key=\"cdros4iad3icpst9vov0cdros4iad3icpst9vovg\")\n",
    "\n",
    "print(finnhub_client.recommendation_trends('AAPL'))"
   ]
  }
 ],
 "metadata": {
  "kernelspec": {
   "display_name": "Python 3.10.8 ('base')",
   "language": "python",
   "name": "python3"
  },
  "language_info": {
   "codemirror_mode": {
    "name": "ipython",
    "version": 3
   },
   "file_extension": ".py",
   "mimetype": "text/x-python",
   "name": "python",
   "nbconvert_exporter": "python",
   "pygments_lexer": "ipython3",
   "version": "3.10.8"
  },
  "orig_nbformat": 4,
  "vscode": {
   "interpreter": {
    "hash": "d436247b9f043f8630513ed1454a5d25f3879733eb5c0e6e904c7c35a517ff37"
   }
  }
 },
 "nbformat": 4,
 "nbformat_minor": 2
}
