{
 "cells": [
  {
   "cell_type": "code",
   "execution_count": 1,
   "metadata": {},
   "outputs": [],
   "source": [
    "import pandas as pd\n",
    "from datetime import datetime, date, timedelta\n",
    "from requests import post\n",
    "import matplotlib.pyplot as plt\n",
    "import numpy as np"
   ]
  },
  {
   "cell_type": "code",
   "execution_count": 2,
   "metadata": {},
   "outputs": [],
   "source": [
    "import sys\n",
    "sys.path.insert(1, '../src/')\n",
    "from basebot import BaseBot"
   ]
  },
  {
   "cell_type": "code",
   "execution_count": 3,
   "metadata": {},
   "outputs": [
    {
     "data": {
      "text/html": [
       "<div>\n",
       "<style scoped>\n",
       "    .dataframe tbody tr th:only-of-type {\n",
       "        vertical-align: middle;\n",
       "    }\n",
       "\n",
       "    .dataframe tbody tr th {\n",
       "        vertical-align: top;\n",
       "    }\n",
       "\n",
       "    .dataframe thead th {\n",
       "        text-align: right;\n",
       "    }\n",
       "</style>\n",
       "<table border=\"1\" class=\"dataframe\">\n",
       "  <thead>\n",
       "    <tr style=\"text-align: right;\">\n",
       "      <th></th>\n",
       "      <th>ticker</th>\n",
       "      <th>open</th>\n",
       "      <th>high</th>\n",
       "      <th>low</th>\n",
       "      <th>close</th>\n",
       "      <th>volume</th>\n",
       "      <th>adj_close</th>\n",
       "      <th>volume_adi</th>\n",
       "      <th>volume_obv</th>\n",
       "      <th>volume_cmf</th>\n",
       "      <th>...</th>\n",
       "      <th>momentum_kama</th>\n",
       "      <th>others_dr</th>\n",
       "      <th>others_dlr</th>\n",
       "      <th>others_cr</th>\n",
       "      <th>SMA_3</th>\n",
       "      <th>SMA_10</th>\n",
       "      <th>SMA_50</th>\n",
       "      <th>SMA_100</th>\n",
       "      <th>SMA_200</th>\n",
       "      <th>signal</th>\n",
       "    </tr>\n",
       "    <tr>\n",
       "      <th>timestamp</th>\n",
       "      <th></th>\n",
       "      <th></th>\n",
       "      <th></th>\n",
       "      <th></th>\n",
       "      <th></th>\n",
       "      <th></th>\n",
       "      <th></th>\n",
       "      <th></th>\n",
       "      <th></th>\n",
       "      <th></th>\n",
       "      <th></th>\n",
       "      <th></th>\n",
       "      <th></th>\n",
       "      <th></th>\n",
       "      <th></th>\n",
       "      <th></th>\n",
       "      <th></th>\n",
       "      <th></th>\n",
       "      <th></th>\n",
       "      <th></th>\n",
       "      <th></th>\n",
       "    </tr>\n",
       "  </thead>\n",
       "  <tbody>\n",
       "    <tr>\n",
       "      <th>2017-09-12</th>\n",
       "      <td>IWDA.AS</td>\n",
       "      <td>42.455002</td>\n",
       "      <td>42.674999</td>\n",
       "      <td>42.455002</td>\n",
       "      <td>42.575001</td>\n",
       "      <td>53831</td>\n",
       "      <td>42.575001</td>\n",
       "      <td>4893.896985</td>\n",
       "      <td>53831.0</td>\n",
       "      <td>0.090912</td>\n",
       "      <td>...</td>\n",
       "      <td>42.575001</td>\n",
       "      <td>-25.658017</td>\n",
       "      <td>0.433580</td>\n",
       "      <td>0.434522</td>\n",
       "      <td>42.725</td>\n",
       "      <td>42.7965</td>\n",
       "      <td>44.072</td>\n",
       "      <td>0</td>\n",
       "      <td>45.01955</td>\n",
       "      <td>1.0</td>\n",
       "    </tr>\n",
       "    <tr>\n",
       "      <th>2017-09-13</th>\n",
       "      <td>IWDA.AS</td>\n",
       "      <td>42.540001</td>\n",
       "      <td>42.759998</td>\n",
       "      <td>42.445000</td>\n",
       "      <td>42.759998</td>\n",
       "      <td>73915</td>\n",
       "      <td>42.759998</td>\n",
       "      <td>78808.896985</td>\n",
       "      <td>127746.0</td>\n",
       "      <td>0.616919</td>\n",
       "      <td>...</td>\n",
       "      <td>42.649766</td>\n",
       "      <td>0.434522</td>\n",
       "      <td>0.433580</td>\n",
       "      <td>0.434522</td>\n",
       "      <td>42.725</td>\n",
       "      <td>42.7965</td>\n",
       "      <td>44.072</td>\n",
       "      <td>0</td>\n",
       "      <td>45.01955</td>\n",
       "      <td>1.0</td>\n",
       "    </tr>\n",
       "    <tr>\n",
       "      <th>2017-09-14</th>\n",
       "      <td>IWDA.AS</td>\n",
       "      <td>42.730000</td>\n",
       "      <td>42.860001</td>\n",
       "      <td>42.689999</td>\n",
       "      <td>42.840000</td>\n",
       "      <td>19521</td>\n",
       "      <td>42.840000</td>\n",
       "      <td>93736.668981</td>\n",
       "      <td>147267.0</td>\n",
       "      <td>0.636508</td>\n",
       "      <td>...</td>\n",
       "      <td>42.724116</td>\n",
       "      <td>0.187095</td>\n",
       "      <td>0.186920</td>\n",
       "      <td>0.622430</td>\n",
       "      <td>42.725</td>\n",
       "      <td>42.7965</td>\n",
       "      <td>44.072</td>\n",
       "      <td>0</td>\n",
       "      <td>45.01955</td>\n",
       "      <td>1.0</td>\n",
       "    </tr>\n",
       "    <tr>\n",
       "      <th>2017-09-15</th>\n",
       "      <td>IWDA.AS</td>\n",
       "      <td>42.674999</td>\n",
       "      <td>42.689999</td>\n",
       "      <td>42.470001</td>\n",
       "      <td>42.575001</td>\n",
       "      <td>25357</td>\n",
       "      <td>42.575001</td>\n",
       "      <td>92584.257942</td>\n",
       "      <td>121910.0</td>\n",
       "      <td>0.536335</td>\n",
       "      <td>...</td>\n",
       "      <td>42.662290</td>\n",
       "      <td>-0.618579</td>\n",
       "      <td>-0.620500</td>\n",
       "      <td>0.364061</td>\n",
       "      <td>42.725</td>\n",
       "      <td>42.7965</td>\n",
       "      <td>44.072</td>\n",
       "      <td>0</td>\n",
       "      <td>45.01955</td>\n",
       "      <td>1.0</td>\n",
       "    </tr>\n",
       "    <tr>\n",
       "      <th>2017-09-18</th>\n",
       "      <td>IWDA.AS</td>\n",
       "      <td>42.779999</td>\n",
       "      <td>42.860001</td>\n",
       "      <td>42.669998</td>\n",
       "      <td>42.730000</td>\n",
       "      <td>44301</td>\n",
       "      <td>42.730000</td>\n",
       "      <td>76263.117764</td>\n",
       "      <td>166211.0</td>\n",
       "      <td>0.351564</td>\n",
       "      <td>...</td>\n",
       "      <td>42.689158</td>\n",
       "      <td>0.364061</td>\n",
       "      <td>0.363399</td>\n",
       "      <td>0.364061</td>\n",
       "      <td>42.715</td>\n",
       "      <td>42.7965</td>\n",
       "      <td>44.072</td>\n",
       "      <td>0</td>\n",
       "      <td>45.01955</td>\n",
       "      <td>1.0</td>\n",
       "    </tr>\n",
       "  </tbody>\n",
       "</table>\n",
       "<p>5 rows × 99 columns</p>\n",
       "</div>"
      ],
      "text/plain": [
       "             ticker       open       high        low      close  volume  \\\n",
       "timestamp                                                                 \n",
       "2017-09-12  IWDA.AS  42.455002  42.674999  42.455002  42.575001   53831   \n",
       "2017-09-13  IWDA.AS  42.540001  42.759998  42.445000  42.759998   73915   \n",
       "2017-09-14  IWDA.AS  42.730000  42.860001  42.689999  42.840000   19521   \n",
       "2017-09-15  IWDA.AS  42.674999  42.689999  42.470001  42.575001   25357   \n",
       "2017-09-18  IWDA.AS  42.779999  42.860001  42.669998  42.730000   44301   \n",
       "\n",
       "            adj_close    volume_adi  volume_obv  volume_cmf  ...  \\\n",
       "timestamp                                                    ...   \n",
       "2017-09-12  42.575001   4893.896985     53831.0    0.090912  ...   \n",
       "2017-09-13  42.759998  78808.896985    127746.0    0.616919  ...   \n",
       "2017-09-14  42.840000  93736.668981    147267.0    0.636508  ...   \n",
       "2017-09-15  42.575001  92584.257942    121910.0    0.536335  ...   \n",
       "2017-09-18  42.730000  76263.117764    166211.0    0.351564  ...   \n",
       "\n",
       "            momentum_kama  others_dr  others_dlr  others_cr   SMA_3   SMA_10  \\\n",
       "timestamp                                                                      \n",
       "2017-09-12      42.575001 -25.658017    0.433580   0.434522  42.725  42.7965   \n",
       "2017-09-13      42.649766   0.434522    0.433580   0.434522  42.725  42.7965   \n",
       "2017-09-14      42.724116   0.187095    0.186920   0.622430  42.725  42.7965   \n",
       "2017-09-15      42.662290  -0.618579   -0.620500   0.364061  42.725  42.7965   \n",
       "2017-09-18      42.689158   0.364061    0.363399   0.364061  42.715  42.7965   \n",
       "\n",
       "            SMA_50  SMA_100   SMA_200  signal  \n",
       "timestamp                                      \n",
       "2017-09-12  44.072        0  45.01955     1.0  \n",
       "2017-09-13  44.072        0  45.01955     1.0  \n",
       "2017-09-14  44.072        0  45.01955     1.0  \n",
       "2017-09-15  44.072        0  45.01955     1.0  \n",
       "2017-09-18  44.072        0  45.01955     1.0  \n",
       "\n",
       "[5 rows x 99 columns]"
      ]
     },
     "execution_count": 3,
     "metadata": {},
     "output_type": "execute_result"
    }
   ],
   "source": [
    "bot = BaseBot(\"testbot\")\n",
    "\n",
    "df = bot.getData(ticker = \"IWDA.AS\", start_date = datetime(2010,1,1), technical_indicators=[\"all\"])\n",
    "df = bot.getTrend(df)\n",
    "df.head()"
   ]
  },
  {
   "cell_type": "code",
   "execution_count": 4,
   "metadata": {},
   "outputs": [
    {
     "data": {
      "text/plain": [
       " 1.0    862\n",
       "-1.0    435\n",
       "Name: signal, dtype: int64"
      ]
     },
     "execution_count": 4,
     "metadata": {},
     "output_type": "execute_result"
    }
   ],
   "source": [
    "df[\"signal\"].value_counts()"
   ]
  },
  {
   "cell_type": "markdown",
   "metadata": {},
   "source": [
    "-1 represents sell (downtrend), 1 buy (uptrend), 0 is not yet decided"
   ]
  },
  {
   "cell_type": "markdown",
   "metadata": {},
   "source": [
    "## simulate best possible scenario\n",
    "\n",
    "(following signal)"
   ]
  },
  {
   "cell_type": "code",
   "execution_count": 5,
   "metadata": {},
   "outputs": [
    {
     "data": {
      "text/plain": [
       "<AxesSubplot:xlabel='timestamp'>"
      ]
     },
     "execution_count": 5,
     "metadata": {},
     "output_type": "execute_result"
    },
    {
     "data": {
      "image/png": "[encoded data removed]",
      "text/plain": [
       "<Figure size 640x480 with 1 Axes>"
      ]
     },
     "metadata": {},
     "output_type": "display_data"
    }
   ],
   "source": [
    "df[\"adj_close\"].plot()"
   ]
  },
  {
   "cell_type": "code",
   "execution_count": 6,
   "metadata": {},
   "outputs": [
    {
     "name": "stdout",
     "output_type": "stream",
     "text": [
      "index takes 1848 days\n"
     ]
    }
   ],
   "source": [
    "## calculate timespan\n",
    "days = (df.index[-1] - df.index[0]).days\n",
    "print(\"index takes %d days\" % days)"
   ]
  },
  {
   "cell_type": "code",
   "execution_count": 7,
   "metadata": {},
   "outputs": [
    {
     "name": "stdout",
     "output_type": "stream",
     "text": [
      "you would have bought 234.87961998358358 stocks\n",
      "just holding would have given you 6582.50$\n",
      "or 106.86$ per month\n"
     ]
    }
   ],
   "source": [
    "## baseline\n",
    "startMoney = 10000\n",
    "COMMISSION = 0.00025\n",
    "nrStocks = startMoney / df.iloc[0][\"adj_close\"]\n",
    "print(\"you would have bought {} stocks\".format(nrStocks))\n",
    "baselineWin = df.iloc[-1][\"adj_close\"] * nrStocks - startMoney\n",
    "print(\"just holding would have given you %.2f$\" % baselineWin)\n",
    "baselineWinPerMonth = baselineWin / days * 30\n",
    "print(\"or %.2f$ per month\" % baselineWinPerMonth)"
   ]
  },
  {
   "cell_type": "code",
   "execution_count": 8,
   "metadata": {},
   "outputs": [
    {
     "name": "stdout",
     "output_type": "stream",
     "text": [
      "following the signal would have given you 24914.74$\n",
      "or 404.46$ per month\n"
     ]
    },
    {
     "data": {
      "text/plain": [
       "[<matplotlib.lines.Line2D at 0x7f86f00e6b30>]"
      ]
     },
     "execution_count": 8,
     "metadata": {},
     "output_type": "execute_result"
    },
    {
     "data": {
      "image/png": "[encoded data removed]",
      "text/plain": [
       "<Figure size 640x480 with 1 Axes>"
      ]
     },
     "metadata": {},
     "output_type": "display_data"
    }
   ],
   "source": [
    "## next check if we follow signal what the best scenario would have been\n",
    "money = startMoney\n",
    "nrStocks = 0\n",
    "bestPortfolio = []\n",
    "for i in range(len(df)):\n",
    "    if df.iloc[i][\"signal\"] == 1 and money > 0 and nrStocks == 0:\n",
    "        amount = money / df.iloc[i][\"adj_close\"] * .99\n",
    "        cost = amount * df.iloc[i][\"adj_close\"] * (1 + COMMISSION)\n",
    "        money -= cost\n",
    "        nrStocks += amount\n",
    "    elif df.iloc[i][\"signal\"] == -1 and nrStocks > 0:\n",
    "        money += nrStocks * df.iloc[i][\"adj_close\"] * (1 - COMMISSION)\n",
    "        nrStocks = 0\n",
    "    bestPortfolio.append(money + nrStocks * df.iloc[i][\"adj_close\"])\n",
    "# last day sell nrStocks\n",
    "money += nrStocks * df.iloc[-1][\"adj_close\"] * (1 - COMMISSION)\n",
    "nrStocks = 0\n",
    "\n",
    "win = money - startMoney\n",
    "print(\"following the signal would have given you %.2f$\" % win)\n",
    "winPerMonth = win / days * 30\n",
    "print(\"or %.2f$ per month\" % winPerMonth)\n",
    "plt.plot(bestPortfolio)"
   ]
  },
  {
   "cell_type": "markdown",
   "metadata": {},
   "source": [
    "## find correlations"
   ]
  },
  {
   "cell_type": "code",
   "execution_count": 9,
   "metadata": {},
   "outputs": [
    {
     "data": {
      "text/plain": [
       "open      -0.012703\n",
       "high      -0.017628\n",
       "low       -0.002791\n",
       "close     -0.007943\n",
       "volume    -0.189934\n",
       "             ...   \n",
       "SMA_10    -0.050470\n",
       "SMA_50    -0.134352\n",
       "SMA_100         NaN\n",
       "SMA_200   -0.155830\n",
       "signal     1.000000\n",
       "Name: signal, Length: 98, dtype: float64"
      ]
     },
     "execution_count": 9,
     "metadata": {},
     "output_type": "execute_result"
    }
   ],
   "source": [
    "df.corr()[\"signal\"]"
   ]
  },
  {
   "cell_type": "code",
   "execution_count": 10,
   "metadata": {},
   "outputs": [
    {
     "name": "stdout",
     "output_type": "stream",
     "text": [
      "decision tree scores:  0.8384615384615385\n"
     ]
    }
   ],
   "source": [
    "## try to get some observations with decision tree\n",
    "from sklearn import tree\n",
    "from sklearn.model_selection import train_test_split\n",
    "x_train, x_test, y_train, y_test = train_test_split(  df.drop([\"signal\", \"ticker\"], axis = 1).fillna(method=\"bfill\").fillna(0), df[\"signal\"], test_size=0.2)\n",
    "clf = tree.DecisionTreeClassifier()\n",
    "clf.fit(x_train, y_train)\n",
    "scr = clf.score(x_test, y_test)\n",
    "print(\"decision tree scores: \", scr)\n",
    "pred = clf.predict(df.drop([\"signal\", \"ticker\"], axis = 1).fillna(method=\"bfill\").fillna(0))\n",
    "# tree.plot_tree(clf)"
   ]
  },
  {
   "cell_type": "code",
   "execution_count": 11,
   "metadata": {},
   "outputs": [],
   "source": [
    "import graphviz \n",
    "dot_data = tree.export_graphviz(clf, out_file=None,\n",
    "                        feature_names=x_train.columns,  \n",
    "                        class_names=[\"sell\", \"buy\"],\n",
    "                        filled=True, rounded=True,\n",
    "                        special_characters=True) \n",
    "graph = graphviz.Source(dot_data) \n",
    "# graph "
   ]
  },
  {
   "cell_type": "markdown",
   "metadata": {},
   "source": [
    "## simulate one run with training data"
   ]
  },
  {
   "cell_type": "code",
   "execution_count": 12,
   "metadata": {},
   "outputs": [
    {
     "name": "stdout",
     "output_type": "stream",
     "text": [
      "the decision tree with lookback 0 would have given you 19817.72$\n",
      "or +39.14% per year\n",
      "or 321.72$ per month\n"
     ]
    },
    {
     "data": {
      "text/plain": [
       "[<matplotlib.lines.Line2D at 0x7f86ed2301c0>]"
      ]
     },
     "execution_count": 12,
     "metadata": {},
     "output_type": "execute_result"
    },
    {
     "data": {
      "image/png": "[encoded data removed]",
      "text/plain": [
       "<Figure size 640x480 with 1 Axes>"
      ]
     },
     "metadata": {},
     "output_type": "display_data"
    }
   ],
   "source": [
    "\n",
    "\n",
    "\n",
    "bestLookback = -1\n",
    "bestLookbackWin = -9999\n",
    "bestLookbackPortfolio = []\n",
    "for lookback in [0]: # range(0, 10):\n",
    "    money = startMoney\n",
    "    nrStocks = 0\n",
    "    portfolio = []\n",
    "    for i in range(lookback, len(df)):\n",
    "        # prednow = np.median(pred[i-lookback:i])\n",
    "        prednow = pred[i]\n",
    "        if prednow == 1 and nrStocks == 0 and money > 10:\n",
    "            # buy\n",
    "            howmany = money / df.iloc[i][\"adj_close\"] * .99\n",
    "            cost = howmany * df.iloc[i][\"adj_close\"] * (1 + COMMISSION)\n",
    "            money -= cost\n",
    "            nrStocks += howmany\n",
    "        elif prednow == -1 and nrStocks > 0:\n",
    "            money += nrStocks * df.iloc[i][\"adj_close\"] * (1 - COMMISSION)\n",
    "            nrStocks = 0\n",
    "        portfolio.append(money + nrStocks * df.iloc[i][\"adj_close\"])\n",
    "    # last day sell\n",
    "    money += nrStocks * df.iloc[-1][\"adj_close\"] * (1 - COMMISSION)\n",
    "    win = money - startMoney\n",
    "    if win > bestLookbackWin:\n",
    "        bestLookback = lookback\n",
    "        bestLookbackWin = win\n",
    "        bestLookbackPortfolio = portfolio\n",
    "\n",
    "print(\"the decision tree with lookback %d would have given you %.2f$\" % (bestLookback, bestLookbackWin))\n",
    "winPct = bestLookbackWin / startMoney * 100\n",
    "winPctYear = winPct / days * 365\n",
    "print(\"or +%.2f%% per year\" % winPctYear)\n",
    "winPerMonth = bestLookbackWin / days * 30\n",
    "print(\"or %.2f$ per month\" % winPerMonth)\n",
    "plt.plot(bestLookbackPortfolio)\n",
    "# lookback of 1\n",
    "# the decision tree would have given you 19937.82$\n",
    "# or 323.67$ per month"
   ]
  },
  {
   "cell_type": "markdown",
   "metadata": {},
   "source": [
    "## try the same with xgb"
   ]
  },
  {
   "cell_type": "code",
   "execution_count": 13,
   "metadata": {},
   "outputs": [],
   "source": [
    "# xgb doesnt like -1\n",
    "y_train = y_train.replace(-1, 0)\n",
    "y_test = y_test.replace(-1, 0)"
   ]
  },
  {
   "cell_type": "code",
   "execution_count": 14,
   "metadata": {},
   "outputs": [],
   "source": [
    "import xgboost as xgb\n",
    "from sklearn import metrics\n",
    "\n",
    "\n",
    "clf = xgb.XGBClassifier(n_jobs = -1)\n",
    "clf.fit(x_train, y_train)\n",
    "# print(clf)\n",
    "predicted_y = clf.predict(x_test)\n"
   ]
  },
  {
   "cell_type": "code",
   "execution_count": 15,
   "metadata": {},
   "outputs": [
    {
     "name": "stdout",
     "output_type": "stream",
     "text": [
      "              precision    recall  f1-score   support\n",
      "\n",
      "         0.0       0.87      0.85      0.86        91\n",
      "         1.0       0.92      0.93      0.92       169\n",
      "\n",
      "    accuracy                           0.90       260\n",
      "   macro avg       0.89      0.89      0.89       260\n",
      "weighted avg       0.90      0.90      0.90       260\n",
      "\n",
      "[[ 77  14]\n",
      " [ 12 157]]\n"
     ]
    }
   ],
   "source": [
    "print(metrics.classification_report(y_test, predicted_y))\n",
    "print(metrics.confusion_matrix(y_test, predicted_y))\n",
    "\n"
   ]
  },
  {
   "cell_type": "code",
   "execution_count": 16,
   "metadata": {},
   "outputs": [
    {
     "data": {
      "text/plain": [
       "<AxesSubplot:title={'center':'Feature importance'}, xlabel='F score', ylabel='Features'>"
      ]
     },
     "execution_count": 16,
     "metadata": {},
     "output_type": "execute_result"
    },
    {
     "data": {
      "image/png": "[encoded data removed]",
      "text/plain": [
       "<Figure size 640x480 with 1 Axes>"
      ]
     },
     "metadata": {},
     "output_type": "display_data"
    }
   ],
   "source": [
    "xgb.plot_importance(clf, max_num_features=15)"
   ]
  },
  {
   "cell_type": "code",
   "execution_count": 17,
   "metadata": {},
   "outputs": [],
   "source": [
    "preds = clf.predict(df.drop([\"signal\", \"ticker\"], axis = 1).fillna(method=\"bfill\").fillna(0))"
   ]
  },
  {
   "cell_type": "code",
   "execution_count": 18,
   "metadata": {},
   "outputs": [
    {
     "name": "stderr",
     "output_type": "stream",
     "text": [
      "/home/jguese/miniconda3/lib/python3.10/site-packages/numpy/core/fromnumeric.py:3432: RuntimeWarning: Mean of empty slice.\n",
      "  return _methods._mean(a, axis=axis, dtype=dtype,\n",
      "/home/jguese/miniconda3/lib/python3.10/site-packages/numpy/core/_methods.py:190: RuntimeWarning: invalid value encountered in double_scalars\n",
      "  ret = ret.dtype.type(ret / rcount)\n"
     ]
    },
    {
     "name": "stdout",
     "output_type": "stream",
     "text": [
      "the XGB with lookback 3 would have given you 6510.10$\n",
      "or +12.86% per year\n",
      "or 105.68$ per month\n"
     ]
    },
    {
     "data": {
      "text/plain": [
       "[<matplotlib.lines.Line2D at 0x7f86d0616290>]"
      ]
     },
     "execution_count": 18,
     "metadata": {},
     "output_type": "execute_result"
    },
    {
     "data": {
      "image/png": "[encoded data removed]",
      "text/plain": [
       "<Figure size 640x480 with 1 Axes>"
      ]
     },
     "metadata": {},
     "output_type": "display_data"
    }
   ],
   "source": [
    "## do the same dance as with tree\n",
    "\n",
    "\n",
    "bestLookback = -1\n",
    "bestLookbackWin = -9999\n",
    "bestLookbackPortfolio = []\n",
    "for lookback in range(0, 10):\n",
    "    money = startMoney\n",
    "    nrStocks = 0\n",
    "    portfolio = []\n",
    "    for i in range(lookback, len(df)):\n",
    "        prednow = np.median(preds[i-lookback:i])\n",
    "        # prednow = preds[i]\n",
    "        if prednow == 1 and nrStocks == 0 and money > 10:\n",
    "            # buy\n",
    "            howmany = money / df.iloc[i][\"adj_close\"] * .99\n",
    "            cost = howmany * df.iloc[i][\"adj_close\"] * (1 + COMMISSION)\n",
    "            money -= cost\n",
    "            nrStocks += howmany\n",
    "        elif prednow == -1 and nrStocks > 0:\n",
    "            money += nrStocks * df.iloc[i][\"adj_close\"] * (1 - COMMISSION)\n",
    "            nrStocks = 0\n",
    "        portfolio.append(money + nrStocks * df.iloc[i][\"adj_close\"])\n",
    "    # last day sell\n",
    "    money += nrStocks * df.iloc[-1][\"adj_close\"] * (1 - COMMISSION)\n",
    "    win = money - startMoney\n",
    "    if win > bestLookbackWin:\n",
    "        bestLookback = lookback\n",
    "        bestLookbackWin = win\n",
    "        bestLookbackPortfolio = portfolio\n",
    "\n",
    "print(\"the XGB with lookback %d would have given you %.2f$\" % (bestLookback, bestLookbackWin))\n",
    "winPct = bestLookbackWin / startMoney * 100\n",
    "winPctYear = winPct / days * 365\n",
    "print(\"or +%.2f%% per year\" % winPctYear)\n",
    "winPerMonth = bestLookbackWin / days * 30\n",
    "print(\"or %.2f$ per month\" % winPerMonth)\n",
    "plt.plot(bestLookbackPortfolio)\n",
    "## tree\n",
    "# the decision tree with lookback 0 would have given you 19227.17$\n",
    "# or +37.98% per year\n",
    "# or 312.13$ per month\n",
    "## XGB - actually not too nice\n",
    "# the XGB with lookback 3 would have given you 6510.10$\n",
    "# or +12.86% per year\n",
    "# or 105.68$ per month\n"
   ]
  },
  {
   "cell_type": "markdown",
   "metadata": {},
   "source": [
    "## lgbm classifer"
   ]
  },
  {
   "cell_type": "code",
   "execution_count": 19,
   "metadata": {},
   "outputs": [
    {
     "name": "stdout",
     "output_type": "stream",
     "text": [
      "              precision    recall  f1-score   support\n",
      "\n",
      "         0.0       0.88      0.80      0.84        91\n",
      "         1.0       0.90      0.94      0.92       169\n",
      "\n",
      "    accuracy                           0.89       260\n",
      "   macro avg       0.89      0.87      0.88       260\n",
      "weighted avg       0.89      0.89      0.89       260\n",
      "\n",
      "[[ 73  18]\n",
      " [ 10 159]]\n"
     ]
    }
   ],
   "source": [
    "import lightgbm as ltb\n",
    "clf = ltb.LGBMClassifier()\n",
    "clf.fit(x_train, y_train)\n",
    "predicted_y = clf.predict(x_test)\n",
    "print(metrics.classification_report(y_test, predicted_y))\n",
    "print(metrics.confusion_matrix(y_test, predicted_y))"
   ]
  },
  {
   "cell_type": "code",
   "execution_count": 20,
   "metadata": {},
   "outputs": [],
   "source": [
    "preds = clf.predict(df.drop([\"signal\", \"ticker\"], axis = 1).fillna(method=\"bfill\").fillna(0))"
   ]
  },
  {
   "cell_type": "code",
   "execution_count": 21,
   "metadata": {},
   "outputs": [
    {
     "name": "stderr",
     "output_type": "stream",
     "text": [
      "/home/jguese/miniconda3/lib/python3.10/site-packages/numpy/core/fromnumeric.py:3432: RuntimeWarning: Mean of empty slice.\n",
      "  return _methods._mean(a, axis=axis, dtype=dtype,\n",
      "/home/jguese/miniconda3/lib/python3.10/site-packages/numpy/core/_methods.py:190: RuntimeWarning: invalid value encountered in double_scalars\n",
      "  ret = ret.dtype.type(ret / rcount)\n"
     ]
    },
    {
     "name": "stdout",
     "output_type": "stream",
     "text": [
      "the lightgbm with lookback 3 would have given you 6510.10$\n",
      "or +12.86% per year\n",
      "or 105.68$ per month\n"
     ]
    },
    {
     "data": {
      "text/plain": [
       "[<matplotlib.lines.Line2D at 0x7f86b3f6a230>]"
      ]
     },
     "execution_count": 21,
     "metadata": {},
     "output_type": "execute_result"
    },
    {
     "data": {
      "image/png": "[encoded data removed]",
      "text/plain": [
       "<Figure size 640x480 with 1 Axes>"
      ]
     },
     "metadata": {},
     "output_type": "display_data"
    }
   ],
   "source": [
    "## do the same dance as with xgb\n",
    "\n",
    "\n",
    "bestLookback = -1\n",
    "bestLookbackWin = -9999\n",
    "bestLookbackPortfolio = []\n",
    "for lookback in range(0, 10):\n",
    "    money = startMoney\n",
    "    nrStocks = 0\n",
    "    portfolio = []\n",
    "    for i in range(lookback, len(df)):\n",
    "        prednow = np.median(preds[i-lookback:i])\n",
    "        # prednow = preds[i]\n",
    "        if prednow == 1 and nrStocks == 0 and money > 10:\n",
    "            # buy\n",
    "            howmany = money / df.iloc[i][\"adj_close\"] * .99\n",
    "            cost = howmany * df.iloc[i][\"adj_close\"] * (1 + COMMISSION)\n",
    "            money -= cost\n",
    "            nrStocks += howmany\n",
    "        elif prednow == -1 and nrStocks > 0:\n",
    "            money += nrStocks * df.iloc[i][\"adj_close\"] * (1 - COMMISSION)\n",
    "            nrStocks = 0\n",
    "        portfolio.append(money + nrStocks * df.iloc[i][\"adj_close\"])\n",
    "    # last day sell\n",
    "    money += nrStocks * df.iloc[-1][\"adj_close\"] * (1 - COMMISSION)\n",
    "    win = money - startMoney\n",
    "    if win > bestLookbackWin:\n",
    "        bestLookback = lookback\n",
    "        bestLookbackWin = win\n",
    "        bestLookbackPortfolio = portfolio\n",
    "\n",
    "print(\"the lightgbm with lookback %d would have given you %.2f$\" % (bestLookback, bestLookbackWin))\n",
    "winPct = bestLookbackWin / startMoney * 100\n",
    "winPctYear = winPct / days * 365\n",
    "print(\"or +%.2f%% per year\" % winPctYear)\n",
    "winPerMonth = bestLookbackWin / days * 30\n",
    "print(\"or %.2f$ per month\" % winPerMonth)\n",
    "plt.plot(bestLookbackPortfolio)\n",
    "## tree\n",
    "# the decision tree with lookback 0 would have given you 19227.17$\n",
    "# or +37.98% per year\n",
    "# or 312.13$ per month\n",
    "## XGB - actually not too nice\n",
    "# the xgb with lookback 3 would have given you 3497.44$\n",
    "# or +6.91% per year\n",
    "# or 56.78$ per month\n",
    "## lightgbm \n",
    "# the lightgbm with lookback 3 would have given you 6510.10$\n",
    "# or +12.86% per year\n",
    "# or 105.68$ per month"
   ]
  },
  {
   "cell_type": "markdown",
   "metadata": {},
   "source": [
    "## linear SVC with pipeline"
   ]
  },
  {
   "cell_type": "code",
   "execution_count": 22,
   "metadata": {},
   "outputs": [
    {
     "name": "stdout",
     "output_type": "stream",
     "text": [
      "              precision    recall  f1-score   support\n",
      "\n",
      "         0.0       0.86      0.82      0.84        91\n",
      "         1.0       0.91      0.93      0.92       169\n",
      "\n",
      "    accuracy                           0.89       260\n",
      "   macro avg       0.88      0.88      0.88       260\n",
      "weighted avg       0.89      0.89      0.89       260\n",
      "\n",
      "[[ 75  16]\n",
      " [ 12 157]]\n"
     ]
    },
    {
     "name": "stderr",
     "output_type": "stream",
     "text": [
      "/home/jguese/miniconda3/lib/python3.10/site-packages/sklearn/svm/_base.py:1225: ConvergenceWarning: Liblinear failed to converge, increase the number of iterations.\n",
      "  warnings.warn(\n"
     ]
    }
   ],
   "source": [
    "from sklearn.svm import LinearSVC\n",
    "from sklearn.pipeline import make_pipeline\n",
    "from sklearn.preprocessing import StandardScaler\n",
    "clf = make_pipeline(StandardScaler(),LinearSVC())\n",
    "\n",
    "clf.fit(x_train, y_train)\n",
    "\n",
    "predicted_y = clf.predict(x_test)\n",
    "print(metrics.classification_report(y_test, predicted_y))\n",
    "print(metrics.confusion_matrix(y_test, predicted_y))"
   ]
  },
  {
   "cell_type": "code",
   "execution_count": 23,
   "metadata": {},
   "outputs": [
    {
     "name": "stderr",
     "output_type": "stream",
     "text": [
      "/home/jguese/miniconda3/lib/python3.10/site-packages/sklearn/svm/_base.py:1225: ConvergenceWarning: Liblinear failed to converge, increase the number of iterations.\n",
      "  warnings.warn(\n",
      "/home/jguese/miniconda3/lib/python3.10/site-packages/sklearn/svm/_base.py:1225: ConvergenceWarning: Liblinear failed to converge, increase the number of iterations.\n",
      "  warnings.warn(\n",
      "/home/jguese/miniconda3/lib/python3.10/site-packages/sklearn/svm/_base.py:1225: ConvergenceWarning: Liblinear failed to converge, increase the number of iterations.\n",
      "  warnings.warn(\n",
      "/home/jguese/miniconda3/lib/python3.10/site-packages/sklearn/svm/_base.py:1225: ConvergenceWarning: Liblinear failed to converge, increase the number of iterations.\n",
      "  warnings.warn(\n",
      "/home/jguese/miniconda3/lib/python3.10/site-packages/sklearn/svm/_base.py:1225: ConvergenceWarning: Liblinear failed to converge, increase the number of iterations.\n",
      "  warnings.warn(\n",
      "/home/jguese/miniconda3/lib/python3.10/site-packages/sklearn/svm/_base.py:1225: ConvergenceWarning: Liblinear failed to converge, increase the number of iterations.\n",
      "  warnings.warn(\n",
      "/home/jguese/miniconda3/lib/python3.10/site-packages/sklearn/svm/_base.py:1225: ConvergenceWarning: Liblinear failed to converge, increase the number of iterations.\n",
      "  warnings.warn(\n",
      "/home/jguese/miniconda3/lib/python3.10/site-packages/sklearn/svm/_base.py:1225: ConvergenceWarning: Liblinear failed to converge, increase the number of iterations.\n",
      "  warnings.warn(\n",
      "/home/jguese/miniconda3/lib/python3.10/site-packages/sklearn/svm/_base.py:1225: ConvergenceWarning: Liblinear failed to converge, increase the number of iterations.\n",
      "  warnings.warn(\n",
      "/home/jguese/miniconda3/lib/python3.10/site-packages/sklearn/svm/_base.py:1225: ConvergenceWarning: Liblinear failed to converge, increase the number of iterations.\n",
      "  warnings.warn(\n",
      "/home/jguese/miniconda3/lib/python3.10/site-packages/sklearn/svm/_base.py:1225: ConvergenceWarning: Liblinear failed to converge, increase the number of iterations.\n",
      "  warnings.warn(\n",
      "/home/jguese/miniconda3/lib/python3.10/site-packages/sklearn/svm/_base.py:1225: ConvergenceWarning: Liblinear failed to converge, increase the number of iterations.\n",
      "  warnings.warn(\n",
      "/home/jguese/miniconda3/lib/python3.10/site-packages/sklearn/svm/_base.py:1225: ConvergenceWarning: Liblinear failed to converge, increase the number of iterations.\n",
      "  warnings.warn(\n",
      "/home/jguese/miniconda3/lib/python3.10/site-packages/sklearn/svm/_base.py:1225: ConvergenceWarning: Liblinear failed to converge, increase the number of iterations.\n",
      "  warnings.warn(\n",
      "/home/jguese/miniconda3/lib/python3.10/site-packages/sklearn/svm/_base.py:1225: ConvergenceWarning: Liblinear failed to converge, increase the number of iterations.\n",
      "  warnings.warn(\n",
      "/home/jguese/miniconda3/lib/python3.10/site-packages/sklearn/svm/_base.py:1225: ConvergenceWarning: Liblinear failed to converge, increase the number of iterations.\n",
      "  warnings.warn(\n",
      "/home/jguese/miniconda3/lib/python3.10/site-packages/sklearn/svm/_base.py:1225: ConvergenceWarning: Liblinear failed to converge, increase the number of iterations.\n",
      "  warnings.warn(\n",
      "/home/jguese/miniconda3/lib/python3.10/site-packages/sklearn/svm/_base.py:1225: ConvergenceWarning: Liblinear failed to converge, increase the number of iterations.\n",
      "  warnings.warn(\n",
      "/home/jguese/miniconda3/lib/python3.10/site-packages/sklearn/svm/_base.py:1225: ConvergenceWarning: Liblinear failed to converge, increase the number of iterations.\n",
      "  warnings.warn(\n",
      "/home/jguese/miniconda3/lib/python3.10/site-packages/sklearn/svm/_base.py:1225: ConvergenceWarning: Liblinear failed to converge, increase the number of iterations.\n",
      "  warnings.warn(\n",
      "/home/jguese/miniconda3/lib/python3.10/site-packages/sklearn/svm/_base.py:1225: ConvergenceWarning: Liblinear failed to converge, increase the number of iterations.\n",
      "  warnings.warn(\n",
      "/home/jguese/miniconda3/lib/python3.10/site-packages/sklearn/svm/_base.py:1225: ConvergenceWarning: Liblinear failed to converge, increase the number of iterations.\n",
      "  warnings.warn(\n",
      "/home/jguese/miniconda3/lib/python3.10/site-packages/sklearn/svm/_base.py:1225: ConvergenceWarning: Liblinear failed to converge, increase the number of iterations.\n",
      "  warnings.warn(\n",
      "/home/jguese/miniconda3/lib/python3.10/site-packages/sklearn/svm/_base.py:1225: ConvergenceWarning: Liblinear failed to converge, increase the number of iterations.\n",
      "  warnings.warn(\n",
      "/home/jguese/miniconda3/lib/python3.10/site-packages/sklearn/svm/_base.py:1225: ConvergenceWarning: Liblinear failed to converge, increase the number of iterations.\n",
      "  warnings.warn(\n",
      "/home/jguese/miniconda3/lib/python3.10/site-packages/sklearn/svm/_base.py:1225: ConvergenceWarning: Liblinear failed to converge, increase the number of iterations.\n",
      "  warnings.warn(\n",
      "/home/jguese/miniconda3/lib/python3.10/site-packages/sklearn/svm/_base.py:1225: ConvergenceWarning: Liblinear failed to converge, increase the number of iterations.\n",
      "  warnings.warn(\n",
      "/home/jguese/miniconda3/lib/python3.10/site-packages/sklearn/svm/_base.py:1225: ConvergenceWarning: Liblinear failed to converge, increase the number of iterations.\n",
      "  warnings.warn(\n",
      "/home/jguese/miniconda3/lib/python3.10/site-packages/sklearn/svm/_base.py:1225: ConvergenceWarning: Liblinear failed to converge, increase the number of iterations.\n",
      "  warnings.warn(\n",
      "/home/jguese/miniconda3/lib/python3.10/site-packages/sklearn/svm/_base.py:1225: ConvergenceWarning: Liblinear failed to converge, increase the number of iterations.\n",
      "  warnings.warn(\n",
      "/home/jguese/miniconda3/lib/python3.10/site-packages/sklearn/svm/_base.py:1225: ConvergenceWarning: Liblinear failed to converge, increase the number of iterations.\n",
      "  warnings.warn(\n",
      "/home/jguese/miniconda3/lib/python3.10/site-packages/sklearn/svm/_base.py:1225: ConvergenceWarning: Liblinear failed to converge, increase the number of iterations.\n",
      "  warnings.warn(\n",
      "/home/jguese/miniconda3/lib/python3.10/site-packages/sklearn/svm/_base.py:1225: ConvergenceWarning: Liblinear failed to converge, increase the number of iterations.\n",
      "  warnings.warn(\n",
      "/home/jguese/miniconda3/lib/python3.10/site-packages/sklearn/svm/_base.py:1225: ConvergenceWarning: Liblinear failed to converge, increase the number of iterations.\n",
      "  warnings.warn(\n",
      "/home/jguese/miniconda3/lib/python3.10/site-packages/sklearn/svm/_base.py:1225: ConvergenceWarning: Liblinear failed to converge, increase the number of iterations.\n",
      "  warnings.warn(\n",
      "/home/jguese/miniconda3/lib/python3.10/site-packages/sklearn/svm/_base.py:1225: ConvergenceWarning: Liblinear failed to converge, increase the number of iterations.\n",
      "  warnings.warn(\n"
     ]
    },
    {
     "name": "stdout",
     "output_type": "stream",
     "text": [
      "{'SVC__C': 0.01}\n",
      "              precision    recall  f1-score   support\n",
      "\n",
      "         0.0       0.88      0.87      0.87        91\n",
      "         1.0       0.93      0.93      0.93       169\n",
      "\n",
      "    accuracy                           0.91       260\n",
      "   macro avg       0.90      0.90      0.90       260\n",
      "weighted avg       0.91      0.91      0.91       260\n",
      "\n",
      "[[ 79  12]\n",
      " [ 11 158]]\n"
     ]
    }
   ],
   "source": [
    "## hyperparameter tuning\n",
    "from sklearn.model_selection import GridSearchCV\n",
    "from sklearn.pipeline import Pipeline\n",
    "\n",
    "param_grid = {'SVC__C':np.arange(0.01,100,10)}\n",
    "\n",
    "SVCpipe = Pipeline([('scale', StandardScaler()),\n",
    "                ('SVC',LinearSVC())])\n",
    "linearSVC = GridSearchCV(SVCpipe,param_grid,cv=4,return_train_score=True,n_jobs = -1)\n",
    "linearSVC.fit(x_train,y_train)\n",
    "print(linearSVC.best_params_)\n",
    "bestlinearSVC = linearSVC.best_estimator_\n",
    "\n",
    "predicted_y = bestlinearSVC.predict(x_test)\n",
    "print(metrics.classification_report(y_test, predicted_y))\n",
    "print(metrics.confusion_matrix(y_test, predicted_y))"
   ]
  },
  {
   "cell_type": "markdown",
   "metadata": {},
   "source": [
    "# now something interesting, what if we use the same for another stock :o?"
   ]
  },
  {
   "cell_type": "code",
   "execution_count": 24,
   "metadata": {},
   "outputs": [
    {
     "data": {
      "text/html": [
       "<style>#sk-container-id-1 {color: black;background-color: white;}#sk-container-id-1 pre{padding: 0;}#sk-container-id-1 div.sk-toggleable {background-color: white;}#sk-container-id-1 label.sk-toggleable__label {cursor: pointer;display: block;width: 100%;margin-bottom: 0;padding: 0.3em;box-sizing: border-box;text-align: center;}#sk-container-id-1 label.sk-toggleable__label-arrow:before {content: \"▸\";float: left;margin-right: 0.25em;color: #696969;}#sk-container-id-1 label.sk-toggleable__label-arrow:hover:before {color: black;}#sk-container-id-1 div.sk-estimator:hover label.sk-toggleable__label-arrow:before {color: black;}#sk-container-id-1 div.sk-toggleable__content {max-height: 0;max-width: 0;overflow: hidden;text-align: left;background-color: #f0f8ff;}#sk-container-id-1 div.sk-toggleable__content pre {margin: 0.2em;color: black;border-radius: 0.25em;background-color: #f0f8ff;}#sk-container-id-1 input.sk-toggleable__control:checked~div.sk-toggleable__content {max-height: 200px;max-width: 100%;overflow: auto;}#sk-container-id-1 input.sk-toggleable__control:checked~label.sk-toggleable__label-arrow:before {content: \"▾\";}#sk-container-id-1 div.sk-estimator input.sk-toggleable__control:checked~label.sk-toggleable__label {background-color: #d4ebff;}#sk-container-id-1 div.sk-label input.sk-toggleable__control:checked~label.sk-toggleable__label {background-color: #d4ebff;}#sk-container-id-1 input.sk-hidden--visually {border: 0;clip: rect(1px 1px 1px 1px);clip: rect(1px, 1px, 1px, 1px);height: 1px;margin: -1px;overflow: hidden;padding: 0;position: absolute;width: 1px;}#sk-container-id-1 div.sk-estimator {font-family: monospace;background-color: #f0f8ff;border: 1px dotted black;border-radius: 0.25em;box-sizing: border-box;margin-bottom: 0.5em;}#sk-container-id-1 div.sk-estimator:hover {background-color: #d4ebff;}#sk-container-id-1 div.sk-parallel-item::after {content: \"\";width: 100%;border-bottom: 1px solid gray;flex-grow: 1;}#sk-container-id-1 div.sk-label:hover label.sk-toggleable__label {background-color: #d4ebff;}#sk-container-id-1 div.sk-serial::before {content: \"\";position: absolute;border-left: 1px solid gray;box-sizing: border-box;top: 0;bottom: 0;left: 50%;z-index: 0;}#sk-container-id-1 div.sk-serial {display: flex;flex-direction: column;align-items: center;background-color: white;padding-right: 0.2em;padding-left: 0.2em;position: relative;}#sk-container-id-1 div.sk-item {position: relative;z-index: 1;}#sk-container-id-1 div.sk-parallel {display: flex;align-items: stretch;justify-content: center;background-color: white;position: relative;}#sk-container-id-1 div.sk-item::before, #sk-container-id-1 div.sk-parallel-item::before {content: \"\";position: absolute;border-left: 1px solid gray;box-sizing: border-box;top: 0;bottom: 0;left: 50%;z-index: -1;}#sk-container-id-1 div.sk-parallel-item {display: flex;flex-direction: column;z-index: 1;position: relative;background-color: white;}#sk-container-id-1 div.sk-parallel-item:first-child::after {align-self: flex-end;width: 50%;}#sk-container-id-1 div.sk-parallel-item:last-child::after {align-self: flex-start;width: 50%;}#sk-container-id-1 div.sk-parallel-item:only-child::after {width: 0;}#sk-container-id-1 div.sk-dashed-wrapped {border: 1px dashed gray;margin: 0 0.4em 0.5em 0.4em;box-sizing: border-box;padding-bottom: 0.4em;background-color: white;}#sk-container-id-1 div.sk-label label {font-family: monospace;font-weight: bold;display: inline-block;line-height: 1.2em;}#sk-container-id-1 div.sk-label-container {text-align: center;}#sk-container-id-1 div.sk-container {/* jupyter's `normalize.less` sets `[hidden] { display: none; }` but bootstrap.min.css set `[hidden] { display: none !important; }` so we also need the `!important` here to be able to override the default hidden behavior on the sphinx rendered scikit-learn.org. See: https://github.com/scikit-learn/scikit-learn/issues/21755 */display: inline-block !important;position: relative;}#sk-container-id-1 div.sk-text-repr-fallback {display: none;}</style><div id=\"sk-container-id-1\" class=\"sk-top-container\"><div class=\"sk-text-repr-fallback\"><pre>DecisionTreeClassifier()</pre><b>In a Jupyter environment, please rerun this cell to show the HTML representation or trust the notebook. <br />On GitHub, the HTML representation is unable to render, please try loading this page with nbviewer.org.</b></div><div class=\"sk-container\" hidden><div class=\"sk-item\"><div class=\"sk-estimator sk-toggleable\"><input class=\"sk-toggleable__control sk-hidden--visually\" id=\"sk-estimator-id-1\" type=\"checkbox\" checked><label for=\"sk-estimator-id-1\" class=\"sk-toggleable__label sk-toggleable__label-arrow\">DecisionTreeClassifier</label><div class=\"sk-toggleable__content\"><pre>DecisionTreeClassifier()</pre></div></div></div></div></div>"
      ],
      "text/plain": [
       "DecisionTreeClassifier()"
      ]
     },
     "execution_count": 24,
     "metadata": {},
     "output_type": "execute_result"
    }
   ],
   "source": [
    "clf = tree.DecisionTreeClassifier()\n",
    "clf.fit(x_train, y_train)"
   ]
  },
  {
   "cell_type": "code",
   "execution_count": 25,
   "metadata": {},
   "outputs": [
    {
     "name": "stdout",
     "output_type": "stream",
     "text": [
      "              precision    recall  f1-score   support\n",
      "\n",
      "        -1.0       0.00      0.00      0.00       454\n",
      "         0.0       0.00      0.00      0.00         0\n",
      "         1.0       0.82      0.82      0.82       822\n",
      "\n",
      "    accuracy                           0.53      1276\n",
      "   macro avg       0.27      0.27      0.27      1276\n",
      "weighted avg       0.53      0.53      0.53      1276\n",
      "\n",
      "[[  0 307 147]\n",
      " [  0   0   0]\n",
      " [  0 148 674]]\n"
     ]
    },
    {
     "name": "stderr",
     "output_type": "stream",
     "text": [
      "/home/jguese/miniconda3/lib/python3.10/site-packages/sklearn/metrics/_classification.py:1334: UndefinedMetricWarning: Precision and F-score are ill-defined and being set to 0.0 in labels with no predicted samples. Use `zero_division` parameter to control this behavior.\n",
      "  _warn_prf(average, modifier, msg_start, len(result))\n",
      "/home/jguese/miniconda3/lib/python3.10/site-packages/sklearn/metrics/_classification.py:1334: UndefinedMetricWarning: Recall and F-score are ill-defined and being set to 0.0 in labels with no true samples. Use `zero_division` parameter to control this behavior.\n",
      "  _warn_prf(average, modifier, msg_start, len(result))\n",
      "/home/jguese/miniconda3/lib/python3.10/site-packages/sklearn/metrics/_classification.py:1334: UndefinedMetricWarning: Precision and F-score are ill-defined and being set to 0.0 in labels with no predicted samples. Use `zero_division` parameter to control this behavior.\n",
      "  _warn_prf(average, modifier, msg_start, len(result))\n",
      "/home/jguese/miniconda3/lib/python3.10/site-packages/sklearn/metrics/_classification.py:1334: UndefinedMetricWarning: Recall and F-score are ill-defined and being set to 0.0 in labels with no true samples. Use `zero_division` parameter to control this behavior.\n",
      "  _warn_prf(average, modifier, msg_start, len(result))\n",
      "/home/jguese/miniconda3/lib/python3.10/site-packages/sklearn/metrics/_classification.py:1334: UndefinedMetricWarning: Precision and F-score are ill-defined and being set to 0.0 in labels with no predicted samples. Use `zero_division` parameter to control this behavior.\n",
      "  _warn_prf(average, modifier, msg_start, len(result))\n",
      "/home/jguese/miniconda3/lib/python3.10/site-packages/sklearn/metrics/_classification.py:1334: UndefinedMetricWarning: Recall and F-score are ill-defined and being set to 0.0 in labels with no true samples. Use `zero_division` parameter to control this behavior.\n",
      "  _warn_prf(average, modifier, msg_start, len(result))\n"
     ]
    }
   ],
   "source": [
    "df = bot.getData(ticker = \"AAPL\", start_date = datetime(2010,1,1), technical_indicators=[\"all\"])\n",
    "df = bot.getTrend(df)\n",
    "\n",
    "preds = clf.predict(df.drop([\"signal\", \"ticker\"], axis = 1).fillna(method=\"bfill\").fillna(0))\n",
    "print(metrics.classification_report(df[\"signal\"], preds))\n",
    "print(metrics.confusion_matrix(df[\"signal\"], preds))"
   ]
  },
  {
   "cell_type": "markdown",
   "metadata": {},
   "source": [
    "if we use it for another stock performance is not too good!\n",
    "but well that shouldn't surprise us.\n",
    "\n",
    "next try to train on a ton of different data and see if we can create a generalized predictor"
   ]
  },
  {
   "cell_type": "code",
   "execution_count": 26,
   "metadata": {},
   "outputs": [
    {
     "name": "stdout",
     "output_type": "stream",
     "text": [
      "geddin stock: CWEG.L\n",
      "geddin stock: IWDA.AS\n",
      "geddin stock: EEM\n",
      "geddin stock: AAPL\n",
      "geddin stock: MSFT\n",
      "geddin stock: GOOG\n",
      "geddin stock: TSLA\n",
      "geddin stock: AMD\n",
      "geddin stock: AMZN\n",
      "geddin stock: DG\n",
      "geddin stock: ETH-USD\n"
     ]
    },
    {
     "data": {
      "text/html": [
       "<div>\n",
       "<style scoped>\n",
       "    .dataframe tbody tr th:only-of-type {\n",
       "        vertical-align: middle;\n",
       "    }\n",
       "\n",
       "    .dataframe tbody tr th {\n",
       "        vertical-align: top;\n",
       "    }\n",
       "\n",
       "    .dataframe thead th {\n",
       "        text-align: right;\n",
       "    }\n",
       "</style>\n",
       "<table border=\"1\" class=\"dataframe\">\n",
       "  <thead>\n",
       "    <tr style=\"text-align: right;\">\n",
       "      <th></th>\n",
       "      <th>ticker</th>\n",
       "      <th>open</th>\n",
       "      <th>high</th>\n",
       "      <th>low</th>\n",
       "      <th>close</th>\n",
       "      <th>volume</th>\n",
       "      <th>adj_close</th>\n",
       "      <th>volume_adi</th>\n",
       "      <th>volume_obv</th>\n",
       "      <th>volume_cmf</th>\n",
       "      <th>...</th>\n",
       "      <th>momentum_kama</th>\n",
       "      <th>others_dr</th>\n",
       "      <th>others_dlr</th>\n",
       "      <th>others_cr</th>\n",
       "      <th>SMA_3</th>\n",
       "      <th>SMA_10</th>\n",
       "      <th>SMA_50</th>\n",
       "      <th>SMA_100</th>\n",
       "      <th>SMA_200</th>\n",
       "      <th>signal</th>\n",
       "    </tr>\n",
       "    <tr>\n",
       "      <th>timestamp</th>\n",
       "      <th></th>\n",
       "      <th></th>\n",
       "      <th></th>\n",
       "      <th></th>\n",
       "      <th></th>\n",
       "      <th></th>\n",
       "      <th></th>\n",
       "      <th></th>\n",
       "      <th></th>\n",
       "      <th></th>\n",
       "      <th></th>\n",
       "      <th></th>\n",
       "      <th></th>\n",
       "      <th></th>\n",
       "      <th></th>\n",
       "      <th></th>\n",
       "      <th></th>\n",
       "      <th></th>\n",
       "      <th></th>\n",
       "      <th></th>\n",
       "      <th></th>\n",
       "    </tr>\n",
       "  </thead>\n",
       "  <tbody>\n",
       "    <tr>\n",
       "      <th>2018-03-09</th>\n",
       "      <td>CWEG.L</td>\n",
       "      <td>22440.0</td>\n",
       "      <td>22440.0</td>\n",
       "      <td>22430.0</td>\n",
       "      <td>22470.0</td>\n",
       "      <td>1400</td>\n",
       "      <td>22470.0</td>\n",
       "      <td>9800.0</td>\n",
       "      <td>1400.0</td>\n",
       "      <td>7.000000</td>\n",
       "      <td>...</td>\n",
       "      <td>22470.000000</td>\n",
       "      <td>-4.433549</td>\n",
       "      <td>-0.591421</td>\n",
       "      <td>-0.589675</td>\n",
       "      <td>22313.333333</td>\n",
       "      <td>25491.75</td>\n",
       "      <td>21117.01</td>\n",
       "      <td>0</td>\n",
       "      <td>0.0</td>\n",
       "      <td>1.0</td>\n",
       "    </tr>\n",
       "    <tr>\n",
       "      <th>2018-03-21</th>\n",
       "      <td>CWEG.L</td>\n",
       "      <td>21870.0</td>\n",
       "      <td>21870.0</td>\n",
       "      <td>21870.0</td>\n",
       "      <td>22337.5</td>\n",
       "      <td>1400</td>\n",
       "      <td>22337.5</td>\n",
       "      <td>9800.0</td>\n",
       "      <td>-34.0</td>\n",
       "      <td>3.500000</td>\n",
       "      <td>...</td>\n",
       "      <td>22409.540207</td>\n",
       "      <td>-0.589675</td>\n",
       "      <td>-0.591421</td>\n",
       "      <td>-0.589675</td>\n",
       "      <td>23607.500000</td>\n",
       "      <td>25041.25</td>\n",
       "      <td>21117.01</td>\n",
       "      <td>0</td>\n",
       "      <td>0.0</td>\n",
       "      <td>1.0</td>\n",
       "    </tr>\n",
       "    <tr>\n",
       "      <th>2018-03-27</th>\n",
       "      <td>CWEG.L</td>\n",
       "      <td>22090.0</td>\n",
       "      <td>22090.0</td>\n",
       "      <td>22090.0</td>\n",
       "      <td>22132.5</td>\n",
       "      <td>34</td>\n",
       "      <td>22132.5</td>\n",
       "      <td>9800.0</td>\n",
       "      <td>-34.0</td>\n",
       "      <td>3.458010</td>\n",
       "      <td>...</td>\n",
       "      <td>22281.687834</td>\n",
       "      <td>-0.917739</td>\n",
       "      <td>-0.921976</td>\n",
       "      <td>-1.502003</td>\n",
       "      <td>22313.333333</td>\n",
       "      <td>25491.75</td>\n",
       "      <td>21117.01</td>\n",
       "      <td>0</td>\n",
       "      <td>0.0</td>\n",
       "      <td>1.0</td>\n",
       "    </tr>\n",
       "    <tr>\n",
       "      <th>2018-05-15</th>\n",
       "      <td>CWEG.L</td>\n",
       "      <td>26400.0</td>\n",
       "      <td>26400.0</td>\n",
       "      <td>26400.0</td>\n",
       "      <td>26352.5</td>\n",
       "      <td>619</td>\n",
       "      <td>26352.5</td>\n",
       "      <td>9800.0</td>\n",
       "      <td>585.0</td>\n",
       "      <td>2.838112</td>\n",
       "      <td>...</td>\n",
       "      <td>22828.240240</td>\n",
       "      <td>19.066983</td>\n",
       "      <td>17.451603</td>\n",
       "      <td>17.278594</td>\n",
       "      <td>23607.500000</td>\n",
       "      <td>25041.25</td>\n",
       "      <td>21117.01</td>\n",
       "      <td>0</td>\n",
       "      <td>0.0</td>\n",
       "      <td>1.0</td>\n",
       "    </tr>\n",
       "    <tr>\n",
       "      <th>2018-05-29</th>\n",
       "      <td>CWEG.L</td>\n",
       "      <td>25345.0</td>\n",
       "      <td>25345.0</td>\n",
       "      <td>25345.0</td>\n",
       "      <td>25532.5</td>\n",
       "      <td>619</td>\n",
       "      <td>25532.5</td>\n",
       "      <td>9800.0</td>\n",
       "      <td>-34.0</td>\n",
       "      <td>2.406680</td>\n",
       "      <td>...</td>\n",
       "      <td>23200.201165</td>\n",
       "      <td>-3.111659</td>\n",
       "      <td>-3.161100</td>\n",
       "      <td>13.629283</td>\n",
       "      <td>24672.500000</td>\n",
       "      <td>25491.75</td>\n",
       "      <td>21117.01</td>\n",
       "      <td>0</td>\n",
       "      <td>0.0</td>\n",
       "      <td>1.0</td>\n",
       "    </tr>\n",
       "  </tbody>\n",
       "</table>\n",
       "<p>5 rows × 99 columns</p>\n",
       "</div>"
      ],
      "text/plain": [
       "            ticker     open     high      low    close  volume  adj_close  \\\n",
       "timestamp                                                                   \n",
       "2018-03-09  CWEG.L  22440.0  22440.0  22430.0  22470.0    1400    22470.0   \n",
       "2018-03-21  CWEG.L  21870.0  21870.0  21870.0  22337.5    1400    22337.5   \n",
       "2018-03-27  CWEG.L  22090.0  22090.0  22090.0  22132.5      34    22132.5   \n",
       "2018-05-15  CWEG.L  26400.0  26400.0  26400.0  26352.5     619    26352.5   \n",
       "2018-05-29  CWEG.L  25345.0  25345.0  25345.0  25532.5     619    25532.5   \n",
       "\n",
       "            volume_adi  volume_obv  volume_cmf  ...  momentum_kama  others_dr  \\\n",
       "timestamp                                       ...                             \n",
       "2018-03-09      9800.0      1400.0    7.000000  ...   22470.000000  -4.433549   \n",
       "2018-03-21      9800.0       -34.0    3.500000  ...   22409.540207  -0.589675   \n",
       "2018-03-27      9800.0       -34.0    3.458010  ...   22281.687834  -0.917739   \n",
       "2018-05-15      9800.0       585.0    2.838112  ...   22828.240240  19.066983   \n",
       "2018-05-29      9800.0       -34.0    2.406680  ...   23200.201165  -3.111659   \n",
       "\n",
       "            others_dlr  others_cr         SMA_3    SMA_10    SMA_50  SMA_100  \\\n",
       "timestamp                                                                      \n",
       "2018-03-09   -0.591421  -0.589675  22313.333333  25491.75  21117.01        0   \n",
       "2018-03-21   -0.591421  -0.589675  23607.500000  25041.25  21117.01        0   \n",
       "2018-03-27   -0.921976  -1.502003  22313.333333  25491.75  21117.01        0   \n",
       "2018-05-15   17.451603  17.278594  23607.500000  25041.25  21117.01        0   \n",
       "2018-05-29   -3.161100  13.629283  24672.500000  25491.75  21117.01        0   \n",
       "\n",
       "            SMA_200  signal  \n",
       "timestamp                    \n",
       "2018-03-09      0.0     1.0  \n",
       "2018-03-21      0.0     1.0  \n",
       "2018-03-27      0.0     1.0  \n",
       "2018-05-15      0.0     1.0  \n",
       "2018-05-29      0.0     1.0  \n",
       "\n",
       "[5 rows x 99 columns]"
      ]
     },
     "execution_count": 26,
     "metadata": {},
     "output_type": "execute_result"
    }
   ],
   "source": [
    "bigDf = []\n",
    "for ticker in [\"CWEG.L\", \"IWDA.AS\", \"EEM\", \"AAPL\", \"MSFT\", \"GOOG\", \"TSLA\", 'AMD', 'AMZN', 'DG', \"ETH-USD\"]:\n",
    "    print(\"geddin stock: \" + ticker)\n",
    "    df = bot.getData(ticker = ticker, start_date = datetime(2010,1,1), technical_indicators=[\"all\"])\n",
    "    df = bot.getTrend(df)\n",
    "    bigDf.append(df)\n",
    "    \n",
    "bigDf = pd.concat(bigDf)\n",
    "bigDf.head()"
   ]
  },
  {
   "cell_type": "code",
   "execution_count": 27,
   "metadata": {},
   "outputs": [
    {
     "name": "stdout",
     "output_type": "stream",
     "text": [
      "decision tree scores:  0.8888888888888888\n"
     ]
    }
   ],
   "source": [
    "x_train, x_test, y_train, y_test = train_test_split(  df.drop([\"signal\", \"ticker\"], axis = 1).fillna(method=\"bfill\").fillna(0), df[\"signal\"], test_size=0.1, shuffle=True)\n",
    "clf = tree.DecisionTreeClassifier()\n",
    "clf.fit(x_train, y_train)\n",
    "scr = clf.score(x_test, y_test)\n",
    "print(\"decision tree scores: \", scr)\n",
    "pred = clf.predict(df.drop([\"signal\", \"ticker\"], axis = 1).fillna(method=\"bfill\").fillna(0))"
   ]
  },
  {
   "cell_type": "code",
   "execution_count": 28,
   "metadata": {},
   "outputs": [],
   "source": [
    "dot_data = tree.export_graphviz(clf, out_file=None,\n",
    "                        feature_names=x_train.columns,  \n",
    "                        class_names=[\"sell\", \"buy\"],\n",
    "                        filled=True, rounded=True,\n",
    "                        special_characters=True) \n",
    "graph = graphviz.Source(dot_data) \n",
    "# graph"
   ]
  },
  {
   "cell_type": "code",
   "execution_count": 29,
   "metadata": {},
   "outputs": [
    {
     "name": "stderr",
     "output_type": "stream",
     "text": [
      "/home/jguese/miniconda3/lib/python3.10/site-packages/numpy/core/fromnumeric.py:3432: RuntimeWarning: Mean of empty slice.\n",
      "  return _methods._mean(a, axis=axis, dtype=dtype,\n",
      "/home/jguese/miniconda3/lib/python3.10/site-packages/numpy/core/_methods.py:190: RuntimeWarning: invalid value encountered in double_scalars\n",
      "  ret = ret.dtype.type(ret / rcount)\n"
     ]
    },
    {
     "name": "stdout",
     "output_type": "stream",
     "text": [
      "the lightgbm with lookback 2 would have given you 33888.89$\n",
      "or +69.10% per year\n",
      "or 567.97$ per month\n"
     ]
    }
   ],
   "source": [
    "## simulate\n",
    "\n",
    "\n",
    "bestLookback = -1\n",
    "bestLookbackWin = -9999\n",
    "bestLookbackPortfolio = dict()\n",
    "for lookback in range(0, 10):\n",
    "    money = startMoney\n",
    "    nrStocks = 0\n",
    "    portfolio = dict()\n",
    "    for i in range(lookback, len(df)):\n",
    "        prednow = np.median(preds[i-lookback:i])\n",
    "        # if we switched stock sell the old and continue with new\n",
    "        if df.iloc[i][\"ticker\"] != df.iloc[i-1][\"ticker\"]:\n",
    "            money += nrStocks * df.iloc[i-1][\"adj_close\"] * (1 - COMMISSION)\n",
    "            nrStocks = 0\n",
    "            portfolio[df.iloc[i][\"ticker\"]] = []\n",
    "        # prednow = preds[i]\n",
    "        if prednow == 1 and nrStocks == 0 and money > 10:\n",
    "            # buy\n",
    "            howmany = money / df.iloc[i][\"adj_close\"] * .99\n",
    "            cost = howmany * df.iloc[i][\"adj_close\"] * (1 + COMMISSION)\n",
    "            money -= cost\n",
    "            nrStocks += howmany\n",
    "        elif prednow == -1 and nrStocks > 0:\n",
    "            money += nrStocks * df.iloc[i][\"adj_close\"] * (1 - COMMISSION)\n",
    "            nrStocks = 0\n",
    "        try:\n",
    "            portfolio[df.iloc[i][\"ticker\"]] = portfolio[df.iloc[i][\"ticker\"]].append(money + nrStocks * df.iloc[i][\"adj_close\"])\n",
    "        except:\n",
    "            # idk\n",
    "            pass\n",
    "    # last day sell\n",
    "    money += nrStocks * df.iloc[-1][\"adj_close\"] * (1 - COMMISSION)\n",
    "    win = money - startMoney\n",
    "    if win > bestLookbackWin:\n",
    "        bestLookback = lookback\n",
    "        bestLookbackWin = win\n",
    "        bestLookbackPortfolio = portfolio\n",
    "\n",
    "print(\"the lightgbm with lookback %d would have given you %.2f$\" % (bestLookback, bestLookbackWin))\n",
    "winPct = bestLookbackWin / startMoney * 100\n",
    "days = (df.index[-1] - df.index[0]).days\n",
    "winPctYear = winPct / days * 365\n",
    "print(\"or +%.2f%% per year\" % winPctYear)\n",
    "winPerMonth = bestLookbackWin / days * 30\n",
    "print(\"or %.2f$ per month\" % winPerMonth)\n",
    "for ticker,portfolio in bestLookbackPortfolio:\n",
    "    plt.title(ticker)\n",
    "    plt.plot(bestLookbackPortfolio)\n",
    "    plt.show()\n",
    "## tree\n",
    "# the decision tree with lookback 0 would have given you 19227.17$\n",
    "# or +37.98% per year\n",
    "# or 312.13$ per month\n",
    "## XGB - actually not too nice\n",
    "# the xgb with lookback 3 would have given you 3497.44$\n",
    "# or +6.91% per year\n",
    "# or 56.78$ per month\n",
    "## lightgbm \n",
    "# the lightgbm with lookback 3 would have given you 6510.10$\n",
    "# or +12.86% per year\n",
    "# or 105.68$ per month"
   ]
  },
  {
   "cell_type": "markdown",
   "metadata": {},
   "source": [
    "## next try to \"dumb\" down decision tree until we find a good mix between reducing accuracy and complexity\n",
    "\n"
   ]
  },
  {
   "cell_type": "code",
   "execution_count": 30,
   "metadata": {},
   "outputs": [],
   "source": [
    "## limit to one stock?\n",
    "df = bot.getData(ticker = \"IWDA.AS\", start_date = datetime(2010,1,1), technical_indicators=[\"all\"])\n",
    "df = bot.getTrend(df)"
   ]
  },
  {
   "cell_type": "code",
   "execution_count": 36,
   "metadata": {},
   "outputs": [],
   "source": [
    "# for this use the whole data\n",
    "X, Y = df.drop([\"signal\", \"ticker\"], axis = 1).fillna(method=\"bfill\").fillna(0), df[\"signal\"]\n"
   ]
  },
  {
   "cell_type": "code",
   "execution_count": 52,
   "metadata": {},
   "outputs": [],
   "source": [
    "from sklearn.tree import _tree\n",
    "\n",
    "def tree_to_code(tree, feature_names):\n",
    "    tree_ = tree.tree_\n",
    "    feature_name = [\n",
    "        feature_names[i] if i != _tree.TREE_UNDEFINED else \"undefined!\"\n",
    "        for i in tree_.feature\n",
    "    ]\n",
    "    feature_names = [f.replace(\" \", \"_\")[:-5] for f in feature_names]\n",
    "    print(\"def getDecision(dfrow):\")\n",
    "\n",
    "    def recurse(node, depth):\n",
    "        indent = \"    \" * depth\n",
    "        if tree_.feature[node] != _tree.TREE_UNDEFINED:\n",
    "            name = feature_name[node]\n",
    "            threshold = tree_.threshold[node]\n",
    "            print(\"{}if dfrow['{}'] <= {}:\".format(indent, name, np.round(threshold,2)))\n",
    "            recurse(tree_.children_left[node], depth + 1)\n",
    "            print(\"{}else:  # if dfrow['{}'] > {}\".format(indent, name, np.round(threshold,2)))\n",
    "            recurse(tree_.children_right[node], depth + 1)\n",
    "        else:\n",
    "            print(\"{}return {}\".format(indent, np.argmax(tree_.value[node][0])))\n",
    "\n",
    "    recurse(0, 1)\n",
    "# tree_to_code(clf, x_train.columns)"
   ]
  },
  {
   "cell_type": "code",
   "execution_count": 38,
   "metadata": {},
   "outputs": [],
   "source": [
    "def getDecision(dfrow):\n",
    "    if dfrow['momentum_rsi'] <= 49.91:\n",
    "        if dfrow['trend_aroon_ind'] <= -22.0:\n",
    "            return 0\n",
    "        else:  # if dfrow['trend_aroon_ind'] > -22.0\n",
    "            if dfrow['trend_kst_diff'] <= 5.96:\n",
    "                if dfrow['volatility_bbw'] <= 11.39:\n",
    "                    return 0\n",
    "                else:  # if dfrow['volatility_bbw'] > 11.39\n",
    "                    return 1\n",
    "            else:  # if dfrow['trend_kst_diff'] > 5.96\n",
    "                return 1\n",
    "    else:  # if dfrow['momentum_rsi'] > 49.91\n",
    "        if dfrow['trend_aroon_ind'] <= -34.0:\n",
    "            if dfrow['trend_aroon_up'] <= 10.0:\n",
    "                return 1\n",
    "            else:  # if dfrow['trend_aroon_up'] > 10.0\n",
    "                return 0\n",
    "        else:  # if dfrow['trend_aroon_ind'] > -34.0\n",
    "            if dfrow['trend_adx_pos'] <= 19.34:\n",
    "                return 0\n",
    "            else:  # if dfrow['trend_adx_pos'] > 19.34\n",
    "                return 1"
   ]
  },
  {
   "cell_type": "code",
   "execution_count": 63,
   "metadata": {},
   "outputs": [
    {
     "name": "stdout",
     "output_type": "stream",
     "text": [
      "score is:  1.0\n",
      "the un-tuned getDecision decision tree with lookback 3 would have given you 24914.74$\n",
      "or +49.21% per year\n",
      "or 404.46$ per month\n"
     ]
    }
   ],
   "source": [
    "def oneRun(model, lookbackarray = [1]):\n",
    "    preds = model.predict(X)\n",
    "    # print(\"the predictions are: \", np.unique(preds, return_counts=True))\n",
    "    bestLookback = -1\n",
    "    bestLookbackWin = -9999\n",
    "    bestLookbackPortfolio = []\n",
    "    for lookback in lookbackarray: # range(0, 5):\n",
    "        money = startMoney\n",
    "        nrStocks = 0\n",
    "        portfolio = []\n",
    "        for i in range(lookback, len(df)):\n",
    "            # prednow = np.median(preds[i-lookback:i])\n",
    "            prednow = preds[i]\n",
    "            # \"translate\" 0 to -1 like we did it before\n",
    "            if prednow == 0:\n",
    "                prednow = -1\n",
    "            # print(\"prednow is, \" , prednow)\n",
    "            # prednow = preds[i]\n",
    "            if prednow == 1 and nrStocks == 0 and money > 10:\n",
    "                # buy\n",
    "                howmany = money / df.iloc[i][\"adj_close\"] * .99\n",
    "                cost = howmany * df.iloc[i][\"adj_close\"] * (1 + COMMISSION)\n",
    "                money -= cost\n",
    "                nrStocks += howmany\n",
    "            elif prednow == -1 and nrStocks > 0:\n",
    "                money += nrStocks * df.iloc[i][\"adj_close\"] * (1 - COMMISSION)\n",
    "                nrStocks = 0\n",
    "            portfolio.append(money + nrStocks * df.iloc[i][\"adj_close\"])\n",
    "        # last day sell\n",
    "        money += nrStocks * df.iloc[-1][\"adj_close\"] * (1 - COMMISSION)\n",
    "        win = money - startMoney\n",
    "        if win > bestLookbackWin:\n",
    "            bestLookback = lookback\n",
    "            bestLookbackWin = win\n",
    "            bestLookbackPortfolio = portfolio\n",
    "    return bestLookbackWin, bestLookback, bestLookbackPortfolio\n",
    "## try it with a \"blank\" model\n",
    "clf = tree.DecisionTreeClassifier()\n",
    "clf.fit(X, Y)\n",
    "scr = clf.score(X, Y)\n",
    "print(\"score is: \", scr)\n",
    "bestLookbackWin, bestLookback, bestLookbackPortfolio = oneRun(clf, lookbackarray = [1,3,5,10])\n",
    "print(\"the un-tuned getDecision decision tree with lookback %d would have given you %.2f$\" % (bestLookback, bestLookbackWin))\n",
    "days = (df.index[-1] - df.index[0]).days\n",
    "winPct = bestLookbackWin / startMoney * 100\n",
    "winPctYear = winPct / days * 365\n",
    "print(\"or +%.2f%% per year\" % winPctYear)\n",
    "winPerMonth = bestLookbackWin / days * 30\n",
    "print(\"or %.2f$ per month\" % winPerMonth)\n",
    "# plt.plot(bestLookbackPortfolio)\n",
    "\n",
    "# just holding would have given you 6582.50$\n",
    "# or 106.86$ per month"
   ]
  },
  {
   "cell_type": "markdown",
   "metadata": {},
   "source": [
    "### reduce depth"
   ]
  },
  {
   "cell_type": "code",
   "execution_count": 78,
   "metadata": {},
   "outputs": [
    {
     "name": "stderr",
     "output_type": "stream",
     "text": [
      "100%|██████████| 6/6 [00:05<00:00,  1.02it/s]"
     ]
    },
    {
     "name": "stdout",
     "output_type": "stream",
     "text": [
      "the best depth is 5, best leave 20, best lookback 1. with a win of 11621.03$\n"
     ]
    },
    {
     "name": "stderr",
     "output_type": "stream",
     "text": [
      "\n"
     ]
    }
   ],
   "source": [
    "from tqdm import tqdm\n",
    "justHoldingWin = 6582\n",
    "\n",
    "bestDepth = -1\n",
    "bestLeafes = -1\n",
    "bestLookback = -1\n",
    "bestDepthWin = -9999\n",
    "collection = []\n",
    "# explicitly force a max of 20 to prevent overfitting\n",
    "for depth in tqdm([20,15,10,7,5,3]):\n",
    "    for leafes in [20,15,10,7,5,3]:\n",
    "        clf = tree.DecisionTreeClassifier(max_depth=depth, max_leaf_nodes = leafes)\n",
    "        clf.fit(X, Y)\n",
    "        # scr = clf.score(X, Y)\n",
    "        # print(\"score is: \", scr)\n",
    "        bestLookbackWin, lookback, bestLookbackPortfolio = oneRun(clf)\n",
    "        collection.append([depth,leafes,lookback,bestLookbackWin])\n",
    "        if bestLookbackWin >= bestDepthWin: # equal to prefer smaller trees\n",
    "            bestDepthWin = bestLookbackWin\n",
    "            bestDepth = depth\n",
    "            bestLeafes = leafes\n",
    "            bestLookback = lookback\n",
    "print(\"the best depth is %d, best leave %d, best lookback %d. with a win of %.2f$\" % (bestDepth, bestLeafes, bestLookback, bestDepthWin))"
   ]
  },
  {
   "cell_type": "code",
   "execution_count": 79,
   "metadata": {},
   "outputs": [
    {
     "data": {
      "text/html": [
       "<div>\n",
       "<style scoped>\n",
       "    .dataframe tbody tr th:only-of-type {\n",
       "        vertical-align: middle;\n",
       "    }\n",
       "\n",
       "    .dataframe tbody tr th {\n",
       "        vertical-align: top;\n",
       "    }\n",
       "\n",
       "    .dataframe thead th {\n",
       "        text-align: right;\n",
       "    }\n",
       "</style>\n",
       "<table border=\"1\" class=\"dataframe\">\n",
       "  <thead>\n",
       "    <tr style=\"text-align: right;\">\n",
       "      <th></th>\n",
       "      <th>depth</th>\n",
       "      <th>leafes</th>\n",
       "      <th>lookback</th>\n",
       "      <th>win</th>\n",
       "    </tr>\n",
       "  </thead>\n",
       "  <tbody>\n",
       "    <tr>\n",
       "      <th>24</th>\n",
       "      <td>5</td>\n",
       "      <td>20</td>\n",
       "      <td>1</td>\n",
       "      <td>11621.025496</td>\n",
       "    </tr>\n",
       "    <tr>\n",
       "      <th>0</th>\n",
       "      <td>20</td>\n",
       "      <td>20</td>\n",
       "      <td>1</td>\n",
       "      <td>11619.498220</td>\n",
       "    </tr>\n",
       "    <tr>\n",
       "      <th>12</th>\n",
       "      <td>10</td>\n",
       "      <td>20</td>\n",
       "      <td>1</td>\n",
       "      <td>11619.498220</td>\n",
       "    </tr>\n",
       "    <tr>\n",
       "      <th>19</th>\n",
       "      <td>7</td>\n",
       "      <td>15</td>\n",
       "      <td>1</td>\n",
       "      <td>10963.264154</td>\n",
       "    </tr>\n",
       "    <tr>\n",
       "      <th>13</th>\n",
       "      <td>10</td>\n",
       "      <td>15</td>\n",
       "      <td>1</td>\n",
       "      <td>10794.087633</td>\n",
       "    </tr>\n",
       "    <tr>\n",
       "      <th>6</th>\n",
       "      <td>15</td>\n",
       "      <td>20</td>\n",
       "      <td>1</td>\n",
       "      <td>10528.774654</td>\n",
       "    </tr>\n",
       "    <tr>\n",
       "      <th>18</th>\n",
       "      <td>7</td>\n",
       "      <td>20</td>\n",
       "      <td>1</td>\n",
       "      <td>10421.149256</td>\n",
       "    </tr>\n",
       "    <tr>\n",
       "      <th>25</th>\n",
       "      <td>5</td>\n",
       "      <td>15</td>\n",
       "      <td>1</td>\n",
       "      <td>10054.493698</td>\n",
       "    </tr>\n",
       "    <tr>\n",
       "      <th>7</th>\n",
       "      <td>15</td>\n",
       "      <td>15</td>\n",
       "      <td>1</td>\n",
       "      <td>9871.699565</td>\n",
       "    </tr>\n",
       "    <tr>\n",
       "      <th>1</th>\n",
       "      <td>20</td>\n",
       "      <td>15</td>\n",
       "      <td>1</td>\n",
       "      <td>9751.479025</td>\n",
       "    </tr>\n",
       "    <tr>\n",
       "      <th>27</th>\n",
       "      <td>5</td>\n",
       "      <td>7</td>\n",
       "      <td>1</td>\n",
       "      <td>8592.134439</td>\n",
       "    </tr>\n",
       "    <tr>\n",
       "      <th>3</th>\n",
       "      <td>20</td>\n",
       "      <td>7</td>\n",
       "      <td>1</td>\n",
       "      <td>8592.134439</td>\n",
       "    </tr>\n",
       "    <tr>\n",
       "      <th>21</th>\n",
       "      <td>7</td>\n",
       "      <td>7</td>\n",
       "      <td>1</td>\n",
       "      <td>8592.134439</td>\n",
       "    </tr>\n",
       "    <tr>\n",
       "      <th>15</th>\n",
       "      <td>10</td>\n",
       "      <td>7</td>\n",
       "      <td>1</td>\n",
       "      <td>8468.173125</td>\n",
       "    </tr>\n",
       "    <tr>\n",
       "      <th>9</th>\n",
       "      <td>15</td>\n",
       "      <td>7</td>\n",
       "      <td>1</td>\n",
       "      <td>8468.173125</td>\n",
       "    </tr>\n",
       "    <tr>\n",
       "      <th>14</th>\n",
       "      <td>10</td>\n",
       "      <td>10</td>\n",
       "      <td>1</td>\n",
       "      <td>7954.749680</td>\n",
       "    </tr>\n",
       "    <tr>\n",
       "      <th>32</th>\n",
       "      <td>3</td>\n",
       "      <td>10</td>\n",
       "      <td>1</td>\n",
       "      <td>7566.934338</td>\n",
       "    </tr>\n",
       "    <tr>\n",
       "      <th>31</th>\n",
       "      <td>3</td>\n",
       "      <td>15</td>\n",
       "      <td>1</td>\n",
       "      <td>7566.934338</td>\n",
       "    </tr>\n",
       "    <tr>\n",
       "      <th>30</th>\n",
       "      <td>3</td>\n",
       "      <td>20</td>\n",
       "      <td>1</td>\n",
       "      <td>7566.934338</td>\n",
       "    </tr>\n",
       "    <tr>\n",
       "      <th>26</th>\n",
       "      <td>5</td>\n",
       "      <td>10</td>\n",
       "      <td>1</td>\n",
       "      <td>7473.818349</td>\n",
       "    </tr>\n",
       "  </tbody>\n",
       "</table>\n",
       "</div>"
      ],
      "text/plain": [
       "    depth  leafes  lookback           win\n",
       "24      5      20         1  11621.025496\n",
       "0      20      20         1  11619.498220\n",
       "12     10      20         1  11619.498220\n",
       "19      7      15         1  10963.264154\n",
       "13     10      15         1  10794.087633\n",
       "6      15      20         1  10528.774654\n",
       "18      7      20         1  10421.149256\n",
       "25      5      15         1  10054.493698\n",
       "7      15      15         1   9871.699565\n",
       "1      20      15         1   9751.479025\n",
       "27      5       7         1   8592.134439\n",
       "3      20       7         1   8592.134439\n",
       "21      7       7         1   8592.134439\n",
       "15     10       7         1   8468.173125\n",
       "9      15       7         1   8468.173125\n",
       "14     10      10         1   7954.749680\n",
       "32      3      10         1   7566.934338\n",
       "31      3      15         1   7566.934338\n",
       "30      3      20         1   7566.934338\n",
       "26      5      10         1   7473.818349"
      ]
     },
     "execution_count": 79,
     "metadata": {},
     "output_type": "execute_result"
    }
   ],
   "source": [
    "collection = pd.DataFrame(collection, columns = [\"depth\", \"leafes\", \"lookback\", \"win\"])\n",
    "collection.sort_values(by=\"win\", ascending=False, inplace=True)\n",
    "collection.head(20)"
   ]
  },
  {
   "cell_type": "code",
   "execution_count": 80,
   "metadata": {},
   "outputs": [
    {
     "name": "stdout",
     "output_type": "stream",
     "text": [
      "              precision    recall  f1-score   support\n",
      "\n",
      "        -1.0       0.90      0.95      0.93       435\n",
      "         1.0       0.97      0.95      0.96       862\n",
      "\n",
      "    accuracy                           0.95      1297\n",
      "   macro avg       0.94      0.95      0.94      1297\n",
      "weighted avg       0.95      0.95      0.95      1297\n",
      "\n",
      "[[414  21]\n",
      " [ 44 818]]\n",
      "the hyperoptimized getDecision decision tree with lookback 1 would have given you 11846.45$\n",
      "or +23.40% per year\n",
      "or 192.31$ per month\n"
     ]
    },
    {
     "data": {
      "text/plain": [
       "[<matplotlib.lines.Line2D at 0x7f86b061ca60>]"
      ]
     },
     "execution_count": 80,
     "metadata": {},
     "output_type": "execute_result"
    },
    {
     "data": {
      "image/png": "[encoded data removed]",
      "text/plain": [
       "<Figure size 640x480 with 1 Axes>"
      ]
     },
     "metadata": {},
     "output_type": "display_data"
    }
   ],
   "source": [
    "clf = tree.DecisionTreeClassifier(max_depth=bestDepth, max_leaf_nodes = bestLeafes)\n",
    "clf.fit(X, Y)\n",
    "preds = clf.predict(X)\n",
    "print(metrics.classification_report(df[\"signal\"], preds))\n",
    "print(metrics.confusion_matrix(df[\"signal\"], preds))\n",
    "bestLookbackWin, bestLookback, bestLookbackPortfolio = oneRun(clf, lookbackarray = [bestLookback])\n",
    "print(\"the hyperoptimized getDecision decision tree with lookback %d would have given you %.2f$\" % (bestLookback, bestLookbackWin))\n",
    "days = (df.index[-1] - df.index[0]).days\n",
    "winPct = bestLookbackWin / startMoney * 100\n",
    "winPctYear = winPct / days * 365\n",
    "print(\"or +%.2f%% per year\" % winPctYear)\n",
    "winPerMonth = bestLookbackWin / days * 30\n",
    "print(\"or %.2f$ per month\" % winPerMonth)\n",
    "plt.plot(bestLookbackPortfolio)"
   ]
  },
  {
   "cell_type": "markdown",
   "metadata": {},
   "source": [
    "the hyperoptimized getDecision decision tree with lookback 1 would have given you 11846.45$\n",
    "\n",
    "or +23.40% per year\n",
    "\n",
    "or 192.31$ per month"
   ]
  },
  {
   "cell_type": "code",
   "execution_count": 81,
   "metadata": {},
   "outputs": [
    {
     "data": {
      "image/svg+xml": "<?xml version=\"1.0\" encoding=\"UTF-8\" standalone=\"no\"?>\n<!DOCTYPE svg PUBLIC \"-//W3C//DTD SVG 1.1//EN\"\n \"http://www.w3.org/Graphics/SVG/1.1/DTD/svg11.dtd\">\n<!-- Generated by graphviz version 2.43.0 (0)\n -->\n<!-- Title: Tree Pages: 1 -->\n<svg width=\"2203pt\" height=\"671pt\"\n viewBox=\"0.00 0.00 2203.00 671.00\" xmlns=\"http://www.w3.org/2000/svg\" xmlns:xlink=\"http://www.w3.org/1999/xlink\">\n<g id=\"graph0\" class=\"graph\" transform=\"scale(1 1) rotate(0) translate(4 667)\">\n<title>Tree</title>\n<polygon fill=\"white\" stroke=\"transparent\" points=\"-4,4 -4,-667 2199,-667 2199,4 -4,4\"/>\n<!-- 0 -->\n<g id=\"node1\" class=\"node\">\n<title>0</title>\n<path fill=\"#9dcef2\" stroke=\"black\" d=\"M921,-663C921,-663 754,-663 754,-663 748,-663 742,-657 742,-651 742,-651 742,-592 742,-592 742,-586 748,-580 754,-580 754,-580 921,-580 921,-580 927,-580 933,-586 933,-592 933,-592 933,-651 933,-651 933,-657 927,-663 921,-663\"/>\n<text text-anchor=\"start\" x=\"750\" y=\"-647.8\" font-family=\"Helvetica,sans-Serif\" font-size=\"14.00\">momentum_rsi ≤ 52.031</text>\n<text text-anchor=\"start\" x=\"793.5\" y=\"-632.8\" font-family=\"Helvetica,sans-Serif\" font-size=\"14.00\">gini = 0.446</text>\n<text text-anchor=\"start\" x=\"780\" y=\"-617.8\" font-family=\"Helvetica,sans-Serif\" font-size=\"14.00\">samples = 1297</text>\n<text text-anchor=\"start\" x=\"771\" y=\"-602.8\" font-family=\"Helvetica,sans-Serif\" font-size=\"14.00\">value = [435, 862]</text>\n<text text-anchor=\"start\" x=\"796.5\" y=\"-587.8\" font-family=\"Helvetica,sans-Serif\" font-size=\"14.00\">class = buy</text>\n</g>\n<!-- 1 -->\n<g id=\"node2\" class=\"node\">\n<title>1</title>\n<path fill=\"#eb9c63\" stroke=\"black\" d=\"M645.5,-544C645.5,-544 489.5,-544 489.5,-544 483.5,-544 477.5,-538 477.5,-532 477.5,-532 477.5,-473 477.5,-473 477.5,-467 483.5,-461 489.5,-461 489.5,-461 645.5,-461 645.5,-461 651.5,-461 657.5,-467 657.5,-473 657.5,-473 657.5,-532 657.5,-532 657.5,-538 651.5,-544 645.5,-544\"/>\n<text text-anchor=\"start\" x=\"485.5\" y=\"-528.8\" font-family=\"Helvetica,sans-Serif\" font-size=\"14.00\">trend_aroon_ind ≤ 38.0</text>\n<text text-anchor=\"start\" x=\"528\" y=\"-513.8\" font-family=\"Helvetica,sans-Serif\" font-size=\"14.00\">gini = 0.29</text>\n<text text-anchor=\"start\" x=\"514.5\" y=\"-498.8\" font-family=\"Helvetica,sans-Serif\" font-size=\"14.00\">samples = 443</text>\n<text text-anchor=\"start\" x=\"505.5\" y=\"-483.8\" font-family=\"Helvetica,sans-Serif\" font-size=\"14.00\">value = [365, 78]</text>\n<text text-anchor=\"start\" x=\"528\" y=\"-468.8\" font-family=\"Helvetica,sans-Serif\" font-size=\"14.00\">class = sell</text>\n</g>\n<!-- 0&#45;&gt;1 -->\n<g id=\"edge1\" class=\"edge\">\n<title>0&#45;&gt;1</title>\n<path fill=\"none\" stroke=\"black\" d=\"M743.82,-579.91C719.11,-569.2 692.35,-557.6 667.32,-546.76\"/>\n<polygon fill=\"black\" stroke=\"black\" points=\"668.39,-543.41 657.82,-542.64 665.61,-549.83 668.39,-543.41\"/>\n<text text-anchor=\"middle\" x=\"667.02\" y=\"-562.19\" font-family=\"Helvetica,sans-Serif\" font-size=\"14.00\">True</text>\n</g>\n<!-- 2 -->\n<g id=\"node19\" class=\"node\">\n<title>2</title>\n<path fill=\"#4ba6e7\" stroke=\"black\" d=\"M1276,-544C1276,-544 1129,-544 1129,-544 1123,-544 1117,-538 1117,-532 1117,-532 1117,-473 1117,-473 1117,-467 1123,-461 1129,-461 1129,-461 1276,-461 1276,-461 1282,-461 1288,-467 1288,-473 1288,-473 1288,-532 1288,-532 1288,-538 1282,-544 1276,-544\"/>\n<text text-anchor=\"start\" x=\"1125\" y=\"-528.8\" font-family=\"Helvetica,sans-Serif\" font-size=\"14.00\">trend_aroon_ind ≤ 6.0</text>\n<text text-anchor=\"start\" x=\"1163\" y=\"-513.8\" font-family=\"Helvetica,sans-Serif\" font-size=\"14.00\">gini = 0.15</text>\n<text text-anchor=\"start\" x=\"1149.5\" y=\"-498.8\" font-family=\"Helvetica,sans-Serif\" font-size=\"14.00\">samples = 854</text>\n<text text-anchor=\"start\" x=\"1140.5\" y=\"-483.8\" font-family=\"Helvetica,sans-Serif\" font-size=\"14.00\">value = [70, 784]</text>\n<text text-anchor=\"start\" x=\"1161.5\" y=\"-468.8\" font-family=\"Helvetica,sans-Serif\" font-size=\"14.00\">class = buy</text>\n</g>\n<!-- 0&#45;&gt;2 -->\n<g id=\"edge18\" class=\"edge\">\n<title>0&#45;&gt;2</title>\n<path fill=\"none\" stroke=\"black\" d=\"M933.4,-589.76C986.99,-572.58 1053.54,-551.25 1107.06,-534.09\"/>\n<polygon fill=\"black\" stroke=\"black\" points=\"1108.44,-537.33 1116.89,-530.94 1106.3,-530.66 1108.44,-537.33\"/>\n<text text-anchor=\"middle\" x=\"1105.45\" y=\"-549.47\" font-family=\"Helvetica,sans-Serif\" font-size=\"14.00\">False</text>\n</g>\n<!-- 3 -->\n<g id=\"node3\" class=\"node\">\n<title>3</title>\n<path fill=\"#e78b49\" stroke=\"black\" d=\"M453.5,-425C453.5,-425 321.5,-425 321.5,-425 315.5,-425 309.5,-419 309.5,-413 309.5,-413 309.5,-354 309.5,-354 309.5,-348 315.5,-342 321.5,-342 321.5,-342 453.5,-342 453.5,-342 459.5,-342 465.5,-348 465.5,-354 465.5,-354 465.5,-413 465.5,-413 465.5,-419 459.5,-425 453.5,-425\"/>\n<text text-anchor=\"start\" x=\"317.5\" y=\"-409.8\" font-family=\"Helvetica,sans-Serif\" font-size=\"14.00\">trend_adx ≤ 10.105</text>\n<text text-anchor=\"start\" x=\"343.5\" y=\"-394.8\" font-family=\"Helvetica,sans-Serif\" font-size=\"14.00\">gini = 0.138</text>\n<text text-anchor=\"start\" x=\"334.5\" y=\"-379.8\" font-family=\"Helvetica,sans-Serif\" font-size=\"14.00\">samples = 361</text>\n<text text-anchor=\"start\" x=\"325.5\" y=\"-364.8\" font-family=\"Helvetica,sans-Serif\" font-size=\"14.00\">value = [334, 27]</text>\n<text text-anchor=\"start\" x=\"348\" y=\"-349.8\" font-family=\"Helvetica,sans-Serif\" font-size=\"14.00\">class = sell</text>\n</g>\n<!-- 1&#45;&gt;3 -->\n<g id=\"edge2\" class=\"edge\">\n<title>1&#45;&gt;3</title>\n<path fill=\"none\" stroke=\"black\" d=\"M505.05,-460.91C489.97,-451.11 473.75,-440.56 458.32,-430.53\"/>\n<polygon fill=\"black\" stroke=\"black\" points=\"460.13,-427.54 449.84,-425.02 456.32,-433.41 460.13,-427.54\"/>\n</g>\n<!-- 4 -->\n<g id=\"node12\" class=\"node\">\n<title>4</title>\n<path fill=\"#b1d9f5\" stroke=\"black\" d=\"M637.5,-425C637.5,-425 497.5,-425 497.5,-425 491.5,-425 485.5,-419 485.5,-413 485.5,-413 485.5,-354 485.5,-354 485.5,-348 491.5,-342 497.5,-342 497.5,-342 637.5,-342 637.5,-342 643.5,-342 649.5,-348 649.5,-354 649.5,-354 649.5,-413 649.5,-413 649.5,-419 643.5,-425 637.5,-425\"/>\n<text text-anchor=\"start\" x=\"493.5\" y=\"-409.8\" font-family=\"Helvetica,sans-Serif\" font-size=\"14.00\">trend_cci ≤ &#45;137.762</text>\n<text text-anchor=\"start\" x=\"528\" y=\"-394.8\" font-family=\"Helvetica,sans-Serif\" font-size=\"14.00\">gini = 0.47</text>\n<text text-anchor=\"start\" x=\"519\" y=\"-379.8\" font-family=\"Helvetica,sans-Serif\" font-size=\"14.00\">samples = 82</text>\n<text text-anchor=\"start\" x=\"510\" y=\"-364.8\" font-family=\"Helvetica,sans-Serif\" font-size=\"14.00\">value = [31, 51]</text>\n<text text-anchor=\"start\" x=\"526.5\" y=\"-349.8\" font-family=\"Helvetica,sans-Serif\" font-size=\"14.00\">class = buy</text>\n</g>\n<!-- 1&#45;&gt;4 -->\n<g id=\"edge11\" class=\"edge\">\n<title>1&#45;&gt;4</title>\n<path fill=\"none\" stroke=\"black\" d=\"M567.5,-460.91C567.5,-452.65 567.5,-443.86 567.5,-435.3\"/>\n<polygon fill=\"black\" stroke=\"black\" points=\"571,-435.02 567.5,-425.02 564,-435.02 571,-435.02\"/>\n</g>\n<!-- 13 -->\n<g id=\"node4\" class=\"node\">\n<title>13</title>\n<path fill=\"#399de5\" stroke=\"black\" d=\"M273,-298.5C273,-298.5 184,-298.5 184,-298.5 178,-298.5 172,-292.5 172,-286.5 172,-286.5 172,-242.5 172,-242.5 172,-236.5 178,-230.5 184,-230.5 184,-230.5 273,-230.5 273,-230.5 279,-230.5 285,-236.5 285,-242.5 285,-242.5 285,-286.5 285,-286.5 285,-292.5 279,-298.5 273,-298.5\"/>\n<text text-anchor=\"start\" x=\"193.5\" y=\"-283.3\" font-family=\"Helvetica,sans-Serif\" font-size=\"14.00\">gini = 0.0</text>\n<text text-anchor=\"start\" x=\"184.5\" y=\"-268.3\" font-family=\"Helvetica,sans-Serif\" font-size=\"14.00\">samples = 3</text>\n<text text-anchor=\"start\" x=\"180\" y=\"-253.3\" font-family=\"Helvetica,sans-Serif\" font-size=\"14.00\">value = [0, 3]</text>\n<text text-anchor=\"start\" x=\"187.5\" y=\"-238.3\" font-family=\"Helvetica,sans-Serif\" font-size=\"14.00\">class = buy</text>\n</g>\n<!-- 3&#45;&gt;13 -->\n<g id=\"edge3\" class=\"edge\">\n<title>3&#45;&gt;13</title>\n<path fill=\"none\" stroke=\"black\" d=\"M332.34,-341.91C315.99,-329.88 298.13,-316.73 281.9,-304.79\"/>\n<polygon fill=\"black\" stroke=\"black\" points=\"283.7,-301.77 273.57,-298.67 279.55,-307.41 283.7,-301.77\"/>\n</g>\n<!-- 14 -->\n<g id=\"node5\" class=\"node\">\n<title>14</title>\n<path fill=\"#e78a47\" stroke=\"black\" d=\"M460,-306C460,-306 315,-306 315,-306 309,-306 303,-300 303,-294 303,-294 303,-235 303,-235 303,-229 309,-223 315,-223 315,-223 460,-223 460,-223 466,-223 472,-229 472,-235 472,-235 472,-294 472,-294 472,-300 466,-306 460,-306\"/>\n<text text-anchor=\"start\" x=\"311\" y=\"-290.8\" font-family=\"Helvetica,sans-Serif\" font-size=\"14.00\">volatility_dcp ≤ 0.695</text>\n<text text-anchor=\"start\" x=\"343.5\" y=\"-275.8\" font-family=\"Helvetica,sans-Serif\" font-size=\"14.00\">gini = 0.125</text>\n<text text-anchor=\"start\" x=\"334.5\" y=\"-260.8\" font-family=\"Helvetica,sans-Serif\" font-size=\"14.00\">samples = 358</text>\n<text text-anchor=\"start\" x=\"325.5\" y=\"-245.8\" font-family=\"Helvetica,sans-Serif\" font-size=\"14.00\">value = [334, 24]</text>\n<text text-anchor=\"start\" x=\"348\" y=\"-230.8\" font-family=\"Helvetica,sans-Serif\" font-size=\"14.00\">class = sell</text>\n</g>\n<!-- 3&#45;&gt;14 -->\n<g id=\"edge4\" class=\"edge\">\n<title>3&#45;&gt;14</title>\n<path fill=\"none\" stroke=\"black\" d=\"M387.5,-341.91C387.5,-333.65 387.5,-324.86 387.5,-316.3\"/>\n<polygon fill=\"black\" stroke=\"black\" points=\"391,-316.02 387.5,-306.02 384,-316.02 391,-316.02\"/>\n</g>\n<!-- 17 -->\n<g id=\"node6\" class=\"node\">\n<title>17</title>\n<path fill=\"#e78945\" stroke=\"black\" d=\"M266.5,-187C266.5,-187 108.5,-187 108.5,-187 102.5,-187 96.5,-181 96.5,-175 96.5,-175 96.5,-116 96.5,-116 96.5,-110 102.5,-104 108.5,-104 108.5,-104 266.5,-104 266.5,-104 272.5,-104 278.5,-110 278.5,-116 278.5,-116 278.5,-175 278.5,-175 278.5,-181 272.5,-187 266.5,-187\"/>\n<text text-anchor=\"start\" x=\"104.5\" y=\"-171.8\" font-family=\"Helvetica,sans-Serif\" font-size=\"14.00\">volume_vwap ≤ 43.265</text>\n<text text-anchor=\"start\" x=\"143.5\" y=\"-156.8\" font-family=\"Helvetica,sans-Serif\" font-size=\"14.00\">gini = 0.107</text>\n<text text-anchor=\"start\" x=\"134.5\" y=\"-141.8\" font-family=\"Helvetica,sans-Serif\" font-size=\"14.00\">samples = 352</text>\n<text text-anchor=\"start\" x=\"125.5\" y=\"-126.8\" font-family=\"Helvetica,sans-Serif\" font-size=\"14.00\">value = [332, 20]</text>\n<text text-anchor=\"start\" x=\"148\" y=\"-111.8\" font-family=\"Helvetica,sans-Serif\" font-size=\"14.00\">class = sell</text>\n</g>\n<!-- 14&#45;&gt;17 -->\n<g id=\"edge5\" class=\"edge\">\n<title>14&#45;&gt;17</title>\n<path fill=\"none\" stroke=\"black\" d=\"M318.11,-222.91C301.2,-213.02 283,-202.37 265.71,-192.25\"/>\n<polygon fill=\"black\" stroke=\"black\" points=\"267.17,-189.05 256.77,-187.02 263.63,-195.09 267.17,-189.05\"/>\n</g>\n<!-- 18 -->\n<g id=\"node9\" class=\"node\">\n<title>18</title>\n<path fill=\"#9ccef2\" stroke=\"black\" d=\"M466,-187C466,-187 309,-187 309,-187 303,-187 297,-181 297,-175 297,-175 297,-116 297,-116 297,-110 303,-104 309,-104 309,-104 466,-104 466,-104 472,-104 478,-110 478,-116 478,-116 478,-175 478,-175 478,-181 472,-187 466,-187\"/>\n<text text-anchor=\"start\" x=\"305\" y=\"-171.8\" font-family=\"Helvetica,sans-Serif\" font-size=\"14.00\">trend_kst_diff ≤ 13.705</text>\n<text text-anchor=\"start\" x=\"343.5\" y=\"-156.8\" font-family=\"Helvetica,sans-Serif\" font-size=\"14.00\">gini = 0.444</text>\n<text text-anchor=\"start\" x=\"343.5\" y=\"-141.8\" font-family=\"Helvetica,sans-Serif\" font-size=\"14.00\">samples = 6</text>\n<text text-anchor=\"start\" x=\"339\" y=\"-126.8\" font-family=\"Helvetica,sans-Serif\" font-size=\"14.00\">value = [2, 4]</text>\n<text text-anchor=\"start\" x=\"346.5\" y=\"-111.8\" font-family=\"Helvetica,sans-Serif\" font-size=\"14.00\">class = buy</text>\n</g>\n<!-- 14&#45;&gt;18 -->\n<g id=\"edge8\" class=\"edge\">\n<title>14&#45;&gt;18</title>\n<path fill=\"none\" stroke=\"black\" d=\"M387.5,-222.91C387.5,-214.65 387.5,-205.86 387.5,-197.3\"/>\n<polygon fill=\"black\" stroke=\"black\" points=\"391,-197.02 387.5,-187.02 384,-197.02 391,-197.02\"/>\n</g>\n<!-- 23 -->\n<g id=\"node7\" class=\"node\">\n<title>23</title>\n<path fill=\"#399de5\" stroke=\"black\" d=\"M101,-68C101,-68 12,-68 12,-68 6,-68 0,-62 0,-56 0,-56 0,-12 0,-12 0,-6 6,0 12,0 12,0 101,0 101,0 107,0 113,-6 113,-12 113,-12 113,-56 113,-56 113,-62 107,-68 101,-68\"/>\n<text text-anchor=\"start\" x=\"21.5\" y=\"-52.8\" font-family=\"Helvetica,sans-Serif\" font-size=\"14.00\">gini = 0.0</text>\n<text text-anchor=\"start\" x=\"12.5\" y=\"-37.8\" font-family=\"Helvetica,sans-Serif\" font-size=\"14.00\">samples = 2</text>\n<text text-anchor=\"start\" x=\"8\" y=\"-22.8\" font-family=\"Helvetica,sans-Serif\" font-size=\"14.00\">value = [0, 2]</text>\n<text text-anchor=\"start\" x=\"15.5\" y=\"-7.8\" font-family=\"Helvetica,sans-Serif\" font-size=\"14.00\">class = buy</text>\n</g>\n<!-- 17&#45;&gt;23 -->\n<g id=\"edge6\" class=\"edge\">\n<title>17&#45;&gt;23</title>\n<path fill=\"none\" stroke=\"black\" d=\"M138.72,-103.73C127.37,-94.24 115.31,-84.16 104.01,-74.72\"/>\n<polygon fill=\"black\" stroke=\"black\" points=\"106.26,-72.03 96.34,-68.3 101.77,-77.4 106.26,-72.03\"/>\n</g>\n<!-- 24 -->\n<g id=\"node8\" class=\"node\">\n<title>24</title>\n<path fill=\"#e68844\" stroke=\"black\" d=\"M259.5,-68C259.5,-68 143.5,-68 143.5,-68 137.5,-68 131.5,-62 131.5,-56 131.5,-56 131.5,-12 131.5,-12 131.5,-6 137.5,0 143.5,0 143.5,0 259.5,0 259.5,0 265.5,0 271.5,-6 271.5,-12 271.5,-12 271.5,-56 271.5,-56 271.5,-62 265.5,-68 259.5,-68\"/>\n<text text-anchor=\"start\" x=\"157.5\" y=\"-52.8\" font-family=\"Helvetica,sans-Serif\" font-size=\"14.00\">gini = 0.098</text>\n<text text-anchor=\"start\" x=\"148.5\" y=\"-37.8\" font-family=\"Helvetica,sans-Serif\" font-size=\"14.00\">samples = 350</text>\n<text text-anchor=\"start\" x=\"139.5\" y=\"-22.8\" font-family=\"Helvetica,sans-Serif\" font-size=\"14.00\">value = [332, 18]</text>\n<text text-anchor=\"start\" x=\"162\" y=\"-7.8\" font-family=\"Helvetica,sans-Serif\" font-size=\"14.00\">class = sell</text>\n</g>\n<!-- 17&#45;&gt;24 -->\n<g id=\"edge7\" class=\"edge\">\n<title>17&#45;&gt;24</title>\n<path fill=\"none\" stroke=\"black\" d=\"M192.71,-103.73C193.77,-95.43 194.89,-86.67 195.97,-78.28\"/>\n<polygon fill=\"black\" stroke=\"black\" points=\"199.45,-78.66 197.24,-68.3 192.5,-77.77 199.45,-78.66\"/>\n</g>\n<!-- 31 -->\n<g id=\"node10\" class=\"node\">\n<title>31</title>\n<path fill=\"#e58139\" stroke=\"black\" d=\"M418,-68C418,-68 329,-68 329,-68 323,-68 317,-62 317,-56 317,-56 317,-12 317,-12 317,-6 323,0 329,0 329,0 418,0 418,0 424,0 430,-6 430,-12 430,-12 430,-56 430,-56 430,-62 424,-68 418,-68\"/>\n<text text-anchor=\"start\" x=\"338.5\" y=\"-52.8\" font-family=\"Helvetica,sans-Serif\" font-size=\"14.00\">gini = 0.0</text>\n<text text-anchor=\"start\" x=\"329.5\" y=\"-37.8\" font-family=\"Helvetica,sans-Serif\" font-size=\"14.00\">samples = 2</text>\n<text text-anchor=\"start\" x=\"325\" y=\"-22.8\" font-family=\"Helvetica,sans-Serif\" font-size=\"14.00\">value = [2, 0]</text>\n<text text-anchor=\"start\" x=\"334\" y=\"-7.8\" font-family=\"Helvetica,sans-Serif\" font-size=\"14.00\">class = sell</text>\n</g>\n<!-- 18&#45;&gt;31 -->\n<g id=\"edge9\" class=\"edge\">\n<title>18&#45;&gt;31</title>\n<path fill=\"none\" stroke=\"black\" d=\"M382.29,-103.73C381.23,-95.43 380.11,-86.67 379.03,-78.28\"/>\n<polygon fill=\"black\" stroke=\"black\" points=\"382.5,-77.77 377.76,-68.3 375.55,-78.66 382.5,-77.77\"/>\n</g>\n<!-- 32 -->\n<g id=\"node11\" class=\"node\">\n<title>32</title>\n<path fill=\"#399de5\" stroke=\"black\" d=\"M549,-68C549,-68 460,-68 460,-68 454,-68 448,-62 448,-56 448,-56 448,-12 448,-12 448,-6 454,0 460,0 460,0 549,0 549,0 555,0 561,-6 561,-12 561,-12 561,-56 561,-56 561,-62 555,-68 549,-68\"/>\n<text text-anchor=\"start\" x=\"469.5\" y=\"-52.8\" font-family=\"Helvetica,sans-Serif\" font-size=\"14.00\">gini = 0.0</text>\n<text text-anchor=\"start\" x=\"460.5\" y=\"-37.8\" font-family=\"Helvetica,sans-Serif\" font-size=\"14.00\">samples = 4</text>\n<text text-anchor=\"start\" x=\"456\" y=\"-22.8\" font-family=\"Helvetica,sans-Serif\" font-size=\"14.00\">value = [0, 4]</text>\n<text text-anchor=\"start\" x=\"463.5\" y=\"-7.8\" font-family=\"Helvetica,sans-Serif\" font-size=\"14.00\">class = buy</text>\n</g>\n<!-- 18&#45;&gt;32 -->\n<g id=\"edge10\" class=\"edge\">\n<title>18&#45;&gt;32</title>\n<path fill=\"none\" stroke=\"black\" d=\"M431.07,-103.73C441.01,-94.42 451.56,-84.54 461.48,-75.26\"/>\n<polygon fill=\"black\" stroke=\"black\" points=\"464.01,-77.69 468.92,-68.3 459.23,-72.58 464.01,-77.69\"/>\n</g>\n<!-- 9 -->\n<g id=\"node13\" class=\"node\">\n<title>9</title>\n<path fill=\"#e88e4d\" stroke=\"black\" d=\"M608.5,-298.5C608.5,-298.5 510.5,-298.5 510.5,-298.5 504.5,-298.5 498.5,-292.5 498.5,-286.5 498.5,-286.5 498.5,-242.5 498.5,-242.5 498.5,-236.5 504.5,-230.5 510.5,-230.5 510.5,-230.5 608.5,-230.5 608.5,-230.5 614.5,-230.5 620.5,-236.5 620.5,-242.5 620.5,-242.5 620.5,-286.5 620.5,-286.5 620.5,-292.5 614.5,-298.5 608.5,-298.5\"/>\n<text text-anchor=\"start\" x=\"515.5\" y=\"-283.3\" font-family=\"Helvetica,sans-Serif\" font-size=\"14.00\">gini = 0.165</text>\n<text text-anchor=\"start\" x=\"511\" y=\"-268.3\" font-family=\"Helvetica,sans-Serif\" font-size=\"14.00\">samples = 11</text>\n<text text-anchor=\"start\" x=\"506.5\" y=\"-253.3\" font-family=\"Helvetica,sans-Serif\" font-size=\"14.00\">value = [10, 1]</text>\n<text text-anchor=\"start\" x=\"520\" y=\"-238.3\" font-family=\"Helvetica,sans-Serif\" font-size=\"14.00\">class = sell</text>\n</g>\n<!-- 4&#45;&gt;9 -->\n<g id=\"edge12\" class=\"edge\">\n<title>4&#45;&gt;9</title>\n<path fill=\"none\" stroke=\"black\" d=\"M564.72,-341.91C563.99,-331.2 563.2,-319.62 562.46,-308.78\"/>\n<polygon fill=\"black\" stroke=\"black\" points=\"565.94,-308.4 561.77,-298.67 558.96,-308.88 565.94,-308.4\"/>\n</g>\n<!-- 10 -->\n<g id=\"node14\" class=\"node\">\n<title>10</title>\n<path fill=\"#8cc6f0\" stroke=\"black\" d=\"M816,-306C816,-306 651,-306 651,-306 645,-306 639,-300 639,-294 639,-294 639,-235 639,-235 639,-229 645,-223 651,-223 651,-223 816,-223 816,-223 822,-223 828,-229 828,-235 828,-235 828,-294 828,-294 828,-300 822,-306 816,-306\"/>\n<text text-anchor=\"start\" x=\"647\" y=\"-290.8\" font-family=\"Helvetica,sans-Serif\" font-size=\"14.00\">trend_adx_neg ≤ 24.859</text>\n<text text-anchor=\"start\" x=\"689.5\" y=\"-275.8\" font-family=\"Helvetica,sans-Serif\" font-size=\"14.00\">gini = 0.417</text>\n<text text-anchor=\"start\" x=\"685\" y=\"-260.8\" font-family=\"Helvetica,sans-Serif\" font-size=\"14.00\">samples = 71</text>\n<text text-anchor=\"start\" x=\"676\" y=\"-245.8\" font-family=\"Helvetica,sans-Serif\" font-size=\"14.00\">value = [21, 50]</text>\n<text text-anchor=\"start\" x=\"692.5\" y=\"-230.8\" font-family=\"Helvetica,sans-Serif\" font-size=\"14.00\">class = buy</text>\n</g>\n<!-- 4&#45;&gt;10 -->\n<g id=\"edge13\" class=\"edge\">\n<title>4&#45;&gt;10</title>\n<path fill=\"none\" stroke=\"black\" d=\"M625.09,-341.91C638.87,-332.2 653.68,-321.76 667.79,-311.81\"/>\n<polygon fill=\"black\" stroke=\"black\" points=\"669.85,-314.64 676.01,-306.02 665.82,-308.92 669.85,-314.64\"/>\n</g>\n<!-- 19 -->\n<g id=\"node15\" class=\"node\">\n<title>19</title>\n<path fill=\"#ea9a61\" stroke=\"black\" d=\"M597,-179.5C597,-179.5 508,-179.5 508,-179.5 502,-179.5 496,-173.5 496,-167.5 496,-167.5 496,-123.5 496,-123.5 496,-117.5 502,-111.5 508,-111.5 508,-111.5 597,-111.5 597,-111.5 603,-111.5 609,-117.5 609,-123.5 609,-123.5 609,-167.5 609,-167.5 609,-173.5 603,-179.5 597,-179.5\"/>\n<text text-anchor=\"start\" x=\"508.5\" y=\"-164.3\" font-family=\"Helvetica,sans-Serif\" font-size=\"14.00\">gini = 0.278</text>\n<text text-anchor=\"start\" x=\"508.5\" y=\"-149.3\" font-family=\"Helvetica,sans-Serif\" font-size=\"14.00\">samples = 6</text>\n<text text-anchor=\"start\" x=\"504\" y=\"-134.3\" font-family=\"Helvetica,sans-Serif\" font-size=\"14.00\">value = [5, 1]</text>\n<text text-anchor=\"start\" x=\"513\" y=\"-119.3\" font-family=\"Helvetica,sans-Serif\" font-size=\"14.00\">class = sell</text>\n</g>\n<!-- 10&#45;&gt;19 -->\n<g id=\"edge14\" class=\"edge\">\n<title>10&#45;&gt;19</title>\n<path fill=\"none\" stroke=\"black\" d=\"M670.7,-222.91C651.75,-210.66 631.01,-197.25 612.27,-185.13\"/>\n<polygon fill=\"black\" stroke=\"black\" points=\"614.11,-182.16 603.81,-179.67 610.31,-188.04 614.11,-182.16\"/>\n</g>\n<!-- 20 -->\n<g id=\"node16\" class=\"node\">\n<title>20</title>\n<path fill=\"#7abded\" stroke=\"black\" d=\"M847.5,-187C847.5,-187 639.5,-187 639.5,-187 633.5,-187 627.5,-181 627.5,-175 627.5,-175 627.5,-116 627.5,-116 627.5,-110 633.5,-104 639.5,-104 639.5,-104 847.5,-104 847.5,-104 853.5,-104 859.5,-110 859.5,-116 859.5,-116 859.5,-175 859.5,-175 859.5,-181 853.5,-187 847.5,-187\"/>\n<text text-anchor=\"start\" x=\"635.5\" y=\"-171.8\" font-family=\"Helvetica,sans-Serif\" font-size=\"14.00\">momentum_pvo_hist ≤ 13.992</text>\n<text text-anchor=\"start\" x=\"699.5\" y=\"-156.8\" font-family=\"Helvetica,sans-Serif\" font-size=\"14.00\">gini = 0.371</text>\n<text text-anchor=\"start\" x=\"695\" y=\"-141.8\" font-family=\"Helvetica,sans-Serif\" font-size=\"14.00\">samples = 65</text>\n<text text-anchor=\"start\" x=\"686\" y=\"-126.8\" font-family=\"Helvetica,sans-Serif\" font-size=\"14.00\">value = [16, 49]</text>\n<text text-anchor=\"start\" x=\"702.5\" y=\"-111.8\" font-family=\"Helvetica,sans-Serif\" font-size=\"14.00\">class = buy</text>\n</g>\n<!-- 10&#45;&gt;20 -->\n<g id=\"edge15\" class=\"edge\">\n<title>10&#45;&gt;20</title>\n<path fill=\"none\" stroke=\"black\" d=\"M736.97,-222.91C737.68,-214.56 738.44,-205.67 739.18,-197.02\"/>\n<polygon fill=\"black\" stroke=\"black\" points=\"742.67,-197.28 740.04,-187.02 735.7,-196.69 742.67,-197.28\"/>\n</g>\n<!-- 21 -->\n<g id=\"node17\" class=\"node\">\n<title>21</title>\n<path fill=\"#69b5eb\" stroke=\"black\" d=\"M715,-68C715,-68 608,-68 608,-68 602,-68 596,-62 596,-56 596,-56 596,-12 596,-12 596,-6 602,0 608,0 608,0 715,0 715,0 721,0 727,-6 727,-12 727,-12 727,-56 727,-56 727,-62 721,-68 715,-68\"/>\n<text text-anchor=\"start\" x=\"617.5\" y=\"-52.8\" font-family=\"Helvetica,sans-Serif\" font-size=\"14.00\">gini = 0.316</text>\n<text text-anchor=\"start\" x=\"613\" y=\"-37.8\" font-family=\"Helvetica,sans-Serif\" font-size=\"14.00\">samples = 61</text>\n<text text-anchor=\"start\" x=\"604\" y=\"-22.8\" font-family=\"Helvetica,sans-Serif\" font-size=\"14.00\">value = [12, 49]</text>\n<text text-anchor=\"start\" x=\"620.5\" y=\"-7.8\" font-family=\"Helvetica,sans-Serif\" font-size=\"14.00\">class = buy</text>\n</g>\n<!-- 20&#45;&gt;21 -->\n<g id=\"edge16\" class=\"edge\">\n<title>20&#45;&gt;21</title>\n<path fill=\"none\" stroke=\"black\" d=\"M712.97,-103.73C706.27,-94.79 699.18,-85.32 692.47,-76.36\"/>\n<polygon fill=\"black\" stroke=\"black\" points=\"695.23,-74.21 686.44,-68.3 689.63,-78.4 695.23,-74.21\"/>\n</g>\n<!-- 22 -->\n<g id=\"node18\" class=\"node\">\n<title>22</title>\n<path fill=\"#e58139\" stroke=\"black\" d=\"M846,-68C846,-68 757,-68 757,-68 751,-68 745,-62 745,-56 745,-56 745,-12 745,-12 745,-6 751,0 757,0 757,0 846,0 846,0 852,0 858,-6 858,-12 858,-12 858,-56 858,-56 858,-62 852,-68 846,-68\"/>\n<text text-anchor=\"start\" x=\"766.5\" y=\"-52.8\" font-family=\"Helvetica,sans-Serif\" font-size=\"14.00\">gini = 0.0</text>\n<text text-anchor=\"start\" x=\"757.5\" y=\"-37.8\" font-family=\"Helvetica,sans-Serif\" font-size=\"14.00\">samples = 4</text>\n<text text-anchor=\"start\" x=\"753\" y=\"-22.8\" font-family=\"Helvetica,sans-Serif\" font-size=\"14.00\">value = [4, 0]</text>\n<text text-anchor=\"start\" x=\"762\" y=\"-7.8\" font-family=\"Helvetica,sans-Serif\" font-size=\"14.00\">class = sell</text>\n</g>\n<!-- 20&#45;&gt;22 -->\n<g id=\"edge17\" class=\"edge\">\n<title>20&#45;&gt;22</title>\n<path fill=\"none\" stroke=\"black\" d=\"M765.1,-103.73C769.69,-95.06 774.54,-85.9 779.16,-77.18\"/>\n<polygon fill=\"black\" stroke=\"black\" points=\"782.27,-78.77 783.86,-68.3 776.09,-75.5 782.27,-78.77\"/>\n</g>\n<!-- 5 -->\n<g id=\"node20\" class=\"node\">\n<title>5</title>\n<path fill=\"#c1e0f7\" stroke=\"black\" d=\"M1275,-425C1275,-425 1130,-425 1130,-425 1124,-425 1118,-419 1118,-413 1118,-413 1118,-354 1118,-354 1118,-348 1124,-342 1130,-342 1130,-342 1275,-342 1275,-342 1281,-342 1287,-348 1287,-354 1287,-354 1287,-413 1287,-413 1287,-419 1281,-425 1275,-425\"/>\n<text text-anchor=\"start\" x=\"1126\" y=\"-409.8\" font-family=\"Helvetica,sans-Serif\" font-size=\"14.00\">volatility_dcp ≤ 0.817</text>\n<text text-anchor=\"start\" x=\"1158.5\" y=\"-394.8\" font-family=\"Helvetica,sans-Serif\" font-size=\"14.00\">gini = 0.483</text>\n<text text-anchor=\"start\" x=\"1149.5\" y=\"-379.8\" font-family=\"Helvetica,sans-Serif\" font-size=\"14.00\">samples = 140</text>\n<text text-anchor=\"start\" x=\"1145\" y=\"-364.8\" font-family=\"Helvetica,sans-Serif\" font-size=\"14.00\">value = [57, 83]</text>\n<text text-anchor=\"start\" x=\"1161.5\" y=\"-349.8\" font-family=\"Helvetica,sans-Serif\" font-size=\"14.00\">class = buy</text>\n</g>\n<!-- 2&#45;&gt;5 -->\n<g id=\"edge19\" class=\"edge\">\n<title>2&#45;&gt;5</title>\n<path fill=\"none\" stroke=\"black\" d=\"M1202.5,-460.91C1202.5,-452.65 1202.5,-443.86 1202.5,-435.3\"/>\n<polygon fill=\"black\" stroke=\"black\" points=\"1206,-435.02 1202.5,-425.02 1199,-435.02 1206,-435.02\"/>\n</g>\n<!-- 6 -->\n<g id=\"node31\" class=\"node\">\n<title>6</title>\n<path fill=\"#3d9fe5\" stroke=\"black\" d=\"M1701,-425C1701,-425 1556,-425 1556,-425 1550,-425 1544,-419 1544,-413 1544,-413 1544,-354 1544,-354 1544,-348 1550,-342 1556,-342 1556,-342 1701,-342 1701,-342 1707,-342 1713,-348 1713,-354 1713,-354 1713,-413 1713,-413 1713,-419 1707,-425 1701,-425\"/>\n<text text-anchor=\"start\" x=\"1552\" y=\"-409.8\" font-family=\"Helvetica,sans-Serif\" font-size=\"14.00\">volatility_dcp ≤ 0.456</text>\n<text text-anchor=\"start\" x=\"1584.5\" y=\"-394.8\" font-family=\"Helvetica,sans-Serif\" font-size=\"14.00\">gini = 0.036</text>\n<text text-anchor=\"start\" x=\"1575.5\" y=\"-379.8\" font-family=\"Helvetica,sans-Serif\" font-size=\"14.00\">samples = 714</text>\n<text text-anchor=\"start\" x=\"1566.5\" y=\"-364.8\" font-family=\"Helvetica,sans-Serif\" font-size=\"14.00\">value = [13, 701]</text>\n<text text-anchor=\"start\" x=\"1587.5\" y=\"-349.8\" font-family=\"Helvetica,sans-Serif\" font-size=\"14.00\">class = buy</text>\n</g>\n<!-- 2&#45;&gt;6 -->\n<g id=\"edge30\" class=\"edge\">\n<title>2&#45;&gt;6</title>\n<path fill=\"none\" stroke=\"black\" d=\"M1288.2,-477.96C1359.35,-458.42 1460.44,-430.66 1533.94,-410.47\"/>\n<polygon fill=\"black\" stroke=\"black\" points=\"1534.95,-413.82 1543.67,-407.8 1533.1,-407.07 1534.95,-413.82\"/>\n</g>\n<!-- 7 -->\n<g id=\"node21\" class=\"node\">\n<title>7</title>\n<path fill=\"#f6d1b7\" stroke=\"black\" d=\"M1184.5,-306C1184.5,-306 1026.5,-306 1026.5,-306 1020.5,-306 1014.5,-300 1014.5,-294 1014.5,-294 1014.5,-235 1014.5,-235 1014.5,-229 1020.5,-223 1026.5,-223 1026.5,-223 1184.5,-223 1184.5,-223 1190.5,-223 1196.5,-229 1196.5,-235 1196.5,-235 1196.5,-294 1196.5,-294 1196.5,-300 1190.5,-306 1184.5,-306\"/>\n<text text-anchor=\"start\" x=\"1022.5\" y=\"-290.8\" font-family=\"Helvetica,sans-Serif\" font-size=\"14.00\">momentum_tsi ≤ 1.519</text>\n<text text-anchor=\"start\" x=\"1061.5\" y=\"-275.8\" font-family=\"Helvetica,sans-Serif\" font-size=\"14.00\">gini = 0.476</text>\n<text text-anchor=\"start\" x=\"1057\" y=\"-260.8\" font-family=\"Helvetica,sans-Serif\" font-size=\"14.00\">samples = 77</text>\n<text text-anchor=\"start\" x=\"1048\" y=\"-245.8\" font-family=\"Helvetica,sans-Serif\" font-size=\"14.00\">value = [47, 30]</text>\n<text text-anchor=\"start\" x=\"1066\" y=\"-230.8\" font-family=\"Helvetica,sans-Serif\" font-size=\"14.00\">class = sell</text>\n</g>\n<!-- 5&#45;&gt;7 -->\n<g id=\"edge20\" class=\"edge\">\n<title>5&#45;&gt;7</title>\n<path fill=\"none\" stroke=\"black\" d=\"M1168.85,-341.91C1161.32,-332.83 1153.27,-323.12 1145.52,-313.77\"/>\n<polygon fill=\"black\" stroke=\"black\" points=\"1148.17,-311.49 1139.09,-306.02 1142.78,-315.95 1148.17,-311.49\"/>\n</g>\n<!-- 8 -->\n<g id=\"node26\" class=\"node\">\n<title>8</title>\n<path fill=\"#5eafea\" stroke=\"black\" d=\"M1372.5,-306C1372.5,-306 1226.5,-306 1226.5,-306 1220.5,-306 1214.5,-300 1214.5,-294 1214.5,-294 1214.5,-235 1214.5,-235 1214.5,-229 1220.5,-223 1226.5,-223 1226.5,-223 1372.5,-223 1372.5,-223 1378.5,-223 1384.5,-229 1384.5,-235 1384.5,-235 1384.5,-294 1384.5,-294 1384.5,-300 1378.5,-306 1372.5,-306\"/>\n<text text-anchor=\"start\" x=\"1222.5\" y=\"-290.8\" font-family=\"Helvetica,sans-Serif\" font-size=\"14.00\">volatility_kcw ≤ 1.733</text>\n<text text-anchor=\"start\" x=\"1255.5\" y=\"-275.8\" font-family=\"Helvetica,sans-Serif\" font-size=\"14.00\">gini = 0.267</text>\n<text text-anchor=\"start\" x=\"1251\" y=\"-260.8\" font-family=\"Helvetica,sans-Serif\" font-size=\"14.00\">samples = 63</text>\n<text text-anchor=\"start\" x=\"1242\" y=\"-245.8\" font-family=\"Helvetica,sans-Serif\" font-size=\"14.00\">value = [10, 53]</text>\n<text text-anchor=\"start\" x=\"1258.5\" y=\"-230.8\" font-family=\"Helvetica,sans-Serif\" font-size=\"14.00\">class = buy</text>\n</g>\n<!-- 5&#45;&gt;8 -->\n<g id=\"edge25\" class=\"edge\">\n<title>5&#45;&gt;8</title>\n<path fill=\"none\" stroke=\"black\" d=\"M1236.15,-341.91C1243.68,-332.83 1251.73,-323.12 1259.48,-313.77\"/>\n<polygon fill=\"black\" stroke=\"black\" points=\"1262.22,-315.95 1265.91,-306.02 1256.83,-311.49 1262.22,-315.95\"/>\n</g>\n<!-- 11 -->\n<g id=\"node22\" class=\"node\">\n<title>11</title>\n<path fill=\"#e9975b\" stroke=\"black\" d=\"M987.5,-179.5C987.5,-179.5 889.5,-179.5 889.5,-179.5 883.5,-179.5 877.5,-173.5 877.5,-167.5 877.5,-167.5 877.5,-123.5 877.5,-123.5 877.5,-117.5 883.5,-111.5 889.5,-111.5 889.5,-111.5 987.5,-111.5 987.5,-111.5 993.5,-111.5 999.5,-117.5 999.5,-123.5 999.5,-123.5 999.5,-167.5 999.5,-167.5 999.5,-173.5 993.5,-179.5 987.5,-179.5\"/>\n<text text-anchor=\"start\" x=\"894.5\" y=\"-164.3\" font-family=\"Helvetica,sans-Serif\" font-size=\"14.00\">gini = 0.251</text>\n<text text-anchor=\"start\" x=\"890\" y=\"-149.3\" font-family=\"Helvetica,sans-Serif\" font-size=\"14.00\">samples = 34</text>\n<text text-anchor=\"start\" x=\"885.5\" y=\"-134.3\" font-family=\"Helvetica,sans-Serif\" font-size=\"14.00\">value = [29, 5]</text>\n<text text-anchor=\"start\" x=\"899\" y=\"-119.3\" font-family=\"Helvetica,sans-Serif\" font-size=\"14.00\">class = sell</text>\n</g>\n<!-- 7&#45;&gt;11 -->\n<g id=\"edge21\" class=\"edge\">\n<title>7&#45;&gt;11</title>\n<path fill=\"none\" stroke=\"black\" d=\"M1047.56,-222.91C1030.24,-210.77 1011.29,-197.49 994.11,-185.46\"/>\n<polygon fill=\"black\" stroke=\"black\" points=\"996.04,-182.54 985.84,-179.67 992.02,-188.27 996.04,-182.54\"/>\n</g>\n<!-- 12 -->\n<g id=\"node23\" class=\"node\">\n<title>12</title>\n<path fill=\"#c8e4f8\" stroke=\"black\" d=\"M1181.5,-187C1181.5,-187 1029.5,-187 1029.5,-187 1023.5,-187 1017.5,-181 1017.5,-175 1017.5,-175 1017.5,-116 1017.5,-116 1017.5,-110 1023.5,-104 1029.5,-104 1029.5,-104 1181.5,-104 1181.5,-104 1187.5,-104 1193.5,-110 1193.5,-116 1193.5,-116 1193.5,-175 1193.5,-175 1193.5,-181 1187.5,-187 1181.5,-187\"/>\n<text text-anchor=\"start\" x=\"1025.5\" y=\"-171.8\" font-family=\"Helvetica,sans-Serif\" font-size=\"14.00\">trend_aroon_up ≤ 38.0</text>\n<text text-anchor=\"start\" x=\"1061.5\" y=\"-156.8\" font-family=\"Helvetica,sans-Serif\" font-size=\"14.00\">gini = 0.487</text>\n<text text-anchor=\"start\" x=\"1057\" y=\"-141.8\" font-family=\"Helvetica,sans-Serif\" font-size=\"14.00\">samples = 43</text>\n<text text-anchor=\"start\" x=\"1048\" y=\"-126.8\" font-family=\"Helvetica,sans-Serif\" font-size=\"14.00\">value = [18, 25]</text>\n<text text-anchor=\"start\" x=\"1064.5\" y=\"-111.8\" font-family=\"Helvetica,sans-Serif\" font-size=\"14.00\">class = buy</text>\n</g>\n<!-- 7&#45;&gt;12 -->\n<g id=\"edge22\" class=\"edge\">\n<title>7&#45;&gt;12</title>\n<path fill=\"none\" stroke=\"black\" d=\"M1105.5,-222.91C1105.5,-214.65 1105.5,-205.86 1105.5,-197.3\"/>\n<polygon fill=\"black\" stroke=\"black\" points=\"1109,-197.02 1105.5,-187.02 1102,-197.02 1109,-197.02\"/>\n</g>\n<!-- 15 -->\n<g id=\"node24\" class=\"node\">\n<title>15</title>\n<path fill=\"#f7dac5\" stroke=\"black\" d=\"M1033,-68C1033,-68 926,-68 926,-68 920,-68 914,-62 914,-56 914,-56 914,-12 914,-12 914,-6 920,0 926,0 926,0 1033,0 1033,0 1039,0 1045,-6 1045,-12 1045,-12 1045,-56 1045,-56 1045,-62 1039,-68 1033,-68\"/>\n<text text-anchor=\"start\" x=\"935.5\" y=\"-52.8\" font-family=\"Helvetica,sans-Serif\" font-size=\"14.00\">gini = 0.485</text>\n<text text-anchor=\"start\" x=\"931\" y=\"-37.8\" font-family=\"Helvetica,sans-Serif\" font-size=\"14.00\">samples = 29</text>\n<text text-anchor=\"start\" x=\"922\" y=\"-22.8\" font-family=\"Helvetica,sans-Serif\" font-size=\"14.00\">value = [17, 12]</text>\n<text text-anchor=\"start\" x=\"940\" y=\"-7.8\" font-family=\"Helvetica,sans-Serif\" font-size=\"14.00\">class = sell</text>\n</g>\n<!-- 12&#45;&gt;15 -->\n<g id=\"edge23\" class=\"edge\">\n<title>12&#45;&gt;15</title>\n<path fill=\"none\" stroke=\"black\" d=\"M1058.58,-103.73C1047.77,-94.33 1036.29,-84.35 1025.51,-74.99\"/>\n<polygon fill=\"black\" stroke=\"black\" points=\"1027.66,-72.22 1017.82,-68.3 1023.07,-77.5 1027.66,-72.22\"/>\n</g>\n<!-- 16 -->\n<g id=\"node25\" class=\"node\">\n<title>16</title>\n<path fill=\"#48a5e7\" stroke=\"black\" d=\"M1173.5,-68C1173.5,-68 1075.5,-68 1075.5,-68 1069.5,-68 1063.5,-62 1063.5,-56 1063.5,-56 1063.5,-12 1063.5,-12 1063.5,-6 1069.5,0 1075.5,0 1075.5,0 1173.5,0 1173.5,0 1179.5,0 1185.5,-6 1185.5,-12 1185.5,-12 1185.5,-56 1185.5,-56 1185.5,-62 1179.5,-68 1173.5,-68\"/>\n<text text-anchor=\"start\" x=\"1080.5\" y=\"-52.8\" font-family=\"Helvetica,sans-Serif\" font-size=\"14.00\">gini = 0.133</text>\n<text text-anchor=\"start\" x=\"1076\" y=\"-37.8\" font-family=\"Helvetica,sans-Serif\" font-size=\"14.00\">samples = 14</text>\n<text text-anchor=\"start\" x=\"1071.5\" y=\"-22.8\" font-family=\"Helvetica,sans-Serif\" font-size=\"14.00\">value = [1, 13]</text>\n<text text-anchor=\"start\" x=\"1083.5\" y=\"-7.8\" font-family=\"Helvetica,sans-Serif\" font-size=\"14.00\">class = buy</text>\n</g>\n<!-- 12&#45;&gt;16 -->\n<g id=\"edge24\" class=\"edge\">\n<title>12&#45;&gt;16</title>\n<path fill=\"none\" stroke=\"black\" d=\"M1112.57,-103.73C1114.02,-95.43 1115.53,-86.67 1116.99,-78.28\"/>\n<polygon fill=\"black\" stroke=\"black\" points=\"1120.46,-78.75 1118.72,-68.3 1113.56,-77.55 1120.46,-78.75\"/>\n</g>\n<!-- 27 -->\n<g id=\"node27\" class=\"node\">\n<title>27</title>\n<path fill=\"#a2d1f3\" stroke=\"black\" d=\"M1375.5,-187C1375.5,-187 1223.5,-187 1223.5,-187 1217.5,-187 1211.5,-181 1211.5,-175 1211.5,-175 1211.5,-116 1211.5,-116 1211.5,-110 1217.5,-104 1223.5,-104 1223.5,-104 1375.5,-104 1375.5,-104 1381.5,-104 1387.5,-110 1387.5,-116 1387.5,-116 1387.5,-175 1387.5,-175 1387.5,-181 1381.5,-187 1375.5,-187\"/>\n<text text-anchor=\"start\" x=\"1219.5\" y=\"-171.8\" font-family=\"Helvetica,sans-Serif\" font-size=\"14.00\">volume_vpt ≤ 431.577</text>\n<text text-anchor=\"start\" x=\"1255.5\" y=\"-156.8\" font-family=\"Helvetica,sans-Serif\" font-size=\"14.00\">gini = 0.453</text>\n<text text-anchor=\"start\" x=\"1251\" y=\"-141.8\" font-family=\"Helvetica,sans-Serif\" font-size=\"14.00\">samples = 26</text>\n<text text-anchor=\"start\" x=\"1246.5\" y=\"-126.8\" font-family=\"Helvetica,sans-Serif\" font-size=\"14.00\">value = [9, 17]</text>\n<text text-anchor=\"start\" x=\"1258.5\" y=\"-111.8\" font-family=\"Helvetica,sans-Serif\" font-size=\"14.00\">class = buy</text>\n</g>\n<!-- 8&#45;&gt;27 -->\n<g id=\"edge26\" class=\"edge\">\n<title>8&#45;&gt;27</title>\n<path fill=\"none\" stroke=\"black\" d=\"M1299.5,-222.91C1299.5,-214.65 1299.5,-205.86 1299.5,-197.3\"/>\n<polygon fill=\"black\" stroke=\"black\" points=\"1303,-197.02 1299.5,-187.02 1296,-197.02 1303,-197.02\"/>\n</g>\n<!-- 28 -->\n<g id=\"node30\" class=\"node\">\n<title>28</title>\n<path fill=\"#3ea0e6\" stroke=\"black\" d=\"M1515.5,-179.5C1515.5,-179.5 1417.5,-179.5 1417.5,-179.5 1411.5,-179.5 1405.5,-173.5 1405.5,-167.5 1405.5,-167.5 1405.5,-123.5 1405.5,-123.5 1405.5,-117.5 1411.5,-111.5 1417.5,-111.5 1417.5,-111.5 1515.5,-111.5 1515.5,-111.5 1521.5,-111.5 1527.5,-117.5 1527.5,-123.5 1527.5,-123.5 1527.5,-167.5 1527.5,-167.5 1527.5,-173.5 1521.5,-179.5 1515.5,-179.5\"/>\n<text text-anchor=\"start\" x=\"1422.5\" y=\"-164.3\" font-family=\"Helvetica,sans-Serif\" font-size=\"14.00\">gini = 0.053</text>\n<text text-anchor=\"start\" x=\"1418\" y=\"-149.3\" font-family=\"Helvetica,sans-Serif\" font-size=\"14.00\">samples = 37</text>\n<text text-anchor=\"start\" x=\"1413.5\" y=\"-134.3\" font-family=\"Helvetica,sans-Serif\" font-size=\"14.00\">value = [1, 36]</text>\n<text text-anchor=\"start\" x=\"1425.5\" y=\"-119.3\" font-family=\"Helvetica,sans-Serif\" font-size=\"14.00\">class = buy</text>\n</g>\n<!-- 8&#45;&gt;28 -->\n<g id=\"edge29\" class=\"edge\">\n<title>8&#45;&gt;28</title>\n<path fill=\"none\" stroke=\"black\" d=\"M1357.44,-222.91C1374.76,-210.77 1393.71,-197.49 1410.89,-185.46\"/>\n<polygon fill=\"black\" stroke=\"black\" points=\"1412.98,-188.27 1419.16,-179.67 1408.96,-182.54 1412.98,-188.27\"/>\n</g>\n<!-- 29 -->\n<g id=\"node28\" class=\"node\">\n<title>29</title>\n<path fill=\"#55abe9\" stroke=\"black\" d=\"M1332.5,-68C1332.5,-68 1234.5,-68 1234.5,-68 1228.5,-68 1222.5,-62 1222.5,-56 1222.5,-56 1222.5,-12 1222.5,-12 1222.5,-6 1228.5,0 1234.5,0 1234.5,0 1332.5,0 1332.5,0 1338.5,0 1344.5,-6 1344.5,-12 1344.5,-12 1344.5,-56 1344.5,-56 1344.5,-62 1338.5,-68 1332.5,-68\"/>\n<text text-anchor=\"start\" x=\"1239.5\" y=\"-52.8\" font-family=\"Helvetica,sans-Serif\" font-size=\"14.00\">gini = 0.219</text>\n<text text-anchor=\"start\" x=\"1235\" y=\"-37.8\" font-family=\"Helvetica,sans-Serif\" font-size=\"14.00\">samples = 16</text>\n<text text-anchor=\"start\" x=\"1230.5\" y=\"-22.8\" font-family=\"Helvetica,sans-Serif\" font-size=\"14.00\">value = [2, 14]</text>\n<text text-anchor=\"start\" x=\"1242.5\" y=\"-7.8\" font-family=\"Helvetica,sans-Serif\" font-size=\"14.00\">class = buy</text>\n</g>\n<!-- 27&#45;&gt;29 -->\n<g id=\"edge27\" class=\"edge\">\n<title>27&#45;&gt;29</title>\n<path fill=\"none\" stroke=\"black\" d=\"M1293.54,-103.73C1292.33,-95.43 1291.05,-86.67 1289.82,-78.28\"/>\n<polygon fill=\"black\" stroke=\"black\" points=\"1293.27,-77.69 1288.37,-68.3 1286.35,-78.7 1293.27,-77.69\"/>\n</g>\n<!-- 30 -->\n<g id=\"node29\" class=\"node\">\n<title>30</title>\n<path fill=\"#f0b78e\" stroke=\"black\" d=\"M1464,-68C1464,-68 1375,-68 1375,-68 1369,-68 1363,-62 1363,-56 1363,-56 1363,-12 1363,-12 1363,-6 1369,0 1375,0 1375,0 1464,0 1464,0 1470,0 1476,-6 1476,-12 1476,-12 1476,-56 1476,-56 1476,-62 1470,-68 1464,-68\"/>\n<text text-anchor=\"start\" x=\"1380\" y=\"-52.8\" font-family=\"Helvetica,sans-Serif\" font-size=\"14.00\">gini = 0.42</text>\n<text text-anchor=\"start\" x=\"1371\" y=\"-37.8\" font-family=\"Helvetica,sans-Serif\" font-size=\"14.00\">samples = 10</text>\n<text text-anchor=\"start\" x=\"1371\" y=\"-22.8\" font-family=\"Helvetica,sans-Serif\" font-size=\"14.00\">value = [7, 3]</text>\n<text text-anchor=\"start\" x=\"1380\" y=\"-7.8\" font-family=\"Helvetica,sans-Serif\" font-size=\"14.00\">class = sell</text>\n</g>\n<!-- 27&#45;&gt;30 -->\n<g id=\"edge28\" class=\"edge\">\n<title>27&#45;&gt;30</title>\n<path fill=\"none\" stroke=\"black\" d=\"M1344.18,-103.73C1354.38,-94.42 1365.21,-84.54 1375.38,-75.26\"/>\n<polygon fill=\"black\" stroke=\"black\" points=\"1377.98,-77.63 1383.01,-68.3 1373.26,-72.45 1377.98,-77.63\"/>\n</g>\n<!-- 25 -->\n<g id=\"node32\" class=\"node\">\n<title>25</title>\n<path fill=\"#f6d5bd\" stroke=\"black\" d=\"M1703,-306C1703,-306 1554,-306 1554,-306 1548,-306 1542,-300 1542,-294 1542,-294 1542,-235 1542,-235 1542,-229 1548,-223 1554,-223 1554,-223 1703,-223 1703,-223 1709,-223 1715,-229 1715,-235 1715,-235 1715,-294 1715,-294 1715,-300 1709,-306 1703,-306\"/>\n<text text-anchor=\"start\" x=\"1550\" y=\"-290.8\" font-family=\"Helvetica,sans-Serif\" font-size=\"14.00\">volatility_bbw ≤ 2.622</text>\n<text text-anchor=\"start\" x=\"1589\" y=\"-275.8\" font-family=\"Helvetica,sans-Serif\" font-size=\"14.00\">gini = 0.48</text>\n<text text-anchor=\"start\" x=\"1584.5\" y=\"-260.8\" font-family=\"Helvetica,sans-Serif\" font-size=\"14.00\">samples = 5</text>\n<text text-anchor=\"start\" x=\"1580\" y=\"-245.8\" font-family=\"Helvetica,sans-Serif\" font-size=\"14.00\">value = [3, 2]</text>\n<text text-anchor=\"start\" x=\"1589\" y=\"-230.8\" font-family=\"Helvetica,sans-Serif\" font-size=\"14.00\">class = sell</text>\n</g>\n<!-- 6&#45;&gt;25 -->\n<g id=\"edge31\" class=\"edge\">\n<title>6&#45;&gt;25</title>\n<path fill=\"none\" stroke=\"black\" d=\"M1628.5,-341.91C1628.5,-333.65 1628.5,-324.86 1628.5,-316.3\"/>\n<polygon fill=\"black\" stroke=\"black\" points=\"1632,-316.02 1628.5,-306.02 1625,-316.02 1632,-316.02\"/>\n</g>\n<!-- 26 -->\n<g id=\"node35\" class=\"node\">\n<title>26</title>\n<path fill=\"#3c9ee5\" stroke=\"black\" d=\"M1975,-306C1975,-306 1772,-306 1772,-306 1766,-306 1760,-300 1760,-294 1760,-294 1760,-235 1760,-235 1760,-229 1766,-223 1772,-223 1772,-223 1975,-223 1975,-223 1981,-223 1987,-229 1987,-235 1987,-235 1987,-294 1987,-294 1987,-300 1981,-306 1975,-306\"/>\n<text text-anchor=\"start\" x=\"1768\" y=\"-290.8\" font-family=\"Helvetica,sans-Serif\" font-size=\"14.00\">trend_vortex_ind_neg ≤ 0.898</text>\n<text text-anchor=\"start\" x=\"1829.5\" y=\"-275.8\" font-family=\"Helvetica,sans-Serif\" font-size=\"14.00\">gini = 0.028</text>\n<text text-anchor=\"start\" x=\"1820.5\" y=\"-260.8\" font-family=\"Helvetica,sans-Serif\" font-size=\"14.00\">samples = 709</text>\n<text text-anchor=\"start\" x=\"1811.5\" y=\"-245.8\" font-family=\"Helvetica,sans-Serif\" font-size=\"14.00\">value = [10, 699]</text>\n<text text-anchor=\"start\" x=\"1832.5\" y=\"-230.8\" font-family=\"Helvetica,sans-Serif\" font-size=\"14.00\">class = buy</text>\n</g>\n<!-- 6&#45;&gt;26 -->\n<g id=\"edge34\" class=\"edge\">\n<title>6&#45;&gt;26</title>\n<path fill=\"none\" stroke=\"black\" d=\"M1713.16,-342.07C1734.46,-331.9 1757.45,-320.92 1779.19,-310.54\"/>\n<polygon fill=\"black\" stroke=\"black\" points=\"1780.91,-313.6 1788.42,-306.13 1777.89,-307.28 1780.91,-313.6\"/>\n</g>\n<!-- 33 -->\n<g id=\"node33\" class=\"node\">\n<title>33</title>\n<path fill=\"#399de5\" stroke=\"black\" d=\"M1647,-179.5C1647,-179.5 1558,-179.5 1558,-179.5 1552,-179.5 1546,-173.5 1546,-167.5 1546,-167.5 1546,-123.5 1546,-123.5 1546,-117.5 1552,-111.5 1558,-111.5 1558,-111.5 1647,-111.5 1647,-111.5 1653,-111.5 1659,-117.5 1659,-123.5 1659,-123.5 1659,-167.5 1659,-167.5 1659,-173.5 1653,-179.5 1647,-179.5\"/>\n<text text-anchor=\"start\" x=\"1567.5\" y=\"-164.3\" font-family=\"Helvetica,sans-Serif\" font-size=\"14.00\">gini = 0.0</text>\n<text text-anchor=\"start\" x=\"1558.5\" y=\"-149.3\" font-family=\"Helvetica,sans-Serif\" font-size=\"14.00\">samples = 2</text>\n<text text-anchor=\"start\" x=\"1554\" y=\"-134.3\" font-family=\"Helvetica,sans-Serif\" font-size=\"14.00\">value = [0, 2]</text>\n<text text-anchor=\"start\" x=\"1561.5\" y=\"-119.3\" font-family=\"Helvetica,sans-Serif\" font-size=\"14.00\">class = buy</text>\n</g>\n<!-- 25&#45;&gt;33 -->\n<g id=\"edge32\" class=\"edge\">\n<title>25&#45;&gt;33</title>\n<path fill=\"none\" stroke=\"black\" d=\"M1619.48,-222.91C1617.08,-212.09 1614.47,-200.38 1612.04,-189.44\"/>\n<polygon fill=\"black\" stroke=\"black\" points=\"1615.46,-188.67 1609.87,-179.67 1608.62,-190.19 1615.46,-188.67\"/>\n</g>\n<!-- 34 -->\n<g id=\"node34\" class=\"node\">\n<title>34</title>\n<path fill=\"#e58139\" stroke=\"black\" d=\"M1778,-179.5C1778,-179.5 1689,-179.5 1689,-179.5 1683,-179.5 1677,-173.5 1677,-167.5 1677,-167.5 1677,-123.5 1677,-123.5 1677,-117.5 1683,-111.5 1689,-111.5 1689,-111.5 1778,-111.5 1778,-111.5 1784,-111.5 1790,-117.5 1790,-123.5 1790,-123.5 1790,-167.5 1790,-167.5 1790,-173.5 1784,-179.5 1778,-179.5\"/>\n<text text-anchor=\"start\" x=\"1698.5\" y=\"-164.3\" font-family=\"Helvetica,sans-Serif\" font-size=\"14.00\">gini = 0.0</text>\n<text text-anchor=\"start\" x=\"1689.5\" y=\"-149.3\" font-family=\"Helvetica,sans-Serif\" font-size=\"14.00\">samples = 3</text>\n<text text-anchor=\"start\" x=\"1685\" y=\"-134.3\" font-family=\"Helvetica,sans-Serif\" font-size=\"14.00\">value = [3, 0]</text>\n<text text-anchor=\"start\" x=\"1694\" y=\"-119.3\" font-family=\"Helvetica,sans-Serif\" font-size=\"14.00\">class = sell</text>\n</g>\n<!-- 25&#45;&gt;34 -->\n<g id=\"edge33\" class=\"edge\">\n<title>25&#45;&gt;34</title>\n<path fill=\"none\" stroke=\"black\" d=\"M1664.93,-222.91C1675.33,-211.32 1686.66,-198.7 1697.05,-187.11\"/>\n<polygon fill=\"black\" stroke=\"black\" points=\"1699.66,-189.45 1703.73,-179.67 1694.45,-184.77 1699.66,-189.45\"/>\n</g>\n<!-- 35 -->\n<g id=\"node36\" class=\"node\">\n<title>35</title>\n<path fill=\"#3a9ee5\" stroke=\"black\" d=\"M1927,-179.5C1927,-179.5 1820,-179.5 1820,-179.5 1814,-179.5 1808,-173.5 1808,-167.5 1808,-167.5 1808,-123.5 1808,-123.5 1808,-117.5 1814,-111.5 1820,-111.5 1820,-111.5 1927,-111.5 1927,-111.5 1933,-111.5 1939,-117.5 1939,-123.5 1939,-123.5 1939,-167.5 1939,-167.5 1939,-173.5 1933,-179.5 1927,-179.5\"/>\n<text text-anchor=\"start\" x=\"1829.5\" y=\"-164.3\" font-family=\"Helvetica,sans-Serif\" font-size=\"14.00\">gini = 0.012</text>\n<text text-anchor=\"start\" x=\"1820.5\" y=\"-149.3\" font-family=\"Helvetica,sans-Serif\" font-size=\"14.00\">samples = 677</text>\n<text text-anchor=\"start\" x=\"1816\" y=\"-134.3\" font-family=\"Helvetica,sans-Serif\" font-size=\"14.00\">value = [4, 673]</text>\n<text text-anchor=\"start\" x=\"1832.5\" y=\"-119.3\" font-family=\"Helvetica,sans-Serif\" font-size=\"14.00\">class = buy</text>\n</g>\n<!-- 26&#45;&gt;35 -->\n<g id=\"edge35\" class=\"edge\">\n<title>26&#45;&gt;35</title>\n<path fill=\"none\" stroke=\"black\" d=\"M1873.5,-222.91C1873.5,-212.2 1873.5,-200.62 1873.5,-189.78\"/>\n<polygon fill=\"black\" stroke=\"black\" points=\"1877,-189.67 1873.5,-179.67 1870,-189.67 1877,-189.67\"/>\n</g>\n<!-- 36 -->\n<g id=\"node37\" class=\"node\">\n<title>36</title>\n<path fill=\"#67b4eb\" stroke=\"black\" d=\"M2171.5,-187C2171.5,-187 1969.5,-187 1969.5,-187 1963.5,-187 1957.5,-181 1957.5,-175 1957.5,-175 1957.5,-116 1957.5,-116 1957.5,-110 1963.5,-104 1969.5,-104 1969.5,-104 2171.5,-104 2171.5,-104 2177.5,-104 2183.5,-110 2183.5,-116 2183.5,-116 2183.5,-175 2183.5,-175 2183.5,-181 2177.5,-187 2171.5,-187\"/>\n<text text-anchor=\"start\" x=\"1965.5\" y=\"-171.8\" font-family=\"Helvetica,sans-Serif\" font-size=\"14.00\">trend_vortex_ind_pos ≤ 0.955</text>\n<text text-anchor=\"start\" x=\"2026.5\" y=\"-156.8\" font-family=\"Helvetica,sans-Serif\" font-size=\"14.00\">gini = 0.305</text>\n<text text-anchor=\"start\" x=\"2022\" y=\"-141.8\" font-family=\"Helvetica,sans-Serif\" font-size=\"14.00\">samples = 32</text>\n<text text-anchor=\"start\" x=\"2017.5\" y=\"-126.8\" font-family=\"Helvetica,sans-Serif\" font-size=\"14.00\">value = [6, 26]</text>\n<text text-anchor=\"start\" x=\"2029.5\" y=\"-111.8\" font-family=\"Helvetica,sans-Serif\" font-size=\"14.00\">class = buy</text>\n</g>\n<!-- 26&#45;&gt;36 -->\n<g id=\"edge36\" class=\"edge\">\n<title>26&#45;&gt;36</title>\n<path fill=\"none\" stroke=\"black\" d=\"M1941.85,-222.91C1958.5,-213.02 1976.43,-202.37 1993.46,-192.25\"/>\n<polygon fill=\"black\" stroke=\"black\" points=\"1995.46,-195.14 2002.27,-187.02 1991.89,-189.12 1995.46,-195.14\"/>\n</g>\n<!-- 37 -->\n<g id=\"node38\" class=\"node\">\n<title>37</title>\n<path fill=\"#42a1e6\" stroke=\"black\" d=\"M2051.5,-68C2051.5,-68 1953.5,-68 1953.5,-68 1947.5,-68 1941.5,-62 1941.5,-56 1941.5,-56 1941.5,-12 1941.5,-12 1941.5,-6 1947.5,0 1953.5,0 1953.5,0 2051.5,0 2051.5,0 2057.5,0 2063.5,-6 2063.5,-12 2063.5,-12 2063.5,-56 2063.5,-56 2063.5,-62 2057.5,-68 2051.5,-68\"/>\n<text text-anchor=\"start\" x=\"1958.5\" y=\"-52.8\" font-family=\"Helvetica,sans-Serif\" font-size=\"14.00\">gini = 0.083</text>\n<text text-anchor=\"start\" x=\"1954\" y=\"-37.8\" font-family=\"Helvetica,sans-Serif\" font-size=\"14.00\">samples = 23</text>\n<text text-anchor=\"start\" x=\"1949.5\" y=\"-22.8\" font-family=\"Helvetica,sans-Serif\" font-size=\"14.00\">value = [1, 22]</text>\n<text text-anchor=\"start\" x=\"1961.5\" y=\"-7.8\" font-family=\"Helvetica,sans-Serif\" font-size=\"14.00\">class = buy</text>\n</g>\n<!-- 36&#45;&gt;37 -->\n<g id=\"edge37\" class=\"edge\">\n<title>36&#45;&gt;37</title>\n<path fill=\"none\" stroke=\"black\" d=\"M2045.18,-103.73C2039.74,-94.97 2033.99,-85.7 2028.52,-76.91\"/>\n<polygon fill=\"black\" stroke=\"black\" points=\"2031.43,-74.95 2023.18,-68.3 2025.48,-78.64 2031.43,-74.95\"/>\n</g>\n<!-- 38 -->\n<g id=\"node39\" class=\"node\">\n<title>38</title>\n<path fill=\"#fae6d7\" stroke=\"black\" d=\"M2183,-68C2183,-68 2094,-68 2094,-68 2088,-68 2082,-62 2082,-56 2082,-56 2082,-12 2082,-12 2082,-6 2088,0 2094,0 2094,0 2183,0 2183,0 2189,0 2195,-6 2195,-12 2195,-12 2195,-56 2195,-56 2195,-62 2189,-68 2183,-68\"/>\n<text text-anchor=\"start\" x=\"2094.5\" y=\"-52.8\" font-family=\"Helvetica,sans-Serif\" font-size=\"14.00\">gini = 0.494</text>\n<text text-anchor=\"start\" x=\"2094.5\" y=\"-37.8\" font-family=\"Helvetica,sans-Serif\" font-size=\"14.00\">samples = 9</text>\n<text text-anchor=\"start\" x=\"2090\" y=\"-22.8\" font-family=\"Helvetica,sans-Serif\" font-size=\"14.00\">value = [5, 4]</text>\n<text text-anchor=\"start\" x=\"2099\" y=\"-7.8\" font-family=\"Helvetica,sans-Serif\" font-size=\"14.00\">class = sell</text>\n</g>\n<!-- 36&#45;&gt;38 -->\n<g id=\"edge38\" class=\"edge\">\n<title>36&#45;&gt;38</title>\n<path fill=\"none\" stroke=\"black\" d=\"M2095.82,-103.73C2101.26,-94.97 2107.01,-85.7 2112.48,-76.91\"/>\n<polygon fill=\"black\" stroke=\"black\" points=\"2115.52,-78.64 2117.82,-68.3 2109.57,-74.95 2115.52,-78.64\"/>\n</g>\n</g>\n</svg>\n",
      "text/plain": [
       "<graphviz.sources.Source at 0x7f86fc4ca350>"
      ]
     },
     "execution_count": 81,
     "metadata": {},
     "output_type": "execute_result"
    }
   ],
   "source": [
    "dot_data = tree.export_graphviz(clf, out_file=None,\n",
    "                        feature_names=x_train.columns,  \n",
    "                        class_names=[\"sell\", \"buy\"],\n",
    "                        filled=True, rounded=True,\n",
    "                        special_characters=True) \n",
    "graph = graphviz.Source(dot_data) \n",
    "graph"
   ]
  },
  {
   "cell_type": "code",
   "execution_count": 82,
   "metadata": {},
   "outputs": [
    {
     "name": "stdout",
     "output_type": "stream",
     "text": [
      "def getDecision(dfrow):\n",
      "    if dfrow['momentum_rsi'] <= 52.03:\n",
      "        if dfrow['trend_aroon_ind'] <= 38.0:\n",
      "            if dfrow['trend_adx'] <= 10.1:\n",
      "                return 1\n",
      "            else:  # if dfrow['trend_adx'] > 10.1\n",
      "                if dfrow['volatility_dcp'] <= 0.69:\n",
      "                    if dfrow['volume_vwap'] <= 43.27:\n",
      "                        return 1\n",
      "                    else:  # if dfrow['volume_vwap'] > 43.27\n",
      "                        return 0\n",
      "                else:  # if dfrow['volatility_dcp'] > 0.69\n",
      "                    if dfrow['trend_kst_diff'] <= 13.7:\n",
      "                        return 0\n",
      "                    else:  # if dfrow['trend_kst_diff'] > 13.7\n",
      "                        return 1\n",
      "        else:  # if dfrow['trend_aroon_ind'] > 38.0\n",
      "            if dfrow['trend_cci'] <= -137.76:\n",
      "                return 0\n",
      "            else:  # if dfrow['trend_cci'] > -137.76\n",
      "                if dfrow['trend_adx_neg'] <= 24.86:\n",
      "                    return 0\n",
      "                else:  # if dfrow['trend_adx_neg'] > 24.86\n",
      "                    if dfrow['momentum_pvo_hist'] <= 13.99:\n",
      "                        return 1\n",
      "                    else:  # if dfrow['momentum_pvo_hist'] > 13.99\n",
      "                        return 0\n",
      "    else:  # if dfrow['momentum_rsi'] > 52.03\n",
      "        if dfrow['trend_aroon_ind'] <= 6.0:\n",
      "            if dfrow['volatility_dcp'] <= 0.82:\n",
      "                if dfrow['momentum_tsi'] <= 1.52:\n",
      "                    return 0\n",
      "                else:  # if dfrow['momentum_tsi'] > 1.52\n",
      "                    if dfrow['trend_aroon_up'] <= 38.0:\n",
      "                        return 0\n",
      "                    else:  # if dfrow['trend_aroon_up'] > 38.0\n",
      "                        return 1\n",
      "            else:  # if dfrow['volatility_dcp'] > 0.82\n",
      "                if dfrow['volatility_kcw'] <= 1.73:\n",
      "                    if dfrow['volume_vpt'] <= 431.58:\n",
      "                        return 1\n",
      "                    else:  # if dfrow['volume_vpt'] > 431.58\n",
      "                        return 0\n",
      "                else:  # if dfrow['volatility_kcw'] > 1.73\n",
      "                    return 1\n",
      "        else:  # if dfrow['trend_aroon_ind'] > 6.0\n",
      "            if dfrow['volatility_dcp'] <= 0.46:\n",
      "                if dfrow['volatility_bbw'] <= 2.62:\n",
      "                    return 1\n",
      "                else:  # if dfrow['volatility_bbw'] > 2.62\n",
      "                    return 0\n",
      "            else:  # if dfrow['volatility_dcp'] > 0.46\n",
      "                if dfrow['trend_vortex_ind_neg'] <= 0.9:\n",
      "                    return 1\n",
      "                else:  # if dfrow['trend_vortex_ind_neg'] > 0.9\n",
      "                    if dfrow['trend_vortex_ind_pos'] <= 0.95:\n",
      "                        return 1\n",
      "                    else:  # if dfrow['trend_vortex_ind_pos'] > 0.95\n",
      "                        return 0\n"
     ]
    }
   ],
   "source": [
    "tree_to_code(clf, x_train.columns)"
   ]
  },
  {
   "cell_type": "code",
   "execution_count": 83,
   "metadata": {},
   "outputs": [],
   "source": [
    "def getDecision(dfrow):\n",
    "    if dfrow['momentum_rsi'] <= 52.03:\n",
    "        if dfrow['trend_aroon_ind'] <= 38.0:\n",
    "            if dfrow['trend_adx'] <= 10.1:\n",
    "                return 1\n",
    "            else:  # if dfrow['trend_adx'] > 10.1\n",
    "                if dfrow['volatility_dcp'] <= 0.69:\n",
    "                    if dfrow['volume_vwap'] <= 43.27:\n",
    "                        return 1\n",
    "                    else:  # if dfrow['volume_vwap'] > 43.27\n",
    "                        return 0\n",
    "                else:  # if dfrow['volatility_dcp'] > 0.69\n",
    "                    if dfrow['trend_kst_diff'] <= 13.7:\n",
    "                        return 0\n",
    "                    else:  # if dfrow['trend_kst_diff'] > 13.7\n",
    "                        return 1\n",
    "        else:  # if dfrow['trend_aroon_ind'] > 38.0\n",
    "            if dfrow['trend_cci'] <= -137.76:\n",
    "                return 0\n",
    "            else:  # if dfrow['trend_cci'] > -137.76\n",
    "                if dfrow['trend_adx_neg'] <= 24.86:\n",
    "                    return 0\n",
    "                else:  # if dfrow['trend_adx_neg'] > 24.86\n",
    "                    if dfrow['momentum_pvo_hist'] <= 13.99:\n",
    "                        return 1\n",
    "                    else:  # if dfrow['momentum_pvo_hist'] > 13.99\n",
    "                        return 0\n",
    "    else:  # if dfrow['momentum_rsi'] > 52.03\n",
    "        if dfrow['trend_aroon_ind'] <= 6.0:\n",
    "            if dfrow['volatility_dcp'] <= 0.82:\n",
    "                if dfrow['momentum_tsi'] <= 1.52:\n",
    "                    return 0\n",
    "                else:  # if dfrow['momentum_tsi'] > 1.52\n",
    "                    if dfrow['trend_aroon_up'] <= 38.0:\n",
    "                        return 0\n",
    "                    else:  # if dfrow['trend_aroon_up'] > 38.0\n",
    "                        return 1\n",
    "            else:  # if dfrow['volatility_dcp'] > 0.82\n",
    "                if dfrow['volatility_kcw'] <= 1.73:\n",
    "                    if dfrow['volume_vpt'] <= 431.58:\n",
    "                        return 1\n",
    "                    else:  # if dfrow['volume_vpt'] > 431.58\n",
    "                        return 0\n",
    "                else:  # if dfrow['volatility_kcw'] > 1.73\n",
    "                    return 1\n",
    "        else:  # if dfrow['trend_aroon_ind'] > 6.0\n",
    "            if dfrow['volatility_dcp'] <= 0.46:\n",
    "                if dfrow['volatility_bbw'] <= 2.62:\n",
    "                    return 1\n",
    "                else:  # if dfrow['volatility_bbw'] > 2.62\n",
    "                    return 0\n",
    "            else:  # if dfrow['volatility_dcp'] > 0.46\n",
    "                if dfrow['trend_vortex_ind_neg'] <= 0.9:\n",
    "                    return 1\n",
    "                else:  # if dfrow['trend_vortex_ind_neg'] > 0.9\n",
    "                    if dfrow['trend_vortex_ind_pos'] <= 0.95:\n",
    "                        return 1\n",
    "                    else:  # if dfrow['trend_vortex_ind_pos'] > 0.95\n",
    "                        return 0\n"
   ]
  },
  {
   "cell_type": "code",
   "execution_count": null,
   "metadata": {},
   "outputs": [],
   "source": [
    "## tree\n",
    "# the decision tree with lookback 0 would have given you 19227.17$\n",
    "# or +37.98% per year\n",
    "# or 312.13$ per month\n",
    "## XGB - actually not too nice\n",
    "# the xgb with lookback 3 would have given you 3497.44$\n",
    "# or +6.91% per year\n",
    "# or 56.78$ per month\n",
    "## lightgbm \n",
    "# the lightgbm with lookback 3 would have given you 6510.10$\n",
    "# or +12.86% per year\n",
    "# or 105.68$ per month\n",
    "## tuned decision tree\n",
    "# the tuned getDecision decision tree with lookback 1 would have given you 39171.64$\n",
    "# or +77.33% per year\n",
    "# or 635.56$ per month\n",
    "## just holding\n",
    "# just holding would have given you 6582.50$\n",
    "# or 106.86$ per month\n",
    "## hyperopt tree\n",
    "# the hyperoptimized getDecision decision tree with lookback 1 would have given you 11846.45$\n",
    "# or +23.40% per year\n",
    "# or 192.31$ per month"
   ]
  }
 ],
 "metadata": {
  "kernelspec": {
   "display_name": "Python 3.10.4 ('base')",
   "language": "python",
   "name": "python3"
  },
  "language_info": {
   "codemirror_mode": {
    "name": "ipython",
    "version": 3
   },
   "file_extension": ".py",
   "mimetype": "text/x-python",
   "name": "python",
   "nbconvert_exporter": "python",
   "pygments_lexer": "ipython3",
   "version": "3.10.4"
  },
  "orig_nbformat": 4,
  "vscode": {
   "interpreter": {
    "hash": "d436247b9f043f8630513ed1454a5d25f3879733eb5c0e6e904c7c35a517ff37"
   }
  }
 },
 "nbformat": 4,
 "nbformat_minor": 2
}
