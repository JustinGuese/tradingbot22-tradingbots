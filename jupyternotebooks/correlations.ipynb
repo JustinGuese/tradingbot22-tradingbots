{
 "cells": [
  {
   "cell_type": "code",
   "execution_count": 1,
   "metadata": {},
   "outputs": [],
   "source": [
    "import pandas as pd\n",
    "from datetime import datetime, date, timedelta\n",
    "from requests import post\n",
    "import matplotlib.pyplot as plt\n",
    "import numpy as np"
   ]
  },
  {
   "cell_type": "code",
   "execution_count": 2,
   "metadata": {},
   "outputs": [],
   "source": [
    "import sys\n",
    "sys.path.insert(1, '../src/')\n",
    "from basebot import BaseBot"
   ]
  },
  {
   "cell_type": "code",
   "execution_count": 3,
   "metadata": {},
   "outputs": [
    {
     "data": {
      "text/html": [
       "<div>\n",
       "<style scoped>\n",
       "    .dataframe tbody tr th:only-of-type {\n",
       "        vertical-align: middle;\n",
       "    }\n",
       "\n",
       "    .dataframe tbody tr th {\n",
       "        vertical-align: top;\n",
       "    }\n",
       "\n",
       "    .dataframe thead th {\n",
       "        text-align: right;\n",
       "    }\n",
       "</style>\n",
       "<table border=\"1\" class=\"dataframe\">\n",
       "  <thead>\n",
       "    <tr style=\"text-align: right;\">\n",
       "      <th></th>\n",
       "      <th>ticker</th>\n",
       "      <th>open</th>\n",
       "      <th>high</th>\n",
       "      <th>low</th>\n",
       "      <th>close</th>\n",
       "      <th>volume</th>\n",
       "      <th>adj_close</th>\n",
       "      <th>volume_adi</th>\n",
       "      <th>volume_obv</th>\n",
       "      <th>volume_cmf</th>\n",
       "      <th>...</th>\n",
       "      <th>momentum_kama</th>\n",
       "      <th>others_dr</th>\n",
       "      <th>others_dlr</th>\n",
       "      <th>others_cr</th>\n",
       "      <th>SMA_3</th>\n",
       "      <th>SMA_10</th>\n",
       "      <th>SMA_50</th>\n",
       "      <th>SMA_100</th>\n",
       "      <th>SMA_200</th>\n",
       "      <th>signal</th>\n",
       "    </tr>\n",
       "    <tr>\n",
       "      <th>timestamp</th>\n",
       "      <th></th>\n",
       "      <th></th>\n",
       "      <th></th>\n",
       "      <th></th>\n",
       "      <th></th>\n",
       "      <th></th>\n",
       "      <th></th>\n",
       "      <th></th>\n",
       "      <th></th>\n",
       "      <th></th>\n",
       "      <th></th>\n",
       "      <th></th>\n",
       "      <th></th>\n",
       "      <th></th>\n",
       "      <th></th>\n",
       "      <th></th>\n",
       "      <th></th>\n",
       "      <th></th>\n",
       "      <th></th>\n",
       "      <th></th>\n",
       "      <th></th>\n",
       "    </tr>\n",
       "  </thead>\n",
       "  <tbody>\n",
       "    <tr>\n",
       "      <th>2017-09-12</th>\n",
       "      <td>IWDA.AS</td>\n",
       "      <td>42.455002</td>\n",
       "      <td>42.674999</td>\n",
       "      <td>42.455002</td>\n",
       "      <td>42.575001</td>\n",
       "      <td>53831</td>\n",
       "      <td>42.575001</td>\n",
       "      <td>4893.896985</td>\n",
       "      <td>53831.0</td>\n",
       "      <td>0.090912</td>\n",
       "      <td>...</td>\n",
       "      <td>42.575001</td>\n",
       "      <td>-25.658017</td>\n",
       "      <td>0.433580</td>\n",
       "      <td>0.434522</td>\n",
       "      <td>42.725</td>\n",
       "      <td>42.7965</td>\n",
       "      <td>44.072</td>\n",
       "      <td>0</td>\n",
       "      <td>45.01955</td>\n",
       "      <td>1.0</td>\n",
       "    </tr>\n",
       "    <tr>\n",
       "      <th>2017-09-13</th>\n",
       "      <td>IWDA.AS</td>\n",
       "      <td>42.540001</td>\n",
       "      <td>42.759998</td>\n",
       "      <td>42.445000</td>\n",
       "      <td>42.759998</td>\n",
       "      <td>73915</td>\n",
       "      <td>42.759998</td>\n",
       "      <td>78808.896985</td>\n",
       "      <td>127746.0</td>\n",
       "      <td>0.616919</td>\n",
       "      <td>...</td>\n",
       "      <td>42.649766</td>\n",
       "      <td>0.434522</td>\n",
       "      <td>0.433580</td>\n",
       "      <td>0.434522</td>\n",
       "      <td>42.725</td>\n",
       "      <td>42.7965</td>\n",
       "      <td>44.072</td>\n",
       "      <td>0</td>\n",
       "      <td>45.01955</td>\n",
       "      <td>1.0</td>\n",
       "    </tr>\n",
       "    <tr>\n",
       "      <th>2017-09-14</th>\n",
       "      <td>IWDA.AS</td>\n",
       "      <td>42.730000</td>\n",
       "      <td>42.860001</td>\n",
       "      <td>42.689999</td>\n",
       "      <td>42.840000</td>\n",
       "      <td>19521</td>\n",
       "      <td>42.840000</td>\n",
       "      <td>93736.668981</td>\n",
       "      <td>147267.0</td>\n",
       "      <td>0.636508</td>\n",
       "      <td>...</td>\n",
       "      <td>42.724116</td>\n",
       "      <td>0.187095</td>\n",
       "      <td>0.186920</td>\n",
       "      <td>0.622430</td>\n",
       "      <td>42.725</td>\n",
       "      <td>42.7965</td>\n",
       "      <td>44.072</td>\n",
       "      <td>0</td>\n",
       "      <td>45.01955</td>\n",
       "      <td>1.0</td>\n",
       "    </tr>\n",
       "    <tr>\n",
       "      <th>2017-09-15</th>\n",
       "      <td>IWDA.AS</td>\n",
       "      <td>42.674999</td>\n",
       "      <td>42.689999</td>\n",
       "      <td>42.470001</td>\n",
       "      <td>42.575001</td>\n",
       "      <td>25357</td>\n",
       "      <td>42.575001</td>\n",
       "      <td>92584.257942</td>\n",
       "      <td>121910.0</td>\n",
       "      <td>0.536335</td>\n",
       "      <td>...</td>\n",
       "      <td>42.662290</td>\n",
       "      <td>-0.618579</td>\n",
       "      <td>-0.620500</td>\n",
       "      <td>0.364061</td>\n",
       "      <td>42.725</td>\n",
       "      <td>42.7965</td>\n",
       "      <td>44.072</td>\n",
       "      <td>0</td>\n",
       "      <td>45.01955</td>\n",
       "      <td>1.0</td>\n",
       "    </tr>\n",
       "    <tr>\n",
       "      <th>2017-09-18</th>\n",
       "      <td>IWDA.AS</td>\n",
       "      <td>42.779999</td>\n",
       "      <td>42.860001</td>\n",
       "      <td>42.669998</td>\n",
       "      <td>42.730000</td>\n",
       "      <td>44301</td>\n",
       "      <td>42.730000</td>\n",
       "      <td>76263.117764</td>\n",
       "      <td>166211.0</td>\n",
       "      <td>0.351564</td>\n",
       "      <td>...</td>\n",
       "      <td>42.689158</td>\n",
       "      <td>0.364061</td>\n",
       "      <td>0.363399</td>\n",
       "      <td>0.364061</td>\n",
       "      <td>42.715</td>\n",
       "      <td>42.7965</td>\n",
       "      <td>44.072</td>\n",
       "      <td>0</td>\n",
       "      <td>45.01955</td>\n",
       "      <td>1.0</td>\n",
       "    </tr>\n",
       "  </tbody>\n",
       "</table>\n",
       "<p>5 rows × 99 columns</p>\n",
       "</div>"
      ],
      "text/plain": [
       "             ticker       open       high        low      close  volume  \\\n",
       "timestamp                                                                 \n",
       "2017-09-12  IWDA.AS  42.455002  42.674999  42.455002  42.575001   53831   \n",
       "2017-09-13  IWDA.AS  42.540001  42.759998  42.445000  42.759998   73915   \n",
       "2017-09-14  IWDA.AS  42.730000  42.860001  42.689999  42.840000   19521   \n",
       "2017-09-15  IWDA.AS  42.674999  42.689999  42.470001  42.575001   25357   \n",
       "2017-09-18  IWDA.AS  42.779999  42.860001  42.669998  42.730000   44301   \n",
       "\n",
       "            adj_close    volume_adi  volume_obv  volume_cmf  ...  \\\n",
       "timestamp                                                    ...   \n",
       "2017-09-12  42.575001   4893.896985     53831.0    0.090912  ...   \n",
       "2017-09-13  42.759998  78808.896985    127746.0    0.616919  ...   \n",
       "2017-09-14  42.840000  93736.668981    147267.0    0.636508  ...   \n",
       "2017-09-15  42.575001  92584.257942    121910.0    0.536335  ...   \n",
       "2017-09-18  42.730000  76263.117764    166211.0    0.351564  ...   \n",
       "\n",
       "            momentum_kama  others_dr  others_dlr  others_cr   SMA_3   SMA_10  \\\n",
       "timestamp                                                                      \n",
       "2017-09-12      42.575001 -25.658017    0.433580   0.434522  42.725  42.7965   \n",
       "2017-09-13      42.649766   0.434522    0.433580   0.434522  42.725  42.7965   \n",
       "2017-09-14      42.724116   0.187095    0.186920   0.622430  42.725  42.7965   \n",
       "2017-09-15      42.662290  -0.618579   -0.620500   0.364061  42.725  42.7965   \n",
       "2017-09-18      42.689158   0.364061    0.363399   0.364061  42.715  42.7965   \n",
       "\n",
       "            SMA_50  SMA_100   SMA_200  signal  \n",
       "timestamp                                      \n",
       "2017-09-12  44.072        0  45.01955     1.0  \n",
       "2017-09-13  44.072        0  45.01955     1.0  \n",
       "2017-09-14  44.072        0  45.01955     1.0  \n",
       "2017-09-15  44.072        0  45.01955     1.0  \n",
       "2017-09-18  44.072        0  45.01955     1.0  \n",
       "\n",
       "[5 rows x 99 columns]"
      ]
     },
     "execution_count": 3,
     "metadata": {},
     "output_type": "execute_result"
    }
   ],
   "source": [
    "bot = BaseBot(\"testbot\")\n",
    "\n",
    "df = bot.getData(ticker = \"IWDA.AS\", start_date = datetime(2010,1,1), technical_indicators=[\"all\"])\n",
    "df = bot.getTrend(df)\n",
    "df.head()"
   ]
  },
  {
   "cell_type": "code",
   "execution_count": 4,
   "metadata": {},
   "outputs": [
    {
     "data": {
      "text/plain": [
       " 1.0    862\n",
       "-1.0    435\n",
       "Name: signal, dtype: int64"
      ]
     },
     "execution_count": 4,
     "metadata": {},
     "output_type": "execute_result"
    }
   ],
   "source": [
    "df[\"signal\"].value_counts()"
   ]
  },
  {
   "cell_type": "markdown",
   "metadata": {},
   "source": [
    "-1 represents sell (downtrend), 1 buy (uptrend), 0 is not yet decided"
   ]
  },
  {
   "cell_type": "markdown",
   "metadata": {},
   "source": [
    "## simulate best possible scenario\n",
    "\n",
    "(following signal)"
   ]
  },
  {
   "cell_type": "code",
   "execution_count": 5,
   "metadata": {},
   "outputs": [
    {
     "data": {
      "text/plain": [
       "<AxesSubplot:xlabel='timestamp'>"
      ]
     },
     "execution_count": 5,
     "metadata": {},
     "output_type": "execute_result"
    },
    {
     "data": {
      "image/png": "[encoded data removed]",
      "text/plain": [
       "<Figure size 640x480 with 1 Axes>"
      ]
     },
     "metadata": {},
     "output_type": "display_data"
    }
   ],
   "source": [
    "df[\"adj_close\"].plot()"
   ]
  },
  {
   "cell_type": "code",
   "execution_count": 6,
   "metadata": {},
   "outputs": [
    {
     "name": "stdout",
     "output_type": "stream",
     "text": [
      "index takes 1848 days\n"
     ]
    }
   ],
   "source": [
    "## calculate timespan\n",
    "days = (df.index[-1] - df.index[0]).days\n",
    "print(\"index takes %d days\" % days)"
   ]
  },
  {
   "cell_type": "code",
   "execution_count": 7,
   "metadata": {},
   "outputs": [
    {
     "name": "stdout",
     "output_type": "stream",
     "text": [
      "you would have bought 234.87961998358358 stocks\n",
      "just holding would have given you 6582.50$\n",
      "or 106.86$ per month\n"
     ]
    }
   ],
   "source": [
    "## baseline\n",
    "startMoney = 10000\n",
    "COMMISSION = 0.00025\n",
    "nrStocks = startMoney / df.iloc[0][\"adj_close\"]\n",
    "print(\"you would have bought {} stocks\".format(nrStocks))\n",
    "baselineWin = df.iloc[-1][\"adj_close\"] * nrStocks - startMoney\n",
    "print(\"just holding would have given you %.2f$\" % baselineWin)\n",
    "baselineWinPerMonth = baselineWin / days * 30\n",
    "print(\"or %.2f$ per month\" % baselineWinPerMonth)"
   ]
  },
  {
   "cell_type": "code",
   "execution_count": 8,
   "metadata": {},
   "outputs": [
    {
     "name": "stdout",
     "output_type": "stream",
     "text": [
      "following the signal would have given you 24914.74$\n",
      "or 404.46$ per month\n"
     ]
    },
    {
     "data": {
      "text/plain": [
       "[<matplotlib.lines.Line2D at 0x7f86f00e6b30>]"
      ]
     },
     "execution_count": 8,
     "metadata": {},
     "output_type": "execute_result"
    },
    {
     "data": {
      "image/png": "[encoded data removed]",
      "text/plain": [
       "<Figure size 640x480 with 1 Axes>"
      ]
     },
     "metadata": {},
     "output_type": "display_data"
    }
   ],
   "source": [
    "## next check if we follow signal what the best scenario would have been\n",
    "money = startMoney\n",
    "nrStocks = 0\n",
    "bestPortfolio = []\n",
    "for i in range(len(df)):\n",
    "    if df.iloc[i][\"signal\"] == 1 and money > 0 and nrStocks == 0:\n",
    "        amount = money / df.iloc[i][\"adj_close\"] * .99\n",
    "        cost = amount * df.iloc[i][\"adj_close\"] * (1 + COMMISSION)\n",
    "        money -= cost\n",
    "        nrStocks += amount\n",
    "    elif df.iloc[i][\"signal\"] == -1 and nrStocks > 0:\n",
    "        money += nrStocks * df.iloc[i][\"adj_close\"] * (1 - COMMISSION)\n",
    "        nrStocks = 0\n",
    "    bestPortfolio.append(money + nrStocks * df.iloc[i][\"adj_close\"])\n",
    "# last day sell nrStocks\n",
    "money += nrStocks * df.iloc[-1][\"adj_close\"] * (1 - COMMISSION)\n",
    "nrStocks = 0\n",
    "\n",
    "win = money - startMoney\n",
    "print(\"following the signal would have given you %.2f$\" % win)\n",
    "winPerMonth = win / days * 30\n",
    "print(\"or %.2f$ per month\" % winPerMonth)\n",
    "plt.plot(bestPortfolio)"
   ]
  },
  {
   "cell_type": "markdown",
   "metadata": {},
   "source": [
    "## find correlations"
   ]
  },
  {
   "cell_type": "code",
   "execution_count": 9,
   "metadata": {},
   "outputs": [
    {
     "data": {
      "text/plain": [
       "open      -0.012703\n",
       "high      -0.017628\n",
       "low       -0.002791\n",
       "close     -0.007943\n",
       "volume    -0.189934\n",
       "             ...   \n",
       "SMA_10    -0.050470\n",
       "SMA_50    -0.134352\n",
       "SMA_100         NaN\n",
       "SMA_200   -0.155830\n",
       "signal     1.000000\n",
       "Name: signal, Length: 98, dtype: float64"
      ]
     },
     "execution_count": 9,
     "metadata": {},
     "output_type": "execute_result"
    }
   ],
   "source": [
    "df.corr()[\"signal\"]"
   ]
  },
  {
   "cell_type": "code",
   "execution_count": 10,
   "metadata": {},
   "outputs": [
    {
     "name": "stdout",
     "output_type": "stream",
     "text": [
      "decision tree scores:  0.8384615384615385\n"
     ]
    }
   ],
   "source": [
    "## try to get some observations with decision tree\n",
    "from sklearn import tree\n",
    "from sklearn.model_selection import train_test_split\n",
    "x_train, x_test, y_train, y_test = train_test_split(  df.drop([\"signal\", \"ticker\"], axis = 1).fillna(method=\"bfill\").fillna(0), df[\"signal\"], test_size=0.2)\n",
    "clf = tree.DecisionTreeClassifier()\n",
    "clf.fit(x_train, y_train)\n",
    "scr = clf.score(x_test, y_test)\n",
    "print(\"decision tree scores: \", scr)\n",
    "pred = clf.predict(df.drop([\"signal\", \"ticker\"], axis = 1).fillna(method=\"bfill\").fillna(0))\n",
    "# tree.plot_tree(clf)"
   ]
  },
  {
   "cell_type": "code",
   "execution_count": 11,
   "metadata": {},
   "outputs": [],
   "source": [
    "import graphviz \n",
    "dot_data = tree.export_graphviz(clf, out_file=None,\n",
    "                        feature_names=x_train.columns,  \n",
    "                        class_names=[\"sell\", \"buy\"],\n",
    "                        filled=True, rounded=True,\n",
    "                        special_characters=True) \n",
    "graph = graphviz.Source(dot_data) \n",
    "# graph "
   ]
  },
  {
   "cell_type": "markdown",
   "metadata": {},
   "source": [
    "## simulate one run with training data"
   ]
  },
  {
   "cell_type": "code",
   "execution_count": 12,
   "metadata": {},
   "outputs": [
    {
     "name": "stdout",
     "output_type": "stream",
     "text": [
      "the decision tree with lookback 0 would have given you 19817.72$\n",
      "or +39.14% per year\n",
      "or 321.72$ per month\n"
     ]
    },
    {
     "data": {
      "text/plain": [
       "[<matplotlib.lines.Line2D at 0x7f86ed2301c0>]"
      ]
     },
     "execution_count": 12,
     "metadata": {},
     "output_type": "execute_result"
    },
    {
     "data": {
      "image/png": "[encoded data removed]",
      "text/plain": [
       "<Figure size 640x480 with 1 Axes>"
      ]
     },
     "metadata": {},
     "output_type": "display_data"
    }
   ],
   "source": [
    "\n",
    "\n",
    "\n",
    "bestLookback = -1\n",
    "bestLookbackWin = -9999\n",
    "bestLookbackPortfolio = []\n",
    "for lookback in [0]: # range(0, 10):\n",
    "    money = startMoney\n",
    "    nrStocks = 0\n",
    "    portfolio = []\n",
    "    for i in range(lookback, len(df)):\n",
    "        # prednow = np.median(pred[i-lookback:i])\n",
    "        prednow = pred[i]\n",
    "        if prednow == 1 and nrStocks == 0 and money > 10:\n",
    "            # buy\n",
    "            howmany = money / df.iloc[i][\"adj_close\"] * .99\n",
    "            cost = howmany * df.iloc[i][\"adj_close\"] * (1 + COMMISSION)\n",
    "            money -= cost\n",
    "            nrStocks += howmany\n",
    "        elif prednow == -1 and nrStocks > 0:\n",
    "            money += nrStocks * df.iloc[i][\"adj_close\"] * (1 - COMMISSION)\n",
    "            nrStocks = 0\n",
    "        portfolio.append(money + nrStocks * df.iloc[i][\"adj_close\"])\n",
    "    # last day sell\n",
    "    money += nrStocks * df.iloc[-1][\"adj_close\"] * (1 - COMMISSION)\n",
    "    win = money - startMoney\n",
    "    if win > bestLookbackWin:\n",
    "        bestLookback = lookback\n",
    "        bestLookbackWin = win\n",
    "        bestLookbackPortfolio = portfolio\n",
    "\n",
    "print(\"the decision tree with lookback %d would have given you %.2f$\" % (bestLookback, bestLookbackWin))\n",
    "winPct = bestLookbackWin / startMoney * 100\n",
    "winPctYear = winPct / days * 365\n",
    "print(\"or +%.2f%% per year\" % winPctYear)\n",
    "winPerMonth = bestLookbackWin / days * 30\n",
    "print(\"or %.2f$ per month\" % winPerMonth)\n",
    "plt.plot(bestLookbackPortfolio)\n",
    "# lookback of 1\n",
    "# the decision tree would have given you 19937.82$\n",
    "# or 323.67$ per month"
   ]
  },
  {
   "cell_type": "markdown",
   "metadata": {},
   "source": [
    "## try the same with xgb"
   ]
  },
  {
   "cell_type": "code",
   "execution_count": 13,
   "metadata": {},
   "outputs": [],
   "source": [
    "# xgb doesnt like -1\n",
    "y_train = y_train.replace(-1, 0)\n",
    "y_test = y_test.replace(-1, 0)"
   ]
  },
  {
   "cell_type": "code",
   "execution_count": 14,
   "metadata": {},
   "outputs": [],
   "source": [
    "import xgboost as xgb\n",
    "from sklearn import metrics\n",
    "\n",
    "\n",
    "clf = xgb.XGBClassifier(n_jobs = -1)\n",
    "clf.fit(x_train, y_train)\n",
    "# print(clf)\n",
    "predicted_y = clf.predict(x_test)\n"
   ]
  },
  {
   "cell_type": "code",
   "execution_count": 15,
   "metadata": {},
   "outputs": [
    {
     "name": "stdout",
     "output_type": "stream",
     "text": [
      "              precision    recall  f1-score   support\n",
      "\n",
      "         0.0       0.87      0.85      0.86        91\n",
      "         1.0       0.92      0.93      0.92       169\n",
      "\n",
      "    accuracy                           0.90       260\n",
      "   macro avg       0.89      0.89      0.89       260\n",
      "weighted avg       0.90      0.90      0.90       260\n",
      "\n",
      "[[ 77  14]\n",
      " [ 12 157]]\n"
     ]
    }
   ],
   "source": [
    "print(metrics.classification_report(y_test, predicted_y))\n",
    "print(metrics.confusion_matrix(y_test, predicted_y))\n",
    "\n"
   ]
  },
  {
   "cell_type": "code",
   "execution_count": 16,
   "metadata": {},
   "outputs": [
    {
     "data": {
      "text/plain": [
       "<AxesSubplot:title={'center':'Feature importance'}, xlabel='F score', ylabel='Features'>"
      ]
     },
     "execution_count": 16,
     "metadata": {},
     "output_type": "execute_result"
    },
    {
     "data": {
      "image/png": "[encoded data removed]",
      "text/plain": [
       "<Figure size 640x480 with 1 Axes>"
      ]
     },
     "metadata": {},
     "output_type": "display_data"
    }
   ],
   "source": [
    "xgb.plot_importance(clf, max_num_features=15)"
   ]
  },
  {
   "cell_type": "code",
   "execution_count": 17,
   "metadata": {},
   "outputs": [],
   "source": [
    "preds = clf.predict(df.drop([\"signal\", \"ticker\"], axis = 1).fillna(method=\"bfill\").fillna(0))"
   ]
  },
  {
   "cell_type": "code",
   "execution_count": 18,
   "metadata": {},
   "outputs": [
    {
     "name": "stderr",
     "output_type": "stream",
     "text": [
      "/home/jguese/miniconda3/lib/python3.10/site-packages/numpy/core/fromnumeric.py:3432: RuntimeWarning: Mean of empty slice.\n",
      "  return _methods._mean(a, axis=axis, dtype=dtype,\n",
      "/home/jguese/miniconda3/lib/python3.10/site-packages/numpy/core/_methods.py:190: RuntimeWarning: invalid value encountered in double_scalars\n",
      "  ret = ret.dtype.type(ret / rcount)\n"
     ]
    },
    {
     "name": "stdout",
     "output_type": "stream",
     "text": [
      "the XGB with lookback 3 would have given you 6510.10$\n",
      "or +12.86% per year\n",
      "or 105.68$ per month\n"
     ]
    },
    {
     "data": {
      "text/plain": [
       "[<matplotlib.lines.Line2D at 0x7f86d0616290>]"
      ]
     },
     "execution_count": 18,
     "metadata": {},
     "output_type": "execute_result"
    },
    {
     "data": {
      "image/png": "[encoded data removed]",
      "text/plain": [
       "<Figure size 640x480 with 1 Axes>"
      ]
     },
     "metadata": {},
     "output_type": "display_data"
    }
   ],
   "source": [
    "## do the same dance as with tree\n",
    "\n",
    "\n",
    "bestLookback = -1\n",
    "bestLookbackWin = -9999\n",
    "bestLookbackPortfolio = []\n",
    "for lookback in range(0, 10):\n",
    "    money = startMoney\n",
    "    nrStocks = 0\n",
    "    portfolio = []\n",
    "    for i in range(lookback, len(df)):\n",
    "        prednow = np.median(preds[i-lookback:i])\n",
    "        # prednow = preds[i]\n",
    "        if prednow == 1 and nrStocks == 0 and money > 10:\n",
    "            # buy\n",
    "            howmany = money / df.iloc[i][\"adj_close\"] * .99\n",
    "            cost = howmany * df.iloc[i][\"adj_close\"] * (1 + COMMISSION)\n",
    "            money -= cost\n",
    "            nrStocks += howmany\n",
    "        elif prednow == -1 and nrStocks > 0:\n",
    "            money += nrStocks * df.iloc[i][\"adj_close\"] * (1 - COMMISSION)\n",
    "            nrStocks = 0\n",
    "        portfolio.append(money + nrStocks * df.iloc[i][\"adj_close\"])\n",
    "    # last day sell\n",
    "    money += nrStocks * df.iloc[-1][\"adj_close\"] * (1 - COMMISSION)\n",
    "    win = money - startMoney\n",
    "    if win > bestLookbackWin:\n",
    "        bestLookback = lookback\n",
    "        bestLookbackWin = win\n",
    "        bestLookbackPortfolio = portfolio\n",
    "\n",
    "print(\"the XGB with lookback %d would have given you %.2f$\" % (bestLookback, bestLookbackWin))\n",
    "winPct = bestLookbackWin / startMoney * 100\n",
    "winPctYear = winPct / days * 365\n",
    "print(\"or +%.2f%% per year\" % winPctYear)\n",
    "winPerMonth = bestLookbackWin / days * 30\n",
    "print(\"or %.2f$ per month\" % winPerMonth)\n",
    "plt.plot(bestLookbackPortfolio)\n",
    "## tree\n",
    "# the decision tree with lookback 0 would have given you 19227.17$\n",
    "# or +37.98% per year\n",
    "# or 312.13$ per month\n",
    "## XGB - actually not too nice\n",
    "# the XGB with lookback 3 would have given you 6510.10$\n",
    "# or +12.86% per year\n",
    "# or 105.68$ per month\n"
   ]
  },
  {
   "cell_type": "markdown",
   "metadata": {},
   "source": [
    "## lgbm classifer"
   ]
  },
  {
   "cell_type": "code",
   "execution_count": 19,
   "metadata": {},
   "outputs": [
    {
     "name": "stdout",
     "output_type": "stream",
     "text": [
      "              precision    recall  f1-score   support\n",
      "\n",
      "         0.0       0.88      0.80      0.84        91\n",
      "         1.0       0.90      0.94      0.92       169\n",
      "\n",
      "    accuracy                           0.89       260\n",
      "   macro avg       0.89      0.87      0.88       260\n",
      "weighted avg       0.89      0.89      0.89       260\n",
      "\n",
      "[[ 73  18]\n",
      " [ 10 159]]\n"
     ]
    }
   ],
   "source": [
    "import lightgbm as ltb\n",
    "clf = ltb.LGBMClassifier()\n",
    "clf.fit(x_train, y_train)\n",
    "predicted_y = clf.predict(x_test)\n",
    "print(metrics.classification_report(y_test, predicted_y))\n",
    "print(metrics.confusion_matrix(y_test, predicted_y))"
   ]
  },
  {
   "cell_type": "code",
   "execution_count": 20,
   "metadata": {},
   "outputs": [],
   "source": [
    "preds = clf.predict(df.drop([\"signal\", \"ticker\"], axis = 1).fillna(method=\"bfill\").fillna(0))"
   ]
  },
  {
   "cell_type": "code",
   "execution_count": 21,
   "metadata": {},
   "outputs": [
    {
     "name": "stderr",
     "output_type": "stream",
     "text": [
      "/home/jguese/miniconda3/lib/python3.10/site-packages/numpy/core/fromnumeric.py:3432: RuntimeWarning: Mean of empty slice.\n",
      "  return _methods._mean(a, axis=axis, dtype=dtype,\n",
      "/home/jguese/miniconda3/lib/python3.10/site-packages/numpy/core/_methods.py:190: RuntimeWarning: invalid value encountered in double_scalars\n",
      "  ret = ret.dtype.type(ret / rcount)\n"
     ]
    },
    {
     "name": "stdout",
     "output_type": "stream",
     "text": [
      "the lightgbm with lookback 3 would have given you 6510.10$\n",
      "or +12.86% per year\n",
      "or 105.68$ per month\n"
     ]
    },
    {
     "data": {
      "text/plain": [
       "[<matplotlib.lines.Line2D at 0x7f86b3f6a230>]"
      ]
     },
     "execution_count": 21,
     "metadata": {},
     "output_type": "execute_result"
    },
    {
     "data": {
      "image/png": "[encoded data removed]",
      "text/plain": [
       "<Figure size 640x480 with 1 Axes>"
      ]
     },
     "metadata": {},
     "output_type": "display_data"
    }
   ],
   "source": [
    "## do the same dance as with xgb\n",
    "\n",
    "\n",
    "bestLookback = -1\n",
    "bestLookbackWin = -9999\n",
    "bestLookbackPortfolio = []\n",
    "for lookback in range(0, 10):\n",
    "    money = startMoney\n",
    "    nrStocks = 0\n",
    "    portfolio = []\n",
    "    for i in range(lookback, len(df)):\n",
    "        prednow = np.median(preds[i-lookback:i])\n",
    "        # prednow = preds[i]\n",
    "        if prednow == 1 and nrStocks == 0 and money > 10:\n",
    "            # buy\n",
    "            howmany = money / df.iloc[i][\"adj_close\"] * .99\n",
    "            cost = howmany * df.iloc[i][\"adj_close\"] * (1 + COMMISSION)\n",
    "            money -= cost\n",
    "            nrStocks += howmany\n",
    "        elif prednow == -1 and nrStocks > 0:\n",
    "            money += nrStocks * df.iloc[i][\"adj_close\"] * (1 - COMMISSION)\n",
    "            nrStocks = 0\n",
    "        portfolio.append(money + nrStocks * df.iloc[i][\"adj_close\"])\n",
    "    # last day sell\n",
    "    money += nrStocks * df.iloc[-1][\"adj_close\"] * (1 - COMMISSION)\n",
    "    win = money - startMoney\n",
    "    if win > bestLookbackWin:\n",
    "        bestLookback = lookback\n",
    "        bestLookbackWin = win\n",
    "        bestLookbackPortfolio = portfolio\n",
    "\n",
    "print(\"the lightgbm with lookback %d would have given you %.2f$\" % (bestLookback, bestLookbackWin))\n",
    "winPct = bestLookbackWin / startMoney * 100\n",
    "winPctYear = winPct / days * 365\n",
    "print(\"or +%.2f%% per year\" % winPctYear)\n",
    "winPerMonth = bestLookbackWin / days * 30\n",
    "print(\"or %.2f$ per month\" % winPerMonth)\n",
    "plt.plot(bestLookbackPortfolio)\n",
    "## tree\n",
    "# the decision tree with lookback 0 would have given you 19227.17$\n",
    "# or +37.98% per year\n",
    "# or 312.13$ per month\n",
    "## XGB - actually not too nice\n",
    "# the xgb with lookback 3 would have given you 3497.44$\n",
    "# or +6.91% per year\n",
    "# or 56.78$ per month\n",
    "## lightgbm \n",
    "# the lightgbm with lookback 3 would have given you 6510.10$\n",
    "# or +12.86% per year\n",
    "# or 105.68$ per month"
   ]
  },
  {
   "cell_type": "markdown",
   "metadata": {},
   "source": [
    "## linear SVC with pipeline"
   ]
  },
  {
   "cell_type": "code",
   "execution_count": 22,
   "metadata": {},
   "outputs": [
    {
     "name": "stdout",
     "output_type": "stream",
     "text": [
      "              precision    recall  f1-score   support\n",
      "\n",
      "         0.0       0.86      0.82      0.84        91\n",
      "         1.0       0.91      0.93      0.92       169\n",
      "\n",
      "    accuracy                           0.89       260\n",
      "   macro avg       0.88      0.88      0.88       260\n",
      "weighted avg       0.89      0.89      0.89       260\n",
      "\n",
      "[[ 75  16]\n",
      " [ 12 157]]\n"
     ]
    },
    {
     "name": "stderr",
     "output_type": "stream",
     "text": [
      "/home/jguese/miniconda3/lib/python3.10/site-packages/sklearn/svm/_base.py:1225: ConvergenceWarning: Liblinear failed to converge, increase the number of iterations.\n",
      "  warnings.warn(\n"
     ]
    }
   ],
   "source": [
    "from sklearn.svm import LinearSVC\n",
    "from sklearn.pipeline import make_pipeline\n",
    "from sklearn.preprocessing import StandardScaler\n",
    "clf = make_pipeline(StandardScaler(),LinearSVC())\n",
    "\n",
    "clf.fit(x_train, y_train)\n",
    "\n",
    "predicted_y = clf.predict(x_test)\n",
    "print(metrics.classification_report(y_test, predicted_y))\n",
    "print(metrics.confusion_matrix(y_test, predicted_y))"
   ]
  },
  {
   "cell_type": "code",
   "execution_count": 23,
   "metadata": {},
   "outputs": [
    {
     "name": "stderr",
     "output_type": "stream",
     "text": [
      "/home/jguese/miniconda3/lib/python3.10/site-packages/sklearn/svm/_base.py:1225: ConvergenceWarning: Liblinear failed to converge, increase the number of iterations.\n",
      "  warnings.warn(\n",
      "/home/jguese/miniconda3/lib/python3.10/site-packages/sklearn/svm/_base.py:1225: ConvergenceWarning: Liblinear failed to converge, increase the number of iterations.\n",
      "  warnings.warn(\n",
      "/home/jguese/miniconda3/lib/python3.10/site-packages/sklearn/svm/_base.py:1225: ConvergenceWarning: Liblinear failed to converge, increase the number of iterations.\n",
      "  warnings.warn(\n",
      "/home/jguese/miniconda3/lib/python3.10/site-packages/sklearn/svm/_base.py:1225: ConvergenceWarning: Liblinear failed to converge, increase the number of iterations.\n",
      "  warnings.warn(\n",
      "/home/jguese/miniconda3/lib/python3.10/site-packages/sklearn/svm/_base.py:1225: ConvergenceWarning: Liblinear failed to converge, increase the number of iterations.\n",
      "  warnings.warn(\n",
      "/home/jguese/miniconda3/lib/python3.10/site-packages/sklearn/svm/_base.py:1225: ConvergenceWarning: Liblinear failed to converge, increase the number of iterations.\n",
      "  warnings.warn(\n",
      "/home/jguese/miniconda3/lib/python3.10/site-packages/sklearn/svm/_base.py:1225: ConvergenceWarning: Liblinear failed to converge, increase the number of iterations.\n",
      "  warnings.warn(\n",
      "/home/jguese/miniconda3/lib/python3.10/site-packages/sklearn/svm/_base.py:1225: ConvergenceWarning: Liblinear failed to converge, increase the number of iterations.\n",
      "  warnings.warn(\n",
      "/home/jguese/miniconda3/lib/python3.10/site-packages/sklearn/svm/_base.py:1225: ConvergenceWarning: Liblinear failed to converge, increase the number of iterations.\n",
      "  warnings.warn(\n",
      "/home/jguese/miniconda3/lib/python3.10/site-packages/sklearn/svm/_base.py:1225: ConvergenceWarning: Liblinear failed to converge, increase the number of iterations.\n",
      "  warnings.warn(\n",
      "/home/jguese/miniconda3/lib/python3.10/site-packages/sklearn/svm/_base.py:1225: ConvergenceWarning: Liblinear failed to converge, increase the number of iterations.\n",
      "  warnings.warn(\n",
      "/home/jguese/miniconda3/lib/python3.10/site-packages/sklearn/svm/_base.py:1225: ConvergenceWarning: Liblinear failed to converge, increase the number of iterations.\n",
      "  warnings.warn(\n",
      "/home/jguese/miniconda3/lib/python3.10/site-packages/sklearn/svm/_base.py:1225: ConvergenceWarning: Liblinear failed to converge, increase the number of iterations.\n",
      "  warnings.warn(\n",
      "/home/jguese/miniconda3/lib/python3.10/site-packages/sklearn/svm/_base.py:1225: ConvergenceWarning: Liblinear failed to converge, increase the number of iterations.\n",
      "  warnings.warn(\n",
      "/home/jguese/miniconda3/lib/python3.10/site-packages/sklearn/svm/_base.py:1225: ConvergenceWarning: Liblinear failed to converge, increase the number of iterations.\n",
      "  warnings.warn(\n",
      "/home/jguese/miniconda3/lib/python3.10/site-packages/sklearn/svm/_base.py:1225: ConvergenceWarning: Liblinear failed to converge, increase the number of iterations.\n",
      "  warnings.warn(\n",
      "/home/jguese/miniconda3/lib/python3.10/site-packages/sklearn/svm/_base.py:1225: ConvergenceWarning: Liblinear failed to converge, increase the number of iterations.\n",
      "  warnings.warn(\n",
      "/home/jguese/miniconda3/lib/python3.10/site-packages/sklearn/svm/_base.py:1225: ConvergenceWarning: Liblinear failed to converge, increase the number of iterations.\n",
      "  warnings.warn(\n",
      "/home/jguese/miniconda3/lib/python3.10/site-packages/sklearn/svm/_base.py:1225: ConvergenceWarning: Liblinear failed to converge, increase the number of iterations.\n",
      "  warnings.warn(\n",
      "/home/jguese/miniconda3/lib/python3.10/site-packages/sklearn/svm/_base.py:1225: ConvergenceWarning: Liblinear failed to converge, increase the number of iterations.\n",
      "  warnings.warn(\n",
      "/home/jguese/miniconda3/lib/python3.10/site-packages/sklearn/svm/_base.py:1225: ConvergenceWarning: Liblinear failed to converge, increase the number of iterations.\n",
      "  warnings.warn(\n",
      "/home/jguese/miniconda3/lib/python3.10/site-packages/sklearn/svm/_base.py:1225: ConvergenceWarning: Liblinear failed to converge, increase the number of iterations.\n",
      "  warnings.warn(\n",
      "/home/jguese/miniconda3/lib/python3.10/site-packages/sklearn/svm/_base.py:1225: ConvergenceWarning: Liblinear failed to converge, increase the number of iterations.\n",
      "  warnings.warn(\n",
      "/home/jguese/miniconda3/lib/python3.10/site-packages/sklearn/svm/_base.py:1225: ConvergenceWarning: Liblinear failed to converge, increase the number of iterations.\n",
      "  warnings.warn(\n",
      "/home/jguese/miniconda3/lib/python3.10/site-packages/sklearn/svm/_base.py:1225: ConvergenceWarning: Liblinear failed to converge, increase the number of iterations.\n",
      "  warnings.warn(\n",
      "/home/jguese/miniconda3/lib/python3.10/site-packages/sklearn/svm/_base.py:1225: ConvergenceWarning: Liblinear failed to converge, increase the number of iterations.\n",
      "  warnings.warn(\n",
      "/home/jguese/miniconda3/lib/python3.10/site-packages/sklearn/svm/_base.py:1225: ConvergenceWarning: Liblinear failed to converge, increase the number of iterations.\n",
      "  warnings.warn(\n",
      "/home/jguese/miniconda3/lib/python3.10/site-packages/sklearn/svm/_base.py:1225: ConvergenceWarning: Liblinear failed to converge, increase the number of iterations.\n",
      "  warnings.warn(\n",
      "/home/jguese/miniconda3/lib/python3.10/site-packages/sklearn/svm/_base.py:1225: ConvergenceWarning: Liblinear failed to converge, increase the number of iterations.\n",
      "  warnings.warn(\n",
      "/home/jguese/miniconda3/lib/python3.10/site-packages/sklearn/svm/_base.py:1225: ConvergenceWarning: Liblinear failed to converge, increase the number of iterations.\n",
      "  warnings.warn(\n",
      "/home/jguese/miniconda3/lib/python3.10/site-packages/sklearn/svm/_base.py:1225: ConvergenceWarning: Liblinear failed to converge, increase the number of iterations.\n",
      "  warnings.warn(\n",
      "/home/jguese/miniconda3/lib/python3.10/site-packages/sklearn/svm/_base.py:1225: ConvergenceWarning: Liblinear failed to converge, increase the number of iterations.\n",
      "  warnings.warn(\n",
      "/home/jguese/miniconda3/lib/python3.10/site-packages/sklearn/svm/_base.py:1225: ConvergenceWarning: Liblinear failed to converge, increase the number of iterations.\n",
      "  warnings.warn(\n",
      "/home/jguese/miniconda3/lib/python3.10/site-packages/sklearn/svm/_base.py:1225: ConvergenceWarning: Liblinear failed to converge, increase the number of iterations.\n",
      "  warnings.warn(\n",
      "/home/jguese/miniconda3/lib/python3.10/site-packages/sklearn/svm/_base.py:1225: ConvergenceWarning: Liblinear failed to converge, increase the number of iterations.\n",
      "  warnings.warn(\n",
      "/home/jguese/miniconda3/lib/python3.10/site-packages/sklearn/svm/_base.py:1225: ConvergenceWarning: Liblinear failed to converge, increase the number of iterations.\n",
      "  warnings.warn(\n"
     ]
    },
    {
     "name": "stdout",
     "output_type": "stream",
     "text": [
      "{'SVC__C': 0.01}\n",
      "              precision    recall  f1-score   support\n",
      "\n",
      "         0.0       0.88      0.87      0.87        91\n",
      "         1.0       0.93      0.93      0.93       169\n",
      "\n",
      "    accuracy                           0.91       260\n",
      "   macro avg       0.90      0.90      0.90       260\n",
      "weighted avg       0.91      0.91      0.91       260\n",
      "\n",
      "[[ 79  12]\n",
      " [ 11 158]]\n"
     ]
    }
   ],
   "source": [
    "## hyperparameter tuning\n",
    "from sklearn.model_selection import GridSearchCV\n",
    "from sklearn.pipeline import Pipeline\n",
    "\n",
    "param_grid = {'SVC__C':np.arange(0.01,100,10)}\n",
    "\n",
    "SVCpipe = Pipeline([('scale', StandardScaler()),\n",
    "                ('SVC',LinearSVC())])\n",
    "linearSVC = GridSearchCV(SVCpipe,param_grid,cv=4,return_train_score=True,n_jobs = -1)\n",
    "linearSVC.fit(x_train,y_train)\n",
    "print(linearSVC.best_params_)\n",
    "bestlinearSVC = linearSVC.best_estimator_\n",
    "\n",
    "predicted_y = bestlinearSVC.predict(x_test)\n",
    "print(metrics.classification_report(y_test, predicted_y))\n",
    "print(metrics.confusion_matrix(y_test, predicted_y))"
   ]
  },
  {
   "cell_type": "markdown",
   "metadata": {},
   "source": [
    "# now something interesting, what if we use the same for another stock :o?"
   ]
  },
  {
   "cell_type": "code",
   "execution_count": 24,
   "metadata": {},
   "outputs": [
    {
     "data": {
      "text/html": [
       "<style>#sk-container-id-1 {color: black;background-color: white;}#sk-container-id-1 pre{padding: 0;}#sk-container-id-1 div.sk-toggleable {background-color: white;}#sk-container-id-1 label.sk-toggleable__label {cursor: pointer;display: block;width: 100%;margin-bottom: 0;padding: 0.3em;box-sizing: border-box;text-align: center;}#sk-container-id-1 label.sk-toggleable__label-arrow:before {content: \"▸\";float: left;margin-right: 0.25em;color: #696969;}#sk-container-id-1 label.sk-toggleable__label-arrow:hover:before {color: black;}#sk-container-id-1 div.sk-estimator:hover label.sk-toggleable__label-arrow:before {color: black;}#sk-container-id-1 div.sk-toggleable__content {max-height: 0;max-width: 0;overflow: hidden;text-align: left;background-color: #f0f8ff;}#sk-container-id-1 div.sk-toggleable__content pre {margin: 0.2em;color: black;border-radius: 0.25em;background-color: #f0f8ff;}#sk-container-id-1 input.sk-toggleable__control:checked~div.sk-toggleable__content {max-height: 200px;max-width: 100%;overflow: auto;}#sk-container-id-1 input.sk-toggleable__control:checked~label.sk-toggleable__label-arrow:before {content: \"▾\";}#sk-container-id-1 div.sk-estimator input.sk-toggleable__control:checked~label.sk-toggleable__label {background-color: #d4ebff;}#sk-container-id-1 div.sk-label input.sk-toggleable__control:checked~label.sk-toggleable__label {background-color: #d4ebff;}#sk-container-id-1 input.sk-hidden--visually {border: 0;clip: rect(1px 1px 1px 1px);clip: rect(1px, 1px, 1px, 1px);height: 1px;margin: -1px;overflow: hidden;padding: 0;position: absolute;width: 1px;}#sk-container-id-1 div.sk-estimator {font-family: monospace;background-color: #f0f8ff;border: 1px dotted black;border-radius: 0.25em;box-sizing: border-box;margin-bottom: 0.5em;}#sk-container-id-1 div.sk-estimator:hover {background-color: #d4ebff;}#sk-container-id-1 div.sk-parallel-item::after {content: \"\";width: 100%;border-bottom: 1px solid gray;flex-grow: 1;}#sk-container-id-1 div.sk-label:hover label.sk-toggleable__label {background-color: #d4ebff;}#sk-container-id-1 div.sk-serial::before {content: \"\";position: absolute;border-left: 1px solid gray;box-sizing: border-box;top: 0;bottom: 0;left: 50%;z-index: 0;}#sk-container-id-1 div.sk-serial {display: flex;flex-direction: column;align-items: center;background-color: white;padding-right: 0.2em;padding-left: 0.2em;position: relative;}#sk-container-id-1 div.sk-item {position: relative;z-index: 1;}#sk-container-id-1 div.sk-parallel {display: flex;align-items: stretch;justify-content: center;background-color: white;position: relative;}#sk-container-id-1 div.sk-item::before, #sk-container-id-1 div.sk-parallel-item::before {content: \"\";position: absolute;border-left: 1px solid gray;box-sizing: border-box;top: 0;bottom: 0;left: 50%;z-index: -1;}#sk-container-id-1 div.sk-parallel-item {display: flex;flex-direction: column;z-index: 1;position: relative;background-color: white;}#sk-container-id-1 div.sk-parallel-item:first-child::after {align-self: flex-end;width: 50%;}#sk-container-id-1 div.sk-parallel-item:last-child::after {align-self: flex-start;width: 50%;}#sk-container-id-1 div.sk-parallel-item:only-child::after {width: 0;}#sk-container-id-1 div.sk-dashed-wrapped {border: 1px dashed gray;margin: 0 0.4em 0.5em 0.4em;box-sizing: border-box;padding-bottom: 0.4em;background-color: white;}#sk-container-id-1 div.sk-label label {font-family: monospace;font-weight: bold;display: inline-block;line-height: 1.2em;}#sk-container-id-1 div.sk-label-container {text-align: center;}#sk-container-id-1 div.sk-container {/* jupyter's `normalize.less` sets `[hidden] { display: none; }` but bootstrap.min.css set `[hidden] { display: none !important; }` so we also need the `!important` here to be able to override the default hidden behavior on the sphinx rendered scikit-learn.org. See: https://github.com/scikit-learn/scikit-learn/issues/21755 */display: inline-block !important;position: relative;}#sk-container-id-1 div.sk-text-repr-fallback {display: none;}</style><div id=\"sk-container-id-1\" class=\"sk-top-container\"><div class=\"sk-text-repr-fallback\"><pre>DecisionTreeClassifier()</pre><b>In a Jupyter environment, please rerun this cell to show the HTML representation or trust the notebook. <br />On GitHub, the HTML representation is unable to render, please try loading this page with nbviewer.org.</b></div><div class=\"sk-container\" hidden><div class=\"sk-item\"><div class=\"sk-estimator sk-toggleable\"><input class=\"sk-toggleable__control sk-hidden--visually\" id=\"sk-estimator-id-1\" type=\"checkbox\" checked><label for=\"sk-estimator-id-1\" class=\"sk-toggleable__label sk-toggleable__label-arrow\">DecisionTreeClassifier</label><div class=\"sk-toggleable__content\"><pre>DecisionTreeClassifier()</pre></div></div></div></div></div>"
      ],
      "text/plain": [
       "DecisionTreeClassifier()"
      ]
     },
     "execution_count": 24,
     "metadata": {},
     "output_type": "execute_result"
    }
   ],
   "source": [
    "clf = tree.DecisionTreeClassifier()\n",
    "clf.fit(x_train, y_train)"
   ]
  },
  {
   "cell_type": "code",
   "execution_count": 25,
   "metadata": {},
   "outputs": [
    {
     "name": "stdout",
     "output_type": "stream",
     "text": [
      "              precision    recall  f1-score   support\n",
      "\n",
      "        -1.0       0.00      0.00      0.00       454\n",
      "         0.0       0.00      0.00      0.00         0\n",
      "         1.0       0.82      0.82      0.82       822\n",
      "\n",
      "    accuracy                           0.53      1276\n",
      "   macro avg       0.27      0.27      0.27      1276\n",
      "weighted avg       0.53      0.53      0.53      1276\n",
      "\n",
      "[[  0 307 147]\n",
      " [  0   0   0]\n",
      " [  0 148 674]]\n"
     ]
    },
    {
     "name": "stderr",
     "output_type": "stream",
     "text": [
      "/home/jguese/miniconda3/lib/python3.10/site-packages/sklearn/metrics/_classification.py:1334: UndefinedMetricWarning: Precision and F-score are ill-defined and being set to 0.0 in labels with no predicted samples. Use `zero_division` parameter to control this behavior.\n",
      "  _warn_prf(average, modifier, msg_start, len(result))\n",
      "/home/jguese/miniconda3/lib/python3.10/site-packages/sklearn/metrics/_classification.py:1334: UndefinedMetricWarning: Recall and F-score are ill-defined and being set to 0.0 in labels with no true samples. Use `zero_division` parameter to control this behavior.\n",
      "  _warn_prf(average, modifier, msg_start, len(result))\n",
      "/home/jguese/miniconda3/lib/python3.10/site-packages/sklearn/metrics/_classification.py:1334: UndefinedMetricWarning: Precision and F-score are ill-defined and being set to 0.0 in labels with no predicted samples. Use `zero_division` parameter to control this behavior.\n",
      "  _warn_prf(average, modifier, msg_start, len(result))\n",
      "/home/jguese/miniconda3/lib/python3.10/site-packages/sklearn/metrics/_classification.py:1334: UndefinedMetricWarning: Recall and F-score are ill-defined and being set to 0.0 in labels with no true samples. Use `zero_division` parameter to control this behavior.\n",
      "  _warn_prf(average, modifier, msg_start, len(result))\n",
      "/home/jguese/miniconda3/lib/python3.10/site-packages/sklearn/metrics/_classification.py:1334: UndefinedMetricWarning: Precision and F-score are ill-defined and being set to 0.0 in labels with no predicted samples. Use `zero_division` parameter to control this behavior.\n",
      "  _warn_prf(average, modifier, msg_start, len(result))\n",
      "/home/jguese/miniconda3/lib/python3.10/site-packages/sklearn/metrics/_classification.py:1334: UndefinedMetricWarning: Recall and F-score are ill-defined and being set to 0.0 in labels with no true samples. Use `zero_division` parameter to control this behavior.\n",
      "  _warn_prf(average, modifier, msg_start, len(result))\n"
     ]
    }
   ],
   "source": [
    "df = bot.getData(ticker = \"AAPL\", start_date = datetime(2010,1,1), technical_indicators=[\"all\"])\n",
    "df = bot.getTrend(df)\n",
    "\n",
    "preds = clf.predict(df.drop([\"signal\", \"ticker\"], axis = 1).fillna(method=\"bfill\").fillna(0))\n",
    "print(metrics.classification_report(df[\"signal\"], preds))\n",
    "print(metrics.confusion_matrix(df[\"signal\"], preds))"
   ]
  },
  {
   "cell_type": "markdown",
   "metadata": {},
   "source": [
    "if we use it for another stock performance is not too good!\n",
    "but well that shouldn't surprise us.\n",
    "\n",
    "next try to train on a ton of different data and see if we can create a generalized predictor"
   ]
  },
  {
   "cell_type": "code",
   "execution_count": 26,
   "metadata": {},
   "outputs": [
    {
     "name": "stdout",
     "output_type": "stream",
     "text": [
      "geddin stock: CWEG.L\n",
      "geddin stock: IWDA.AS\n",
      "geddin stock: EEM\n",
      "geddin stock: AAPL\n",
      "geddin stock: MSFT\n",
      "geddin stock: GOOG\n",
      "geddin stock: TSLA\n",
      "geddin stock: AMD\n",
      "geddin stock: AMZN\n",
      "geddin stock: DG\n",
      "geddin stock: ETH-USD\n"
     ]
    },
    {
     "data": {
      "text/html": [
       "<div>\n",
       "<style scoped>\n",
       "    .dataframe tbody tr th:only-of-type {\n",
       "        vertical-align: middle;\n",
       "    }\n",
       "\n",
       "    .dataframe tbody tr th {\n",
       "        vertical-align: top;\n",
       "    }\n",
       "\n",
       "    .dataframe thead th {\n",
       "        text-align: right;\n",
       "    }\n",
       "</style>\n",
       "<table border=\"1\" class=\"dataframe\">\n",
       "  <thead>\n",
       "    <tr style=\"text-align: right;\">\n",
       "      <th></th>\n",
       "      <th>ticker</th>\n",
       "      <th>open</th>\n",
       "      <th>high</th>\n",
       "      <th>low</th>\n",
       "      <th>close</th>\n",
       "      <th>volume</th>\n",
       "      <th>adj_close</th>\n",
       "      <th>volume_adi</th>\n",
       "      <th>volume_obv</th>\n",
       "      <th>volume_cmf</th>\n",
       "      <th>...</th>\n",
       "      <th>momentum_kama</th>\n",
       "      <th>others_dr</th>\n",
       "      <th>others_dlr</th>\n",
       "      <th>others_cr</th>\n",
       "      <th>SMA_3</th>\n",
       "      <th>SMA_10</th>\n",
       "      <th>SMA_50</th>\n",
       "      <th>SMA_100</th>\n",
       "      <th>SMA_200</th>\n",
       "      <th>signal</th>\n",
       "    </tr>\n",
       "    <tr>\n",
       "      <th>timestamp</th>\n",
       "      <th></th>\n",
       "      <th></th>\n",
       "      <th></th>\n",
       "      <th></th>\n",
       "      <th></th>\n",
       "      <th></th>\n",
       "      <th></th>\n",
       "      <th></th>\n",
       "      <th></th>\n",
       "      <th></th>\n",
       "      <th></th>\n",
       "      <th></th>\n",
       "      <th></th>\n",
       "      <th></th>\n",
       "      <th></th>\n",
       "      <th></th>\n",
       "      <th></th>\n",
       "      <th></th>\n",
       "      <th></th>\n",
       "      <th></th>\n",
       "      <th></th>\n",
       "    </tr>\n",
       "  </thead>\n",
       "  <tbody>\n",
       "    <tr>\n",
       "      <th>2018-03-09</th>\n",
       "      <td>CWEG.L</td>\n",
       "      <td>22440.0</td>\n",
       "      <td>22440.0</td>\n",
       "      <td>22430.0</td>\n",
       "      <td>22470.0</td>\n",
       "      <td>1400</td>\n",
       "      <td>22470.0</td>\n",
       "      <td>9800.0</td>\n",
       "      <td>1400.0</td>\n",
       "      <td>7.000000</td>\n",
       "      <td>...</td>\n",
       "      <td>22470.000000</td>\n",
       "      <td>-4.433549</td>\n",
       "      <td>-0.591421</td>\n",
       "      <td>-0.589675</td>\n",
       "      <td>22313.333333</td>\n",
       "      <td>25491.75</td>\n",
       "      <td>21117.01</td>\n",
       "      <td>0</td>\n",
       "      <td>0.0</td>\n",
       "      <td>1.0</td>\n",
       "    </tr>\n",
       "    <tr>\n",
       "      <th>2018-03-21</th>\n",
       "      <td>CWEG.L</td>\n",
       "      <td>21870.0</td>\n",
       "      <td>21870.0</td>\n",
       "      <td>21870.0</td>\n",
       "      <td>22337.5</td>\n",
       "      <td>1400</td>\n",
       "      <td>22337.5</td>\n",
       "      <td>9800.0</td>\n",
       "      <td>-34.0</td>\n",
       "      <td>3.500000</td>\n",
       "      <td>...</td>\n",
       "      <td>22409.540207</td>\n",
       "      <td>-0.589675</td>\n",
       "      <td>-0.591421</td>\n",
       "      <td>-0.589675</td>\n",
       "      <td>23607.500000</td>\n",
       "      <td>25041.25</td>\n",
       "      <td>21117.01</td>\n",
       "      <td>0</td>\n",
       "      <td>0.0</td>\n",
       "      <td>1.0</td>\n",
       "    </tr>\n",
       "    <tr>\n",
       "      <th>2018-03-27</th>\n",
       "      <td>CWEG.L</td>\n",
       "      <td>22090.0</td>\n",
       "      <td>22090.0</td>\n",
       "      <td>22090.0</td>\n",
       "      <td>22132.5</td>\n",
       "      <td>34</td>\n",
       "      <td>22132.5</td>\n",
       "      <td>9800.0</td>\n",
       "      <td>-34.0</td>\n",
       "      <td>3.458010</td>\n",
       "      <td>...</td>\n",
       "      <td>22281.687834</td>\n",
       "      <td>-0.917739</td>\n",
       "      <td>-0.921976</td>\n",
       "      <td>-1.502003</td>\n",
       "      <td>22313.333333</td>\n",
       "      <td>25491.75</td>\n",
       "      <td>21117.01</td>\n",
       "      <td>0</td>\n",
       "      <td>0.0</td>\n",
       "      <td>1.0</td>\n",
       "    </tr>\n",
       "    <tr>\n",
       "      <th>2018-05-15</th>\n",
       "      <td>CWEG.L</td>\n",
       "      <td>26400.0</td>\n",
       "      <td>26400.0</td>\n",
       "      <td>26400.0</td>\n",
       "      <td>26352.5</td>\n",
       "      <td>619</td>\n",
       "      <td>26352.5</td>\n",
       "      <td>9800.0</td>\n",
       "      <td>585.0</td>\n",
       "      <td>2.838112</td>\n",
       "      <td>...</td>\n",
       "      <td>22828.240240</td>\n",
       "      <td>19.066983</td>\n",
       "      <td>17.451603</td>\n",
       "      <td>17.278594</td>\n",
       "      <td>23607.500000</td>\n",
       "      <td>25041.25</td>\n",
       "      <td>21117.01</td>\n",
       "      <td>0</td>\n",
       "      <td>0.0</td>\n",
       "      <td>1.0</td>\n",
       "    </tr>\n",
       "    <tr>\n",
       "      <th>2018-05-29</th>\n",
       "      <td>CWEG.L</td>\n",
       "      <td>25345.0</td>\n",
       "      <td>25345.0</td>\n",
       "      <td>25345.0</td>\n",
       "      <td>25532.5</td>\n",
       "      <td>619</td>\n",
       "      <td>25532.5</td>\n",
       "      <td>9800.0</td>\n",
       "      <td>-34.0</td>\n",
       "      <td>2.406680</td>\n",
       "      <td>...</td>\n",
       "      <td>23200.201165</td>\n",
       "      <td>-3.111659</td>\n",
       "      <td>-3.161100</td>\n",
       "      <td>13.629283</td>\n",
       "      <td>24672.500000</td>\n",
       "      <td>25491.75</td>\n",
       "      <td>21117.01</td>\n",
       "      <td>0</td>\n",
       "      <td>0.0</td>\n",
       "      <td>1.0</td>\n",
       "    </tr>\n",
       "  </tbody>\n",
       "</table>\n",
       "<p>5 rows × 99 columns</p>\n",
       "</div>"
      ],
      "text/plain": [
       "            ticker     open     high      low    close  volume  adj_close  \\\n",
       "timestamp                                                                   \n",
       "2018-03-09  CWEG.L  22440.0  22440.0  22430.0  22470.0    1400    22470.0   \n",
       "2018-03-21  CWEG.L  21870.0  21870.0  21870.0  22337.5    1400    22337.5   \n",
       "2018-03-27  CWEG.L  22090.0  22090.0  22090.0  22132.5      34    22132.5   \n",
       "2018-05-15  CWEG.L  26400.0  26400.0  26400.0  26352.5     619    26352.5   \n",
       "2018-05-29  CWEG.L  25345.0  25345.0  25345.0  25532.5     619    25532.5   \n",
       "\n",
       "            volume_adi  volume_obv  volume_cmf  ...  momentum_kama  others_dr  \\\n",
       "timestamp                                       ...                             \n",
       "2018-03-09      9800.0      1400.0    7.000000  ...   22470.000000  -4.433549   \n",
       "2018-03-21      9800.0       -34.0    3.500000  ...   22409.540207  -0.589675   \n",
       "2018-03-27      9800.0       -34.0    3.458010  ...   22281.687834  -0.917739   \n",
       "2018-05-15      9800.0       585.0    2.838112  ...   22828.240240  19.066983   \n",
       "2018-05-29      9800.0       -34.0    2.406680  ...   23200.201165  -3.111659   \n",
       "\n",
       "            others_dlr  others_cr         SMA_3    SMA_10    SMA_50  SMA_100  \\\n",
       "timestamp                                                                      \n",
       "2018-03-09   -0.591421  -0.589675  22313.333333  25491.75  21117.01        0   \n",
       "2018-03-21   -0.591421  -0.589675  23607.500000  25041.25  21117.01        0   \n",
       "2018-03-27   -0.921976  -1.502003  22313.333333  25491.75  21117.01        0   \n",
       "2018-05-15   17.451603  17.278594  23607.500000  25041.25  21117.01        0   \n",
       "2018-05-29   -3.161100  13.629283  24672.500000  25491.75  21117.01        0   \n",
       "\n",
       "            SMA_200  signal  \n",
       "timestamp                    \n",
       "2018-03-09      0.0     1.0  \n",
       "2018-03-21      0.0     1.0  \n",
       "2018-03-27      0.0     1.0  \n",
       "2018-05-15      0.0     1.0  \n",
       "2018-05-29      0.0     1.0  \n",
       "\n",
       "[5 rows x 99 columns]"
      ]
     },
     "execution_count": 26,
     "metadata": {},
     "output_type": "execute_result"
    }
   ],
   "source": [
    "bigDf = []\n",
    "for ticker in [\"CWEG.L\", \"IWDA.AS\", \"EEM\", \"AAPL\", \"MSFT\", \"GOOG\", \"TSLA\", 'AMD', 'AMZN', 'DG', \"ETH-USD\"]:\n",
    "    print(\"geddin stock: \" + ticker)\n",
    "    df = bot.getData(ticker = ticker, start_date = datetime(2010,1,1), technical_indicators=[\"all\"])\n",
    "    df = bot.getTrend(df)\n",
    "    bigDf.append(df)\n",
    "    \n",
    "bigDf = pd.concat(bigDf)\n",
    "bigDf.head()"
   ]
  },
  {
   "cell_type": "code",
   "execution_count": 27,
   "metadata": {},
   "outputs": [
    {
     "name": "stdout",
     "output_type": "stream",
     "text": [
      "decision tree scores:  0.8888888888888888\n"
     ]
    }
   ],
   "source": [
    "x_train, x_test, y_train, y_test = train_test_split(  df.drop([\"signal\", \"ticker\"], axis = 1).fillna(method=\"bfill\").fillna(0), df[\"signal\"], test_size=0.1, shuffle=True)\n",
    "clf = tree.DecisionTreeClassifier()\n",
    "clf.fit(x_train, y_train)\n",
    "scr = clf.score(x_test, y_test)\n",
    "print(\"decision tree scores: \", scr)\n",
    "pred = clf.predict(df.drop([\"signal\", \"ticker\"], axis = 1).fillna(method=\"bfill\").fillna(0))"
   ]
  },
  {
   "cell_type": "code",
   "execution_count": 28,
   "metadata": {},
   "outputs": [],
   "source": [
    "dot_data = tree.export_graphviz(clf, out_file=None,\n",
    "                        feature_names=x_train.columns,  \n",
    "                        class_names=[\"sell\", \"buy\"],\n",
    "                        filled=True, rounded=True,\n",
    "                        special_characters=True) \n",
    "graph = graphviz.Source(dot_data) \n",
    "# graph"
   ]
  },
  {
   "cell_type": "code",
   "execution_count": 29,
   "metadata": {},
   "outputs": [
    {
     "name": "stderr",
     "output_type": "stream",
     "text": [
      "/home/jguese/miniconda3/lib/python3.10/site-packages/numpy/core/fromnumeric.py:3432: RuntimeWarning: Mean of empty slice.\n",
      "  return _methods._mean(a, axis=axis, dtype=dtype,\n",
      "/home/jguese/miniconda3/lib/python3.10/site-packages/numpy/core/_methods.py:190: RuntimeWarning: invalid value encountered in double_scalars\n",
      "  ret = ret.dtype.type(ret / rcount)\n"
     ]
    },
    {
     "name": "stdout",
     "output_type": "stream",
     "text": [
      "the lightgbm with lookback 2 would have given you 33888.89$\n",
      "or +69.10% per year\n",
      "or 567.97$ per month\n"
     ]
    }
   ],
   "source": [
    "## simulate\n",
    "\n",
    "\n",
    "bestLookback = -1\n",
    "bestLookbackWin = -9999\n",
    "bestLookbackPortfolio = dict()\n",
    "for lookback in range(0, 10):\n",
    "    money = startMoney\n",
    "    nrStocks = 0\n",
    "    portfolio = dict()\n",
    "    for i in range(lookback, len(df)):\n",
    "        prednow = np.median(preds[i-lookback:i])\n",
    "        # if we switched stock sell the old and continue with new\n",
    "        if df.iloc[i][\"ticker\"] != df.iloc[i-1][\"ticker\"]:\n",
    "            money += nrStocks * df.iloc[i-1][\"adj_close\"] * (1 - COMMISSION)\n",
    "            nrStocks = 0\n",
    "            portfolio[df.iloc[i][\"ticker\"]] = []\n",
    "        # prednow = preds[i]\n",
    "        if prednow == 1 and nrStocks == 0 and money > 10:\n",
    "            # buy\n",
    "            howmany = money / df.iloc[i][\"adj_close\"] * .99\n",
    "            cost = howmany * df.iloc[i][\"adj_close\"] * (1 + COMMISSION)\n",
    "            money -= cost\n",
    "            nrStocks += howmany\n",
    "        elif prednow == -1 and nrStocks > 0:\n",
    "            money += nrStocks * df.iloc[i][\"adj_close\"] * (1 - COMMISSION)\n",
    "            nrStocks = 0\n",
    "        try:\n",
    "            portfolio[df.iloc[i][\"ticker\"]] = portfolio[df.iloc[i][\"ticker\"]].append(money + nrStocks * df.iloc[i][\"adj_close\"])\n",
    "        except:\n",
    "            # idk\n",
    "            pass\n",
    "    # last day sell\n",
    "    money += nrStocks * df.iloc[-1][\"adj_close\"] * (1 - COMMISSION)\n",
    "    win = money - startMoney\n",
    "    if win > bestLookbackWin:\n",
    "        bestLookback = lookback\n",
    "        bestLookbackWin = win\n",
    "        bestLookbackPortfolio = portfolio\n",
    "\n",
    "print(\"the lightgbm with lookback %d would have given you %.2f$\" % (bestLookback, bestLookbackWin))\n",
    "winPct = bestLookbackWin / startMoney * 100\n",
    "days = (df.index[-1] - df.index[0]).days\n",
    "winPctYear = winPct / days * 365\n",
    "print(\"or +%.2f%% per year\" % winPctYear)\n",
    "winPerMonth = bestLookbackWin / days * 30\n",
    "print(\"or %.2f$ per month\" % winPerMonth)\n",
    "for ticker,portfolio in bestLookbackPortfolio:\n",
    "    plt.title(ticker)\n",
    "    plt.plot(bestLookbackPortfolio)\n",
    "    plt.show()\n",
    "## tree\n",
    "# the decision tree with lookback 0 would have given you 19227.17$\n",
    "# or +37.98% per year\n",
    "# or 312.13$ per month\n",
    "## XGB - actually not too nice\n",
    "# the xgb with lookback 3 would have given you 3497.44$\n",
    "# or +6.91% per year\n",
    "# or 56.78$ per month\n",
    "## lightgbm \n",
    "# the lightgbm with lookback 3 would have given you 6510.10$\n",
    "# or +12.86% per year\n",
    "# or 105.68$ per month"
   ]
  },
  {
   "cell_type": "markdown",
   "metadata": {},
   "source": [
    "## next try to \"dumb\" down decision tree until we find a good mix between reducing accuracy and complexity\n",
    "\n"
   ]
  },
  {
   "cell_type": "code",
   "execution_count": 30,
   "metadata": {},
   "outputs": [],
   "source": [
    "## limit to one stock?\n",
    "df = bot.getData(ticker = \"IWDA.AS\", start_date = datetime(2010,1,1), technical_indicators=[\"all\"])\n",
    "df = bot.getTrend(df)"
   ]
  },
  {
   "cell_type": "code",
   "execution_count": 36,
   "metadata": {},
   "outputs": [],
   "source": [
    "# for this use the whole data\n",
    "X, Y = df.drop([\"signal\", \"ticker\"], axis = 1).fillna(method=\"bfill\").fillna(0), df[\"signal\"]\n"
   ]
  },
  {
   "cell_type": "code",
   "execution_count": 52,
   "metadata": {},
   "outputs": [],
   "source": [
    "from sklearn.tree import _tree\n",
    "\n",
    "def tree_to_code(tree, feature_names):\n",
    "    tree_ = tree.tree_\n",
    "    feature_name = [\n",
    "        feature_names[i] if i != _tree.TREE_UNDEFINED else \"undefined!\"\n",
    "        for i in tree_.feature\n",
    "    ]\n",
    "    feature_names = [f.replace(\" \", \"_\")[:-5] for f in feature_names]\n",
    "    print(\"def getDecision(dfrow):\")\n",
    "\n",
    "    def recurse(node, depth):\n",
    "        indent = \"    \" * depth\n",
    "        if tree_.feature[node] != _tree.TREE_UNDEFINED:\n",
    "            name = feature_name[node]\n",
    "            threshold = tree_.threshold[node]\n",
    "            print(\"{}if dfrow['{}'] <= {}:\".format(indent, name, np.round(threshold,2)))\n",
    "            recurse(tree_.children_left[node], depth + 1)\n",
    "            print(\"{}else:  # if dfrow['{}'] > {}\".format(indent, name, np.round(threshold,2)))\n",
    "            recurse(tree_.children_right[node], depth + 1)\n",
    "        else:\n",
    "            print(\"{}return {}\".format(indent, np.argmax(tree_.value[node][0])))\n",
    "\n",
    "    recurse(0, 1)\n",
    "# tree_to_code(clf, x_train.columns)"
   ]
  },
  {
   "cell_type": "code",
   "execution_count": 38,
   "metadata": {},
   "outputs": [],
   "source": [
    "def getDecision(dfrow):\n",
    "    if dfrow['momentum_rsi'] <= 49.91:\n",
    "        if dfrow['trend_aroon_ind'] <= -22.0:\n",
    "            return 0\n",
    "        else:  # if dfrow['trend_aroon_ind'] > -22.0\n",
    "            if dfrow['trend_kst_diff'] <= 5.96:\n",
    "                if dfrow['volatility_bbw'] <= 11.39:\n",
    "                    return 0\n",
    "                else:  # if dfrow['volatility_bbw'] > 11.39\n",
    "                    return 1\n",
    "            else:  # if dfrow['trend_kst_diff'] > 5.96\n",
    "                return 1\n",
    "    else:  # if dfrow['momentum_rsi'] > 49.91\n",
    "        if dfrow['trend_aroon_ind'] <= -34.0:\n",
    "            if dfrow['trend_aroon_up'] <= 10.0:\n",
    "                return 1\n",
    "            else:  # if dfrow['trend_aroon_up'] > 10.0\n",
    "                return 0\n",
    "        else:  # if dfrow['trend_aroon_ind'] > -34.0\n",
    "            if dfrow['trend_adx_pos'] <= 19.34:\n",
    "                return 0\n",
    "            else:  # if dfrow['trend_adx_pos'] > 19.34\n",
    "                return 1"
   ]
  },
  {
   "cell_type": "code",
   "execution_count": 63,
   "metadata": {},
   "outputs": [
    {
     "name": "stdout",
     "output_type": "stream",
     "text": [
      "score is:  1.0\n",
      "the un-tuned getDecision decision tree with lookback 3 would have given you 24914.74$\n",
      "or +49.21% per year\n",
      "or 404.46$ per month\n"
     ]
    }
   ],
   "source": [
    "def oneRun(model, lookbackarray = [1]):\n",
    "    preds = model.predict(X)\n",
    "    # print(\"the predictions are: \", np.unique(preds, return_counts=True))\n",
    "    bestLookback = -1\n",
    "    bestLookbackWin = -9999\n",
    "    bestLookbackPortfolio = []\n",
    "    for lookback in lookbackarray: # range(0, 5):\n",
    "        money = startMoney\n",
    "        nrStocks = 0\n",
    "        portfolio = []\n",
    "        for i in range(lookback, len(df)):\n",
    "            # prednow = np.median(preds[i-lookback:i])\n",
    "            prednow = preds[i]\n",
    "            # \"translate\" 0 to -1 like we did it before\n",
    "            if prednow == 0:\n",
    "                prednow = -1\n",
    "            # print(\"prednow is, \" , prednow)\n",
    "            # prednow = preds[i]\n",
    "            if prednow == 1 and nrStocks == 0 and money > 10:\n",
    "                # buy\n",
    "                howmany = money / df.iloc[i][\"adj_close\"] * .99\n",
    "                cost = howmany * df.iloc[i][\"adj_close\"] * (1 + COMMISSION)\n",
    "                money -= cost\n",
    "                nrStocks += howmany\n",
    "            elif prednow == -1 and nrStocks > 0:\n",
    "                money += nrStocks * df.iloc[i][\"adj_close\"] * (1 - COMMISSION)\n",
    "                nrStocks = 0\n",
    "            portfolio.append(money + nrStocks * df.iloc[i][\"adj_close\"])\n",
    "        # last day sell\n",
    "        money += nrStocks * df.iloc[-1][\"adj_close\"] * (1 - COMMISSION)\n",
    "        win = money - startMoney\n",
    "        if win > bestLookbackWin:\n",
    "            bestLookback = lookback\n",
    "            bestLookbackWin = win\n",
    "            bestLookbackPortfolio = portfolio\n",
    "    return bestLookbackWin, bestLookback, bestLookbackPortfolio\n",
    "## try it with a \"blank\" model\n",
    "clf = tree.DecisionTreeClassifier()\n",
    "clf.fit(X, Y)\n",
    "scr = clf.score(X, Y)\n",
    "print(\"score is: \", scr)\n",
    "bestLookbackWin, bestLookback, bestLookbackPortfolio = oneRun(clf, lookbackarray = [1,3,5,10])\n",
    "print(\"the un-tuned getDecision decision tree with lookback %d would have given you %.2f$\" % (bestLookback, bestLookbackWin))\n",
    "days = (df.index[-1] - df.index[0]).days\n",
    "winPct = bestLookbackWin / startMoney * 100\n",
    "winPctYear = winPct / days * 365\n",
    "print(\"or +%.2f%% per year\" % winPctYear)\n",
    "winPerMonth = bestLookbackWin / days * 30\n",
    "print(\"or %.2f$ per month\" % winPerMonth)\n",
    "# plt.plot(bestLookbackPortfolio)\n",
    "\n",
    "# just holding would have given you 6582.50$\n",
    "# or 106.86$ per month"
   ]
  },
  {
   "cell_type": "markdown",
   "metadata": {},
   "source": [
    "### reduce depth"
   ]
  },
  {
   "cell_type": "code",
   "execution_count": 106,
   "metadata": {},
   "outputs": [
    {
     "name": "stderr",
     "output_type": "stream",
     "text": [
      "100%|██████████| 9/9 [00:13<00:00,  1.47s/it]"
     ]
    },
    {
     "name": "stdout",
     "output_type": "stream",
     "text": [
      "the best depth is 10, best leave 50, best lookback 1. with a win of 19606.17$\n"
     ]
    },
    {
     "name": "stderr",
     "output_type": "stream",
     "text": [
      "\n"
     ]
    }
   ],
   "source": [
    "from tqdm import tqdm\n",
    "justHoldingWin = 6582\n",
    "\n",
    "bestDepth = -1\n",
    "bestLeafes = -1\n",
    "bestLookback = -1\n",
    "bestDepthWin = -9999\n",
    "collection = []\n",
    "# explicitly force a max of 20 to prevent overfitting\n",
    "for depth in tqdm([50,40,30,20,15,10,7,5,3]):\n",
    "    for leafes in [50,40,30,20,15,10,7,5,3]:\n",
    "        clf = tree.DecisionTreeClassifier(max_depth=depth, max_leaf_nodes = leafes)\n",
    "        clf.fit(X, Y)\n",
    "        # scr = clf.score(X, Y)\n",
    "        # print(\"score is: \", scr)\n",
    "        bestLookbackWin, lookback, bestLookbackPortfolio = oneRun(clf)\n",
    "        collection.append([depth,leafes,lookback,bestLookbackWin])\n",
    "        if bestLookbackWin >= (bestDepthWin*.95): # equal to prefer smaller trees, 95% to accept a bit worse for smaller trees\n",
    "            bestDepthWin = bestLookbackWin\n",
    "            bestDepth = depth\n",
    "            bestLeafes = leafes\n",
    "            bestLookback = lookback\n",
    "print(\"the best depth is %d, best leave %d, best lookback %d. with a win of %.2f$\" % (bestDepth, bestLeafes, bestLookback, bestDepthWin))"
   ]
  },
  {
   "cell_type": "code",
   "execution_count": 107,
   "metadata": {},
   "outputs": [
    {
     "data": {
      "text/html": [
       "<div>\n",
       "<style scoped>\n",
       "    .dataframe tbody tr th:only-of-type {\n",
       "        vertical-align: middle;\n",
       "    }\n",
       "\n",
       "    .dataframe tbody tr th {\n",
       "        vertical-align: top;\n",
       "    }\n",
       "\n",
       "    .dataframe thead th {\n",
       "        text-align: right;\n",
       "    }\n",
       "</style>\n",
       "<table border=\"1\" class=\"dataframe\">\n",
       "  <thead>\n",
       "    <tr style=\"text-align: right;\">\n",
       "      <th></th>\n",
       "      <th>depth</th>\n",
       "      <th>leafes</th>\n",
       "      <th>lookback</th>\n",
       "      <th>win</th>\n",
       "    </tr>\n",
       "  </thead>\n",
       "  <tbody>\n",
       "    <tr>\n",
       "      <th>45</th>\n",
       "      <td>10</td>\n",
       "      <td>50</td>\n",
       "      <td>1</td>\n",
       "      <td>19606.173826</td>\n",
       "    </tr>\n",
       "    <tr>\n",
       "      <th>18</th>\n",
       "      <td>30</td>\n",
       "      <td>50</td>\n",
       "      <td>1</td>\n",
       "      <td>19606.173826</td>\n",
       "    </tr>\n",
       "    <tr>\n",
       "      <th>36</th>\n",
       "      <td>15</td>\n",
       "      <td>50</td>\n",
       "      <td>1</td>\n",
       "      <td>19606.173826</td>\n",
       "    </tr>\n",
       "    <tr>\n",
       "      <th>0</th>\n",
       "      <td>50</td>\n",
       "      <td>50</td>\n",
       "      <td>1</td>\n",
       "      <td>19421.064143</td>\n",
       "    </tr>\n",
       "    <tr>\n",
       "      <th>27</th>\n",
       "      <td>20</td>\n",
       "      <td>50</td>\n",
       "      <td>1</td>\n",
       "      <td>19421.064143</td>\n",
       "    </tr>\n",
       "    <tr>\n",
       "      <th>9</th>\n",
       "      <td>40</td>\n",
       "      <td>50</td>\n",
       "      <td>1</td>\n",
       "      <td>19344.588217</td>\n",
       "    </tr>\n",
       "    <tr>\n",
       "      <th>1</th>\n",
       "      <td>50</td>\n",
       "      <td>40</td>\n",
       "      <td>1</td>\n",
       "      <td>18488.345168</td>\n",
       "    </tr>\n",
       "    <tr>\n",
       "      <th>10</th>\n",
       "      <td>40</td>\n",
       "      <td>40</td>\n",
       "      <td>1</td>\n",
       "      <td>18488.345168</td>\n",
       "    </tr>\n",
       "    <tr>\n",
       "      <th>46</th>\n",
       "      <td>10</td>\n",
       "      <td>40</td>\n",
       "      <td>1</td>\n",
       "      <td>18377.996473</td>\n",
       "    </tr>\n",
       "    <tr>\n",
       "      <th>37</th>\n",
       "      <td>15</td>\n",
       "      <td>40</td>\n",
       "      <td>1</td>\n",
       "      <td>18377.996473</td>\n",
       "    </tr>\n",
       "    <tr>\n",
       "      <th>19</th>\n",
       "      <td>30</td>\n",
       "      <td>40</td>\n",
       "      <td>1</td>\n",
       "      <td>18288.864005</td>\n",
       "    </tr>\n",
       "    <tr>\n",
       "      <th>28</th>\n",
       "      <td>20</td>\n",
       "      <td>40</td>\n",
       "      <td>1</td>\n",
       "      <td>18288.864005</td>\n",
       "    </tr>\n",
       "    <tr>\n",
       "      <th>54</th>\n",
       "      <td>7</td>\n",
       "      <td>50</td>\n",
       "      <td>1</td>\n",
       "      <td>17334.307415</td>\n",
       "    </tr>\n",
       "    <tr>\n",
       "      <th>55</th>\n",
       "      <td>7</td>\n",
       "      <td>40</td>\n",
       "      <td>1</td>\n",
       "      <td>16348.864918</td>\n",
       "    </tr>\n",
       "    <tr>\n",
       "      <th>38</th>\n",
       "      <td>15</td>\n",
       "      <td>30</td>\n",
       "      <td>1</td>\n",
       "      <td>15710.116157</td>\n",
       "    </tr>\n",
       "    <tr>\n",
       "      <th>2</th>\n",
       "      <td>50</td>\n",
       "      <td>30</td>\n",
       "      <td>1</td>\n",
       "      <td>15653.457871</td>\n",
       "    </tr>\n",
       "    <tr>\n",
       "      <th>29</th>\n",
       "      <td>20</td>\n",
       "      <td>30</td>\n",
       "      <td>1</td>\n",
       "      <td>15231.523609</td>\n",
       "    </tr>\n",
       "    <tr>\n",
       "      <th>20</th>\n",
       "      <td>30</td>\n",
       "      <td>30</td>\n",
       "      <td>1</td>\n",
       "      <td>14303.564102</td>\n",
       "    </tr>\n",
       "    <tr>\n",
       "      <th>11</th>\n",
       "      <td>40</td>\n",
       "      <td>30</td>\n",
       "      <td>1</td>\n",
       "      <td>14303.564102</td>\n",
       "    </tr>\n",
       "    <tr>\n",
       "      <th>47</th>\n",
       "      <td>10</td>\n",
       "      <td>30</td>\n",
       "      <td>1</td>\n",
       "      <td>14303.564102</td>\n",
       "    </tr>\n",
       "  </tbody>\n",
       "</table>\n",
       "</div>"
      ],
      "text/plain": [
       "    depth  leafes  lookback           win\n",
       "45     10      50         1  19606.173826\n",
       "18     30      50         1  19606.173826\n",
       "36     15      50         1  19606.173826\n",
       "0      50      50         1  19421.064143\n",
       "27     20      50         1  19421.064143\n",
       "9      40      50         1  19344.588217\n",
       "1      50      40         1  18488.345168\n",
       "10     40      40         1  18488.345168\n",
       "46     10      40         1  18377.996473\n",
       "37     15      40         1  18377.996473\n",
       "19     30      40         1  18288.864005\n",
       "28     20      40         1  18288.864005\n",
       "54      7      50         1  17334.307415\n",
       "55      7      40         1  16348.864918\n",
       "38     15      30         1  15710.116157\n",
       "2      50      30         1  15653.457871\n",
       "29     20      30         1  15231.523609\n",
       "20     30      30         1  14303.564102\n",
       "11     40      30         1  14303.564102\n",
       "47     10      30         1  14303.564102"
      ]
     },
     "execution_count": 107,
     "metadata": {},
     "output_type": "execute_result"
    }
   ],
   "source": [
    "collection = pd.DataFrame(collection, columns = [\"depth\", \"leafes\", \"lookback\", \"win\"])\n",
    "collection.sort_values(by=\"win\", ascending=False, inplace=True)\n",
    "collection.head(20)"
   ]
  },
  {
   "cell_type": "code",
   "execution_count": 108,
   "metadata": {},
   "outputs": [
    {
     "name": "stdout",
     "output_type": "stream",
     "text": [
      "              precision    recall  f1-score   support\n",
      "\n",
      "        -1.0       0.98      0.99      0.98       435\n",
      "         1.0       0.99      0.99      0.99       862\n",
      "\n",
      "    accuracy                           0.99      1297\n",
      "   macro avg       0.99      0.99      0.99      1297\n",
      "weighted avg       0.99      0.99      0.99      1297\n",
      "\n",
      "[[429   6]\n",
      " [  8 854]]\n",
      "the hyperoptimized getDecision decision tree with lookback 1 would have given you 19460.34$\n",
      "or +38.44% per year\n",
      "or 315.91$ per month\n"
     ]
    },
    {
     "data": {
      "text/plain": [
       "[<matplotlib.lines.Line2D at 0x7f86b05cd210>]"
      ]
     },
     "execution_count": 108,
     "metadata": {},
     "output_type": "execute_result"
    },
    {
     "data": {
      "image/png": "[encoded data removed]",
      "text/plain": [
       "<Figure size 640x480 with 1 Axes>"
      ]
     },
     "metadata": {},
     "output_type": "display_data"
    }
   ],
   "source": [
    "clf = tree.DecisionTreeClassifier(max_depth=bestDepth, max_leaf_nodes = bestLeafes)\n",
    "clf.fit(X, Y)\n",
    "preds = clf.predict(X)\n",
    "print(metrics.classification_report(df[\"signal\"], preds))\n",
    "print(metrics.confusion_matrix(df[\"signal\"], preds))\n",
    "bestLookbackWin, bestLookback, bestLookbackPortfolio = oneRun(clf, lookbackarray = [bestLookback])\n",
    "print(\"the hyperoptimized getDecision decision tree with lookback %d would have given you %.2f$\" % (bestLookback, bestLookbackWin))\n",
    "days = (df.index[-1] - df.index[0]).days\n",
    "winPct = bestLookbackWin / startMoney * 100\n",
    "winPctYear = winPct / days * 365\n",
    "print(\"or +%.2f%% per year\" % winPctYear)\n",
    "winPerMonth = bestLookbackWin / days * 30\n",
    "print(\"or %.2f$ per month\" % winPerMonth)\n",
    "plt.plot(bestLookbackPortfolio)"
   ]
  },
  {
   "cell_type": "markdown",
   "metadata": {},
   "source": [
    "the hyperoptimized getDecision decision tree with lookback 1 would have given you 11846.45$\n",
    "\n",
    "or +23.40% per year\n",
    "\n",
    "or 192.31$ per month"
   ]
  },
  {
   "cell_type": "code",
   "execution_count": 109,
   "metadata": {},
   "outputs": [
    {
     "data": {
      "image/svg+xml": "<?xml version=\"1.0\" encoding=\"UTF-8\" standalone=\"no\"?>\n<!DOCTYPE svg PUBLIC \"-//W3C//DTD SVG 1.1//EN\"\n \"http://www.w3.org/Graphics/SVG/1.1/DTD/svg11.dtd\">\n<!-- Generated by graphviz version 2.43.0 (0)\n -->\n<!-- Title: Tree Pages: 1 -->\n<svg width=\"3667pt\" height=\"1266pt\"\n viewBox=\"0.00 0.00 3667.00 1266.00\" xmlns=\"http://www.w3.org/2000/svg\" xmlns:xlink=\"http://www.w3.org/1999/xlink\">\n<g id=\"graph0\" class=\"graph\" transform=\"scale(1 1) rotate(0) translate(4 1262)\">\n<title>Tree</title>\n<polygon fill=\"white\" stroke=\"transparent\" points=\"-4,4 -4,-1262 3663,-1262 3663,4 -4,4\"/>\n<!-- 0 -->\n<g id=\"node1\" class=\"node\">\n<title>0</title>\n<path fill=\"#9dcef2\" stroke=\"black\" d=\"M1604,-1258C1604,-1258 1437,-1258 1437,-1258 1431,-1258 1425,-1252 1425,-1246 1425,-1246 1425,-1187 1425,-1187 1425,-1181 1431,-1175 1437,-1175 1437,-1175 1604,-1175 1604,-1175 1610,-1175 1616,-1181 1616,-1187 1616,-1187 1616,-1246 1616,-1246 1616,-1252 1610,-1258 1604,-1258\"/>\n<text text-anchor=\"start\" x=\"1433\" y=\"-1242.8\" font-family=\"Helvetica,sans-Serif\" font-size=\"14.00\">momentum_rsi ≤ 52.031</text>\n<text text-anchor=\"start\" x=\"1476.5\" y=\"-1227.8\" font-family=\"Helvetica,sans-Serif\" font-size=\"14.00\">gini = 0.446</text>\n<text text-anchor=\"start\" x=\"1463\" y=\"-1212.8\" font-family=\"Helvetica,sans-Serif\" font-size=\"14.00\">samples = 1297</text>\n<text text-anchor=\"start\" x=\"1454\" y=\"-1197.8\" font-family=\"Helvetica,sans-Serif\" font-size=\"14.00\">value = [435, 862]</text>\n<text text-anchor=\"start\" x=\"1479.5\" y=\"-1182.8\" font-family=\"Helvetica,sans-Serif\" font-size=\"14.00\">class = buy</text>\n</g>\n<!-- 1 -->\n<g id=\"node2\" class=\"node\">\n<title>1</title>\n<path fill=\"#eb9c63\" stroke=\"black\" d=\"M978.5,-1139C978.5,-1139 822.5,-1139 822.5,-1139 816.5,-1139 810.5,-1133 810.5,-1127 810.5,-1127 810.5,-1068 810.5,-1068 810.5,-1062 816.5,-1056 822.5,-1056 822.5,-1056 978.5,-1056 978.5,-1056 984.5,-1056 990.5,-1062 990.5,-1068 990.5,-1068 990.5,-1127 990.5,-1127 990.5,-1133 984.5,-1139 978.5,-1139\"/>\n<text text-anchor=\"start\" x=\"818.5\" y=\"-1123.8\" font-family=\"Helvetica,sans-Serif\" font-size=\"14.00\">trend_aroon_ind ≤ 38.0</text>\n<text text-anchor=\"start\" x=\"861\" y=\"-1108.8\" font-family=\"Helvetica,sans-Serif\" font-size=\"14.00\">gini = 0.29</text>\n<text text-anchor=\"start\" x=\"847.5\" y=\"-1093.8\" font-family=\"Helvetica,sans-Serif\" font-size=\"14.00\">samples = 443</text>\n<text text-anchor=\"start\" x=\"838.5\" y=\"-1078.8\" font-family=\"Helvetica,sans-Serif\" font-size=\"14.00\">value = [365, 78]</text>\n<text text-anchor=\"start\" x=\"861\" y=\"-1063.8\" font-family=\"Helvetica,sans-Serif\" font-size=\"14.00\">class = sell</text>\n</g>\n<!-- 0&#45;&gt;1 -->\n<g id=\"edge1\" class=\"edge\">\n<title>0&#45;&gt;1</title>\n<path fill=\"none\" stroke=\"black\" d=\"M1424.98,-1197.48C1309.96,-1175.77 1117.66,-1139.48 1000.62,-1117.39\"/>\n<polygon fill=\"black\" stroke=\"black\" points=\"1001.06,-1113.91 990.58,-1115.5 999.76,-1120.79 1001.06,-1113.91\"/>\n<text text-anchor=\"middle\" x=\"1004.67\" y=\"-1132.45\" font-family=\"Helvetica,sans-Serif\" font-size=\"14.00\">True</text>\n</g>\n<!-- 2 -->\n<g id=\"node51\" class=\"node\">\n<title>2</title>\n<path fill=\"#4ba6e7\" stroke=\"black\" d=\"M2479,-1139C2479,-1139 2332,-1139 2332,-1139 2326,-1139 2320,-1133 2320,-1127 2320,-1127 2320,-1068 2320,-1068 2320,-1062 2326,-1056 2332,-1056 2332,-1056 2479,-1056 2479,-1056 2485,-1056 2491,-1062 2491,-1068 2491,-1068 2491,-1127 2491,-1127 2491,-1133 2485,-1139 2479,-1139\"/>\n<text text-anchor=\"start\" x=\"2328\" y=\"-1123.8\" font-family=\"Helvetica,sans-Serif\" font-size=\"14.00\">trend_aroon_ind ≤ 6.0</text>\n<text text-anchor=\"start\" x=\"2366\" y=\"-1108.8\" font-family=\"Helvetica,sans-Serif\" font-size=\"14.00\">gini = 0.15</text>\n<text text-anchor=\"start\" x=\"2352.5\" y=\"-1093.8\" font-family=\"Helvetica,sans-Serif\" font-size=\"14.00\">samples = 854</text>\n<text text-anchor=\"start\" x=\"2343.5\" y=\"-1078.8\" font-family=\"Helvetica,sans-Serif\" font-size=\"14.00\">value = [70, 784]</text>\n<text text-anchor=\"start\" x=\"2364.5\" y=\"-1063.8\" font-family=\"Helvetica,sans-Serif\" font-size=\"14.00\">class = buy</text>\n</g>\n<!-- 0&#45;&gt;2 -->\n<g id=\"edge50\" class=\"edge\">\n<title>0&#45;&gt;2</title>\n<path fill=\"none\" stroke=\"black\" d=\"M1616.05,-1202.87C1786.19,-1180.37 2139.73,-1133.64 2309.9,-1111.14\"/>\n<polygon fill=\"black\" stroke=\"black\" points=\"2310.4,-1114.6 2319.85,-1109.82 2309.48,-1107.66 2310.4,-1114.6\"/>\n<text text-anchor=\"middle\" x=\"2304.64\" y=\"-1125.97\" font-family=\"Helvetica,sans-Serif\" font-size=\"14.00\">False</text>\n</g>\n<!-- 3 -->\n<g id=\"node3\" class=\"node\">\n<title>3</title>\n<path fill=\"#e78b49\" stroke=\"black\" d=\"M543.5,-1020C543.5,-1020 411.5,-1020 411.5,-1020 405.5,-1020 399.5,-1014 399.5,-1008 399.5,-1008 399.5,-949 399.5,-949 399.5,-943 405.5,-937 411.5,-937 411.5,-937 543.5,-937 543.5,-937 549.5,-937 555.5,-943 555.5,-949 555.5,-949 555.5,-1008 555.5,-1008 555.5,-1014 549.5,-1020 543.5,-1020\"/>\n<text text-anchor=\"start\" x=\"407.5\" y=\"-1004.8\" font-family=\"Helvetica,sans-Serif\" font-size=\"14.00\">trend_adx ≤ 10.105</text>\n<text text-anchor=\"start\" x=\"433.5\" y=\"-989.8\" font-family=\"Helvetica,sans-Serif\" font-size=\"14.00\">gini = 0.138</text>\n<text text-anchor=\"start\" x=\"424.5\" y=\"-974.8\" font-family=\"Helvetica,sans-Serif\" font-size=\"14.00\">samples = 361</text>\n<text text-anchor=\"start\" x=\"415.5\" y=\"-959.8\" font-family=\"Helvetica,sans-Serif\" font-size=\"14.00\">value = [334, 27]</text>\n<text text-anchor=\"start\" x=\"438\" y=\"-944.8\" font-family=\"Helvetica,sans-Serif\" font-size=\"14.00\">class = sell</text>\n</g>\n<!-- 1&#45;&gt;3 -->\n<g id=\"edge2\" class=\"edge\">\n<title>1&#45;&gt;3</title>\n<path fill=\"none\" stroke=\"black\" d=\"M810.27,-1071.54C737.97,-1051.55 637.11,-1023.65 565.42,-1003.82\"/>\n<polygon fill=\"black\" stroke=\"black\" points=\"566.08,-1000.37 555.51,-1001.08 564.21,-1007.12 566.08,-1000.37\"/>\n</g>\n<!-- 4 -->\n<g id=\"node28\" class=\"node\">\n<title>4</title>\n<path fill=\"#b1d9f5\" stroke=\"black\" d=\"M970.5,-1020C970.5,-1020 830.5,-1020 830.5,-1020 824.5,-1020 818.5,-1014 818.5,-1008 818.5,-1008 818.5,-949 818.5,-949 818.5,-943 824.5,-937 830.5,-937 830.5,-937 970.5,-937 970.5,-937 976.5,-937 982.5,-943 982.5,-949 982.5,-949 982.5,-1008 982.5,-1008 982.5,-1014 976.5,-1020 970.5,-1020\"/>\n<text text-anchor=\"start\" x=\"826.5\" y=\"-1004.8\" font-family=\"Helvetica,sans-Serif\" font-size=\"14.00\">trend_cci ≤ &#45;137.762</text>\n<text text-anchor=\"start\" x=\"861\" y=\"-989.8\" font-family=\"Helvetica,sans-Serif\" font-size=\"14.00\">gini = 0.47</text>\n<text text-anchor=\"start\" x=\"852\" y=\"-974.8\" font-family=\"Helvetica,sans-Serif\" font-size=\"14.00\">samples = 82</text>\n<text text-anchor=\"start\" x=\"843\" y=\"-959.8\" font-family=\"Helvetica,sans-Serif\" font-size=\"14.00\">value = [31, 51]</text>\n<text text-anchor=\"start\" x=\"859.5\" y=\"-944.8\" font-family=\"Helvetica,sans-Serif\" font-size=\"14.00\">class = buy</text>\n</g>\n<!-- 1&#45;&gt;4 -->\n<g id=\"edge27\" class=\"edge\">\n<title>1&#45;&gt;4</title>\n<path fill=\"none\" stroke=\"black\" d=\"M900.5,-1055.91C900.5,-1047.65 900.5,-1038.86 900.5,-1030.3\"/>\n<polygon fill=\"black\" stroke=\"black\" points=\"904,-1030.02 900.5,-1020.02 897,-1030.02 904,-1030.02\"/>\n</g>\n<!-- 13 -->\n<g id=\"node4\" class=\"node\">\n<title>13</title>\n<path fill=\"#399de5\" stroke=\"black\" d=\"M362,-893.5C362,-893.5 273,-893.5 273,-893.5 267,-893.5 261,-887.5 261,-881.5 261,-881.5 261,-837.5 261,-837.5 261,-831.5 267,-825.5 273,-825.5 273,-825.5 362,-825.5 362,-825.5 368,-825.5 374,-831.5 374,-837.5 374,-837.5 374,-881.5 374,-881.5 374,-887.5 368,-893.5 362,-893.5\"/>\n<text text-anchor=\"start\" x=\"282.5\" y=\"-878.3\" font-family=\"Helvetica,sans-Serif\" font-size=\"14.00\">gini = 0.0</text>\n<text text-anchor=\"start\" x=\"273.5\" y=\"-863.3\" font-family=\"Helvetica,sans-Serif\" font-size=\"14.00\">samples = 3</text>\n<text text-anchor=\"start\" x=\"269\" y=\"-848.3\" font-family=\"Helvetica,sans-Serif\" font-size=\"14.00\">value = [0, 3]</text>\n<text text-anchor=\"start\" x=\"276.5\" y=\"-833.3\" font-family=\"Helvetica,sans-Serif\" font-size=\"14.00\">class = buy</text>\n</g>\n<!-- 3&#45;&gt;13 -->\n<g id=\"edge3\" class=\"edge\">\n<title>3&#45;&gt;13</title>\n<path fill=\"none\" stroke=\"black\" d=\"M421.99,-936.91C405.54,-924.88 387.56,-911.73 371.23,-899.79\"/>\n<polygon fill=\"black\" stroke=\"black\" points=\"372.99,-896.74 362.86,-893.67 368.86,-902.39 372.99,-896.74\"/>\n</g>\n<!-- 14 -->\n<g id=\"node5\" class=\"node\">\n<title>14</title>\n<path fill=\"#e78a47\" stroke=\"black\" d=\"M550.5,-901C550.5,-901 404.5,-901 404.5,-901 398.5,-901 392.5,-895 392.5,-889 392.5,-889 392.5,-830 392.5,-830 392.5,-824 398.5,-818 404.5,-818 404.5,-818 550.5,-818 550.5,-818 556.5,-818 562.5,-824 562.5,-830 562.5,-830 562.5,-889 562.5,-889 562.5,-895 556.5,-901 550.5,-901\"/>\n<text text-anchor=\"start\" x=\"400.5\" y=\"-885.8\" font-family=\"Helvetica,sans-Serif\" font-size=\"14.00\">volatility_bbp ≤ 0.696</text>\n<text text-anchor=\"start\" x=\"433.5\" y=\"-870.8\" font-family=\"Helvetica,sans-Serif\" font-size=\"14.00\">gini = 0.125</text>\n<text text-anchor=\"start\" x=\"424.5\" y=\"-855.8\" font-family=\"Helvetica,sans-Serif\" font-size=\"14.00\">samples = 358</text>\n<text text-anchor=\"start\" x=\"415.5\" y=\"-840.8\" font-family=\"Helvetica,sans-Serif\" font-size=\"14.00\">value = [334, 24]</text>\n<text text-anchor=\"start\" x=\"438\" y=\"-825.8\" font-family=\"Helvetica,sans-Serif\" font-size=\"14.00\">class = sell</text>\n</g>\n<!-- 3&#45;&gt;14 -->\n<g id=\"edge4\" class=\"edge\">\n<title>3&#45;&gt;14</title>\n<path fill=\"none\" stroke=\"black\" d=\"M477.5,-936.91C477.5,-928.65 477.5,-919.86 477.5,-911.3\"/>\n<polygon fill=\"black\" stroke=\"black\" points=\"481,-911.02 477.5,-901.02 474,-911.02 481,-911.02\"/>\n</g>\n<!-- 19 -->\n<g id=\"node6\" class=\"node\">\n<title>19</title>\n<path fill=\"#e78945\" stroke=\"black\" d=\"M325.5,-782C325.5,-782 167.5,-782 167.5,-782 161.5,-782 155.5,-776 155.5,-770 155.5,-770 155.5,-711 155.5,-711 155.5,-705 161.5,-699 167.5,-699 167.5,-699 325.5,-699 325.5,-699 331.5,-699 337.5,-705 337.5,-711 337.5,-711 337.5,-770 337.5,-770 337.5,-776 331.5,-782 325.5,-782\"/>\n<text text-anchor=\"start\" x=\"163.5\" y=\"-766.8\" font-family=\"Helvetica,sans-Serif\" font-size=\"14.00\">volume_vwap ≤ 43.265</text>\n<text text-anchor=\"start\" x=\"202.5\" y=\"-751.8\" font-family=\"Helvetica,sans-Serif\" font-size=\"14.00\">gini = 0.107</text>\n<text text-anchor=\"start\" x=\"193.5\" y=\"-736.8\" font-family=\"Helvetica,sans-Serif\" font-size=\"14.00\">samples = 352</text>\n<text text-anchor=\"start\" x=\"184.5\" y=\"-721.8\" font-family=\"Helvetica,sans-Serif\" font-size=\"14.00\">value = [332, 20]</text>\n<text text-anchor=\"start\" x=\"207\" y=\"-706.8\" font-family=\"Helvetica,sans-Serif\" font-size=\"14.00\">class = sell</text>\n</g>\n<!-- 14&#45;&gt;19 -->\n<g id=\"edge5\" class=\"edge\">\n<title>14&#45;&gt;19</title>\n<path fill=\"none\" stroke=\"black\" d=\"M397.36,-817.91C377.38,-807.79 355.84,-796.88 335.46,-786.56\"/>\n<polygon fill=\"black\" stroke=\"black\" points=\"337.01,-783.42 326.5,-782.02 333.84,-789.66 337.01,-783.42\"/>\n</g>\n<!-- 20 -->\n<g id=\"node25\" class=\"node\">\n<title>20</title>\n<path fill=\"#9ccef2\" stroke=\"black\" d=\"M587.5,-782C587.5,-782 367.5,-782 367.5,-782 361.5,-782 355.5,-776 355.5,-770 355.5,-770 355.5,-711 355.5,-711 355.5,-705 361.5,-699 367.5,-699 367.5,-699 587.5,-699 587.5,-699 593.5,-699 599.5,-705 599.5,-711 599.5,-711 599.5,-770 599.5,-770 599.5,-776 593.5,-782 587.5,-782\"/>\n<text text-anchor=\"start\" x=\"363.5\" y=\"-766.8\" font-family=\"Helvetica,sans-Serif\" font-size=\"14.00\">momentum_pvo_signal ≤ &#45;1.037</text>\n<text text-anchor=\"start\" x=\"433.5\" y=\"-751.8\" font-family=\"Helvetica,sans-Serif\" font-size=\"14.00\">gini = 0.444</text>\n<text text-anchor=\"start\" x=\"433.5\" y=\"-736.8\" font-family=\"Helvetica,sans-Serif\" font-size=\"14.00\">samples = 6</text>\n<text text-anchor=\"start\" x=\"429\" y=\"-721.8\" font-family=\"Helvetica,sans-Serif\" font-size=\"14.00\">value = [2, 4]</text>\n<text text-anchor=\"start\" x=\"436.5\" y=\"-706.8\" font-family=\"Helvetica,sans-Serif\" font-size=\"14.00\">class = buy</text>\n</g>\n<!-- 14&#45;&gt;20 -->\n<g id=\"edge24\" class=\"edge\">\n<title>14&#45;&gt;20</title>\n<path fill=\"none\" stroke=\"black\" d=\"M477.5,-817.91C477.5,-809.65 477.5,-800.86 477.5,-792.3\"/>\n<polygon fill=\"black\" stroke=\"black\" points=\"481,-792.02 477.5,-782.02 474,-792.02 481,-792.02\"/>\n</g>\n<!-- 25 -->\n<g id=\"node7\" class=\"node\">\n<title>25</title>\n<path fill=\"#399de5\" stroke=\"black\" d=\"M123,-655.5C123,-655.5 34,-655.5 34,-655.5 28,-655.5 22,-649.5 22,-643.5 22,-643.5 22,-599.5 22,-599.5 22,-593.5 28,-587.5 34,-587.5 34,-587.5 123,-587.5 123,-587.5 129,-587.5 135,-593.5 135,-599.5 135,-599.5 135,-643.5 135,-643.5 135,-649.5 129,-655.5 123,-655.5\"/>\n<text text-anchor=\"start\" x=\"43.5\" y=\"-640.3\" font-family=\"Helvetica,sans-Serif\" font-size=\"14.00\">gini = 0.0</text>\n<text text-anchor=\"start\" x=\"34.5\" y=\"-625.3\" font-family=\"Helvetica,sans-Serif\" font-size=\"14.00\">samples = 2</text>\n<text text-anchor=\"start\" x=\"30\" y=\"-610.3\" font-family=\"Helvetica,sans-Serif\" font-size=\"14.00\">value = [0, 2]</text>\n<text text-anchor=\"start\" x=\"37.5\" y=\"-595.3\" font-family=\"Helvetica,sans-Serif\" font-size=\"14.00\">class = buy</text>\n</g>\n<!-- 19&#45;&gt;25 -->\n<g id=\"edge6\" class=\"edge\">\n<title>19&#45;&gt;25</title>\n<path fill=\"none\" stroke=\"black\" d=\"M188.21,-698.91C170.78,-686.77 151.72,-673.49 134.45,-661.46\"/>\n<polygon fill=\"black\" stroke=\"black\" points=\"136.33,-658.51 126.12,-655.67 132.33,-664.25 136.33,-658.51\"/>\n</g>\n<!-- 26 -->\n<g id=\"node8\" class=\"node\">\n<title>26</title>\n<path fill=\"#e68844\" stroke=\"black\" d=\"M353.5,-663C353.5,-663 165.5,-663 165.5,-663 159.5,-663 153.5,-657 153.5,-651 153.5,-651 153.5,-592 153.5,-592 153.5,-586 159.5,-580 165.5,-580 165.5,-580 353.5,-580 353.5,-580 359.5,-580 365.5,-586 365.5,-592 365.5,-592 365.5,-651 365.5,-651 365.5,-657 359.5,-663 353.5,-663\"/>\n<text text-anchor=\"start\" x=\"161.5\" y=\"-647.8\" font-family=\"Helvetica,sans-Serif\" font-size=\"14.00\">trend_mass_index ≤ 19.686</text>\n<text text-anchor=\"start\" x=\"215.5\" y=\"-632.8\" font-family=\"Helvetica,sans-Serif\" font-size=\"14.00\">gini = 0.098</text>\n<text text-anchor=\"start\" x=\"206.5\" y=\"-617.8\" font-family=\"Helvetica,sans-Serif\" font-size=\"14.00\">samples = 350</text>\n<text text-anchor=\"start\" x=\"197.5\" y=\"-602.8\" font-family=\"Helvetica,sans-Serif\" font-size=\"14.00\">value = [332, 18]</text>\n<text text-anchor=\"start\" x=\"220\" y=\"-587.8\" font-family=\"Helvetica,sans-Serif\" font-size=\"14.00\">class = sell</text>\n</g>\n<!-- 19&#45;&gt;26 -->\n<g id=\"edge7\" class=\"edge\">\n<title>19&#45;&gt;26</title>\n<path fill=\"none\" stroke=\"black\" d=\"M251.01,-698.91C251.94,-690.56 252.93,-681.67 253.89,-673.02\"/>\n<polygon fill=\"black\" stroke=\"black\" points=\"257.37,-673.35 255,-663.02 250.41,-672.57 257.37,-673.35\"/>\n</g>\n<!-- 51 -->\n<g id=\"node9\" class=\"node\">\n<title>51</title>\n<path fill=\"#f8e0ce\" stroke=\"black\" d=\"M254.5,-544C254.5,-544 128.5,-544 128.5,-544 122.5,-544 116.5,-538 116.5,-532 116.5,-532 116.5,-473 116.5,-473 116.5,-467 122.5,-461 128.5,-461 128.5,-461 254.5,-461 254.5,-461 260.5,-461 266.5,-467 266.5,-473 266.5,-473 266.5,-532 266.5,-532 266.5,-538 260.5,-544 254.5,-544\"/>\n<text text-anchor=\"start\" x=\"124.5\" y=\"-528.8\" font-family=\"Helvetica,sans-Serif\" font-size=\"14.00\">adj_close ≤ 77.438</text>\n<text text-anchor=\"start\" x=\"152\" y=\"-513.8\" font-family=\"Helvetica,sans-Serif\" font-size=\"14.00\">gini = 0.49</text>\n<text text-anchor=\"start\" x=\"147.5\" y=\"-498.8\" font-family=\"Helvetica,sans-Serif\" font-size=\"14.00\">samples = 7</text>\n<text text-anchor=\"start\" x=\"143\" y=\"-483.8\" font-family=\"Helvetica,sans-Serif\" font-size=\"14.00\">value = [4, 3]</text>\n<text text-anchor=\"start\" x=\"152\" y=\"-468.8\" font-family=\"Helvetica,sans-Serif\" font-size=\"14.00\">class = sell</text>\n</g>\n<!-- 26&#45;&gt;51 -->\n<g id=\"edge8\" class=\"edge\">\n<title>26&#45;&gt;51</title>\n<path fill=\"none\" stroke=\"black\" d=\"M235.91,-579.91C230.84,-571.2 225.44,-561.9 220.21,-552.89\"/>\n<polygon fill=\"black\" stroke=\"black\" points=\"223.1,-550.91 215.05,-544.02 217.05,-554.43 223.1,-550.91\"/>\n</g>\n<!-- 52 -->\n<g id=\"node12\" class=\"node\">\n<title>52</title>\n<path fill=\"#e68742\" stroke=\"black\" d=\"M457,-544C457,-544 296,-544 296,-544 290,-544 284,-538 284,-532 284,-532 284,-473 284,-473 284,-467 290,-461 296,-461 296,-461 457,-461 457,-461 463,-461 469,-467 469,-473 469,-473 469,-532 469,-532 469,-538 463,-544 457,-544\"/>\n<text text-anchor=\"start\" x=\"292\" y=\"-528.8\" font-family=\"Helvetica,sans-Serif\" font-size=\"14.00\">trend_ema_fast ≤ 43.49</text>\n<text text-anchor=\"start\" x=\"332.5\" y=\"-513.8\" font-family=\"Helvetica,sans-Serif\" font-size=\"14.00\">gini = 0.084</text>\n<text text-anchor=\"start\" x=\"323.5\" y=\"-498.8\" font-family=\"Helvetica,sans-Serif\" font-size=\"14.00\">samples = 343</text>\n<text text-anchor=\"start\" x=\"314.5\" y=\"-483.8\" font-family=\"Helvetica,sans-Serif\" font-size=\"14.00\">value = [328, 15]</text>\n<text text-anchor=\"start\" x=\"337\" y=\"-468.8\" font-family=\"Helvetica,sans-Serif\" font-size=\"14.00\">class = sell</text>\n</g>\n<!-- 26&#45;&gt;52 -->\n<g id=\"edge11\" class=\"edge\">\n<title>26&#45;&gt;52</title>\n<path fill=\"none\" stroke=\"black\" d=\"M300.09,-579.91C309.35,-570.65 319.27,-560.73 328.79,-551.21\"/>\n<polygon fill=\"black\" stroke=\"black\" points=\"331.38,-553.57 335.98,-544.02 326.43,-548.62 331.38,-553.57\"/>\n</g>\n<!-- 53 -->\n<g id=\"node10\" class=\"node\">\n<title>53</title>\n<path fill=\"#399de5\" stroke=\"black\" d=\"M119,-417.5C119,-417.5 30,-417.5 30,-417.5 24,-417.5 18,-411.5 18,-405.5 18,-405.5 18,-361.5 18,-361.5 18,-355.5 24,-349.5 30,-349.5 30,-349.5 119,-349.5 119,-349.5 125,-349.5 131,-355.5 131,-361.5 131,-361.5 131,-405.5 131,-405.5 131,-411.5 125,-417.5 119,-417.5\"/>\n<text text-anchor=\"start\" x=\"39.5\" y=\"-402.3\" font-family=\"Helvetica,sans-Serif\" font-size=\"14.00\">gini = 0.0</text>\n<text text-anchor=\"start\" x=\"30.5\" y=\"-387.3\" font-family=\"Helvetica,sans-Serif\" font-size=\"14.00\">samples = 3</text>\n<text text-anchor=\"start\" x=\"26\" y=\"-372.3\" font-family=\"Helvetica,sans-Serif\" font-size=\"14.00\">value = [0, 3]</text>\n<text text-anchor=\"start\" x=\"33.5\" y=\"-357.3\" font-family=\"Helvetica,sans-Serif\" font-size=\"14.00\">class = buy</text>\n</g>\n<!-- 51&#45;&gt;53 -->\n<g id=\"edge9\" class=\"edge\">\n<title>51&#45;&gt;53</title>\n<path fill=\"none\" stroke=\"black\" d=\"M150.91,-460.91C139.21,-449.21 126.46,-436.46 114.78,-424.78\"/>\n<polygon fill=\"black\" stroke=\"black\" points=\"117.21,-422.26 107.67,-417.67 112.26,-427.21 117.21,-422.26\"/>\n</g>\n<!-- 54 -->\n<g id=\"node11\" class=\"node\">\n<title>54</title>\n<path fill=\"#e58139\" stroke=\"black\" d=\"M250,-417.5C250,-417.5 161,-417.5 161,-417.5 155,-417.5 149,-411.5 149,-405.5 149,-405.5 149,-361.5 149,-361.5 149,-355.5 155,-349.5 161,-349.5 161,-349.5 250,-349.5 250,-349.5 256,-349.5 262,-355.5 262,-361.5 262,-361.5 262,-405.5 262,-405.5 262,-411.5 256,-417.5 250,-417.5\"/>\n<text text-anchor=\"start\" x=\"170.5\" y=\"-402.3\" font-family=\"Helvetica,sans-Serif\" font-size=\"14.00\">gini = 0.0</text>\n<text text-anchor=\"start\" x=\"161.5\" y=\"-387.3\" font-family=\"Helvetica,sans-Serif\" font-size=\"14.00\">samples = 4</text>\n<text text-anchor=\"start\" x=\"157\" y=\"-372.3\" font-family=\"Helvetica,sans-Serif\" font-size=\"14.00\">value = [4, 0]</text>\n<text text-anchor=\"start\" x=\"166\" y=\"-357.3\" font-family=\"Helvetica,sans-Serif\" font-size=\"14.00\">class = sell</text>\n</g>\n<!-- 51&#45;&gt;54 -->\n<g id=\"edge10\" class=\"edge\">\n<title>51&#45;&gt;54</title>\n<path fill=\"none\" stroke=\"black\" d=\"M196.36,-460.91C197.64,-450.2 199.02,-438.62 200.32,-427.78\"/>\n<polygon fill=\"black\" stroke=\"black\" points=\"203.82,-428.01 201.53,-417.67 196.87,-427.18 203.82,-428.01\"/>\n</g>\n<!-- 69 -->\n<g id=\"node13\" class=\"node\">\n<title>69</title>\n<path fill=\"#399de5\" stroke=\"black\" d=\"M408,-417.5C408,-417.5 319,-417.5 319,-417.5 313,-417.5 307,-411.5 307,-405.5 307,-405.5 307,-361.5 307,-361.5 307,-355.5 313,-349.5 319,-349.5 319,-349.5 408,-349.5 408,-349.5 414,-349.5 420,-355.5 420,-361.5 420,-361.5 420,-405.5 420,-405.5 420,-411.5 414,-417.5 408,-417.5\"/>\n<text text-anchor=\"start\" x=\"328.5\" y=\"-402.3\" font-family=\"Helvetica,sans-Serif\" font-size=\"14.00\">gini = 0.0</text>\n<text text-anchor=\"start\" x=\"319.5\" y=\"-387.3\" font-family=\"Helvetica,sans-Serif\" font-size=\"14.00\">samples = 1</text>\n<text text-anchor=\"start\" x=\"315\" y=\"-372.3\" font-family=\"Helvetica,sans-Serif\" font-size=\"14.00\">value = [0, 1]</text>\n<text text-anchor=\"start\" x=\"322.5\" y=\"-357.3\" font-family=\"Helvetica,sans-Serif\" font-size=\"14.00\">class = buy</text>\n</g>\n<!-- 52&#45;&gt;69 -->\n<g id=\"edge12\" class=\"edge\">\n<title>52&#45;&gt;69</title>\n<path fill=\"none\" stroke=\"black\" d=\"M371.99,-460.91C370.8,-450.2 369.51,-438.62 368.31,-427.78\"/>\n<polygon fill=\"black\" stroke=\"black\" points=\"371.77,-427.22 367.19,-417.67 364.81,-427.99 371.77,-427.22\"/>\n</g>\n<!-- 70 -->\n<g id=\"node14\" class=\"node\">\n<title>70</title>\n<path fill=\"#e68641\" stroke=\"black\" d=\"M593,-425C593,-425 450,-425 450,-425 444,-425 438,-419 438,-413 438,-413 438,-354 438,-354 438,-348 444,-342 450,-342 450,-342 593,-342 593,-342 599,-342 605,-348 605,-354 605,-354 605,-413 605,-413 605,-419 599,-425 593,-425\"/>\n<text text-anchor=\"start\" x=\"446\" y=\"-409.8\" font-family=\"Helvetica,sans-Serif\" font-size=\"14.00\">volume_mfi ≤ 70.692</text>\n<text text-anchor=\"start\" x=\"477.5\" y=\"-394.8\" font-family=\"Helvetica,sans-Serif\" font-size=\"14.00\">gini = 0.079</text>\n<text text-anchor=\"start\" x=\"468.5\" y=\"-379.8\" font-family=\"Helvetica,sans-Serif\" font-size=\"14.00\">samples = 342</text>\n<text text-anchor=\"start\" x=\"459.5\" y=\"-364.8\" font-family=\"Helvetica,sans-Serif\" font-size=\"14.00\">value = [328, 14]</text>\n<text text-anchor=\"start\" x=\"482\" y=\"-349.8\" font-family=\"Helvetica,sans-Serif\" font-size=\"14.00\">class = sell</text>\n</g>\n<!-- 52&#45;&gt;70 -->\n<g id=\"edge13\" class=\"edge\">\n<title>52&#45;&gt;70</title>\n<path fill=\"none\" stroke=\"black\" d=\"M426.81,-460.91C438.62,-451.38 451.29,-441.15 463.41,-431.37\"/>\n<polygon fill=\"black\" stroke=\"black\" points=\"465.7,-434.02 471.28,-425.02 461.3,-428.58 465.7,-434.02\"/>\n</g>\n<!-- 77 -->\n<g id=\"node15\" class=\"node\">\n<title>77</title>\n<path fill=\"#e68640\" stroke=\"black\" d=\"M443,-306C443,-306 262,-306 262,-306 256,-306 250,-300 250,-294 250,-294 250,-235 250,-235 250,-229 256,-223 262,-223 262,-223 443,-223 443,-223 449,-223 455,-229 455,-235 455,-235 455,-294 455,-294 455,-300 449,-306 443,-306\"/>\n<text text-anchor=\"start\" x=\"258\" y=\"-290.8\" font-family=\"Helvetica,sans-Serif\" font-size=\"14.00\">momentum_pvo ≤ &#45;10.427</text>\n<text text-anchor=\"start\" x=\"308.5\" y=\"-275.8\" font-family=\"Helvetica,sans-Serif\" font-size=\"14.00\">gini = 0.068</text>\n<text text-anchor=\"start\" x=\"299.5\" y=\"-260.8\" font-family=\"Helvetica,sans-Serif\" font-size=\"14.00\">samples = 338</text>\n<text text-anchor=\"start\" x=\"290.5\" y=\"-245.8\" font-family=\"Helvetica,sans-Serif\" font-size=\"14.00\">value = [326, 12]</text>\n<text text-anchor=\"start\" x=\"313\" y=\"-230.8\" font-family=\"Helvetica,sans-Serif\" font-size=\"14.00\">class = sell</text>\n</g>\n<!-- 70&#45;&gt;77 -->\n<g id=\"edge14\" class=\"edge\">\n<title>70&#45;&gt;77</title>\n<path fill=\"none\" stroke=\"black\" d=\"M462.87,-341.91C448.84,-332.2 433.76,-321.76 419.39,-311.81\"/>\n<polygon fill=\"black\" stroke=\"black\" points=\"421.24,-308.84 411.03,-306.02 417.26,-314.59 421.24,-308.84\"/>\n</g>\n<!-- 78 -->\n<g id=\"node22\" class=\"node\">\n<title>78</title>\n<path fill=\"#ffffff\" stroke=\"black\" d=\"M574,-306C574,-306 485,-306 485,-306 479,-306 473,-300 473,-294 473,-294 473,-235 473,-235 473,-229 479,-223 485,-223 485,-223 574,-223 574,-223 580,-223 586,-229 586,-235 586,-235 586,-294 586,-294 586,-300 580,-306 574,-306\"/>\n<text text-anchor=\"start\" x=\"487\" y=\"-290.8\" font-family=\"Helvetica,sans-Serif\" font-size=\"14.00\">low ≤ 43.75</text>\n<text text-anchor=\"start\" x=\"494.5\" y=\"-275.8\" font-family=\"Helvetica,sans-Serif\" font-size=\"14.00\">gini = 0.5</text>\n<text text-anchor=\"start\" x=\"485.5\" y=\"-260.8\" font-family=\"Helvetica,sans-Serif\" font-size=\"14.00\">samples = 4</text>\n<text text-anchor=\"start\" x=\"481\" y=\"-245.8\" font-family=\"Helvetica,sans-Serif\" font-size=\"14.00\">value = [2, 2]</text>\n<text text-anchor=\"start\" x=\"490\" y=\"-230.8\" font-family=\"Helvetica,sans-Serif\" font-size=\"14.00\">class = sell</text>\n</g>\n<!-- 70&#45;&gt;78 -->\n<g id=\"edge21\" class=\"edge\">\n<title>70&#45;&gt;78</title>\n<path fill=\"none\" stroke=\"black\" d=\"M524.28,-341.91C524.85,-333.56 525.45,-324.67 526.05,-316.02\"/>\n<polygon fill=\"black\" stroke=\"black\" points=\"529.54,-316.24 526.73,-306.02 522.56,-315.76 529.54,-316.24\"/>\n</g>\n<!-- 91 -->\n<g id=\"node16\" class=\"node\">\n<title>91</title>\n<path fill=\"#ea9b62\" stroke=\"black\" d=\"M265,-187C265,-187 98,-187 98,-187 92,-187 86,-181 86,-175 86,-175 86,-116 86,-116 86,-110 92,-104 98,-104 98,-104 265,-104 265,-104 271,-104 277,-110 277,-116 277,-116 277,-175 277,-175 277,-181 271,-187 265,-187\"/>\n<text text-anchor=\"start\" x=\"94\" y=\"-171.8\" font-family=\"Helvetica,sans-Serif\" font-size=\"14.00\">momentum_roc ≤ &#45;3.227</text>\n<text text-anchor=\"start\" x=\"137.5\" y=\"-156.8\" font-family=\"Helvetica,sans-Serif\" font-size=\"14.00\">gini = 0.284</text>\n<text text-anchor=\"start\" x=\"133\" y=\"-141.8\" font-family=\"Helvetica,sans-Serif\" font-size=\"14.00\">samples = 35</text>\n<text text-anchor=\"start\" x=\"128.5\" y=\"-126.8\" font-family=\"Helvetica,sans-Serif\" font-size=\"14.00\">value = [29, 6]</text>\n<text text-anchor=\"start\" x=\"142\" y=\"-111.8\" font-family=\"Helvetica,sans-Serif\" font-size=\"14.00\">class = sell</text>\n</g>\n<!-- 77&#45;&gt;91 -->\n<g id=\"edge15\" class=\"edge\">\n<title>77&#45;&gt;91</title>\n<path fill=\"none\" stroke=\"black\" d=\"M293.17,-222.91C278.98,-213.2 263.72,-202.76 249.19,-192.81\"/>\n<polygon fill=\"black\" stroke=\"black\" points=\"250.95,-189.78 240.72,-187.02 247,-195.56 250.95,-189.78\"/>\n</g>\n<!-- 92 -->\n<g id=\"node19\" class=\"node\">\n<title>92</title>\n<path fill=\"#e6843d\" stroke=\"black\" d=\"M414,-187C414,-187 307,-187 307,-187 301,-187 295,-181 295,-175 295,-175 295,-116 295,-116 295,-110 301,-104 307,-104 307,-104 414,-104 414,-104 420,-104 426,-110 426,-116 426,-116 426,-175 426,-175 426,-181 420,-187 414,-187\"/>\n<text text-anchor=\"start\" x=\"306.5\" y=\"-171.8\" font-family=\"Helvetica,sans-Serif\" font-size=\"14.00\">trend_stc ≤ 0.0</text>\n<text text-anchor=\"start\" x=\"316.5\" y=\"-156.8\" font-family=\"Helvetica,sans-Serif\" font-size=\"14.00\">gini = 0.039</text>\n<text text-anchor=\"start\" x=\"307.5\" y=\"-141.8\" font-family=\"Helvetica,sans-Serif\" font-size=\"14.00\">samples = 303</text>\n<text text-anchor=\"start\" x=\"303\" y=\"-126.8\" font-family=\"Helvetica,sans-Serif\" font-size=\"14.00\">value = [297, 6]</text>\n<text text-anchor=\"start\" x=\"321\" y=\"-111.8\" font-family=\"Helvetica,sans-Serif\" font-size=\"14.00\">class = sell</text>\n</g>\n<!-- 77&#45;&gt;92 -->\n<g id=\"edge18\" class=\"edge\">\n<title>77&#45;&gt;92</title>\n<path fill=\"none\" stroke=\"black\" d=\"M355.28,-222.91C355.85,-214.56 356.45,-205.67 357.05,-197.02\"/>\n<polygon fill=\"black\" stroke=\"black\" points=\"360.54,-197.24 357.73,-187.02 353.56,-196.76 360.54,-197.24\"/>\n</g>\n<!-- 93 -->\n<g id=\"node17\" class=\"node\">\n<title>93</title>\n<path fill=\"#399de5\" stroke=\"black\" d=\"M101,-68C101,-68 12,-68 12,-68 6,-68 0,-62 0,-56 0,-56 0,-12 0,-12 0,-6 6,0 12,0 12,0 101,0 101,0 107,0 113,-6 113,-12 113,-12 113,-56 113,-56 113,-62 107,-68 101,-68\"/>\n<text text-anchor=\"start\" x=\"21.5\" y=\"-52.8\" font-family=\"Helvetica,sans-Serif\" font-size=\"14.00\">gini = 0.0</text>\n<text text-anchor=\"start\" x=\"12.5\" y=\"-37.8\" font-family=\"Helvetica,sans-Serif\" font-size=\"14.00\">samples = 4</text>\n<text text-anchor=\"start\" x=\"8\" y=\"-22.8\" font-family=\"Helvetica,sans-Serif\" font-size=\"14.00\">value = [0, 4]</text>\n<text text-anchor=\"start\" x=\"15.5\" y=\"-7.8\" font-family=\"Helvetica,sans-Serif\" font-size=\"14.00\">class = buy</text>\n</g>\n<!-- 91&#45;&gt;93 -->\n<g id=\"edge16\" class=\"edge\">\n<title>91&#45;&gt;93</title>\n<path fill=\"none\" stroke=\"black\" d=\"M134.95,-103.73C124.23,-94.33 112.83,-84.35 102.15,-74.99\"/>\n<polygon fill=\"black\" stroke=\"black\" points=\"104.34,-72.26 94.51,-68.3 99.73,-77.52 104.34,-72.26\"/>\n</g>\n<!-- 94 -->\n<g id=\"node18\" class=\"node\">\n<title>94</title>\n<path fill=\"#e78a47\" stroke=\"black\" d=\"M241.5,-68C241.5,-68 143.5,-68 143.5,-68 137.5,-68 131.5,-62 131.5,-56 131.5,-56 131.5,-12 131.5,-12 131.5,-6 137.5,0 143.5,0 143.5,0 241.5,0 241.5,0 247.5,0 253.5,-6 253.5,-12 253.5,-12 253.5,-56 253.5,-56 253.5,-62 247.5,-68 241.5,-68\"/>\n<text text-anchor=\"start\" x=\"148.5\" y=\"-52.8\" font-family=\"Helvetica,sans-Serif\" font-size=\"14.00\">gini = 0.121</text>\n<text text-anchor=\"start\" x=\"144\" y=\"-37.8\" font-family=\"Helvetica,sans-Serif\" font-size=\"14.00\">samples = 31</text>\n<text text-anchor=\"start\" x=\"139.5\" y=\"-22.8\" font-family=\"Helvetica,sans-Serif\" font-size=\"14.00\">value = [29, 2]</text>\n<text text-anchor=\"start\" x=\"153\" y=\"-7.8\" font-family=\"Helvetica,sans-Serif\" font-size=\"14.00\">class = sell</text>\n</g>\n<!-- 91&#45;&gt;94 -->\n<g id=\"edge17\" class=\"edge\">\n<title>91&#45;&gt;94</title>\n<path fill=\"none\" stroke=\"black\" d=\"M185.6,-103.73C186.43,-95.43 187.31,-86.67 188.15,-78.28\"/>\n<polygon fill=\"black\" stroke=\"black\" points=\"191.64,-78.6 189.15,-68.3 184.67,-77.9 191.64,-78.6\"/>\n</g>\n<!-- 95 -->\n<g id=\"node20\" class=\"node\">\n<title>95</title>\n<path fill=\"#399de5\" stroke=\"black\" d=\"M394,-68C394,-68 305,-68 305,-68 299,-68 293,-62 293,-56 293,-56 293,-12 293,-12 293,-6 299,0 305,0 305,0 394,0 394,0 400,0 406,-6 406,-12 406,-12 406,-56 406,-56 406,-62 400,-68 394,-68\"/>\n<text text-anchor=\"start\" x=\"314.5\" y=\"-52.8\" font-family=\"Helvetica,sans-Serif\" font-size=\"14.00\">gini = 0.0</text>\n<text text-anchor=\"start\" x=\"305.5\" y=\"-37.8\" font-family=\"Helvetica,sans-Serif\" font-size=\"14.00\">samples = 1</text>\n<text text-anchor=\"start\" x=\"301\" y=\"-22.8\" font-family=\"Helvetica,sans-Serif\" font-size=\"14.00\">value = [0, 1]</text>\n<text text-anchor=\"start\" x=\"308.5\" y=\"-7.8\" font-family=\"Helvetica,sans-Serif\" font-size=\"14.00\">class = buy</text>\n</g>\n<!-- 92&#45;&gt;95 -->\n<g id=\"edge19\" class=\"edge\">\n<title>92&#45;&gt;95</title>\n<path fill=\"none\" stroke=\"black\" d=\"M356.4,-103.73C355.57,-95.43 354.69,-86.67 353.85,-78.28\"/>\n<polygon fill=\"black\" stroke=\"black\" points=\"357.33,-77.9 352.85,-68.3 350.36,-78.6 357.33,-77.9\"/>\n</g>\n<!-- 96 -->\n<g id=\"node21\" class=\"node\">\n<title>96</title>\n<path fill=\"#e5833c\" stroke=\"black\" d=\"M543,-68C543,-68 436,-68 436,-68 430,-68 424,-62 424,-56 424,-56 424,-12 424,-12 424,-6 430,0 436,0 436,0 543,0 543,0 549,0 555,-6 555,-12 555,-12 555,-56 555,-56 555,-62 549,-68 543,-68\"/>\n<text text-anchor=\"start\" x=\"445.5\" y=\"-52.8\" font-family=\"Helvetica,sans-Serif\" font-size=\"14.00\">gini = 0.033</text>\n<text text-anchor=\"start\" x=\"436.5\" y=\"-37.8\" font-family=\"Helvetica,sans-Serif\" font-size=\"14.00\">samples = 302</text>\n<text text-anchor=\"start\" x=\"432\" y=\"-22.8\" font-family=\"Helvetica,sans-Serif\" font-size=\"14.00\">value = [297, 5]</text>\n<text text-anchor=\"start\" x=\"450\" y=\"-7.8\" font-family=\"Helvetica,sans-Serif\" font-size=\"14.00\">class = sell</text>\n</g>\n<!-- 92&#45;&gt;96 -->\n<g id=\"edge20\" class=\"edge\">\n<title>92&#45;&gt;96</title>\n<path fill=\"none\" stroke=\"black\" d=\"M408.53,-103.73C419.6,-94.33 431.36,-84.35 442.39,-74.99\"/>\n<polygon fill=\"black\" stroke=\"black\" points=\"444.91,-77.44 450.27,-68.3 440.38,-72.1 444.91,-77.44\"/>\n</g>\n<!-- 79 -->\n<g id=\"node23\" class=\"node\">\n<title>79</title>\n<path fill=\"#399de5\" stroke=\"black\" d=\"M550,-179.5C550,-179.5 461,-179.5 461,-179.5 455,-179.5 449,-173.5 449,-167.5 449,-167.5 449,-123.5 449,-123.5 449,-117.5 455,-111.5 461,-111.5 461,-111.5 550,-111.5 550,-111.5 556,-111.5 562,-117.5 562,-123.5 562,-123.5 562,-167.5 562,-167.5 562,-173.5 556,-179.5 550,-179.5\"/>\n<text text-anchor=\"start\" x=\"470.5\" y=\"-164.3\" font-family=\"Helvetica,sans-Serif\" font-size=\"14.00\">gini = 0.0</text>\n<text text-anchor=\"start\" x=\"461.5\" y=\"-149.3\" font-family=\"Helvetica,sans-Serif\" font-size=\"14.00\">samples = 2</text>\n<text text-anchor=\"start\" x=\"457\" y=\"-134.3\" font-family=\"Helvetica,sans-Serif\" font-size=\"14.00\">value = [0, 2]</text>\n<text text-anchor=\"start\" x=\"464.5\" y=\"-119.3\" font-family=\"Helvetica,sans-Serif\" font-size=\"14.00\">class = buy</text>\n</g>\n<!-- 78&#45;&gt;79 -->\n<g id=\"edge22\" class=\"edge\">\n<title>78&#45;&gt;79</title>\n<path fill=\"none\" stroke=\"black\" d=\"M521.17,-222.91C518.98,-212.2 516.6,-200.62 514.38,-189.78\"/>\n<polygon fill=\"black\" stroke=\"black\" points=\"517.74,-188.76 512.3,-179.67 510.88,-190.17 517.74,-188.76\"/>\n</g>\n<!-- 80 -->\n<g id=\"node24\" class=\"node\">\n<title>80</title>\n<path fill=\"#e58139\" stroke=\"black\" d=\"M681,-179.5C681,-179.5 592,-179.5 592,-179.5 586,-179.5 580,-173.5 580,-167.5 580,-167.5 580,-123.5 580,-123.5 580,-117.5 586,-111.5 592,-111.5 592,-111.5 681,-111.5 681,-111.5 687,-111.5 693,-117.5 693,-123.5 693,-123.5 693,-167.5 693,-167.5 693,-173.5 687,-179.5 681,-179.5\"/>\n<text text-anchor=\"start\" x=\"601.5\" y=\"-164.3\" font-family=\"Helvetica,sans-Serif\" font-size=\"14.00\">gini = 0.0</text>\n<text text-anchor=\"start\" x=\"592.5\" y=\"-149.3\" font-family=\"Helvetica,sans-Serif\" font-size=\"14.00\">samples = 2</text>\n<text text-anchor=\"start\" x=\"588\" y=\"-134.3\" font-family=\"Helvetica,sans-Serif\" font-size=\"14.00\">value = [2, 0]</text>\n<text text-anchor=\"start\" x=\"597\" y=\"-119.3\" font-family=\"Helvetica,sans-Serif\" font-size=\"14.00\">class = sell</text>\n</g>\n<!-- 78&#45;&gt;80 -->\n<g id=\"edge23\" class=\"edge\">\n<title>78&#45;&gt;80</title>\n<path fill=\"none\" stroke=\"black\" d=\"M566.62,-222.91C577.22,-211.32 588.76,-198.7 599.36,-187.11\"/>\n<polygon fill=\"black\" stroke=\"black\" points=\"602,-189.41 606.17,-179.67 596.84,-184.68 602,-189.41\"/>\n</g>\n<!-- 41 -->\n<g id=\"node26\" class=\"node\">\n<title>41</title>\n<path fill=\"#399de5\" stroke=\"black\" d=\"M510,-655.5C510,-655.5 421,-655.5 421,-655.5 415,-655.5 409,-649.5 409,-643.5 409,-643.5 409,-599.5 409,-599.5 409,-593.5 415,-587.5 421,-587.5 421,-587.5 510,-587.5 510,-587.5 516,-587.5 522,-593.5 522,-599.5 522,-599.5 522,-643.5 522,-643.5 522,-649.5 516,-655.5 510,-655.5\"/>\n<text text-anchor=\"start\" x=\"430.5\" y=\"-640.3\" font-family=\"Helvetica,sans-Serif\" font-size=\"14.00\">gini = 0.0</text>\n<text text-anchor=\"start\" x=\"421.5\" y=\"-625.3\" font-family=\"Helvetica,sans-Serif\" font-size=\"14.00\">samples = 4</text>\n<text text-anchor=\"start\" x=\"417\" y=\"-610.3\" font-family=\"Helvetica,sans-Serif\" font-size=\"14.00\">value = [0, 4]</text>\n<text text-anchor=\"start\" x=\"424.5\" y=\"-595.3\" font-family=\"Helvetica,sans-Serif\" font-size=\"14.00\">class = buy</text>\n</g>\n<!-- 20&#45;&gt;41 -->\n<g id=\"edge25\" class=\"edge\">\n<title>20&#45;&gt;41</title>\n<path fill=\"none\" stroke=\"black\" d=\"M473.34,-698.91C472.24,-688.2 471.05,-676.62 469.94,-665.78\"/>\n<polygon fill=\"black\" stroke=\"black\" points=\"473.4,-665.26 468.9,-655.67 466.44,-665.97 473.4,-665.26\"/>\n</g>\n<!-- 42 -->\n<g id=\"node27\" class=\"node\">\n<title>42</title>\n<path fill=\"#e58139\" stroke=\"black\" d=\"M641,-655.5C641,-655.5 552,-655.5 552,-655.5 546,-655.5 540,-649.5 540,-643.5 540,-643.5 540,-599.5 540,-599.5 540,-593.5 546,-587.5 552,-587.5 552,-587.5 641,-587.5 641,-587.5 647,-587.5 653,-593.5 653,-599.5 653,-599.5 653,-643.5 653,-643.5 653,-649.5 647,-655.5 641,-655.5\"/>\n<text text-anchor=\"start\" x=\"561.5\" y=\"-640.3\" font-family=\"Helvetica,sans-Serif\" font-size=\"14.00\">gini = 0.0</text>\n<text text-anchor=\"start\" x=\"552.5\" y=\"-625.3\" font-family=\"Helvetica,sans-Serif\" font-size=\"14.00\">samples = 2</text>\n<text text-anchor=\"start\" x=\"548\" y=\"-610.3\" font-family=\"Helvetica,sans-Serif\" font-size=\"14.00\">value = [2, 0]</text>\n<text text-anchor=\"start\" x=\"557\" y=\"-595.3\" font-family=\"Helvetica,sans-Serif\" font-size=\"14.00\">class = sell</text>\n</g>\n<!-- 20&#45;&gt;42 -->\n<g id=\"edge26\" class=\"edge\">\n<title>20&#45;&gt;42</title>\n<path fill=\"none\" stroke=\"black\" d=\"M518.79,-698.91C530.68,-687.21 543.65,-674.46 555.53,-662.78\"/>\n<polygon fill=\"black\" stroke=\"black\" points=\"558.09,-665.17 562.77,-655.67 553.18,-660.18 558.09,-665.17\"/>\n</g>\n<!-- 9 -->\n<g id=\"node29\" class=\"node\">\n<title>9</title>\n<path fill=\"#e88e4d\" stroke=\"black\" d=\"M876.5,-901C876.5,-901 724.5,-901 724.5,-901 718.5,-901 712.5,-895 712.5,-889 712.5,-889 712.5,-830 712.5,-830 712.5,-824 718.5,-818 724.5,-818 724.5,-818 876.5,-818 876.5,-818 882.5,-818 888.5,-824 888.5,-830 888.5,-830 888.5,-889 888.5,-889 888.5,-895 882.5,-901 876.5,-901\"/>\n<text text-anchor=\"start\" x=\"720.5\" y=\"-885.8\" font-family=\"Helvetica,sans-Serif\" font-size=\"14.00\">trend_aroon_up ≤ 46.0</text>\n<text text-anchor=\"start\" x=\"756.5\" y=\"-870.8\" font-family=\"Helvetica,sans-Serif\" font-size=\"14.00\">gini = 0.165</text>\n<text text-anchor=\"start\" x=\"752\" y=\"-855.8\" font-family=\"Helvetica,sans-Serif\" font-size=\"14.00\">samples = 11</text>\n<text text-anchor=\"start\" x=\"747.5\" y=\"-840.8\" font-family=\"Helvetica,sans-Serif\" font-size=\"14.00\">value = [10, 1]</text>\n<text text-anchor=\"start\" x=\"761\" y=\"-825.8\" font-family=\"Helvetica,sans-Serif\" font-size=\"14.00\">class = sell</text>\n</g>\n<!-- 4&#45;&gt;9 -->\n<g id=\"edge28\" class=\"edge\">\n<title>4&#45;&gt;9</title>\n<path fill=\"none\" stroke=\"black\" d=\"M865.81,-936.91C858.05,-927.83 849.75,-918.12 841.76,-908.77\"/>\n<polygon fill=\"black\" stroke=\"black\" points=\"844.29,-906.35 835.13,-901.02 838.97,-910.9 844.29,-906.35\"/>\n</g>\n<!-- 10 -->\n<g id=\"node32\" class=\"node\">\n<title>10</title>\n<path fill=\"#8cc6f0\" stroke=\"black\" d=\"M1084,-901C1084,-901 919,-901 919,-901 913,-901 907,-895 907,-889 907,-889 907,-830 907,-830 907,-824 913,-818 919,-818 919,-818 1084,-818 1084,-818 1090,-818 1096,-824 1096,-830 1096,-830 1096,-889 1096,-889 1096,-895 1090,-901 1084,-901\"/>\n<text text-anchor=\"start\" x=\"915\" y=\"-885.8\" font-family=\"Helvetica,sans-Serif\" font-size=\"14.00\">trend_adx_neg ≤ 24.859</text>\n<text text-anchor=\"start\" x=\"957.5\" y=\"-870.8\" font-family=\"Helvetica,sans-Serif\" font-size=\"14.00\">gini = 0.417</text>\n<text text-anchor=\"start\" x=\"953\" y=\"-855.8\" font-family=\"Helvetica,sans-Serif\" font-size=\"14.00\">samples = 71</text>\n<text text-anchor=\"start\" x=\"944\" y=\"-840.8\" font-family=\"Helvetica,sans-Serif\" font-size=\"14.00\">value = [21, 50]</text>\n<text text-anchor=\"start\" x=\"960.5\" y=\"-825.8\" font-family=\"Helvetica,sans-Serif\" font-size=\"14.00\">class = buy</text>\n</g>\n<!-- 4&#45;&gt;10 -->\n<g id=\"edge31\" class=\"edge\">\n<title>4&#45;&gt;10</title>\n<path fill=\"none\" stroke=\"black\" d=\"M935.54,-936.91C943.38,-927.83 951.76,-918.12 959.83,-908.77\"/>\n<polygon fill=\"black\" stroke=\"black\" points=\"962.64,-910.88 966.52,-901.02 957.34,-906.3 962.64,-910.88\"/>\n</g>\n<!-- 71 -->\n<g id=\"node30\" class=\"node\">\n<title>71</title>\n<path fill=\"#399de5\" stroke=\"black\" d=\"M719,-774.5C719,-774.5 630,-774.5 630,-774.5 624,-774.5 618,-768.5 618,-762.5 618,-762.5 618,-718.5 618,-718.5 618,-712.5 624,-706.5 630,-706.5 630,-706.5 719,-706.5 719,-706.5 725,-706.5 731,-712.5 731,-718.5 731,-718.5 731,-762.5 731,-762.5 731,-768.5 725,-774.5 719,-774.5\"/>\n<text text-anchor=\"start\" x=\"639.5\" y=\"-759.3\" font-family=\"Helvetica,sans-Serif\" font-size=\"14.00\">gini = 0.0</text>\n<text text-anchor=\"start\" x=\"630.5\" y=\"-744.3\" font-family=\"Helvetica,sans-Serif\" font-size=\"14.00\">samples = 1</text>\n<text text-anchor=\"start\" x=\"626\" y=\"-729.3\" font-family=\"Helvetica,sans-Serif\" font-size=\"14.00\">value = [0, 1]</text>\n<text text-anchor=\"start\" x=\"633.5\" y=\"-714.3\" font-family=\"Helvetica,sans-Serif\" font-size=\"14.00\">class = buy</text>\n</g>\n<!-- 9&#45;&gt;71 -->\n<g id=\"edge29\" class=\"edge\">\n<title>9&#45;&gt;71</title>\n<path fill=\"none\" stroke=\"black\" d=\"M756.78,-817.91C744.19,-806.21 730.45,-793.46 717.88,-781.78\"/>\n<polygon fill=\"black\" stroke=\"black\" points=\"719.93,-778.91 710.22,-774.67 715.16,-784.04 719.93,-778.91\"/>\n</g>\n<!-- 72 -->\n<g id=\"node31\" class=\"node\">\n<title>72</title>\n<path fill=\"#e58139\" stroke=\"black\" d=\"M859.5,-774.5C859.5,-774.5 761.5,-774.5 761.5,-774.5 755.5,-774.5 749.5,-768.5 749.5,-762.5 749.5,-762.5 749.5,-718.5 749.5,-718.5 749.5,-712.5 755.5,-706.5 761.5,-706.5 761.5,-706.5 859.5,-706.5 859.5,-706.5 865.5,-706.5 871.5,-712.5 871.5,-718.5 871.5,-718.5 871.5,-762.5 871.5,-762.5 871.5,-768.5 865.5,-774.5 859.5,-774.5\"/>\n<text text-anchor=\"start\" x=\"775.5\" y=\"-759.3\" font-family=\"Helvetica,sans-Serif\" font-size=\"14.00\">gini = 0.0</text>\n<text text-anchor=\"start\" x=\"762\" y=\"-744.3\" font-family=\"Helvetica,sans-Serif\" font-size=\"14.00\">samples = 10</text>\n<text text-anchor=\"start\" x=\"757.5\" y=\"-729.3\" font-family=\"Helvetica,sans-Serif\" font-size=\"14.00\">value = [10, 0]</text>\n<text text-anchor=\"start\" x=\"771\" y=\"-714.3\" font-family=\"Helvetica,sans-Serif\" font-size=\"14.00\">class = sell</text>\n</g>\n<!-- 9&#45;&gt;72 -->\n<g id=\"edge30\" class=\"edge\">\n<title>9&#45;&gt;72</title>\n<path fill=\"none\" stroke=\"black\" d=\"M803.97,-817.91C804.88,-807.2 805.87,-795.62 806.8,-784.78\"/>\n<polygon fill=\"black\" stroke=\"black\" points=\"810.3,-784.93 807.67,-774.67 803.33,-784.33 810.3,-784.93\"/>\n</g>\n<!-- 21 -->\n<g id=\"node33\" class=\"node\">\n<title>21</title>\n<path fill=\"#ea9a61\" stroke=\"black\" d=\"M1083.5,-782C1083.5,-782 901.5,-782 901.5,-782 895.5,-782 889.5,-776 889.5,-770 889.5,-770 889.5,-711 889.5,-711 889.5,-705 895.5,-699 901.5,-699 901.5,-699 1083.5,-699 1083.5,-699 1089.5,-699 1095.5,-705 1095.5,-711 1095.5,-711 1095.5,-770 1095.5,-770 1095.5,-776 1089.5,-782 1083.5,-782\"/>\n<text text-anchor=\"start\" x=\"897.5\" y=\"-766.8\" font-family=\"Helvetica,sans-Serif\" font-size=\"14.00\">trend_psar_down ≤ 49.212</text>\n<text text-anchor=\"start\" x=\"948.5\" y=\"-751.8\" font-family=\"Helvetica,sans-Serif\" font-size=\"14.00\">gini = 0.278</text>\n<text text-anchor=\"start\" x=\"948.5\" y=\"-736.8\" font-family=\"Helvetica,sans-Serif\" font-size=\"14.00\">samples = 6</text>\n<text text-anchor=\"start\" x=\"944\" y=\"-721.8\" font-family=\"Helvetica,sans-Serif\" font-size=\"14.00\">value = [5, 1]</text>\n<text text-anchor=\"start\" x=\"953\" y=\"-706.8\" font-family=\"Helvetica,sans-Serif\" font-size=\"14.00\">class = sell</text>\n</g>\n<!-- 10&#45;&gt;21 -->\n<g id=\"edge32\" class=\"edge\">\n<title>10&#45;&gt;21</title>\n<path fill=\"none\" stroke=\"black\" d=\"M998.38,-817.91C997.74,-809.56 997.05,-800.67 996.39,-792.02\"/>\n<polygon fill=\"black\" stroke=\"black\" points=\"999.87,-791.72 995.62,-782.02 992.89,-792.26 999.87,-791.72\"/>\n</g>\n<!-- 22 -->\n<g id=\"node36\" class=\"node\">\n<title>22</title>\n<path fill=\"#7abded\" stroke=\"black\" d=\"M1333.5,-782C1333.5,-782 1125.5,-782 1125.5,-782 1119.5,-782 1113.5,-776 1113.5,-770 1113.5,-770 1113.5,-711 1113.5,-711 1113.5,-705 1119.5,-699 1125.5,-699 1125.5,-699 1333.5,-699 1333.5,-699 1339.5,-699 1345.5,-705 1345.5,-711 1345.5,-711 1345.5,-770 1345.5,-770 1345.5,-776 1339.5,-782 1333.5,-782\"/>\n<text text-anchor=\"start\" x=\"1121.5\" y=\"-766.8\" font-family=\"Helvetica,sans-Serif\" font-size=\"14.00\">momentum_pvo_hist ≤ 13.992</text>\n<text text-anchor=\"start\" x=\"1185.5\" y=\"-751.8\" font-family=\"Helvetica,sans-Serif\" font-size=\"14.00\">gini = 0.371</text>\n<text text-anchor=\"start\" x=\"1181\" y=\"-736.8\" font-family=\"Helvetica,sans-Serif\" font-size=\"14.00\">samples = 65</text>\n<text text-anchor=\"start\" x=\"1172\" y=\"-721.8\" font-family=\"Helvetica,sans-Serif\" font-size=\"14.00\">value = [16, 49]</text>\n<text text-anchor=\"start\" x=\"1188.5\" y=\"-706.8\" font-family=\"Helvetica,sans-Serif\" font-size=\"14.00\">class = buy</text>\n</g>\n<!-- 10&#45;&gt;22 -->\n<g id=\"edge35\" class=\"edge\">\n<title>10&#45;&gt;22</title>\n<path fill=\"none\" stroke=\"black\" d=\"M1080.6,-817.91C1100.23,-807.83 1121.39,-796.98 1141.42,-786.7\"/>\n<polygon fill=\"black\" stroke=\"black\" points=\"1143.24,-789.7 1150.54,-782.02 1140.04,-783.47 1143.24,-789.7\"/>\n</g>\n<!-- 85 -->\n<g id=\"node34\" class=\"node\">\n<title>85</title>\n<path fill=\"#399de5\" stroke=\"black\" d=\"M906,-655.5C906,-655.5 817,-655.5 817,-655.5 811,-655.5 805,-649.5 805,-643.5 805,-643.5 805,-599.5 805,-599.5 805,-593.5 811,-587.5 817,-587.5 817,-587.5 906,-587.5 906,-587.5 912,-587.5 918,-593.5 918,-599.5 918,-599.5 918,-643.5 918,-643.5 918,-649.5 912,-655.5 906,-655.5\"/>\n<text text-anchor=\"start\" x=\"826.5\" y=\"-640.3\" font-family=\"Helvetica,sans-Serif\" font-size=\"14.00\">gini = 0.0</text>\n<text text-anchor=\"start\" x=\"817.5\" y=\"-625.3\" font-family=\"Helvetica,sans-Serif\" font-size=\"14.00\">samples = 1</text>\n<text text-anchor=\"start\" x=\"813\" y=\"-610.3\" font-family=\"Helvetica,sans-Serif\" font-size=\"14.00\">value = [0, 1]</text>\n<text text-anchor=\"start\" x=\"820.5\" y=\"-595.3\" font-family=\"Helvetica,sans-Serif\" font-size=\"14.00\">class = buy</text>\n</g>\n<!-- 21&#45;&gt;85 -->\n<g id=\"edge33\" class=\"edge\">\n<title>21&#45;&gt;85</title>\n<path fill=\"none\" stroke=\"black\" d=\"M947.05,-698.91C933.83,-687.1 919.4,-674.22 906.23,-662.45\"/>\n<polygon fill=\"black\" stroke=\"black\" points=\"908.43,-659.72 898.64,-655.67 903.76,-664.94 908.43,-659.72\"/>\n</g>\n<!-- 86 -->\n<g id=\"node35\" class=\"node\">\n<title>86</title>\n<path fill=\"#e58139\" stroke=\"black\" d=\"M1037,-655.5C1037,-655.5 948,-655.5 948,-655.5 942,-655.5 936,-649.5 936,-643.5 936,-643.5 936,-599.5 936,-599.5 936,-593.5 942,-587.5 948,-587.5 948,-587.5 1037,-587.5 1037,-587.5 1043,-587.5 1049,-593.5 1049,-599.5 1049,-599.5 1049,-643.5 1049,-643.5 1049,-649.5 1043,-655.5 1037,-655.5\"/>\n<text text-anchor=\"start\" x=\"957.5\" y=\"-640.3\" font-family=\"Helvetica,sans-Serif\" font-size=\"14.00\">gini = 0.0</text>\n<text text-anchor=\"start\" x=\"948.5\" y=\"-625.3\" font-family=\"Helvetica,sans-Serif\" font-size=\"14.00\">samples = 5</text>\n<text text-anchor=\"start\" x=\"944\" y=\"-610.3\" font-family=\"Helvetica,sans-Serif\" font-size=\"14.00\">value = [5, 0]</text>\n<text text-anchor=\"start\" x=\"953\" y=\"-595.3\" font-family=\"Helvetica,sans-Serif\" font-size=\"14.00\">class = sell</text>\n</g>\n<!-- 21&#45;&gt;86 -->\n<g id=\"edge34\" class=\"edge\">\n<title>21&#45;&gt;86</title>\n<path fill=\"none\" stroke=\"black\" d=\"M992.5,-698.91C992.5,-688.2 992.5,-676.62 992.5,-665.78\"/>\n<polygon fill=\"black\" stroke=\"black\" points=\"996,-665.67 992.5,-655.67 989,-665.67 996,-665.67\"/>\n</g>\n<!-- 23 -->\n<g id=\"node37\" class=\"node\">\n<title>23</title>\n<path fill=\"#69b5eb\" stroke=\"black\" d=\"M1251.5,-663C1251.5,-663 1079.5,-663 1079.5,-663 1073.5,-663 1067.5,-657 1067.5,-651 1067.5,-651 1067.5,-592 1067.5,-592 1067.5,-586 1073.5,-580 1079.5,-580 1079.5,-580 1251.5,-580 1251.5,-580 1257.5,-580 1263.5,-586 1263.5,-592 1263.5,-592 1263.5,-651 1263.5,-651 1263.5,-657 1257.5,-663 1251.5,-663\"/>\n<text text-anchor=\"start\" x=\"1075.5\" y=\"-647.8\" font-family=\"Helvetica,sans-Serif\" font-size=\"14.00\">trend_aroon_down ≤ 10.0</text>\n<text text-anchor=\"start\" x=\"1121.5\" y=\"-632.8\" font-family=\"Helvetica,sans-Serif\" font-size=\"14.00\">gini = 0.316</text>\n<text text-anchor=\"start\" x=\"1117\" y=\"-617.8\" font-family=\"Helvetica,sans-Serif\" font-size=\"14.00\">samples = 61</text>\n<text text-anchor=\"start\" x=\"1108\" y=\"-602.8\" font-family=\"Helvetica,sans-Serif\" font-size=\"14.00\">value = [12, 49]</text>\n<text text-anchor=\"start\" x=\"1124.5\" y=\"-587.8\" font-family=\"Helvetica,sans-Serif\" font-size=\"14.00\">class = buy</text>\n</g>\n<!-- 22&#45;&gt;23 -->\n<g id=\"edge36\" class=\"edge\">\n<title>22&#45;&gt;23</title>\n<path fill=\"none\" stroke=\"black\" d=\"M1207.3,-698.91C1202.53,-690.2 1197.44,-680.9 1192.52,-671.89\"/>\n<polygon fill=\"black\" stroke=\"black\" points=\"1195.53,-670.11 1187.67,-663.02 1189.39,-673.47 1195.53,-670.11\"/>\n</g>\n<!-- 24 -->\n<g id=\"node50\" class=\"node\">\n<title>24</title>\n<path fill=\"#e58139\" stroke=\"black\" d=\"M1383,-655.5C1383,-655.5 1294,-655.5 1294,-655.5 1288,-655.5 1282,-649.5 1282,-643.5 1282,-643.5 1282,-599.5 1282,-599.5 1282,-593.5 1288,-587.5 1294,-587.5 1294,-587.5 1383,-587.5 1383,-587.5 1389,-587.5 1395,-593.5 1395,-599.5 1395,-599.5 1395,-643.5 1395,-643.5 1395,-649.5 1389,-655.5 1383,-655.5\"/>\n<text text-anchor=\"start\" x=\"1303.5\" y=\"-640.3\" font-family=\"Helvetica,sans-Serif\" font-size=\"14.00\">gini = 0.0</text>\n<text text-anchor=\"start\" x=\"1294.5\" y=\"-625.3\" font-family=\"Helvetica,sans-Serif\" font-size=\"14.00\">samples = 4</text>\n<text text-anchor=\"start\" x=\"1290\" y=\"-610.3\" font-family=\"Helvetica,sans-Serif\" font-size=\"14.00\">value = [4, 0]</text>\n<text text-anchor=\"start\" x=\"1299\" y=\"-595.3\" font-family=\"Helvetica,sans-Serif\" font-size=\"14.00\">class = sell</text>\n</g>\n<!-- 22&#45;&gt;24 -->\n<g id=\"edge49\" class=\"edge\">\n<title>22&#45;&gt;24</title>\n<path fill=\"none\" stroke=\"black\" d=\"M1267.32,-698.91C1278.11,-687.32 1289.87,-674.7 1300.67,-663.11\"/>\n<polygon fill=\"black\" stroke=\"black\" points=\"1303.35,-665.37 1307.6,-655.67 1298.22,-660.6 1303.35,-665.37\"/>\n</g>\n<!-- 37 -->\n<g id=\"node38\" class=\"node\">\n<title>37</title>\n<path fill=\"#add7f4\" stroke=\"black\" d=\"M1074.5,-544C1074.5,-544 916.5,-544 916.5,-544 910.5,-544 904.5,-538 904.5,-532 904.5,-532 904.5,-473 904.5,-473 904.5,-467 910.5,-461 916.5,-461 916.5,-461 1074.5,-461 1074.5,-461 1080.5,-461 1086.5,-467 1086.5,-473 1086.5,-473 1086.5,-532 1086.5,-532 1086.5,-538 1080.5,-544 1074.5,-544\"/>\n<text text-anchor=\"start\" x=\"912.5\" y=\"-528.8\" font-family=\"Helvetica,sans-Serif\" font-size=\"14.00\">momentum_ao ≤ 0.637</text>\n<text text-anchor=\"start\" x=\"951.5\" y=\"-513.8\" font-family=\"Helvetica,sans-Serif\" font-size=\"14.00\">gini = 0.466</text>\n<text text-anchor=\"start\" x=\"947\" y=\"-498.8\" font-family=\"Helvetica,sans-Serif\" font-size=\"14.00\">samples = 27</text>\n<text text-anchor=\"start\" x=\"938\" y=\"-483.8\" font-family=\"Helvetica,sans-Serif\" font-size=\"14.00\">value = [10, 17]</text>\n<text text-anchor=\"start\" x=\"954.5\" y=\"-468.8\" font-family=\"Helvetica,sans-Serif\" font-size=\"14.00\">class = buy</text>\n</g>\n<!-- 23&#45;&gt;37 -->\n<g id=\"edge37\" class=\"edge\">\n<title>23&#45;&gt;37</title>\n<path fill=\"none\" stroke=\"black\" d=\"M1106.52,-579.91C1092.41,-570.2 1077.24,-559.76 1062.79,-549.81\"/>\n<polygon fill=\"black\" stroke=\"black\" points=\"1064.6,-546.81 1054.38,-544.02 1060.63,-552.57 1064.6,-546.81\"/>\n</g>\n<!-- 38 -->\n<g id=\"node49\" class=\"node\">\n<title>38</title>\n<path fill=\"#45a3e7\" stroke=\"black\" d=\"M1214.5,-536.5C1214.5,-536.5 1116.5,-536.5 1116.5,-536.5 1110.5,-536.5 1104.5,-530.5 1104.5,-524.5 1104.5,-524.5 1104.5,-480.5 1104.5,-480.5 1104.5,-474.5 1110.5,-468.5 1116.5,-468.5 1116.5,-468.5 1214.5,-468.5 1214.5,-468.5 1220.5,-468.5 1226.5,-474.5 1226.5,-480.5 1226.5,-480.5 1226.5,-524.5 1226.5,-524.5 1226.5,-530.5 1220.5,-536.5 1214.5,-536.5\"/>\n<text text-anchor=\"start\" x=\"1121.5\" y=\"-521.3\" font-family=\"Helvetica,sans-Serif\" font-size=\"14.00\">gini = 0.111</text>\n<text text-anchor=\"start\" x=\"1117\" y=\"-506.3\" font-family=\"Helvetica,sans-Serif\" font-size=\"14.00\">samples = 34</text>\n<text text-anchor=\"start\" x=\"1112.5\" y=\"-491.3\" font-family=\"Helvetica,sans-Serif\" font-size=\"14.00\">value = [2, 32]</text>\n<text text-anchor=\"start\" x=\"1124.5\" y=\"-476.3\" font-family=\"Helvetica,sans-Serif\" font-size=\"14.00\">class = buy</text>\n</g>\n<!-- 23&#45;&gt;38 -->\n<g id=\"edge48\" class=\"edge\">\n<title>23&#45;&gt;38</title>\n<path fill=\"none\" stroke=\"black\" d=\"M1165.5,-579.91C1165.5,-569.2 1165.5,-557.62 1165.5,-546.78\"/>\n<polygon fill=\"black\" stroke=\"black\" points=\"1169,-546.67 1165.5,-536.67 1162,-546.67 1169,-546.67\"/>\n</g>\n<!-- 45 -->\n<g id=\"node39\" class=\"node\">\n<title>45</title>\n<path fill=\"#fcf1e9\" stroke=\"black\" d=\"M1015.5,-425C1015.5,-425 855.5,-425 855.5,-425 849.5,-425 843.5,-419 843.5,-413 843.5,-413 843.5,-354 843.5,-354 843.5,-348 849.5,-342 855.5,-342 855.5,-342 1015.5,-342 1015.5,-342 1021.5,-342 1027.5,-348 1027.5,-354 1027.5,-354 1027.5,-413 1027.5,-413 1027.5,-419 1021.5,-425 1015.5,-425\"/>\n<text text-anchor=\"start\" x=\"851.5\" y=\"-409.8\" font-family=\"Helvetica,sans-Serif\" font-size=\"14.00\">volume_nvi ≤ 1514.263</text>\n<text text-anchor=\"start\" x=\"891.5\" y=\"-394.8\" font-family=\"Helvetica,sans-Serif\" font-size=\"14.00\">gini = 0.498</text>\n<text text-anchor=\"start\" x=\"887\" y=\"-379.8\" font-family=\"Helvetica,sans-Serif\" font-size=\"14.00\">samples = 17</text>\n<text text-anchor=\"start\" x=\"887\" y=\"-364.8\" font-family=\"Helvetica,sans-Serif\" font-size=\"14.00\">value = [9, 8]</text>\n<text text-anchor=\"start\" x=\"896\" y=\"-349.8\" font-family=\"Helvetica,sans-Serif\" font-size=\"14.00\">class = sell</text>\n</g>\n<!-- 37&#45;&gt;45 -->\n<g id=\"edge38\" class=\"edge\">\n<title>37&#45;&gt;45</title>\n<path fill=\"none\" stroke=\"black\" d=\"M974.68,-460.91C970.26,-452.29 965.55,-443.09 960.97,-434.17\"/>\n<polygon fill=\"black\" stroke=\"black\" points=\"963.96,-432.32 956.28,-425.02 957.73,-435.52 963.96,-432.32\"/>\n</g>\n<!-- 46 -->\n<g id=\"node46\" class=\"node\">\n<title>46</title>\n<path fill=\"#4fa8e8\" stroke=\"black\" d=\"M1183,-425C1183,-425 1058,-425 1058,-425 1052,-425 1046,-419 1046,-413 1046,-413 1046,-354 1046,-354 1046,-348 1052,-342 1058,-342 1058,-342 1183,-342 1183,-342 1189,-342 1195,-348 1195,-354 1195,-354 1195,-413 1195,-413 1195,-419 1189,-425 1183,-425\"/>\n<text text-anchor=\"start\" x=\"1054\" y=\"-409.8\" font-family=\"Helvetica,sans-Serif\" font-size=\"14.00\">others_dr ≤ &#45;2.279</text>\n<text text-anchor=\"start\" x=\"1081\" y=\"-394.8\" font-family=\"Helvetica,sans-Serif\" font-size=\"14.00\">gini = 0.18</text>\n<text text-anchor=\"start\" x=\"1072\" y=\"-379.8\" font-family=\"Helvetica,sans-Serif\" font-size=\"14.00\">samples = 10</text>\n<text text-anchor=\"start\" x=\"1072\" y=\"-364.8\" font-family=\"Helvetica,sans-Serif\" font-size=\"14.00\">value = [1, 9]</text>\n<text text-anchor=\"start\" x=\"1079.5\" y=\"-349.8\" font-family=\"Helvetica,sans-Serif\" font-size=\"14.00\">class = buy</text>\n</g>\n<!-- 37&#45;&gt;46 -->\n<g id=\"edge45\" class=\"edge\">\n<title>37&#45;&gt;46</title>\n<path fill=\"none\" stroke=\"black\" d=\"M1038.87,-460.91C1048.85,-451.56 1059.56,-441.54 1069.83,-431.93\"/>\n<polygon fill=\"black\" stroke=\"black\" points=\"1072.3,-434.41 1077.21,-425.02 1067.52,-429.3 1072.3,-434.41\"/>\n</g>\n<!-- 47 -->\n<g id=\"node40\" class=\"node\">\n<title>47</title>\n<path fill=\"#9ccef2\" stroke=\"black\" d=\"M877.5,-306C877.5,-306 753.5,-306 753.5,-306 747.5,-306 741.5,-300 741.5,-294 741.5,-294 741.5,-235 741.5,-235 741.5,-229 747.5,-223 753.5,-223 753.5,-223 877.5,-223 877.5,-223 883.5,-223 889.5,-229 889.5,-235 889.5,-235 889.5,-294 889.5,-294 889.5,-300 883.5,-306 877.5,-306\"/>\n<text text-anchor=\"start\" x=\"749.5\" y=\"-290.8\" font-family=\"Helvetica,sans-Serif\" font-size=\"14.00\">trend_dpo ≤ 0.162</text>\n<text text-anchor=\"start\" x=\"771.5\" y=\"-275.8\" font-family=\"Helvetica,sans-Serif\" font-size=\"14.00\">gini = 0.444</text>\n<text text-anchor=\"start\" x=\"767\" y=\"-260.8\" font-family=\"Helvetica,sans-Serif\" font-size=\"14.00\">samples = 12</text>\n<text text-anchor=\"start\" x=\"767\" y=\"-245.8\" font-family=\"Helvetica,sans-Serif\" font-size=\"14.00\">value = [4, 8]</text>\n<text text-anchor=\"start\" x=\"774.5\" y=\"-230.8\" font-family=\"Helvetica,sans-Serif\" font-size=\"14.00\">class = buy</text>\n</g>\n<!-- 45&#45;&gt;47 -->\n<g id=\"edge39\" class=\"edge\">\n<title>45&#45;&gt;47</title>\n<path fill=\"none\" stroke=\"black\" d=\"M893.87,-341.91C884.37,-332.65 874.2,-322.73 864.43,-313.21\"/>\n<polygon fill=\"black\" stroke=\"black\" points=\"866.66,-310.5 857.06,-306.02 861.78,-315.51 866.66,-310.5\"/>\n</g>\n<!-- 48 -->\n<g id=\"node45\" class=\"node\">\n<title>48</title>\n<path fill=\"#e58139\" stroke=\"black\" d=\"M1009,-298.5C1009,-298.5 920,-298.5 920,-298.5 914,-298.5 908,-292.5 908,-286.5 908,-286.5 908,-242.5 908,-242.5 908,-236.5 914,-230.5 920,-230.5 920,-230.5 1009,-230.5 1009,-230.5 1015,-230.5 1021,-236.5 1021,-242.5 1021,-242.5 1021,-286.5 1021,-286.5 1021,-292.5 1015,-298.5 1009,-298.5\"/>\n<text text-anchor=\"start\" x=\"929.5\" y=\"-283.3\" font-family=\"Helvetica,sans-Serif\" font-size=\"14.00\">gini = 0.0</text>\n<text text-anchor=\"start\" x=\"920.5\" y=\"-268.3\" font-family=\"Helvetica,sans-Serif\" font-size=\"14.00\">samples = 5</text>\n<text text-anchor=\"start\" x=\"916\" y=\"-253.3\" font-family=\"Helvetica,sans-Serif\" font-size=\"14.00\">value = [5, 0]</text>\n<text text-anchor=\"start\" x=\"925\" y=\"-238.3\" font-family=\"Helvetica,sans-Serif\" font-size=\"14.00\">class = sell</text>\n</g>\n<!-- 45&#45;&gt;48 -->\n<g id=\"edge44\" class=\"edge\">\n<title>45&#45;&gt;48</title>\n<path fill=\"none\" stroke=\"black\" d=\"M945.56,-341.91C948.24,-331.09 951.15,-319.38 953.86,-308.44\"/>\n<polygon fill=\"black\" stroke=\"black\" points=\"957.27,-309.22 956.28,-298.67 950.48,-307.53 957.27,-309.22\"/>\n</g>\n<!-- 49 -->\n<g id=\"node41\" class=\"node\">\n<title>49</title>\n<path fill=\"#eca06a\" stroke=\"black\" d=\"M845,-187C845,-187 726,-187 726,-187 720,-187 714,-181 714,-175 714,-175 714,-116 714,-116 714,-110 720,-104 726,-104 726,-104 845,-104 845,-104 851,-104 857,-110 857,-116 857,-116 857,-175 857,-175 857,-181 851,-187 845,-187\"/>\n<text text-anchor=\"start\" x=\"722\" y=\"-171.8\" font-family=\"Helvetica,sans-Serif\" font-size=\"14.00\">SMA_50 ≤ 53.611</text>\n<text text-anchor=\"start\" x=\"746\" y=\"-156.8\" font-family=\"Helvetica,sans-Serif\" font-size=\"14.00\">gini = 0.32</text>\n<text text-anchor=\"start\" x=\"741.5\" y=\"-141.8\" font-family=\"Helvetica,sans-Serif\" font-size=\"14.00\">samples = 5</text>\n<text text-anchor=\"start\" x=\"737\" y=\"-126.8\" font-family=\"Helvetica,sans-Serif\" font-size=\"14.00\">value = [4, 1]</text>\n<text text-anchor=\"start\" x=\"746\" y=\"-111.8\" font-family=\"Helvetica,sans-Serif\" font-size=\"14.00\">class = sell</text>\n</g>\n<!-- 47&#45;&gt;49 -->\n<g id=\"edge40\" class=\"edge\">\n<title>47&#45;&gt;49</title>\n<path fill=\"none\" stroke=\"black\" d=\"M805.09,-222.91C802.93,-214.47 800.62,-205.48 798.38,-196.74\"/>\n<polygon fill=\"black\" stroke=\"black\" points=\"801.76,-195.84 795.89,-187.02 794.98,-197.58 801.76,-195.84\"/>\n</g>\n<!-- 50 -->\n<g id=\"node44\" class=\"node\">\n<title>50</title>\n<path fill=\"#399de5\" stroke=\"black\" d=\"M976,-179.5C976,-179.5 887,-179.5 887,-179.5 881,-179.5 875,-173.5 875,-167.5 875,-167.5 875,-123.5 875,-123.5 875,-117.5 881,-111.5 887,-111.5 887,-111.5 976,-111.5 976,-111.5 982,-111.5 988,-117.5 988,-123.5 988,-123.5 988,-167.5 988,-167.5 988,-173.5 982,-179.5 976,-179.5\"/>\n<text text-anchor=\"start\" x=\"896.5\" y=\"-164.3\" font-family=\"Helvetica,sans-Serif\" font-size=\"14.00\">gini = 0.0</text>\n<text text-anchor=\"start\" x=\"887.5\" y=\"-149.3\" font-family=\"Helvetica,sans-Serif\" font-size=\"14.00\">samples = 7</text>\n<text text-anchor=\"start\" x=\"883\" y=\"-134.3\" font-family=\"Helvetica,sans-Serif\" font-size=\"14.00\">value = [0, 7]</text>\n<text text-anchor=\"start\" x=\"890.5\" y=\"-119.3\" font-family=\"Helvetica,sans-Serif\" font-size=\"14.00\">class = buy</text>\n</g>\n<!-- 47&#45;&gt;50 -->\n<g id=\"edge43\" class=\"edge\">\n<title>47&#45;&gt;50</title>\n<path fill=\"none\" stroke=\"black\" d=\"M855.75,-222.91C867.34,-211.21 879.99,-198.46 891.56,-186.78\"/>\n<polygon fill=\"black\" stroke=\"black\" points=\"894.06,-189.23 898.62,-179.67 889.09,-184.3 894.06,-189.23\"/>\n</g>\n<!-- 87 -->\n<g id=\"node42\" class=\"node\">\n<title>87</title>\n<path fill=\"#e58139\" stroke=\"black\" d=\"M764,-68C764,-68 675,-68 675,-68 669,-68 663,-62 663,-56 663,-56 663,-12 663,-12 663,-6 669,0 675,0 675,0 764,0 764,0 770,0 776,-6 776,-12 776,-12 776,-56 776,-56 776,-62 770,-68 764,-68\"/>\n<text text-anchor=\"start\" x=\"684.5\" y=\"-52.8\" font-family=\"Helvetica,sans-Serif\" font-size=\"14.00\">gini = 0.0</text>\n<text text-anchor=\"start\" x=\"675.5\" y=\"-37.8\" font-family=\"Helvetica,sans-Serif\" font-size=\"14.00\">samples = 4</text>\n<text text-anchor=\"start\" x=\"671\" y=\"-22.8\" font-family=\"Helvetica,sans-Serif\" font-size=\"14.00\">value = [4, 0]</text>\n<text text-anchor=\"start\" x=\"680\" y=\"-7.8\" font-family=\"Helvetica,sans-Serif\" font-size=\"14.00\">class = sell</text>\n</g>\n<!-- 49&#45;&gt;87 -->\n<g id=\"edge41\" class=\"edge\">\n<title>49&#45;&gt;87</title>\n<path fill=\"none\" stroke=\"black\" d=\"M760.92,-103.73C755.65,-94.97 750.06,-85.7 744.76,-76.91\"/>\n<polygon fill=\"black\" stroke=\"black\" points=\"747.73,-75.06 739.57,-68.3 741.74,-78.67 747.73,-75.06\"/>\n</g>\n<!-- 88 -->\n<g id=\"node43\" class=\"node\">\n<title>88</title>\n<path fill=\"#399de5\" stroke=\"black\" d=\"M895,-68C895,-68 806,-68 806,-68 800,-68 794,-62 794,-56 794,-56 794,-12 794,-12 794,-6 800,0 806,0 806,0 895,0 895,0 901,0 907,-6 907,-12 907,-12 907,-56 907,-56 907,-62 901,-68 895,-68\"/>\n<text text-anchor=\"start\" x=\"815.5\" y=\"-52.8\" font-family=\"Helvetica,sans-Serif\" font-size=\"14.00\">gini = 0.0</text>\n<text text-anchor=\"start\" x=\"806.5\" y=\"-37.8\" font-family=\"Helvetica,sans-Serif\" font-size=\"14.00\">samples = 1</text>\n<text text-anchor=\"start\" x=\"802\" y=\"-22.8\" font-family=\"Helvetica,sans-Serif\" font-size=\"14.00\">value = [0, 1]</text>\n<text text-anchor=\"start\" x=\"809.5\" y=\"-7.8\" font-family=\"Helvetica,sans-Serif\" font-size=\"14.00\">class = buy</text>\n</g>\n<!-- 49&#45;&gt;88 -->\n<g id=\"edge42\" class=\"edge\">\n<title>49&#45;&gt;88</title>\n<path fill=\"none\" stroke=\"black\" d=\"M809.7,-103.73C814.9,-94.97 820.4,-85.7 825.62,-76.91\"/>\n<polygon fill=\"black\" stroke=\"black\" points=\"828.64,-78.69 830.73,-68.3 822.62,-75.11 828.64,-78.69\"/>\n</g>\n<!-- 73 -->\n<g id=\"node47\" class=\"node\">\n<title>73</title>\n<path fill=\"#e58139\" stroke=\"black\" d=\"M1150,-298.5C1150,-298.5 1061,-298.5 1061,-298.5 1055,-298.5 1049,-292.5 1049,-286.5 1049,-286.5 1049,-242.5 1049,-242.5 1049,-236.5 1055,-230.5 1061,-230.5 1061,-230.5 1150,-230.5 1150,-230.5 1156,-230.5 1162,-236.5 1162,-242.5 1162,-242.5 1162,-286.5 1162,-286.5 1162,-292.5 1156,-298.5 1150,-298.5\"/>\n<text text-anchor=\"start\" x=\"1070.5\" y=\"-283.3\" font-family=\"Helvetica,sans-Serif\" font-size=\"14.00\">gini = 0.0</text>\n<text text-anchor=\"start\" x=\"1061.5\" y=\"-268.3\" font-family=\"Helvetica,sans-Serif\" font-size=\"14.00\">samples = 1</text>\n<text text-anchor=\"start\" x=\"1057\" y=\"-253.3\" font-family=\"Helvetica,sans-Serif\" font-size=\"14.00\">value = [1, 0]</text>\n<text text-anchor=\"start\" x=\"1066\" y=\"-238.3\" font-family=\"Helvetica,sans-Serif\" font-size=\"14.00\">class = sell</text>\n</g>\n<!-- 46&#45;&gt;73 -->\n<g id=\"edge46\" class=\"edge\">\n<title>46&#45;&gt;73</title>\n<path fill=\"none\" stroke=\"black\" d=\"M1115.3,-341.91C1113.92,-331.2 1112.44,-319.62 1111.05,-308.78\"/>\n<polygon fill=\"black\" stroke=\"black\" points=\"1114.5,-308.14 1109.75,-298.67 1107.55,-309.03 1114.5,-308.14\"/>\n</g>\n<!-- 74 -->\n<g id=\"node48\" class=\"node\">\n<title>74</title>\n<path fill=\"#399de5\" stroke=\"black\" d=\"M1281,-298.5C1281,-298.5 1192,-298.5 1192,-298.5 1186,-298.5 1180,-292.5 1180,-286.5 1180,-286.5 1180,-242.5 1180,-242.5 1180,-236.5 1186,-230.5 1192,-230.5 1192,-230.5 1281,-230.5 1281,-230.5 1287,-230.5 1293,-236.5 1293,-242.5 1293,-242.5 1293,-286.5 1293,-286.5 1293,-292.5 1287,-298.5 1281,-298.5\"/>\n<text text-anchor=\"start\" x=\"1201.5\" y=\"-283.3\" font-family=\"Helvetica,sans-Serif\" font-size=\"14.00\">gini = 0.0</text>\n<text text-anchor=\"start\" x=\"1192.5\" y=\"-268.3\" font-family=\"Helvetica,sans-Serif\" font-size=\"14.00\">samples = 9</text>\n<text text-anchor=\"start\" x=\"1188\" y=\"-253.3\" font-family=\"Helvetica,sans-Serif\" font-size=\"14.00\">value = [0, 9]</text>\n<text text-anchor=\"start\" x=\"1195.5\" y=\"-238.3\" font-family=\"Helvetica,sans-Serif\" font-size=\"14.00\">class = buy</text>\n</g>\n<!-- 46&#45;&gt;74 -->\n<g id=\"edge47\" class=\"edge\">\n<title>46&#45;&gt;74</title>\n<path fill=\"none\" stroke=\"black\" d=\"M1160.75,-341.91C1172.34,-330.21 1184.99,-317.46 1196.56,-305.78\"/>\n<polygon fill=\"black\" stroke=\"black\" points=\"1199.06,-308.23 1203.62,-298.67 1194.09,-303.3 1199.06,-308.23\"/>\n</g>\n<!-- 5 -->\n<g id=\"node52\" class=\"node\">\n<title>5</title>\n<path fill=\"#c1e0f7\" stroke=\"black\" d=\"M2478,-1020C2478,-1020 2333,-1020 2333,-1020 2327,-1020 2321,-1014 2321,-1008 2321,-1008 2321,-949 2321,-949 2321,-943 2327,-937 2333,-937 2333,-937 2478,-937 2478,-937 2484,-937 2490,-943 2490,-949 2490,-949 2490,-1008 2490,-1008 2490,-1014 2484,-1020 2478,-1020\"/>\n<text text-anchor=\"start\" x=\"2329\" y=\"-1004.8\" font-family=\"Helvetica,sans-Serif\" font-size=\"14.00\">volatility_dcp ≤ 0.817</text>\n<text text-anchor=\"start\" x=\"2361.5\" y=\"-989.8\" font-family=\"Helvetica,sans-Serif\" font-size=\"14.00\">gini = 0.483</text>\n<text text-anchor=\"start\" x=\"2352.5\" y=\"-974.8\" font-family=\"Helvetica,sans-Serif\" font-size=\"14.00\">samples = 140</text>\n<text text-anchor=\"start\" x=\"2348\" y=\"-959.8\" font-family=\"Helvetica,sans-Serif\" font-size=\"14.00\">value = [57, 83]</text>\n<text text-anchor=\"start\" x=\"2364.5\" y=\"-944.8\" font-family=\"Helvetica,sans-Serif\" font-size=\"14.00\">class = buy</text>\n</g>\n<!-- 2&#45;&gt;5 -->\n<g id=\"edge51\" class=\"edge\">\n<title>2&#45;&gt;5</title>\n<path fill=\"none\" stroke=\"black\" d=\"M2405.5,-1055.91C2405.5,-1047.65 2405.5,-1038.86 2405.5,-1030.3\"/>\n<polygon fill=\"black\" stroke=\"black\" points=\"2409,-1030.02 2405.5,-1020.02 2402,-1030.02 2409,-1030.02\"/>\n</g>\n<!-- 6 -->\n<g id=\"node87\" class=\"node\">\n<title>6</title>\n<path fill=\"#3d9fe5\" stroke=\"black\" d=\"M3081,-1020C3081,-1020 2936,-1020 2936,-1020 2930,-1020 2924,-1014 2924,-1008 2924,-1008 2924,-949 2924,-949 2924,-943 2930,-937 2936,-937 2936,-937 3081,-937 3081,-937 3087,-937 3093,-943 3093,-949 3093,-949 3093,-1008 3093,-1008 3093,-1014 3087,-1020 3081,-1020\"/>\n<text text-anchor=\"start\" x=\"2932\" y=\"-1004.8\" font-family=\"Helvetica,sans-Serif\" font-size=\"14.00\">volatility_dcp ≤ 0.456</text>\n<text text-anchor=\"start\" x=\"2964.5\" y=\"-989.8\" font-family=\"Helvetica,sans-Serif\" font-size=\"14.00\">gini = 0.036</text>\n<text text-anchor=\"start\" x=\"2955.5\" y=\"-974.8\" font-family=\"Helvetica,sans-Serif\" font-size=\"14.00\">samples = 714</text>\n<text text-anchor=\"start\" x=\"2946.5\" y=\"-959.8\" font-family=\"Helvetica,sans-Serif\" font-size=\"14.00\">value = [13, 701]</text>\n<text text-anchor=\"start\" x=\"2967.5\" y=\"-944.8\" font-family=\"Helvetica,sans-Serif\" font-size=\"14.00\">class = buy</text>\n</g>\n<!-- 2&#45;&gt;6 -->\n<g id=\"edge86\" class=\"edge\">\n<title>2&#45;&gt;6</title>\n<path fill=\"none\" stroke=\"black\" d=\"M2491.25,-1079.86C2602.94,-1058.19 2797.57,-1020.43 2913.59,-997.92\"/>\n<polygon fill=\"black\" stroke=\"black\" points=\"2914.38,-1001.33 2923.53,-995.99 2913.04,-994.46 2914.38,-1001.33\"/>\n</g>\n<!-- 7 -->\n<g id=\"node53\" class=\"node\">\n<title>7</title>\n<path fill=\"#f6d1b7\" stroke=\"black\" d=\"M2232.5,-901C2232.5,-901 2074.5,-901 2074.5,-901 2068.5,-901 2062.5,-895 2062.5,-889 2062.5,-889 2062.5,-830 2062.5,-830 2062.5,-824 2068.5,-818 2074.5,-818 2074.5,-818 2232.5,-818 2232.5,-818 2238.5,-818 2244.5,-824 2244.5,-830 2244.5,-830 2244.5,-889 2244.5,-889 2244.5,-895 2238.5,-901 2232.5,-901\"/>\n<text text-anchor=\"start\" x=\"2070.5\" y=\"-885.8\" font-family=\"Helvetica,sans-Serif\" font-size=\"14.00\">momentum_tsi ≤ 1.519</text>\n<text text-anchor=\"start\" x=\"2109.5\" y=\"-870.8\" font-family=\"Helvetica,sans-Serif\" font-size=\"14.00\">gini = 0.476</text>\n<text text-anchor=\"start\" x=\"2105\" y=\"-855.8\" font-family=\"Helvetica,sans-Serif\" font-size=\"14.00\">samples = 77</text>\n<text text-anchor=\"start\" x=\"2096\" y=\"-840.8\" font-family=\"Helvetica,sans-Serif\" font-size=\"14.00\">value = [47, 30]</text>\n<text text-anchor=\"start\" x=\"2114\" y=\"-825.8\" font-family=\"Helvetica,sans-Serif\" font-size=\"14.00\">class = sell</text>\n</g>\n<!-- 5&#45;&gt;7 -->\n<g id=\"edge52\" class=\"edge\">\n<title>5&#45;&gt;7</title>\n<path fill=\"none\" stroke=\"black\" d=\"M2320.89,-938.22C2298.17,-927.67 2273.42,-916.18 2250.11,-905.35\"/>\n<polygon fill=\"black\" stroke=\"black\" points=\"2251.45,-902.12 2240.9,-901.08 2248.5,-908.47 2251.45,-902.12\"/>\n</g>\n<!-- 8 -->\n<g id=\"node74\" class=\"node\">\n<title>8</title>\n<path fill=\"#5eafea\" stroke=\"black\" d=\"M2642.5,-901C2642.5,-901 2496.5,-901 2496.5,-901 2490.5,-901 2484.5,-895 2484.5,-889 2484.5,-889 2484.5,-830 2484.5,-830 2484.5,-824 2490.5,-818 2496.5,-818 2496.5,-818 2642.5,-818 2642.5,-818 2648.5,-818 2654.5,-824 2654.5,-830 2654.5,-830 2654.5,-889 2654.5,-889 2654.5,-895 2648.5,-901 2642.5,-901\"/>\n<text text-anchor=\"start\" x=\"2492.5\" y=\"-885.8\" font-family=\"Helvetica,sans-Serif\" font-size=\"14.00\">volatility_kcw ≤ 1.733</text>\n<text text-anchor=\"start\" x=\"2525.5\" y=\"-870.8\" font-family=\"Helvetica,sans-Serif\" font-size=\"14.00\">gini = 0.267</text>\n<text text-anchor=\"start\" x=\"2521\" y=\"-855.8\" font-family=\"Helvetica,sans-Serif\" font-size=\"14.00\">samples = 63</text>\n<text text-anchor=\"start\" x=\"2512\" y=\"-840.8\" font-family=\"Helvetica,sans-Serif\" font-size=\"14.00\">value = [10, 53]</text>\n<text text-anchor=\"start\" x=\"2528.5\" y=\"-825.8\" font-family=\"Helvetica,sans-Serif\" font-size=\"14.00\">class = buy</text>\n</g>\n<!-- 5&#45;&gt;8 -->\n<g id=\"edge73\" class=\"edge\">\n<title>5&#45;&gt;8</title>\n<path fill=\"none\" stroke=\"black\" d=\"M2462.4,-936.91C2475.88,-927.29 2490.37,-916.95 2504.19,-907.09\"/>\n<polygon fill=\"black\" stroke=\"black\" points=\"2506.59,-909.68 2512.7,-901.02 2502.53,-903.98 2506.59,-909.68\"/>\n</g>\n<!-- 11 -->\n<g id=\"node54\" class=\"node\">\n<title>11</title>\n<path fill=\"#e9975b\" stroke=\"black\" d=\"M1829,-782C1829,-782 1630,-782 1630,-782 1624,-782 1618,-776 1618,-770 1618,-770 1618,-711 1618,-711 1618,-705 1624,-699 1630,-699 1630,-699 1829,-699 1829,-699 1835,-699 1841,-705 1841,-711 1841,-711 1841,-770 1841,-770 1841,-776 1835,-782 1829,-782\"/>\n<text text-anchor=\"start\" x=\"1626\" y=\"-766.8\" font-family=\"Helvetica,sans-Serif\" font-size=\"14.00\">momentum_pvo_hist ≤ 3.216</text>\n<text text-anchor=\"start\" x=\"1685.5\" y=\"-751.8\" font-family=\"Helvetica,sans-Serif\" font-size=\"14.00\">gini = 0.251</text>\n<text text-anchor=\"start\" x=\"1681\" y=\"-736.8\" font-family=\"Helvetica,sans-Serif\" font-size=\"14.00\">samples = 34</text>\n<text text-anchor=\"start\" x=\"1676.5\" y=\"-721.8\" font-family=\"Helvetica,sans-Serif\" font-size=\"14.00\">value = [29, 5]</text>\n<text text-anchor=\"start\" x=\"1690\" y=\"-706.8\" font-family=\"Helvetica,sans-Serif\" font-size=\"14.00\">class = sell</text>\n</g>\n<!-- 7&#45;&gt;11 -->\n<g id=\"edge53\" class=\"edge\">\n<title>7&#45;&gt;11</title>\n<path fill=\"none\" stroke=\"black\" d=\"M2062.28,-833.33C2000.57,-816.3 1918.38,-793.62 1851.12,-775.06\"/>\n<polygon fill=\"black\" stroke=\"black\" points=\"1851.88,-771.64 1841.31,-772.35 1850.02,-778.39 1851.88,-771.64\"/>\n</g>\n<!-- 12 -->\n<g id=\"node63\" class=\"node\">\n<title>12</title>\n<path fill=\"#c8e4f8\" stroke=\"black\" d=\"M2229.5,-782C2229.5,-782 2077.5,-782 2077.5,-782 2071.5,-782 2065.5,-776 2065.5,-770 2065.5,-770 2065.5,-711 2065.5,-711 2065.5,-705 2071.5,-699 2077.5,-699 2077.5,-699 2229.5,-699 2229.5,-699 2235.5,-699 2241.5,-705 2241.5,-711 2241.5,-711 2241.5,-770 2241.5,-770 2241.5,-776 2235.5,-782 2229.5,-782\"/>\n<text text-anchor=\"start\" x=\"2073.5\" y=\"-766.8\" font-family=\"Helvetica,sans-Serif\" font-size=\"14.00\">trend_aroon_up ≤ 38.0</text>\n<text text-anchor=\"start\" x=\"2109.5\" y=\"-751.8\" font-family=\"Helvetica,sans-Serif\" font-size=\"14.00\">gini = 0.487</text>\n<text text-anchor=\"start\" x=\"2105\" y=\"-736.8\" font-family=\"Helvetica,sans-Serif\" font-size=\"14.00\">samples = 43</text>\n<text text-anchor=\"start\" x=\"2096\" y=\"-721.8\" font-family=\"Helvetica,sans-Serif\" font-size=\"14.00\">value = [18, 25]</text>\n<text text-anchor=\"start\" x=\"2112.5\" y=\"-706.8\" font-family=\"Helvetica,sans-Serif\" font-size=\"14.00\">class = buy</text>\n</g>\n<!-- 7&#45;&gt;12 -->\n<g id=\"edge62\" class=\"edge\">\n<title>7&#45;&gt;12</title>\n<path fill=\"none\" stroke=\"black\" d=\"M2153.5,-817.91C2153.5,-809.65 2153.5,-800.86 2153.5,-792.3\"/>\n<polygon fill=\"black\" stroke=\"black\" points=\"2157,-792.02 2153.5,-782.02 2150,-792.02 2157,-792.02\"/>\n</g>\n<!-- 75 -->\n<g id=\"node55\" class=\"node\">\n<title>75</title>\n<path fill=\"#e88e4e\" stroke=\"black\" d=\"M1584.5,-663C1584.5,-663 1460.5,-663 1460.5,-663 1454.5,-663 1448.5,-657 1448.5,-651 1448.5,-651 1448.5,-592 1448.5,-592 1448.5,-586 1454.5,-580 1460.5,-580 1460.5,-580 1584.5,-580 1584.5,-580 1590.5,-580 1596.5,-586 1596.5,-592 1596.5,-592 1596.5,-651 1596.5,-651 1596.5,-657 1590.5,-663 1584.5,-663\"/>\n<text text-anchor=\"start\" x=\"1456.5\" y=\"-647.8\" font-family=\"Helvetica,sans-Serif\" font-size=\"14.00\">trend_dpo ≤ 0.851</text>\n<text text-anchor=\"start\" x=\"1478.5\" y=\"-632.8\" font-family=\"Helvetica,sans-Serif\" font-size=\"14.00\">gini = 0.175</text>\n<text text-anchor=\"start\" x=\"1474\" y=\"-617.8\" font-family=\"Helvetica,sans-Serif\" font-size=\"14.00\">samples = 31</text>\n<text text-anchor=\"start\" x=\"1469.5\" y=\"-602.8\" font-family=\"Helvetica,sans-Serif\" font-size=\"14.00\">value = [28, 3]</text>\n<text text-anchor=\"start\" x=\"1483\" y=\"-587.8\" font-family=\"Helvetica,sans-Serif\" font-size=\"14.00\">class = sell</text>\n</g>\n<!-- 11&#45;&gt;75 -->\n<g id=\"edge54\" class=\"edge\">\n<title>11&#45;&gt;75</title>\n<path fill=\"none\" stroke=\"black\" d=\"M1657.68,-698.91C1640.02,-688.92 1621,-678.17 1602.96,-667.98\"/>\n<polygon fill=\"black\" stroke=\"black\" points=\"1604.62,-664.89 1594.19,-663.02 1601.17,-670.99 1604.62,-664.89\"/>\n</g>\n<!-- 76 -->\n<g id=\"node60\" class=\"node\">\n<title>76</title>\n<path fill=\"#9ccef2\" stroke=\"black\" d=\"M1778.5,-663C1778.5,-663 1680.5,-663 1680.5,-663 1674.5,-663 1668.5,-657 1668.5,-651 1668.5,-651 1668.5,-592 1668.5,-592 1668.5,-586 1674.5,-580 1680.5,-580 1680.5,-580 1778.5,-580 1778.5,-580 1784.5,-580 1790.5,-586 1790.5,-592 1790.5,-592 1790.5,-651 1790.5,-651 1790.5,-657 1784.5,-663 1778.5,-663\"/>\n<text text-anchor=\"start\" x=\"1676.5\" y=\"-647.8\" font-family=\"Helvetica,sans-Serif\" font-size=\"14.00\">open ≤ 66.482</text>\n<text text-anchor=\"start\" x=\"1685.5\" y=\"-632.8\" font-family=\"Helvetica,sans-Serif\" font-size=\"14.00\">gini = 0.444</text>\n<text text-anchor=\"start\" x=\"1685.5\" y=\"-617.8\" font-family=\"Helvetica,sans-Serif\" font-size=\"14.00\">samples = 3</text>\n<text text-anchor=\"start\" x=\"1681\" y=\"-602.8\" font-family=\"Helvetica,sans-Serif\" font-size=\"14.00\">value = [1, 2]</text>\n<text text-anchor=\"start\" x=\"1688.5\" y=\"-587.8\" font-family=\"Helvetica,sans-Serif\" font-size=\"14.00\">class = buy</text>\n</g>\n<!-- 11&#45;&gt;76 -->\n<g id=\"edge59\" class=\"edge\">\n<title>11&#45;&gt;76</title>\n<path fill=\"none\" stroke=\"black\" d=\"M1729.5,-698.91C1729.5,-690.65 1729.5,-681.86 1729.5,-673.3\"/>\n<polygon fill=\"black\" stroke=\"black\" points=\"1733,-673.02 1729.5,-663.02 1726,-673.02 1733,-673.02\"/>\n</g>\n<!-- 81 -->\n<g id=\"node56\" class=\"node\">\n<title>81</title>\n<path fill=\"#e78a47\" stroke=\"black\" d=\"M1436,-544C1436,-544 1257,-544 1257,-544 1251,-544 1245,-538 1245,-532 1245,-532 1245,-473 1245,-473 1245,-467 1251,-461 1257,-461 1257,-461 1436,-461 1436,-461 1442,-461 1448,-467 1448,-473 1448,-473 1448,-532 1448,-532 1448,-538 1442,-544 1436,-544\"/>\n<text text-anchor=\"start\" x=\"1253\" y=\"-528.8\" font-family=\"Helvetica,sans-Serif\" font-size=\"14.00\">trend_mass_index ≤ 27.71</text>\n<text text-anchor=\"start\" x=\"1302.5\" y=\"-513.8\" font-family=\"Helvetica,sans-Serif\" font-size=\"14.00\">gini = 0.124</text>\n<text text-anchor=\"start\" x=\"1298\" y=\"-498.8\" font-family=\"Helvetica,sans-Serif\" font-size=\"14.00\">samples = 30</text>\n<text text-anchor=\"start\" x=\"1293.5\" y=\"-483.8\" font-family=\"Helvetica,sans-Serif\" font-size=\"14.00\">value = [28, 2]</text>\n<text text-anchor=\"start\" x=\"1307\" y=\"-468.8\" font-family=\"Helvetica,sans-Serif\" font-size=\"14.00\">class = sell</text>\n</g>\n<!-- 75&#45;&gt;81 -->\n<g id=\"edge55\" class=\"edge\">\n<title>75&#45;&gt;81</title>\n<path fill=\"none\" stroke=\"black\" d=\"M1461.44,-579.91C1446.83,-570.2 1431.13,-559.76 1416.16,-549.81\"/>\n<polygon fill=\"black\" stroke=\"black\" points=\"1417.72,-546.64 1407.45,-544.02 1413.84,-552.47 1417.72,-546.64\"/>\n</g>\n<!-- 82 -->\n<g id=\"node59\" class=\"node\">\n<title>82</title>\n<path fill=\"#399de5\" stroke=\"black\" d=\"M1567,-536.5C1567,-536.5 1478,-536.5 1478,-536.5 1472,-536.5 1466,-530.5 1466,-524.5 1466,-524.5 1466,-480.5 1466,-480.5 1466,-474.5 1472,-468.5 1478,-468.5 1478,-468.5 1567,-468.5 1567,-468.5 1573,-468.5 1579,-474.5 1579,-480.5 1579,-480.5 1579,-524.5 1579,-524.5 1579,-530.5 1573,-536.5 1567,-536.5\"/>\n<text text-anchor=\"start\" x=\"1487.5\" y=\"-521.3\" font-family=\"Helvetica,sans-Serif\" font-size=\"14.00\">gini = 0.0</text>\n<text text-anchor=\"start\" x=\"1478.5\" y=\"-506.3\" font-family=\"Helvetica,sans-Serif\" font-size=\"14.00\">samples = 1</text>\n<text text-anchor=\"start\" x=\"1474\" y=\"-491.3\" font-family=\"Helvetica,sans-Serif\" font-size=\"14.00\">value = [0, 1]</text>\n<text text-anchor=\"start\" x=\"1481.5\" y=\"-476.3\" font-family=\"Helvetica,sans-Serif\" font-size=\"14.00\">class = buy</text>\n</g>\n<!-- 75&#45;&gt;82 -->\n<g id=\"edge58\" class=\"edge\">\n<title>75&#45;&gt;82</title>\n<path fill=\"none\" stroke=\"black\" d=\"M1522.5,-579.91C1522.5,-569.2 1522.5,-557.62 1522.5,-546.78\"/>\n<polygon fill=\"black\" stroke=\"black\" points=\"1526,-546.67 1522.5,-536.67 1519,-546.67 1526,-546.67\"/>\n</g>\n<!-- 83 -->\n<g id=\"node57\" class=\"node\">\n<title>83</title>\n<path fill=\"#e68640\" stroke=\"black\" d=\"M1329.5,-417.5C1329.5,-417.5 1231.5,-417.5 1231.5,-417.5 1225.5,-417.5 1219.5,-411.5 1219.5,-405.5 1219.5,-405.5 1219.5,-361.5 1219.5,-361.5 1219.5,-355.5 1225.5,-349.5 1231.5,-349.5 1231.5,-349.5 1329.5,-349.5 1329.5,-349.5 1335.5,-349.5 1341.5,-355.5 1341.5,-361.5 1341.5,-361.5 1341.5,-405.5 1341.5,-405.5 1341.5,-411.5 1335.5,-417.5 1329.5,-417.5\"/>\n<text text-anchor=\"start\" x=\"1236.5\" y=\"-402.3\" font-family=\"Helvetica,sans-Serif\" font-size=\"14.00\">gini = 0.067</text>\n<text text-anchor=\"start\" x=\"1232\" y=\"-387.3\" font-family=\"Helvetica,sans-Serif\" font-size=\"14.00\">samples = 29</text>\n<text text-anchor=\"start\" x=\"1227.5\" y=\"-372.3\" font-family=\"Helvetica,sans-Serif\" font-size=\"14.00\">value = [28, 1]</text>\n<text text-anchor=\"start\" x=\"1241\" y=\"-357.3\" font-family=\"Helvetica,sans-Serif\" font-size=\"14.00\">class = sell</text>\n</g>\n<!-- 81&#45;&gt;83 -->\n<g id=\"edge56\" class=\"edge\">\n<title>81&#45;&gt;83</title>\n<path fill=\"none\" stroke=\"black\" d=\"M1323.6,-460.91C1317.31,-449.76 1310.49,-437.66 1304.16,-426.44\"/>\n<polygon fill=\"black\" stroke=\"black\" points=\"1307.17,-424.66 1299.21,-417.67 1301.07,-428.1 1307.17,-424.66\"/>\n</g>\n<!-- 84 -->\n<g id=\"node58\" class=\"node\">\n<title>84</title>\n<path fill=\"#399de5\" stroke=\"black\" d=\"M1461,-417.5C1461,-417.5 1372,-417.5 1372,-417.5 1366,-417.5 1360,-411.5 1360,-405.5 1360,-405.5 1360,-361.5 1360,-361.5 1360,-355.5 1366,-349.5 1372,-349.5 1372,-349.5 1461,-349.5 1461,-349.5 1467,-349.5 1473,-355.5 1473,-361.5 1473,-361.5 1473,-405.5 1473,-405.5 1473,-411.5 1467,-417.5 1461,-417.5\"/>\n<text text-anchor=\"start\" x=\"1381.5\" y=\"-402.3\" font-family=\"Helvetica,sans-Serif\" font-size=\"14.00\">gini = 0.0</text>\n<text text-anchor=\"start\" x=\"1372.5\" y=\"-387.3\" font-family=\"Helvetica,sans-Serif\" font-size=\"14.00\">samples = 1</text>\n<text text-anchor=\"start\" x=\"1368\" y=\"-372.3\" font-family=\"Helvetica,sans-Serif\" font-size=\"14.00\">value = [0, 1]</text>\n<text text-anchor=\"start\" x=\"1375.5\" y=\"-357.3\" font-family=\"Helvetica,sans-Serif\" font-size=\"14.00\">class = buy</text>\n</g>\n<!-- 81&#45;&gt;84 -->\n<g id=\"edge57\" class=\"edge\">\n<title>81&#45;&gt;84</title>\n<path fill=\"none\" stroke=\"black\" d=\"M1370.79,-460.91C1377.45,-449.76 1384.7,-437.66 1391.41,-426.44\"/>\n<polygon fill=\"black\" stroke=\"black\" points=\"1394.53,-428.05 1396.66,-417.67 1388.52,-424.45 1394.53,-428.05\"/>\n</g>\n<!-- 97 -->\n<g id=\"node61\" class=\"node\">\n<title>97</title>\n<path fill=\"#399de5\" stroke=\"black\" d=\"M1698,-536.5C1698,-536.5 1609,-536.5 1609,-536.5 1603,-536.5 1597,-530.5 1597,-524.5 1597,-524.5 1597,-480.5 1597,-480.5 1597,-474.5 1603,-468.5 1609,-468.5 1609,-468.5 1698,-468.5 1698,-468.5 1704,-468.5 1710,-474.5 1710,-480.5 1710,-480.5 1710,-524.5 1710,-524.5 1710,-530.5 1704,-536.5 1698,-536.5\"/>\n<text text-anchor=\"start\" x=\"1618.5\" y=\"-521.3\" font-family=\"Helvetica,sans-Serif\" font-size=\"14.00\">gini = 0.0</text>\n<text text-anchor=\"start\" x=\"1609.5\" y=\"-506.3\" font-family=\"Helvetica,sans-Serif\" font-size=\"14.00\">samples = 2</text>\n<text text-anchor=\"start\" x=\"1605\" y=\"-491.3\" font-family=\"Helvetica,sans-Serif\" font-size=\"14.00\">value = [0, 2]</text>\n<text text-anchor=\"start\" x=\"1612.5\" y=\"-476.3\" font-family=\"Helvetica,sans-Serif\" font-size=\"14.00\">class = buy</text>\n</g>\n<!-- 76&#45;&gt;97 -->\n<g id=\"edge60\" class=\"edge\">\n<title>76&#45;&gt;97</title>\n<path fill=\"none\" stroke=\"black\" d=\"M1703.13,-579.91C1695.82,-568.65 1687.87,-556.42 1680.53,-545.11\"/>\n<polygon fill=\"black\" stroke=\"black\" points=\"1683.43,-543.15 1675.04,-536.67 1677.56,-546.96 1683.43,-543.15\"/>\n</g>\n<!-- 98 -->\n<g id=\"node62\" class=\"node\">\n<title>98</title>\n<path fill=\"#e58139\" stroke=\"black\" d=\"M1829,-536.5C1829,-536.5 1740,-536.5 1740,-536.5 1734,-536.5 1728,-530.5 1728,-524.5 1728,-524.5 1728,-480.5 1728,-480.5 1728,-474.5 1734,-468.5 1740,-468.5 1740,-468.5 1829,-468.5 1829,-468.5 1835,-468.5 1841,-474.5 1841,-480.5 1841,-480.5 1841,-524.5 1841,-524.5 1841,-530.5 1835,-536.5 1829,-536.5\"/>\n<text text-anchor=\"start\" x=\"1749.5\" y=\"-521.3\" font-family=\"Helvetica,sans-Serif\" font-size=\"14.00\">gini = 0.0</text>\n<text text-anchor=\"start\" x=\"1740.5\" y=\"-506.3\" font-family=\"Helvetica,sans-Serif\" font-size=\"14.00\">samples = 1</text>\n<text text-anchor=\"start\" x=\"1736\" y=\"-491.3\" font-family=\"Helvetica,sans-Serif\" font-size=\"14.00\">value = [1, 0]</text>\n<text text-anchor=\"start\" x=\"1745\" y=\"-476.3\" font-family=\"Helvetica,sans-Serif\" font-size=\"14.00\">class = sell</text>\n</g>\n<!-- 76&#45;&gt;98 -->\n<g id=\"edge61\" class=\"edge\">\n<title>76&#45;&gt;98</title>\n<path fill=\"none\" stroke=\"black\" d=\"M1748.58,-579.91C1753.77,-568.87 1759.4,-556.9 1764.63,-545.77\"/>\n<polygon fill=\"black\" stroke=\"black\" points=\"1767.82,-547.21 1768.91,-536.67 1761.49,-544.23 1767.82,-547.21\"/>\n</g>\n<!-- 15 -->\n<g id=\"node64\" class=\"node\">\n<title>15</title>\n<path fill=\"#f7dac5\" stroke=\"black\" d=\"M2140.5,-663C2140.5,-663 1922.5,-663 1922.5,-663 1916.5,-663 1910.5,-657 1910.5,-651 1910.5,-651 1910.5,-592 1910.5,-592 1910.5,-586 1916.5,-580 1922.5,-580 1922.5,-580 2140.5,-580 2140.5,-580 2146.5,-580 2152.5,-586 2152.5,-592 2152.5,-592 2152.5,-651 2152.5,-651 2152.5,-657 2146.5,-663 2140.5,-663\"/>\n<text text-anchor=\"start\" x=\"1918.5\" y=\"-647.8\" font-family=\"Helvetica,sans-Serif\" font-size=\"14.00\">momentum_stoch_rsi_d ≤ 0.773</text>\n<text text-anchor=\"start\" x=\"1987.5\" y=\"-632.8\" font-family=\"Helvetica,sans-Serif\" font-size=\"14.00\">gini = 0.485</text>\n<text text-anchor=\"start\" x=\"1983\" y=\"-617.8\" font-family=\"Helvetica,sans-Serif\" font-size=\"14.00\">samples = 29</text>\n<text text-anchor=\"start\" x=\"1974\" y=\"-602.8\" font-family=\"Helvetica,sans-Serif\" font-size=\"14.00\">value = [17, 12]</text>\n<text text-anchor=\"start\" x=\"1992\" y=\"-587.8\" font-family=\"Helvetica,sans-Serif\" font-size=\"14.00\">class = sell</text>\n</g>\n<!-- 12&#45;&gt;15 -->\n<g id=\"edge63\" class=\"edge\">\n<title>12&#45;&gt;15</title>\n<path fill=\"none\" stroke=\"black\" d=\"M2111.17,-698.91C2101.52,-689.65 2091.18,-679.73 2081.25,-670.21\"/>\n<polygon fill=\"black\" stroke=\"black\" points=\"2083.39,-667.42 2073.75,-663.02 2078.55,-672.47 2083.39,-667.42\"/>\n</g>\n<!-- 16 -->\n<g id=\"node71\" class=\"node\">\n<title>16</title>\n<path fill=\"#48a5e7\" stroke=\"black\" d=\"M2370.5,-663C2370.5,-663 2182.5,-663 2182.5,-663 2176.5,-663 2170.5,-657 2170.5,-651 2170.5,-651 2170.5,-592 2170.5,-592 2170.5,-586 2176.5,-580 2182.5,-580 2182.5,-580 2370.5,-580 2370.5,-580 2376.5,-580 2382.5,-586 2382.5,-592 2382.5,-592 2382.5,-651 2382.5,-651 2382.5,-657 2376.5,-663 2370.5,-663\"/>\n<text text-anchor=\"start\" x=\"2178.5\" y=\"-647.8\" font-family=\"Helvetica,sans-Serif\" font-size=\"14.00\">trend_mass_index ≤ 23.799</text>\n<text text-anchor=\"start\" x=\"2232.5\" y=\"-632.8\" font-family=\"Helvetica,sans-Serif\" font-size=\"14.00\">gini = 0.133</text>\n<text text-anchor=\"start\" x=\"2228\" y=\"-617.8\" font-family=\"Helvetica,sans-Serif\" font-size=\"14.00\">samples = 14</text>\n<text text-anchor=\"start\" x=\"2223.5\" y=\"-602.8\" font-family=\"Helvetica,sans-Serif\" font-size=\"14.00\">value = [1, 13]</text>\n<text text-anchor=\"start\" x=\"2235.5\" y=\"-587.8\" font-family=\"Helvetica,sans-Serif\" font-size=\"14.00\">class = buy</text>\n</g>\n<!-- 12&#45;&gt;16 -->\n<g id=\"edge70\" class=\"edge\">\n<title>12&#45;&gt;16</title>\n<path fill=\"none\" stroke=\"black\" d=\"M2196.17,-698.91C2206,-689.56 2216.54,-679.54 2226.64,-669.93\"/>\n<polygon fill=\"black\" stroke=\"black\" points=\"2229.07,-672.45 2233.9,-663.02 2224.24,-667.38 2229.07,-672.45\"/>\n</g>\n<!-- 17 -->\n<g id=\"node65\" class=\"node\">\n<title>17</title>\n<path fill=\"#ea975c\" stroke=\"black\" d=\"M2017.5,-544C2017.5,-544 1871.5,-544 1871.5,-544 1865.5,-544 1859.5,-538 1859.5,-532 1859.5,-532 1859.5,-473 1859.5,-473 1859.5,-467 1865.5,-461 1871.5,-461 1871.5,-461 2017.5,-461 2017.5,-461 2023.5,-461 2029.5,-467 2029.5,-473 2029.5,-473 2029.5,-532 2029.5,-532 2029.5,-538 2023.5,-544 2017.5,-544\"/>\n<text text-anchor=\"start\" x=\"1867.5\" y=\"-528.8\" font-family=\"Helvetica,sans-Serif\" font-size=\"14.00\">volatility_bbp ≤ 0.522</text>\n<text text-anchor=\"start\" x=\"1900.5\" y=\"-513.8\" font-family=\"Helvetica,sans-Serif\" font-size=\"14.00\">gini = 0.255</text>\n<text text-anchor=\"start\" x=\"1896\" y=\"-498.8\" font-family=\"Helvetica,sans-Serif\" font-size=\"14.00\">samples = 20</text>\n<text text-anchor=\"start\" x=\"1891.5\" y=\"-483.8\" font-family=\"Helvetica,sans-Serif\" font-size=\"14.00\">value = [17, 3]</text>\n<text text-anchor=\"start\" x=\"1905\" y=\"-468.8\" font-family=\"Helvetica,sans-Serif\" font-size=\"14.00\">class = sell</text>\n</g>\n<!-- 15&#45;&gt;17 -->\n<g id=\"edge64\" class=\"edge\">\n<title>15&#45;&gt;17</title>\n<path fill=\"none\" stroke=\"black\" d=\"M2001.32,-579.91C1994.64,-570.92 1987.49,-561.32 1980.6,-552.05\"/>\n<polygon fill=\"black\" stroke=\"black\" points=\"1983.41,-549.96 1974.63,-544.02 1977.79,-554.13 1983.41,-549.96\"/>\n</g>\n<!-- 18 -->\n<g id=\"node70\" class=\"node\">\n<title>18</title>\n<path fill=\"#399de5\" stroke=\"black\" d=\"M2149,-536.5C2149,-536.5 2060,-536.5 2060,-536.5 2054,-536.5 2048,-530.5 2048,-524.5 2048,-524.5 2048,-480.5 2048,-480.5 2048,-474.5 2054,-468.5 2060,-468.5 2060,-468.5 2149,-468.5 2149,-468.5 2155,-468.5 2161,-474.5 2161,-480.5 2161,-480.5 2161,-524.5 2161,-524.5 2161,-530.5 2155,-536.5 2149,-536.5\"/>\n<text text-anchor=\"start\" x=\"2069.5\" y=\"-521.3\" font-family=\"Helvetica,sans-Serif\" font-size=\"14.00\">gini = 0.0</text>\n<text text-anchor=\"start\" x=\"2060.5\" y=\"-506.3\" font-family=\"Helvetica,sans-Serif\" font-size=\"14.00\">samples = 9</text>\n<text text-anchor=\"start\" x=\"2056\" y=\"-491.3\" font-family=\"Helvetica,sans-Serif\" font-size=\"14.00\">value = [0, 9]</text>\n<text text-anchor=\"start\" x=\"2063.5\" y=\"-476.3\" font-family=\"Helvetica,sans-Serif\" font-size=\"14.00\">class = buy</text>\n</g>\n<!-- 15&#45;&gt;18 -->\n<g id=\"edge69\" class=\"edge\">\n<title>15&#45;&gt;18</title>\n<path fill=\"none\" stroke=\"black\" d=\"M2056.83,-579.91C2063.78,-568.76 2071.33,-556.66 2078.33,-545.44\"/>\n<polygon fill=\"black\" stroke=\"black\" points=\"2081.48,-547 2083.81,-536.67 2075.54,-543.3 2081.48,-547\"/>\n</g>\n<!-- 29 -->\n<g id=\"node66\" class=\"node\">\n<title>29</title>\n<path fill=\"#399de5\" stroke=\"black\" d=\"M1905,-417.5C1905,-417.5 1816,-417.5 1816,-417.5 1810,-417.5 1804,-411.5 1804,-405.5 1804,-405.5 1804,-361.5 1804,-361.5 1804,-355.5 1810,-349.5 1816,-349.5 1816,-349.5 1905,-349.5 1905,-349.5 1911,-349.5 1917,-355.5 1917,-361.5 1917,-361.5 1917,-405.5 1917,-405.5 1917,-411.5 1911,-417.5 1905,-417.5\"/>\n<text text-anchor=\"start\" x=\"1825.5\" y=\"-402.3\" font-family=\"Helvetica,sans-Serif\" font-size=\"14.00\">gini = 0.0</text>\n<text text-anchor=\"start\" x=\"1816.5\" y=\"-387.3\" font-family=\"Helvetica,sans-Serif\" font-size=\"14.00\">samples = 2</text>\n<text text-anchor=\"start\" x=\"1812\" y=\"-372.3\" font-family=\"Helvetica,sans-Serif\" font-size=\"14.00\">value = [0, 2]</text>\n<text text-anchor=\"start\" x=\"1819.5\" y=\"-357.3\" font-family=\"Helvetica,sans-Serif\" font-size=\"14.00\">class = buy</text>\n</g>\n<!-- 17&#45;&gt;29 -->\n<g id=\"edge65\" class=\"edge\">\n<title>17&#45;&gt;29</title>\n<path fill=\"none\" stroke=\"black\" d=\"M1915.36,-460.91C1907.28,-449.65 1898.49,-437.42 1890.37,-426.11\"/>\n<polygon fill=\"black\" stroke=\"black\" points=\"1892.99,-423.75 1884.31,-417.67 1887.3,-427.83 1892.99,-423.75\"/>\n</g>\n<!-- 30 -->\n<g id=\"node67\" class=\"node\">\n<title>30</title>\n<path fill=\"#e78845\" stroke=\"black\" d=\"M2111.5,-425C2111.5,-425 1947.5,-425 1947.5,-425 1941.5,-425 1935.5,-419 1935.5,-413 1935.5,-413 1935.5,-354 1935.5,-354 1935.5,-348 1941.5,-342 1947.5,-342 1947.5,-342 2111.5,-342 2111.5,-342 2117.5,-342 2123.5,-348 2123.5,-354 2123.5,-354 2123.5,-413 2123.5,-413 2123.5,-419 2117.5,-425 2111.5,-425\"/>\n<text text-anchor=\"start\" x=\"1943.5\" y=\"-409.8\" font-family=\"Helvetica,sans-Serif\" font-size=\"14.00\">trend_adx_pos ≤ 18.267</text>\n<text text-anchor=\"start\" x=\"1985.5\" y=\"-394.8\" font-family=\"Helvetica,sans-Serif\" font-size=\"14.00\">gini = 0.105</text>\n<text text-anchor=\"start\" x=\"1981\" y=\"-379.8\" font-family=\"Helvetica,sans-Serif\" font-size=\"14.00\">samples = 18</text>\n<text text-anchor=\"start\" x=\"1976.5\" y=\"-364.8\" font-family=\"Helvetica,sans-Serif\" font-size=\"14.00\">value = [17, 1]</text>\n<text text-anchor=\"start\" x=\"1990\" y=\"-349.8\" font-family=\"Helvetica,sans-Serif\" font-size=\"14.00\">class = sell</text>\n</g>\n<!-- 17&#45;&gt;30 -->\n<g id=\"edge66\" class=\"edge\">\n<title>17&#45;&gt;30</title>\n<path fill=\"none\" stroke=\"black\" d=\"M1973.99,-460.91C1980.45,-452.01 1987.36,-442.51 1994.02,-433.33\"/>\n<polygon fill=\"black\" stroke=\"black\" points=\"1997.02,-435.17 2000.06,-425.02 1991.35,-431.05 1997.02,-435.17\"/>\n</g>\n<!-- 65 -->\n<g id=\"node68\" class=\"node\">\n<title>65</title>\n<path fill=\"#399de5\" stroke=\"black\" d=\"M2006,-298.5C2006,-298.5 1917,-298.5 1917,-298.5 1911,-298.5 1905,-292.5 1905,-286.5 1905,-286.5 1905,-242.5 1905,-242.5 1905,-236.5 1911,-230.5 1917,-230.5 1917,-230.5 2006,-230.5 2006,-230.5 2012,-230.5 2018,-236.5 2018,-242.5 2018,-242.5 2018,-286.5 2018,-286.5 2018,-292.5 2012,-298.5 2006,-298.5\"/>\n<text text-anchor=\"start\" x=\"1926.5\" y=\"-283.3\" font-family=\"Helvetica,sans-Serif\" font-size=\"14.00\">gini = 0.0</text>\n<text text-anchor=\"start\" x=\"1917.5\" y=\"-268.3\" font-family=\"Helvetica,sans-Serif\" font-size=\"14.00\">samples = 1</text>\n<text text-anchor=\"start\" x=\"1913\" y=\"-253.3\" font-family=\"Helvetica,sans-Serif\" font-size=\"14.00\">value = [0, 1]</text>\n<text text-anchor=\"start\" x=\"1920.5\" y=\"-238.3\" font-family=\"Helvetica,sans-Serif\" font-size=\"14.00\">class = buy</text>\n</g>\n<!-- 30&#45;&gt;65 -->\n<g id=\"edge67\" class=\"edge\">\n<title>30&#45;&gt;65</title>\n<path fill=\"none\" stroke=\"black\" d=\"M2005.91,-341.91C1999.43,-330.76 1992.4,-318.66 1985.87,-307.44\"/>\n<polygon fill=\"black\" stroke=\"black\" points=\"1988.83,-305.55 1980.78,-298.67 1982.78,-309.07 1988.83,-305.55\"/>\n</g>\n<!-- 66 -->\n<g id=\"node69\" class=\"node\">\n<title>66</title>\n<path fill=\"#e58139\" stroke=\"black\" d=\"M2146.5,-298.5C2146.5,-298.5 2048.5,-298.5 2048.5,-298.5 2042.5,-298.5 2036.5,-292.5 2036.5,-286.5 2036.5,-286.5 2036.5,-242.5 2036.5,-242.5 2036.5,-236.5 2042.5,-230.5 2048.5,-230.5 2048.5,-230.5 2146.5,-230.5 2146.5,-230.5 2152.5,-230.5 2158.5,-236.5 2158.5,-242.5 2158.5,-242.5 2158.5,-286.5 2158.5,-286.5 2158.5,-292.5 2152.5,-298.5 2146.5,-298.5\"/>\n<text text-anchor=\"start\" x=\"2062.5\" y=\"-283.3\" font-family=\"Helvetica,sans-Serif\" font-size=\"14.00\">gini = 0.0</text>\n<text text-anchor=\"start\" x=\"2049\" y=\"-268.3\" font-family=\"Helvetica,sans-Serif\" font-size=\"14.00\">samples = 17</text>\n<text text-anchor=\"start\" x=\"2044.5\" y=\"-253.3\" font-family=\"Helvetica,sans-Serif\" font-size=\"14.00\">value = [17, 0]</text>\n<text text-anchor=\"start\" x=\"2058\" y=\"-238.3\" font-family=\"Helvetica,sans-Serif\" font-size=\"14.00\">class = sell</text>\n</g>\n<!-- 30&#45;&gt;66 -->\n<g id=\"edge68\" class=\"edge\">\n<title>30&#45;&gt;66</title>\n<path fill=\"none\" stroke=\"black\" d=\"M2053.09,-341.91C2059.57,-330.76 2066.6,-318.66 2073.13,-307.44\"/>\n<polygon fill=\"black\" stroke=\"black\" points=\"2076.22,-309.07 2078.22,-298.67 2070.17,-305.55 2076.22,-309.07\"/>\n</g>\n<!-- 67 -->\n<g id=\"node72\" class=\"node\">\n<title>67</title>\n<path fill=\"#e58139\" stroke=\"black\" d=\"M2280,-536.5C2280,-536.5 2191,-536.5 2191,-536.5 2185,-536.5 2179,-530.5 2179,-524.5 2179,-524.5 2179,-480.5 2179,-480.5 2179,-474.5 2185,-468.5 2191,-468.5 2191,-468.5 2280,-468.5 2280,-468.5 2286,-468.5 2292,-474.5 2292,-480.5 2292,-480.5 2292,-524.5 2292,-524.5 2292,-530.5 2286,-536.5 2280,-536.5\"/>\n<text text-anchor=\"start\" x=\"2200.5\" y=\"-521.3\" font-family=\"Helvetica,sans-Serif\" font-size=\"14.00\">gini = 0.0</text>\n<text text-anchor=\"start\" x=\"2191.5\" y=\"-506.3\" font-family=\"Helvetica,sans-Serif\" font-size=\"14.00\">samples = 1</text>\n<text text-anchor=\"start\" x=\"2187\" y=\"-491.3\" font-family=\"Helvetica,sans-Serif\" font-size=\"14.00\">value = [1, 0]</text>\n<text text-anchor=\"start\" x=\"2196\" y=\"-476.3\" font-family=\"Helvetica,sans-Serif\" font-size=\"14.00\">class = sell</text>\n</g>\n<!-- 16&#45;&gt;67 -->\n<g id=\"edge71\" class=\"edge\">\n<title>16&#45;&gt;67</title>\n<path fill=\"none\" stroke=\"black\" d=\"M2262.28,-579.91C2258.45,-568.98 2254.3,-557.14 2250.43,-546.11\"/>\n<polygon fill=\"black\" stroke=\"black\" points=\"2253.73,-544.95 2247.12,-536.67 2247.13,-547.26 2253.73,-544.95\"/>\n</g>\n<!-- 68 -->\n<g id=\"node73\" class=\"node\">\n<title>68</title>\n<path fill=\"#399de5\" stroke=\"black\" d=\"M2420.5,-536.5C2420.5,-536.5 2322.5,-536.5 2322.5,-536.5 2316.5,-536.5 2310.5,-530.5 2310.5,-524.5 2310.5,-524.5 2310.5,-480.5 2310.5,-480.5 2310.5,-474.5 2316.5,-468.5 2322.5,-468.5 2322.5,-468.5 2420.5,-468.5 2420.5,-468.5 2426.5,-468.5 2432.5,-474.5 2432.5,-480.5 2432.5,-480.5 2432.5,-524.5 2432.5,-524.5 2432.5,-530.5 2426.5,-536.5 2420.5,-536.5\"/>\n<text text-anchor=\"start\" x=\"2336.5\" y=\"-521.3\" font-family=\"Helvetica,sans-Serif\" font-size=\"14.00\">gini = 0.0</text>\n<text text-anchor=\"start\" x=\"2323\" y=\"-506.3\" font-family=\"Helvetica,sans-Serif\" font-size=\"14.00\">samples = 13</text>\n<text text-anchor=\"start\" x=\"2318.5\" y=\"-491.3\" font-family=\"Helvetica,sans-Serif\" font-size=\"14.00\">value = [0, 13]</text>\n<text text-anchor=\"start\" x=\"2330.5\" y=\"-476.3\" font-family=\"Helvetica,sans-Serif\" font-size=\"14.00\">class = buy</text>\n</g>\n<!-- 16&#45;&gt;68 -->\n<g id=\"edge72\" class=\"edge\">\n<title>16&#45;&gt;68</title>\n<path fill=\"none\" stroke=\"black\" d=\"M2309.46,-579.91C2318.78,-568.43 2328.92,-555.94 2338.26,-544.44\"/>\n<polygon fill=\"black\" stroke=\"black\" points=\"2340.98,-546.64 2344.57,-536.67 2335.55,-542.22 2340.98,-546.64\"/>\n</g>\n<!-- 31 -->\n<g id=\"node75\" class=\"node\">\n<title>31</title>\n<path fill=\"#a2d1f3\" stroke=\"black\" d=\"M2645.5,-782C2645.5,-782 2493.5,-782 2493.5,-782 2487.5,-782 2481.5,-776 2481.5,-770 2481.5,-770 2481.5,-711 2481.5,-711 2481.5,-705 2487.5,-699 2493.5,-699 2493.5,-699 2645.5,-699 2645.5,-699 2651.5,-699 2657.5,-705 2657.5,-711 2657.5,-711 2657.5,-770 2657.5,-770 2657.5,-776 2651.5,-782 2645.5,-782\"/>\n<text text-anchor=\"start\" x=\"2489.5\" y=\"-766.8\" font-family=\"Helvetica,sans-Serif\" font-size=\"14.00\">volume_vpt ≤ 431.577</text>\n<text text-anchor=\"start\" x=\"2525.5\" y=\"-751.8\" font-family=\"Helvetica,sans-Serif\" font-size=\"14.00\">gini = 0.453</text>\n<text text-anchor=\"start\" x=\"2521\" y=\"-736.8\" font-family=\"Helvetica,sans-Serif\" font-size=\"14.00\">samples = 26</text>\n<text text-anchor=\"start\" x=\"2516.5\" y=\"-721.8\" font-family=\"Helvetica,sans-Serif\" font-size=\"14.00\">value = [9, 17]</text>\n<text text-anchor=\"start\" x=\"2528.5\" y=\"-706.8\" font-family=\"Helvetica,sans-Serif\" font-size=\"14.00\">class = buy</text>\n</g>\n<!-- 8&#45;&gt;31 -->\n<g id=\"edge74\" class=\"edge\">\n<title>8&#45;&gt;31</title>\n<path fill=\"none\" stroke=\"black\" d=\"M2569.5,-817.91C2569.5,-809.65 2569.5,-800.86 2569.5,-792.3\"/>\n<polygon fill=\"black\" stroke=\"black\" points=\"2573,-792.02 2569.5,-782.02 2566,-792.02 2573,-792.02\"/>\n</g>\n<!-- 32 -->\n<g id=\"node84\" class=\"node\">\n<title>32</title>\n<path fill=\"#3ea0e6\" stroke=\"black\" d=\"M2903,-782C2903,-782 2754,-782 2754,-782 2748,-782 2742,-776 2742,-770 2742,-770 2742,-711 2742,-711 2742,-705 2748,-699 2754,-699 2754,-699 2903,-699 2903,-699 2909,-699 2915,-705 2915,-711 2915,-711 2915,-770 2915,-770 2915,-776 2909,-782 2903,-782\"/>\n<text text-anchor=\"start\" x=\"2750\" y=\"-766.8\" font-family=\"Helvetica,sans-Serif\" font-size=\"14.00\">momentum_ppo ≤ 0.8</text>\n<text text-anchor=\"start\" x=\"2784.5\" y=\"-751.8\" font-family=\"Helvetica,sans-Serif\" font-size=\"14.00\">gini = 0.053</text>\n<text text-anchor=\"start\" x=\"2780\" y=\"-736.8\" font-family=\"Helvetica,sans-Serif\" font-size=\"14.00\">samples = 37</text>\n<text text-anchor=\"start\" x=\"2775.5\" y=\"-721.8\" font-family=\"Helvetica,sans-Serif\" font-size=\"14.00\">value = [1, 36]</text>\n<text text-anchor=\"start\" x=\"2787.5\" y=\"-706.8\" font-family=\"Helvetica,sans-Serif\" font-size=\"14.00\">class = buy</text>\n</g>\n<!-- 8&#45;&gt;32 -->\n<g id=\"edge83\" class=\"edge\">\n<title>8&#45;&gt;32</title>\n<path fill=\"none\" stroke=\"black\" d=\"M2654.67,-820.03C2679.61,-808.76 2707.06,-796.36 2732.63,-784.81\"/>\n<polygon fill=\"black\" stroke=\"black\" points=\"2734.28,-787.9 2741.95,-780.6 2731.4,-781.52 2734.28,-787.9\"/>\n</g>\n<!-- 33 -->\n<g id=\"node76\" class=\"node\">\n<title>33</title>\n<path fill=\"#55abe9\" stroke=\"black\" d=\"M2645.5,-663C2645.5,-663 2427.5,-663 2427.5,-663 2421.5,-663 2415.5,-657 2415.5,-651 2415.5,-651 2415.5,-592 2415.5,-592 2415.5,-586 2421.5,-580 2427.5,-580 2427.5,-580 2645.5,-580 2645.5,-580 2651.5,-580 2657.5,-586 2657.5,-592 2657.5,-592 2657.5,-651 2657.5,-651 2657.5,-657 2651.5,-663 2645.5,-663\"/>\n<text text-anchor=\"start\" x=\"2423.5\" y=\"-647.8\" font-family=\"Helvetica,sans-Serif\" font-size=\"14.00\">momentum_stoch_rsi_d ≤ 0.948</text>\n<text text-anchor=\"start\" x=\"2492.5\" y=\"-632.8\" font-family=\"Helvetica,sans-Serif\" font-size=\"14.00\">gini = 0.219</text>\n<text text-anchor=\"start\" x=\"2488\" y=\"-617.8\" font-family=\"Helvetica,sans-Serif\" font-size=\"14.00\">samples = 16</text>\n<text text-anchor=\"start\" x=\"2483.5\" y=\"-602.8\" font-family=\"Helvetica,sans-Serif\" font-size=\"14.00\">value = [2, 14]</text>\n<text text-anchor=\"start\" x=\"2495.5\" y=\"-587.8\" font-family=\"Helvetica,sans-Serif\" font-size=\"14.00\">class = buy</text>\n</g>\n<!-- 31&#45;&gt;33 -->\n<g id=\"edge75\" class=\"edge\">\n<title>31&#45;&gt;33</title>\n<path fill=\"none\" stroke=\"black\" d=\"M2558.05,-698.91C2555.67,-690.47 2553.13,-681.48 2550.67,-672.74\"/>\n<polygon fill=\"black\" stroke=\"black\" points=\"2554.01,-671.7 2547.93,-663.02 2547.28,-673.6 2554.01,-671.7\"/>\n</g>\n<!-- 34 -->\n<g id=\"node79\" class=\"node\">\n<title>34</title>\n<path fill=\"#f0b78e\" stroke=\"black\" d=\"M2819.5,-663C2819.5,-663 2687.5,-663 2687.5,-663 2681.5,-663 2675.5,-657 2675.5,-651 2675.5,-651 2675.5,-592 2675.5,-592 2675.5,-586 2681.5,-580 2687.5,-580 2687.5,-580 2819.5,-580 2819.5,-580 2825.5,-580 2831.5,-586 2831.5,-592 2831.5,-592 2831.5,-651 2831.5,-651 2831.5,-657 2825.5,-663 2819.5,-663\"/>\n<text text-anchor=\"start\" x=\"2683.5\" y=\"-647.8\" font-family=\"Helvetica,sans-Serif\" font-size=\"14.00\">trend_adx ≤ 25.115</text>\n<text text-anchor=\"start\" x=\"2714\" y=\"-632.8\" font-family=\"Helvetica,sans-Serif\" font-size=\"14.00\">gini = 0.42</text>\n<text text-anchor=\"start\" x=\"2705\" y=\"-617.8\" font-family=\"Helvetica,sans-Serif\" font-size=\"14.00\">samples = 10</text>\n<text text-anchor=\"start\" x=\"2705\" y=\"-602.8\" font-family=\"Helvetica,sans-Serif\" font-size=\"14.00\">value = [7, 3]</text>\n<text text-anchor=\"start\" x=\"2714\" y=\"-587.8\" font-family=\"Helvetica,sans-Serif\" font-size=\"14.00\">class = sell</text>\n</g>\n<!-- 31&#45;&gt;34 -->\n<g id=\"edge78\" class=\"edge\">\n<title>31&#45;&gt;34</title>\n<path fill=\"none\" stroke=\"black\" d=\"M2633.34,-698.91C2648.75,-689.11 2665.33,-678.56 2681.11,-668.53\"/>\n<polygon fill=\"black\" stroke=\"black\" points=\"2683.21,-671.34 2689.77,-663.02 2679.46,-665.43 2683.21,-671.34\"/>\n</g>\n<!-- 35 -->\n<g id=\"node77\" class=\"node\">\n<title>35</title>\n<path fill=\"#399de5\" stroke=\"black\" d=\"M2560.5,-536.5C2560.5,-536.5 2462.5,-536.5 2462.5,-536.5 2456.5,-536.5 2450.5,-530.5 2450.5,-524.5 2450.5,-524.5 2450.5,-480.5 2450.5,-480.5 2450.5,-474.5 2456.5,-468.5 2462.5,-468.5 2462.5,-468.5 2560.5,-468.5 2560.5,-468.5 2566.5,-468.5 2572.5,-474.5 2572.5,-480.5 2572.5,-480.5 2572.5,-524.5 2572.5,-524.5 2572.5,-530.5 2566.5,-536.5 2560.5,-536.5\"/>\n<text text-anchor=\"start\" x=\"2476.5\" y=\"-521.3\" font-family=\"Helvetica,sans-Serif\" font-size=\"14.00\">gini = 0.0</text>\n<text text-anchor=\"start\" x=\"2463\" y=\"-506.3\" font-family=\"Helvetica,sans-Serif\" font-size=\"14.00\">samples = 14</text>\n<text text-anchor=\"start\" x=\"2458.5\" y=\"-491.3\" font-family=\"Helvetica,sans-Serif\" font-size=\"14.00\">value = [0, 14]</text>\n<text text-anchor=\"start\" x=\"2470.5\" y=\"-476.3\" font-family=\"Helvetica,sans-Serif\" font-size=\"14.00\">class = buy</text>\n</g>\n<!-- 33&#45;&gt;35 -->\n<g id=\"edge76\" class=\"edge\">\n<title>33&#45;&gt;35</title>\n<path fill=\"none\" stroke=\"black\" d=\"M2527.83,-579.91C2525.54,-569.2 2523.06,-557.62 2520.75,-546.78\"/>\n<polygon fill=\"black\" stroke=\"black\" points=\"2524.1,-545.71 2518.59,-536.67 2517.25,-547.18 2524.1,-545.71\"/>\n</g>\n<!-- 36 -->\n<g id=\"node78\" class=\"node\">\n<title>36</title>\n<path fill=\"#e58139\" stroke=\"black\" d=\"M2692,-536.5C2692,-536.5 2603,-536.5 2603,-536.5 2597,-536.5 2591,-530.5 2591,-524.5 2591,-524.5 2591,-480.5 2591,-480.5 2591,-474.5 2597,-468.5 2603,-468.5 2603,-468.5 2692,-468.5 2692,-468.5 2698,-468.5 2704,-474.5 2704,-480.5 2704,-480.5 2704,-524.5 2704,-524.5 2704,-530.5 2698,-536.5 2692,-536.5\"/>\n<text text-anchor=\"start\" x=\"2612.5\" y=\"-521.3\" font-family=\"Helvetica,sans-Serif\" font-size=\"14.00\">gini = 0.0</text>\n<text text-anchor=\"start\" x=\"2603.5\" y=\"-506.3\" font-family=\"Helvetica,sans-Serif\" font-size=\"14.00\">samples = 2</text>\n<text text-anchor=\"start\" x=\"2599\" y=\"-491.3\" font-family=\"Helvetica,sans-Serif\" font-size=\"14.00\">value = [2, 0]</text>\n<text text-anchor=\"start\" x=\"2608\" y=\"-476.3\" font-family=\"Helvetica,sans-Serif\" font-size=\"14.00\">class = sell</text>\n</g>\n<!-- 33&#45;&gt;36 -->\n<g id=\"edge77\" class=\"edge\">\n<title>33&#45;&gt;36</title>\n<path fill=\"none\" stroke=\"black\" d=\"M2575.01,-579.91C2586,-568.32 2597.98,-555.7 2608.97,-544.11\"/>\n<polygon fill=\"black\" stroke=\"black\" points=\"2611.69,-546.33 2616.03,-536.67 2606.61,-541.51 2611.69,-546.33\"/>\n</g>\n<!-- 39 -->\n<g id=\"node80\" class=\"node\">\n<title>39</title>\n<path fill=\"#e58139\" stroke=\"black\" d=\"M2823,-536.5C2823,-536.5 2734,-536.5 2734,-536.5 2728,-536.5 2722,-530.5 2722,-524.5 2722,-524.5 2722,-480.5 2722,-480.5 2722,-474.5 2728,-468.5 2734,-468.5 2734,-468.5 2823,-468.5 2823,-468.5 2829,-468.5 2835,-474.5 2835,-480.5 2835,-480.5 2835,-524.5 2835,-524.5 2835,-530.5 2829,-536.5 2823,-536.5\"/>\n<text text-anchor=\"start\" x=\"2743.5\" y=\"-521.3\" font-family=\"Helvetica,sans-Serif\" font-size=\"14.00\">gini = 0.0</text>\n<text text-anchor=\"start\" x=\"2734.5\" y=\"-506.3\" font-family=\"Helvetica,sans-Serif\" font-size=\"14.00\">samples = 6</text>\n<text text-anchor=\"start\" x=\"2730\" y=\"-491.3\" font-family=\"Helvetica,sans-Serif\" font-size=\"14.00\">value = [6, 0]</text>\n<text text-anchor=\"start\" x=\"2739\" y=\"-476.3\" font-family=\"Helvetica,sans-Serif\" font-size=\"14.00\">class = sell</text>\n</g>\n<!-- 34&#45;&gt;39 -->\n<g id=\"edge79\" class=\"edge\">\n<title>34&#45;&gt;39</title>\n<path fill=\"none\" stroke=\"black\" d=\"M2762.17,-579.91C2764.46,-569.2 2766.94,-557.62 2769.25,-546.78\"/>\n<polygon fill=\"black\" stroke=\"black\" points=\"2772.75,-547.18 2771.41,-536.67 2765.9,-545.71 2772.75,-547.18\"/>\n</g>\n<!-- 40 -->\n<g id=\"node81\" class=\"node\">\n<title>40</title>\n<path fill=\"#7bbeee\" stroke=\"black\" d=\"M3083.5,-544C3083.5,-544 2865.5,-544 2865.5,-544 2859.5,-544 2853.5,-538 2853.5,-532 2853.5,-532 2853.5,-473 2853.5,-473 2853.5,-467 2859.5,-461 2865.5,-461 2865.5,-461 3083.5,-461 3083.5,-461 3089.5,-461 3095.5,-467 3095.5,-473 3095.5,-473 3095.5,-532 3095.5,-532 3095.5,-538 3089.5,-544 3083.5,-544\"/>\n<text text-anchor=\"start\" x=\"2861.5\" y=\"-528.8\" font-family=\"Helvetica,sans-Serif\" font-size=\"14.00\">momentum_stoch_rsi_d ≤ 0.191</text>\n<text text-anchor=\"start\" x=\"2930.5\" y=\"-513.8\" font-family=\"Helvetica,sans-Serif\" font-size=\"14.00\">gini = 0.375</text>\n<text text-anchor=\"start\" x=\"2930.5\" y=\"-498.8\" font-family=\"Helvetica,sans-Serif\" font-size=\"14.00\">samples = 4</text>\n<text text-anchor=\"start\" x=\"2926\" y=\"-483.8\" font-family=\"Helvetica,sans-Serif\" font-size=\"14.00\">value = [1, 3]</text>\n<text text-anchor=\"start\" x=\"2933.5\" y=\"-468.8\" font-family=\"Helvetica,sans-Serif\" font-size=\"14.00\">class = buy</text>\n</g>\n<!-- 34&#45;&gt;40 -->\n<g id=\"edge80\" class=\"edge\">\n<title>34&#45;&gt;40</title>\n<path fill=\"none\" stroke=\"black\" d=\"M2830.17,-579.91C2849.12,-569.88 2869.53,-559.07 2888.86,-548.84\"/>\n<polygon fill=\"black\" stroke=\"black\" points=\"2890.76,-551.79 2897.96,-544.02 2887.49,-545.61 2890.76,-551.79\"/>\n</g>\n<!-- 89 -->\n<g id=\"node82\" class=\"node\">\n<title>89</title>\n<path fill=\"#e58139\" stroke=\"black\" d=\"M2953,-417.5C2953,-417.5 2864,-417.5 2864,-417.5 2858,-417.5 2852,-411.5 2852,-405.5 2852,-405.5 2852,-361.5 2852,-361.5 2852,-355.5 2858,-349.5 2864,-349.5 2864,-349.5 2953,-349.5 2953,-349.5 2959,-349.5 2965,-355.5 2965,-361.5 2965,-361.5 2965,-405.5 2965,-405.5 2965,-411.5 2959,-417.5 2953,-417.5\"/>\n<text text-anchor=\"start\" x=\"2873.5\" y=\"-402.3\" font-family=\"Helvetica,sans-Serif\" font-size=\"14.00\">gini = 0.0</text>\n<text text-anchor=\"start\" x=\"2864.5\" y=\"-387.3\" font-family=\"Helvetica,sans-Serif\" font-size=\"14.00\">samples = 1</text>\n<text text-anchor=\"start\" x=\"2860\" y=\"-372.3\" font-family=\"Helvetica,sans-Serif\" font-size=\"14.00\">value = [1, 0]</text>\n<text text-anchor=\"start\" x=\"2869\" y=\"-357.3\" font-family=\"Helvetica,sans-Serif\" font-size=\"14.00\">class = sell</text>\n</g>\n<!-- 40&#45;&gt;89 -->\n<g id=\"edge81\" class=\"edge\">\n<title>40&#45;&gt;89</title>\n<path fill=\"none\" stroke=\"black\" d=\"M2951.6,-460.91C2945.31,-449.76 2938.49,-437.66 2932.16,-426.44\"/>\n<polygon fill=\"black\" stroke=\"black\" points=\"2935.17,-424.66 2927.21,-417.67 2929.07,-428.1 2935.17,-424.66\"/>\n</g>\n<!-- 90 -->\n<g id=\"node83\" class=\"node\">\n<title>90</title>\n<path fill=\"#399de5\" stroke=\"black\" d=\"M3084,-417.5C3084,-417.5 2995,-417.5 2995,-417.5 2989,-417.5 2983,-411.5 2983,-405.5 2983,-405.5 2983,-361.5 2983,-361.5 2983,-355.5 2989,-349.5 2995,-349.5 2995,-349.5 3084,-349.5 3084,-349.5 3090,-349.5 3096,-355.5 3096,-361.5 3096,-361.5 3096,-405.5 3096,-405.5 3096,-411.5 3090,-417.5 3084,-417.5\"/>\n<text text-anchor=\"start\" x=\"3004.5\" y=\"-402.3\" font-family=\"Helvetica,sans-Serif\" font-size=\"14.00\">gini = 0.0</text>\n<text text-anchor=\"start\" x=\"2995.5\" y=\"-387.3\" font-family=\"Helvetica,sans-Serif\" font-size=\"14.00\">samples = 3</text>\n<text text-anchor=\"start\" x=\"2991\" y=\"-372.3\" font-family=\"Helvetica,sans-Serif\" font-size=\"14.00\">value = [0, 3]</text>\n<text text-anchor=\"start\" x=\"2998.5\" y=\"-357.3\" font-family=\"Helvetica,sans-Serif\" font-size=\"14.00\">class = buy</text>\n</g>\n<!-- 40&#45;&gt;90 -->\n<g id=\"edge82\" class=\"edge\">\n<title>40&#45;&gt;90</title>\n<path fill=\"none\" stroke=\"black\" d=\"M2997.05,-460.91C3003.24,-449.76 3009.97,-437.66 3016.2,-426.44\"/>\n<polygon fill=\"black\" stroke=\"black\" points=\"3019.28,-428.11 3021.07,-417.67 3013.16,-424.71 3019.28,-428.11\"/>\n</g>\n<!-- 61 -->\n<g id=\"node85\" class=\"node\">\n<title>61</title>\n<path fill=\"#399de5\" stroke=\"black\" d=\"M2959.5,-655.5C2959.5,-655.5 2861.5,-655.5 2861.5,-655.5 2855.5,-655.5 2849.5,-649.5 2849.5,-643.5 2849.5,-643.5 2849.5,-599.5 2849.5,-599.5 2849.5,-593.5 2855.5,-587.5 2861.5,-587.5 2861.5,-587.5 2959.5,-587.5 2959.5,-587.5 2965.5,-587.5 2971.5,-593.5 2971.5,-599.5 2971.5,-599.5 2971.5,-643.5 2971.5,-643.5 2971.5,-649.5 2965.5,-655.5 2959.5,-655.5\"/>\n<text text-anchor=\"start\" x=\"2875.5\" y=\"-640.3\" font-family=\"Helvetica,sans-Serif\" font-size=\"14.00\">gini = 0.0</text>\n<text text-anchor=\"start\" x=\"2862\" y=\"-625.3\" font-family=\"Helvetica,sans-Serif\" font-size=\"14.00\">samples = 36</text>\n<text text-anchor=\"start\" x=\"2857.5\" y=\"-610.3\" font-family=\"Helvetica,sans-Serif\" font-size=\"14.00\">value = [0, 36]</text>\n<text text-anchor=\"start\" x=\"2869.5\" y=\"-595.3\" font-family=\"Helvetica,sans-Serif\" font-size=\"14.00\">class = buy</text>\n</g>\n<!-- 32&#45;&gt;61 -->\n<g id=\"edge84\" class=\"edge\">\n<title>32&#45;&gt;61</title>\n<path fill=\"none\" stroke=\"black\" d=\"M2856.95,-698.91C2864.84,-687.65 2873.41,-675.42 2881.34,-664.11\"/>\n<polygon fill=\"black\" stroke=\"black\" points=\"2884.38,-665.86 2887.25,-655.67 2878.65,-661.85 2884.38,-665.86\"/>\n</g>\n<!-- 62 -->\n<g id=\"node86\" class=\"node\">\n<title>62</title>\n<path fill=\"#e58139\" stroke=\"black\" d=\"M3091,-655.5C3091,-655.5 3002,-655.5 3002,-655.5 2996,-655.5 2990,-649.5 2990,-643.5 2990,-643.5 2990,-599.5 2990,-599.5 2990,-593.5 2996,-587.5 3002,-587.5 3002,-587.5 3091,-587.5 3091,-587.5 3097,-587.5 3103,-593.5 3103,-599.5 3103,-599.5 3103,-643.5 3103,-643.5 3103,-649.5 3097,-655.5 3091,-655.5\"/>\n<text text-anchor=\"start\" x=\"3011.5\" y=\"-640.3\" font-family=\"Helvetica,sans-Serif\" font-size=\"14.00\">gini = 0.0</text>\n<text text-anchor=\"start\" x=\"3002.5\" y=\"-625.3\" font-family=\"Helvetica,sans-Serif\" font-size=\"14.00\">samples = 1</text>\n<text text-anchor=\"start\" x=\"2998\" y=\"-610.3\" font-family=\"Helvetica,sans-Serif\" font-size=\"14.00\">value = [1, 0]</text>\n<text text-anchor=\"start\" x=\"3007\" y=\"-595.3\" font-family=\"Helvetica,sans-Serif\" font-size=\"14.00\">class = sell</text>\n</g>\n<!-- 32&#45;&gt;62 -->\n<g id=\"edge85\" class=\"edge\">\n<title>32&#45;&gt;62</title>\n<path fill=\"none\" stroke=\"black\" d=\"M2912.39,-698.86C2934.72,-687.61 2958.69,-675.15 2980.5,-663 2981.82,-662.26 2983.15,-661.51 2984.49,-660.75\"/>\n<polygon fill=\"black\" stroke=\"black\" points=\"2986.5,-663.63 2993.42,-655.6 2983.01,-657.57 2986.5,-663.63\"/>\n</g>\n<!-- 27 -->\n<g id=\"node88\" class=\"node\">\n<title>27</title>\n<path fill=\"#f6d5bd\" stroke=\"black\" d=\"M3098,-901C3098,-901 2919,-901 2919,-901 2913,-901 2907,-895 2907,-889 2907,-889 2907,-830 2907,-830 2907,-824 2913,-818 2919,-818 2919,-818 3098,-818 3098,-818 3104,-818 3110,-824 3110,-830 3110,-830 3110,-889 3110,-889 3110,-895 3104,-901 3098,-901\"/>\n<text text-anchor=\"start\" x=\"2915\" y=\"-885.8\" font-family=\"Helvetica,sans-Serif\" font-size=\"14.00\">momentum_stoch ≤ 33.55</text>\n<text text-anchor=\"start\" x=\"2969\" y=\"-870.8\" font-family=\"Helvetica,sans-Serif\" font-size=\"14.00\">gini = 0.48</text>\n<text text-anchor=\"start\" x=\"2964.5\" y=\"-855.8\" font-family=\"Helvetica,sans-Serif\" font-size=\"14.00\">samples = 5</text>\n<text text-anchor=\"start\" x=\"2960\" y=\"-840.8\" font-family=\"Helvetica,sans-Serif\" font-size=\"14.00\">value = [3, 2]</text>\n<text text-anchor=\"start\" x=\"2969\" y=\"-825.8\" font-family=\"Helvetica,sans-Serif\" font-size=\"14.00\">class = sell</text>\n</g>\n<!-- 6&#45;&gt;27 -->\n<g id=\"edge87\" class=\"edge\">\n<title>6&#45;&gt;27</title>\n<path fill=\"none\" stroke=\"black\" d=\"M3008.5,-936.91C3008.5,-928.65 3008.5,-919.86 3008.5,-911.3\"/>\n<polygon fill=\"black\" stroke=\"black\" points=\"3012,-911.02 3008.5,-901.02 3005,-911.02 3012,-911.02\"/>\n</g>\n<!-- 28 -->\n<g id=\"node91\" class=\"node\">\n<title>28</title>\n<path fill=\"#3c9ee5\" stroke=\"black\" d=\"M3362,-901C3362,-901 3159,-901 3159,-901 3153,-901 3147,-895 3147,-889 3147,-889 3147,-830 3147,-830 3147,-824 3153,-818 3159,-818 3159,-818 3362,-818 3362,-818 3368,-818 3374,-824 3374,-830 3374,-830 3374,-889 3374,-889 3374,-895 3368,-901 3362,-901\"/>\n<text text-anchor=\"start\" x=\"3155\" y=\"-885.8\" font-family=\"Helvetica,sans-Serif\" font-size=\"14.00\">trend_vortex_ind_neg ≤ 0.898</text>\n<text text-anchor=\"start\" x=\"3216.5\" y=\"-870.8\" font-family=\"Helvetica,sans-Serif\" font-size=\"14.00\">gini = 0.028</text>\n<text text-anchor=\"start\" x=\"3207.5\" y=\"-855.8\" font-family=\"Helvetica,sans-Serif\" font-size=\"14.00\">samples = 709</text>\n<text text-anchor=\"start\" x=\"3198.5\" y=\"-840.8\" font-family=\"Helvetica,sans-Serif\" font-size=\"14.00\">value = [10, 699]</text>\n<text text-anchor=\"start\" x=\"3219.5\" y=\"-825.8\" font-family=\"Helvetica,sans-Serif\" font-size=\"14.00\">class = buy</text>\n</g>\n<!-- 6&#45;&gt;28 -->\n<g id=\"edge90\" class=\"edge\">\n<title>6&#45;&gt;28</title>\n<path fill=\"none\" stroke=\"black\" d=\"M3093.11,-938.22C3115.83,-927.67 3140.58,-916.18 3163.89,-905.35\"/>\n<polygon fill=\"black\" stroke=\"black\" points=\"3165.5,-908.47 3173.1,-901.08 3162.55,-902.12 3165.5,-908.47\"/>\n</g>\n<!-- 43 -->\n<g id=\"node89\" class=\"node\">\n<title>43</title>\n<path fill=\"#399de5\" stroke=\"black\" d=\"M3034,-774.5C3034,-774.5 2945,-774.5 2945,-774.5 2939,-774.5 2933,-768.5 2933,-762.5 2933,-762.5 2933,-718.5 2933,-718.5 2933,-712.5 2939,-706.5 2945,-706.5 2945,-706.5 3034,-706.5 3034,-706.5 3040,-706.5 3046,-712.5 3046,-718.5 3046,-718.5 3046,-762.5 3046,-762.5 3046,-768.5 3040,-774.5 3034,-774.5\"/>\n<text text-anchor=\"start\" x=\"2954.5\" y=\"-759.3\" font-family=\"Helvetica,sans-Serif\" font-size=\"14.00\">gini = 0.0</text>\n<text text-anchor=\"start\" x=\"2945.5\" y=\"-744.3\" font-family=\"Helvetica,sans-Serif\" font-size=\"14.00\">samples = 2</text>\n<text text-anchor=\"start\" x=\"2941\" y=\"-729.3\" font-family=\"Helvetica,sans-Serif\" font-size=\"14.00\">value = [0, 2]</text>\n<text text-anchor=\"start\" x=\"2948.5\" y=\"-714.3\" font-family=\"Helvetica,sans-Serif\" font-size=\"14.00\">class = buy</text>\n</g>\n<!-- 27&#45;&gt;43 -->\n<g id=\"edge88\" class=\"edge\">\n<title>27&#45;&gt;43</title>\n<path fill=\"none\" stroke=\"black\" d=\"M3001.91,-817.91C3000.17,-807.2 2998.29,-795.62 2996.53,-784.78\"/>\n<polygon fill=\"black\" stroke=\"black\" points=\"2999.94,-783.98 2994.89,-774.67 2993.03,-785.1 2999.94,-783.98\"/>\n</g>\n<!-- 44 -->\n<g id=\"node90\" class=\"node\">\n<title>44</title>\n<path fill=\"#e58139\" stroke=\"black\" d=\"M3165,-774.5C3165,-774.5 3076,-774.5 3076,-774.5 3070,-774.5 3064,-768.5 3064,-762.5 3064,-762.5 3064,-718.5 3064,-718.5 3064,-712.5 3070,-706.5 3076,-706.5 3076,-706.5 3165,-706.5 3165,-706.5 3171,-706.5 3177,-712.5 3177,-718.5 3177,-718.5 3177,-762.5 3177,-762.5 3177,-768.5 3171,-774.5 3165,-774.5\"/>\n<text text-anchor=\"start\" x=\"3085.5\" y=\"-759.3\" font-family=\"Helvetica,sans-Serif\" font-size=\"14.00\">gini = 0.0</text>\n<text text-anchor=\"start\" x=\"3076.5\" y=\"-744.3\" font-family=\"Helvetica,sans-Serif\" font-size=\"14.00\">samples = 3</text>\n<text text-anchor=\"start\" x=\"3072\" y=\"-729.3\" font-family=\"Helvetica,sans-Serif\" font-size=\"14.00\">value = [3, 0]</text>\n<text text-anchor=\"start\" x=\"3081\" y=\"-714.3\" font-family=\"Helvetica,sans-Serif\" font-size=\"14.00\">class = sell</text>\n</g>\n<!-- 27&#45;&gt;44 -->\n<g id=\"edge89\" class=\"edge\">\n<title>27&#45;&gt;44</title>\n<path fill=\"none\" stroke=\"black\" d=\"M3047.36,-817.91C3058.45,-806.32 3070.53,-793.7 3081.62,-782.11\"/>\n<polygon fill=\"black\" stroke=\"black\" points=\"3084.36,-784.31 3088.75,-774.67 3079.31,-779.47 3084.36,-784.31\"/>\n</g>\n<!-- 55 -->\n<g id=\"node92\" class=\"node\">\n<title>55</title>\n<path fill=\"#3a9ee5\" stroke=\"black\" d=\"M3314,-774.5C3314,-774.5 3207,-774.5 3207,-774.5 3201,-774.5 3195,-768.5 3195,-762.5 3195,-762.5 3195,-718.5 3195,-718.5 3195,-712.5 3201,-706.5 3207,-706.5 3207,-706.5 3314,-706.5 3314,-706.5 3320,-706.5 3326,-712.5 3326,-718.5 3326,-718.5 3326,-762.5 3326,-762.5 3326,-768.5 3320,-774.5 3314,-774.5\"/>\n<text text-anchor=\"start\" x=\"3216.5\" y=\"-759.3\" font-family=\"Helvetica,sans-Serif\" font-size=\"14.00\">gini = 0.012</text>\n<text text-anchor=\"start\" x=\"3207.5\" y=\"-744.3\" font-family=\"Helvetica,sans-Serif\" font-size=\"14.00\">samples = 677</text>\n<text text-anchor=\"start\" x=\"3203\" y=\"-729.3\" font-family=\"Helvetica,sans-Serif\" font-size=\"14.00\">value = [4, 673]</text>\n<text text-anchor=\"start\" x=\"3219.5\" y=\"-714.3\" font-family=\"Helvetica,sans-Serif\" font-size=\"14.00\">class = buy</text>\n</g>\n<!-- 28&#45;&gt;55 -->\n<g id=\"edge91\" class=\"edge\">\n<title>28&#45;&gt;55</title>\n<path fill=\"none\" stroke=\"black\" d=\"M3260.5,-817.91C3260.5,-807.2 3260.5,-795.62 3260.5,-784.78\"/>\n<polygon fill=\"black\" stroke=\"black\" points=\"3264,-784.67 3260.5,-774.67 3257,-784.67 3264,-784.67\"/>\n</g>\n<!-- 56 -->\n<g id=\"node93\" class=\"node\">\n<title>56</title>\n<path fill=\"#67b4eb\" stroke=\"black\" d=\"M3556.5,-782C3556.5,-782 3356.5,-782 3356.5,-782 3350.5,-782 3344.5,-776 3344.5,-770 3344.5,-770 3344.5,-711 3344.5,-711 3344.5,-705 3350.5,-699 3356.5,-699 3356.5,-699 3556.5,-699 3556.5,-699 3562.5,-699 3568.5,-705 3568.5,-711 3568.5,-711 3568.5,-770 3568.5,-770 3568.5,-776 3562.5,-782 3556.5,-782\"/>\n<text text-anchor=\"start\" x=\"3352.5\" y=\"-766.8\" font-family=\"Helvetica,sans-Serif\" font-size=\"14.00\">trend_vortex_ind_diff ≤ 0.033</text>\n<text text-anchor=\"start\" x=\"3412.5\" y=\"-751.8\" font-family=\"Helvetica,sans-Serif\" font-size=\"14.00\">gini = 0.305</text>\n<text text-anchor=\"start\" x=\"3408\" y=\"-736.8\" font-family=\"Helvetica,sans-Serif\" font-size=\"14.00\">samples = 32</text>\n<text text-anchor=\"start\" x=\"3403.5\" y=\"-721.8\" font-family=\"Helvetica,sans-Serif\" font-size=\"14.00\">value = [6, 26]</text>\n<text text-anchor=\"start\" x=\"3415.5\" y=\"-706.8\" font-family=\"Helvetica,sans-Serif\" font-size=\"14.00\">class = buy</text>\n</g>\n<!-- 28&#45;&gt;56 -->\n<g id=\"edge92\" class=\"edge\">\n<title>28&#45;&gt;56</title>\n<path fill=\"none\" stroke=\"black\" d=\"M3328.5,-817.91C3345.07,-808.02 3362.91,-797.37 3379.85,-787.25\"/>\n<polygon fill=\"black\" stroke=\"black\" points=\"3381.83,-790.15 3388.62,-782.02 3378.24,-784.14 3381.83,-790.15\"/>\n</g>\n<!-- 57 -->\n<g id=\"node94\" class=\"node\">\n<title>57</title>\n<path fill=\"#42a1e6\" stroke=\"black\" d=\"M3361.5,-663C3361.5,-663 3263.5,-663 3263.5,-663 3257.5,-663 3251.5,-657 3251.5,-651 3251.5,-651 3251.5,-592 3251.5,-592 3251.5,-586 3257.5,-580 3263.5,-580 3263.5,-580 3361.5,-580 3361.5,-580 3367.5,-580 3373.5,-586 3373.5,-592 3373.5,-592 3373.5,-651 3373.5,-651 3373.5,-657 3367.5,-663 3361.5,-663\"/>\n<text text-anchor=\"start\" x=\"3259.5\" y=\"-647.8\" font-family=\"Helvetica,sans-Serif\" font-size=\"14.00\">open ≤ 76.665</text>\n<text text-anchor=\"start\" x=\"3268.5\" y=\"-632.8\" font-family=\"Helvetica,sans-Serif\" font-size=\"14.00\">gini = 0.083</text>\n<text text-anchor=\"start\" x=\"3264\" y=\"-617.8\" font-family=\"Helvetica,sans-Serif\" font-size=\"14.00\">samples = 23</text>\n<text text-anchor=\"start\" x=\"3259.5\" y=\"-602.8\" font-family=\"Helvetica,sans-Serif\" font-size=\"14.00\">value = [1, 22]</text>\n<text text-anchor=\"start\" x=\"3271.5\" y=\"-587.8\" font-family=\"Helvetica,sans-Serif\" font-size=\"14.00\">class = buy</text>\n</g>\n<!-- 56&#45;&gt;57 -->\n<g id=\"edge93\" class=\"edge\">\n<title>56&#45;&gt;57</title>\n<path fill=\"none\" stroke=\"black\" d=\"M3406.54,-698.91C3394.81,-689.38 3382.22,-679.15 3370.19,-669.37\"/>\n<polygon fill=\"black\" stroke=\"black\" points=\"3372.34,-666.61 3362.37,-663.02 3367.93,-672.04 3372.34,-666.61\"/>\n</g>\n<!-- 58 -->\n<g id=\"node97\" class=\"node\">\n<title>58</title>\n<path fill=\"#fae6d7\" stroke=\"black\" d=\"M3559.5,-663C3559.5,-663 3403.5,-663 3403.5,-663 3397.5,-663 3391.5,-657 3391.5,-651 3391.5,-651 3391.5,-592 3391.5,-592 3391.5,-586 3397.5,-580 3403.5,-580 3403.5,-580 3559.5,-580 3559.5,-580 3565.5,-580 3571.5,-586 3571.5,-592 3571.5,-592 3571.5,-651 3571.5,-651 3571.5,-657 3565.5,-663 3559.5,-663\"/>\n<text text-anchor=\"start\" x=\"3399.5\" y=\"-647.8\" font-family=\"Helvetica,sans-Serif\" font-size=\"14.00\">trend_aroon_ind ≤ 56.0</text>\n<text text-anchor=\"start\" x=\"3437.5\" y=\"-632.8\" font-family=\"Helvetica,sans-Serif\" font-size=\"14.00\">gini = 0.494</text>\n<text text-anchor=\"start\" x=\"3437.5\" y=\"-617.8\" font-family=\"Helvetica,sans-Serif\" font-size=\"14.00\">samples = 9</text>\n<text text-anchor=\"start\" x=\"3433\" y=\"-602.8\" font-family=\"Helvetica,sans-Serif\" font-size=\"14.00\">value = [5, 4]</text>\n<text text-anchor=\"start\" x=\"3442\" y=\"-587.8\" font-family=\"Helvetica,sans-Serif\" font-size=\"14.00\">class = sell</text>\n</g>\n<!-- 56&#45;&gt;58 -->\n<g id=\"edge96\" class=\"edge\">\n<title>56&#45;&gt;58</title>\n<path fill=\"none\" stroke=\"black\" d=\"M3465.17,-698.91C3466.96,-690.56 3468.86,-681.67 3470.71,-673.02\"/>\n<polygon fill=\"black\" stroke=\"black\" points=\"3474.17,-673.53 3472.84,-663.02 3467.33,-672.07 3474.17,-673.53\"/>\n</g>\n<!-- 63 -->\n<g id=\"node95\" class=\"node\">\n<title>63</title>\n<path fill=\"#399de5\" stroke=\"black\" d=\"M3234.5,-536.5C3234.5,-536.5 3136.5,-536.5 3136.5,-536.5 3130.5,-536.5 3124.5,-530.5 3124.5,-524.5 3124.5,-524.5 3124.5,-480.5 3124.5,-480.5 3124.5,-474.5 3130.5,-468.5 3136.5,-468.5 3136.5,-468.5 3234.5,-468.5 3234.5,-468.5 3240.5,-468.5 3246.5,-474.5 3246.5,-480.5 3246.5,-480.5 3246.5,-524.5 3246.5,-524.5 3246.5,-530.5 3240.5,-536.5 3234.5,-536.5\"/>\n<text text-anchor=\"start\" x=\"3150.5\" y=\"-521.3\" font-family=\"Helvetica,sans-Serif\" font-size=\"14.00\">gini = 0.0</text>\n<text text-anchor=\"start\" x=\"3137\" y=\"-506.3\" font-family=\"Helvetica,sans-Serif\" font-size=\"14.00\">samples = 22</text>\n<text text-anchor=\"start\" x=\"3132.5\" y=\"-491.3\" font-family=\"Helvetica,sans-Serif\" font-size=\"14.00\">value = [0, 22]</text>\n<text text-anchor=\"start\" x=\"3144.5\" y=\"-476.3\" font-family=\"Helvetica,sans-Serif\" font-size=\"14.00\">class = buy</text>\n</g>\n<!-- 57&#45;&gt;63 -->\n<g id=\"edge94\" class=\"edge\">\n<title>57&#45;&gt;63</title>\n<path fill=\"none\" stroke=\"black\" d=\"M3268.44,-579.91C3255.62,-568.1 3241.64,-555.22 3228.86,-543.45\"/>\n<polygon fill=\"black\" stroke=\"black\" points=\"3231.23,-540.87 3221.5,-536.67 3226.48,-546.02 3231.23,-540.87\"/>\n</g>\n<!-- 64 -->\n<g id=\"node96\" class=\"node\">\n<title>64</title>\n<path fill=\"#e58139\" stroke=\"black\" d=\"M3366,-536.5C3366,-536.5 3277,-536.5 3277,-536.5 3271,-536.5 3265,-530.5 3265,-524.5 3265,-524.5 3265,-480.5 3265,-480.5 3265,-474.5 3271,-468.5 3277,-468.5 3277,-468.5 3366,-468.5 3366,-468.5 3372,-468.5 3378,-474.5 3378,-480.5 3378,-480.5 3378,-524.5 3378,-524.5 3378,-530.5 3372,-536.5 3366,-536.5\"/>\n<text text-anchor=\"start\" x=\"3286.5\" y=\"-521.3\" font-family=\"Helvetica,sans-Serif\" font-size=\"14.00\">gini = 0.0</text>\n<text text-anchor=\"start\" x=\"3277.5\" y=\"-506.3\" font-family=\"Helvetica,sans-Serif\" font-size=\"14.00\">samples = 1</text>\n<text text-anchor=\"start\" x=\"3273\" y=\"-491.3\" font-family=\"Helvetica,sans-Serif\" font-size=\"14.00\">value = [1, 0]</text>\n<text text-anchor=\"start\" x=\"3282\" y=\"-476.3\" font-family=\"Helvetica,sans-Serif\" font-size=\"14.00\">class = sell</text>\n</g>\n<!-- 57&#45;&gt;64 -->\n<g id=\"edge95\" class=\"edge\">\n<title>57&#45;&gt;64</title>\n<path fill=\"none\" stroke=\"black\" d=\"M3315.62,-579.91C3316.45,-569.2 3317.34,-557.62 3318.17,-546.78\"/>\n<polygon fill=\"black\" stroke=\"black\" points=\"3321.67,-546.91 3318.95,-536.67 3314.69,-546.37 3321.67,-546.91\"/>\n</g>\n<!-- 59 -->\n<g id=\"node98\" class=\"node\">\n<title>59</title>\n<path fill=\"#e58139\" stroke=\"black\" d=\"M3516,-536.5C3516,-536.5 3427,-536.5 3427,-536.5 3421,-536.5 3415,-530.5 3415,-524.5 3415,-524.5 3415,-480.5 3415,-480.5 3415,-474.5 3421,-468.5 3427,-468.5 3427,-468.5 3516,-468.5 3516,-468.5 3522,-468.5 3528,-474.5 3528,-480.5 3528,-480.5 3528,-524.5 3528,-524.5 3528,-530.5 3522,-536.5 3516,-536.5\"/>\n<text text-anchor=\"start\" x=\"3436.5\" y=\"-521.3\" font-family=\"Helvetica,sans-Serif\" font-size=\"14.00\">gini = 0.0</text>\n<text text-anchor=\"start\" x=\"3427.5\" y=\"-506.3\" font-family=\"Helvetica,sans-Serif\" font-size=\"14.00\">samples = 5</text>\n<text text-anchor=\"start\" x=\"3423\" y=\"-491.3\" font-family=\"Helvetica,sans-Serif\" font-size=\"14.00\">value = [5, 0]</text>\n<text text-anchor=\"start\" x=\"3432\" y=\"-476.3\" font-family=\"Helvetica,sans-Serif\" font-size=\"14.00\">class = sell</text>\n</g>\n<!-- 58&#45;&gt;59 -->\n<g id=\"edge97\" class=\"edge\">\n<title>58&#45;&gt;59</title>\n<path fill=\"none\" stroke=\"black\" d=\"M3478.03,-579.91C3477.12,-569.2 3476.13,-557.62 3475.2,-546.78\"/>\n<polygon fill=\"black\" stroke=\"black\" points=\"3478.67,-546.33 3474.33,-536.67 3471.7,-546.93 3478.67,-546.33\"/>\n</g>\n<!-- 60 -->\n<g id=\"node99\" class=\"node\">\n<title>60</title>\n<path fill=\"#399de5\" stroke=\"black\" d=\"M3647,-536.5C3647,-536.5 3558,-536.5 3558,-536.5 3552,-536.5 3546,-530.5 3546,-524.5 3546,-524.5 3546,-480.5 3546,-480.5 3546,-474.5 3552,-468.5 3558,-468.5 3558,-468.5 3647,-468.5 3647,-468.5 3653,-468.5 3659,-474.5 3659,-480.5 3659,-480.5 3659,-524.5 3659,-524.5 3659,-530.5 3653,-536.5 3647,-536.5\"/>\n<text text-anchor=\"start\" x=\"3567.5\" y=\"-521.3\" font-family=\"Helvetica,sans-Serif\" font-size=\"14.00\">gini = 0.0</text>\n<text text-anchor=\"start\" x=\"3558.5\" y=\"-506.3\" font-family=\"Helvetica,sans-Serif\" font-size=\"14.00\">samples = 4</text>\n<text text-anchor=\"start\" x=\"3554\" y=\"-491.3\" font-family=\"Helvetica,sans-Serif\" font-size=\"14.00\">value = [0, 4]</text>\n<text text-anchor=\"start\" x=\"3561.5\" y=\"-476.3\" font-family=\"Helvetica,sans-Serif\" font-size=\"14.00\">class = buy</text>\n</g>\n<!-- 58&#45;&gt;60 -->\n<g id=\"edge98\" class=\"edge\">\n<title>58&#45;&gt;60</title>\n<path fill=\"none\" stroke=\"black\" d=\"M3523.48,-579.91C3535.58,-568.21 3548.77,-555.46 3560.84,-543.78\"/>\n<polygon fill=\"black\" stroke=\"black\" points=\"3563.44,-546.13 3568.2,-536.67 3558.58,-541.1 3563.44,-546.13\"/>\n</g>\n</g>\n</svg>\n",
      "text/plain": [
       "<graphviz.sources.Source at 0x7f86b0565810>"
      ]
     },
     "execution_count": 109,
     "metadata": {},
     "output_type": "execute_result"
    }
   ],
   "source": [
    "dot_data = tree.export_graphviz(clf, out_file=None,\n",
    "                        feature_names=x_train.columns,  \n",
    "                        class_names=[\"sell\", \"buy\"],\n",
    "                        filled=True, rounded=True,\n",
    "                        special_characters=True) \n",
    "graph = graphviz.Source(dot_data) \n",
    "graph"
   ]
  },
  {
   "cell_type": "code",
   "execution_count": 110,
   "metadata": {},
   "outputs": [
    {
     "name": "stdout",
     "output_type": "stream",
     "text": [
      "def getDecision(dfrow):\n",
      "    if dfrow['momentum_rsi'] <= 52.03:\n",
      "        if dfrow['trend_aroon_ind'] <= 38.0:\n",
      "            if dfrow['trend_adx'] <= 10.1:\n",
      "                return 1\n",
      "            else:  # if dfrow['trend_adx'] > 10.1\n",
      "                if dfrow['volatility_bbp'] <= 0.7:\n",
      "                    if dfrow['volume_vwap'] <= 43.27:\n",
      "                        return 1\n",
      "                    else:  # if dfrow['volume_vwap'] > 43.27\n",
      "                        if dfrow['trend_mass_index'] <= 19.69:\n",
      "                            if dfrow['adj_close'] <= 77.44:\n",
      "                                return 1\n",
      "                            else:  # if dfrow['adj_close'] > 77.44\n",
      "                                return 0\n",
      "                        else:  # if dfrow['trend_mass_index'] > 19.69\n",
      "                            if dfrow['trend_ema_fast'] <= 43.49:\n",
      "                                return 1\n",
      "                            else:  # if dfrow['trend_ema_fast'] > 43.49\n",
      "                                if dfrow['volume_mfi'] <= 70.69:\n",
      "                                    if dfrow['momentum_pvo'] <= -10.43:\n",
      "                                        if dfrow['momentum_roc'] <= -3.23:\n",
      "                                            return 1\n",
      "                                        else:  # if dfrow['momentum_roc'] > -3.23\n",
      "                                            return 0\n",
      "                                    else:  # if dfrow['momentum_pvo'] > -10.43\n",
      "                                        if dfrow['trend_stc'] <= 0.0:\n",
      "                                            return 1\n",
      "                                        else:  # if dfrow['trend_stc'] > 0.0\n",
      "                                            return 0\n",
      "                                else:  # if dfrow['volume_mfi'] > 70.69\n",
      "                                    if dfrow['low'] <= 43.75:\n",
      "                                        return 1\n",
      "                                    else:  # if dfrow['low'] > 43.75\n",
      "                                        return 0\n",
      "                else:  # if dfrow['volatility_bbp'] > 0.7\n",
      "                    if dfrow['momentum_pvo_signal'] <= -1.04:\n",
      "                        return 1\n",
      "                    else:  # if dfrow['momentum_pvo_signal'] > -1.04\n",
      "                        return 0\n",
      "        else:  # if dfrow['trend_aroon_ind'] > 38.0\n",
      "            if dfrow['trend_cci'] <= -137.76:\n",
      "                if dfrow['trend_aroon_up'] <= 46.0:\n",
      "                    return 1\n",
      "                else:  # if dfrow['trend_aroon_up'] > 46.0\n",
      "                    return 0\n",
      "            else:  # if dfrow['trend_cci'] > -137.76\n",
      "                if dfrow['trend_adx_neg'] <= 24.86:\n",
      "                    if dfrow['trend_psar_down'] <= 49.21:\n",
      "                        return 1\n",
      "                    else:  # if dfrow['trend_psar_down'] > 49.21\n",
      "                        return 0\n",
      "                else:  # if dfrow['trend_adx_neg'] > 24.86\n",
      "                    if dfrow['momentum_pvo_hist'] <= 13.99:\n",
      "                        if dfrow['trend_aroon_down'] <= 10.0:\n",
      "                            if dfrow['momentum_ao'] <= 0.64:\n",
      "                                if dfrow['volume_nvi'] <= 1514.26:\n",
      "                                    if dfrow['trend_dpo'] <= 0.16:\n",
      "                                        if dfrow['SMA_50'] <= 53.61:\n",
      "                                            return 0\n",
      "                                        else:  # if dfrow['SMA_50'] > 53.61\n",
      "                                            return 1\n",
      "                                    else:  # if dfrow['trend_dpo'] > 0.16\n",
      "                                        return 1\n",
      "                                else:  # if dfrow['volume_nvi'] > 1514.26\n",
      "                                    return 0\n",
      "                            else:  # if dfrow['momentum_ao'] > 0.64\n",
      "                                if dfrow['others_dr'] <= -2.28:\n",
      "                                    return 0\n",
      "                                else:  # if dfrow['others_dr'] > -2.28\n",
      "                                    return 1\n",
      "                        else:  # if dfrow['trend_aroon_down'] > 10.0\n",
      "                            return 1\n",
      "                    else:  # if dfrow['momentum_pvo_hist'] > 13.99\n",
      "                        return 0\n",
      "    else:  # if dfrow['momentum_rsi'] > 52.03\n",
      "        if dfrow['trend_aroon_ind'] <= 6.0:\n",
      "            if dfrow['volatility_dcp'] <= 0.82:\n",
      "                if dfrow['momentum_tsi'] <= 1.52:\n",
      "                    if dfrow['momentum_pvo_hist'] <= 3.22:\n",
      "                        if dfrow['trend_dpo'] <= 0.85:\n",
      "                            if dfrow['trend_mass_index'] <= 27.71:\n",
      "                                return 0\n",
      "                            else:  # if dfrow['trend_mass_index'] > 27.71\n",
      "                                return 1\n",
      "                        else:  # if dfrow['trend_dpo'] > 0.85\n",
      "                            return 1\n",
      "                    else:  # if dfrow['momentum_pvo_hist'] > 3.22\n",
      "                        if dfrow['open'] <= 66.48:\n",
      "                            return 1\n",
      "                        else:  # if dfrow['open'] > 66.48\n",
      "                            return 0\n",
      "                else:  # if dfrow['momentum_tsi'] > 1.52\n",
      "                    if dfrow['trend_aroon_up'] <= 38.0:\n",
      "                        if dfrow['momentum_stoch_rsi_d'] <= 0.77:\n",
      "                            if dfrow['volatility_bbp'] <= 0.52:\n",
      "                                return 1\n",
      "                            else:  # if dfrow['volatility_bbp'] > 0.52\n",
      "                                if dfrow['trend_adx_pos'] <= 18.27:\n",
      "                                    return 1\n",
      "                                else:  # if dfrow['trend_adx_pos'] > 18.27\n",
      "                                    return 0\n",
      "                        else:  # if dfrow['momentum_stoch_rsi_d'] > 0.77\n",
      "                            return 1\n",
      "                    else:  # if dfrow['trend_aroon_up'] > 38.0\n",
      "                        if dfrow['trend_mass_index'] <= 23.8:\n",
      "                            return 0\n",
      "                        else:  # if dfrow['trend_mass_index'] > 23.8\n",
      "                            return 1\n",
      "            else:  # if dfrow['volatility_dcp'] > 0.82\n",
      "                if dfrow['volatility_kcw'] <= 1.73:\n",
      "                    if dfrow['volume_vpt'] <= 431.58:\n",
      "                        if dfrow['momentum_stoch_rsi_d'] <= 0.95:\n",
      "                            return 1\n",
      "                        else:  # if dfrow['momentum_stoch_rsi_d'] > 0.95\n",
      "                            return 0\n",
      "                    else:  # if dfrow['volume_vpt'] > 431.58\n",
      "                        if dfrow['trend_adx'] <= 25.11:\n",
      "                            return 0\n",
      "                        else:  # if dfrow['trend_adx'] > 25.11\n",
      "                            if dfrow['momentum_stoch_rsi_d'] <= 0.19:\n",
      "                                return 0\n",
      "                            else:  # if dfrow['momentum_stoch_rsi_d'] > 0.19\n",
      "                                return 1\n",
      "                else:  # if dfrow['volatility_kcw'] > 1.73\n",
      "                    if dfrow['momentum_ppo'] <= 0.8:\n",
      "                        return 1\n",
      "                    else:  # if dfrow['momentum_ppo'] > 0.8\n",
      "                        return 0\n",
      "        else:  # if dfrow['trend_aroon_ind'] > 6.0\n",
      "            if dfrow['volatility_dcp'] <= 0.46:\n",
      "                if dfrow['momentum_stoch'] <= 33.55:\n",
      "                    return 1\n",
      "                else:  # if dfrow['momentum_stoch'] > 33.55\n",
      "                    return 0\n",
      "            else:  # if dfrow['volatility_dcp'] > 0.46\n",
      "                if dfrow['trend_vortex_ind_neg'] <= 0.9:\n",
      "                    return 1\n",
      "                else:  # if dfrow['trend_vortex_ind_neg'] > 0.9\n",
      "                    if dfrow['trend_vortex_ind_diff'] <= 0.03:\n",
      "                        if dfrow['open'] <= 76.67:\n",
      "                            return 1\n",
      "                        else:  # if dfrow['open'] > 76.67\n",
      "                            return 0\n",
      "                    else:  # if dfrow['trend_vortex_ind_diff'] > 0.03\n",
      "                        if dfrow['trend_aroon_ind'] <= 56.0:\n",
      "                            return 0\n",
      "                        else:  # if dfrow['trend_aroon_ind'] > 56.0\n",
      "                            return 1\n"
     ]
    }
   ],
   "source": [
    "tree_to_code(clf, x_train.columns)"
   ]
  },
  {
   "cell_type": "code",
   "execution_count": 113,
   "metadata": {},
   "outputs": [],
   "source": [
    "def getDecision(dfrow):\n",
    "    if dfrow['momentum_rsi'] <= 52.03:\n",
    "        if dfrow['trend_aroon_ind'] <= 38.0:\n",
    "            if dfrow['trend_adx'] <= 10.1:\n",
    "                return 1\n",
    "            else:  # if dfrow['trend_adx'] > 10.1\n",
    "                if dfrow['volatility_bbp'] <= 0.7:\n",
    "                    if dfrow['volume_vwap'] <= 43.27:\n",
    "                        return 1\n",
    "                    else:  # if dfrow['volume_vwap'] > 43.27\n",
    "                        if dfrow['trend_mass_index'] <= 19.69:\n",
    "                            if dfrow['adj_close'] <= 77.44:\n",
    "                                return 1\n",
    "                            else:  # if dfrow['adj_close'] > 77.44\n",
    "                                return 0\n",
    "                        else:  # if dfrow['trend_mass_index'] > 19.69\n",
    "                            if dfrow['trend_ema_fast'] <= 43.49:\n",
    "                                return 1\n",
    "                            else:  # if dfrow['trend_ema_fast'] > 43.49\n",
    "                                if dfrow['volume_mfi'] <= 70.69:\n",
    "                                    if dfrow['momentum_pvo'] <= -10.43:\n",
    "                                        if dfrow['momentum_roc'] <= -3.23:\n",
    "                                            return 1\n",
    "                                        else:  # if dfrow['momentum_roc'] > -3.23\n",
    "                                            return 0\n",
    "                                    else:  # if dfrow['momentum_pvo'] > -10.43\n",
    "                                        if dfrow['trend_stc'] <= 0.0:\n",
    "                                            return 1\n",
    "                                        else:  # if dfrow['trend_stc'] > 0.0\n",
    "                                            return 0\n",
    "                                else:  # if dfrow['volume_mfi'] > 70.69\n",
    "                                    if dfrow['low'] <= 43.75:\n",
    "                                        return 1\n",
    "                                    else:  # if dfrow['low'] > 43.75\n",
    "                                        return 0\n",
    "                else:  # if dfrow['volatility_bbp'] > 0.7\n",
    "                    if dfrow['momentum_pvo_signal'] <= -1.04:\n",
    "                        return 1\n",
    "                    else:  # if dfrow['momentum_pvo_signal'] > -1.04\n",
    "                        return 0\n",
    "        else:  # if dfrow['trend_aroon_ind'] > 38.0\n",
    "            if dfrow['trend_cci'] <= -137.76:\n",
    "                if dfrow['trend_aroon_up'] <= 46.0:\n",
    "                    return 1\n",
    "                else:  # if dfrow['trend_aroon_up'] > 46.0\n",
    "                    return 0\n",
    "            else:  # if dfrow['trend_cci'] > -137.76\n",
    "                if dfrow['trend_adx_neg'] <= 24.86:\n",
    "                    if dfrow['trend_psar_down'] <= 49.21:\n",
    "                        return 1\n",
    "                    else:  # if dfrow['trend_psar_down'] > 49.21\n",
    "                        return 0\n",
    "                else:  # if dfrow['trend_adx_neg'] > 24.86\n",
    "                    if dfrow['momentum_pvo_hist'] <= 13.99:\n",
    "                        if dfrow['trend_aroon_down'] <= 10.0:\n",
    "                            if dfrow['momentum_ao'] <= 0.64:\n",
    "                                if dfrow['volume_nvi'] <= 1514.26:\n",
    "                                    if dfrow['trend_dpo'] <= 0.16:\n",
    "                                        if dfrow['SMA_50'] <= 53.61:\n",
    "                                            return 0\n",
    "                                        else:  # if dfrow['SMA_50'] > 53.61\n",
    "                                            return 1\n",
    "                                    else:  # if dfrow['trend_dpo'] > 0.16\n",
    "                                        return 1\n",
    "                                else:  # if dfrow['volume_nvi'] > 1514.26\n",
    "                                    return 0\n",
    "                            else:  # if dfrow['momentum_ao'] > 0.64\n",
    "                                if dfrow['others_dr'] <= -2.28:\n",
    "                                    return 0\n",
    "                                else:  # if dfrow['others_dr'] > -2.28\n",
    "                                    return 1\n",
    "                        else:  # if dfrow['trend_aroon_down'] > 10.0\n",
    "                            return 1\n",
    "                    else:  # if dfrow['momentum_pvo_hist'] > 13.99\n",
    "                        return 0\n",
    "    else:  # if dfrow['momentum_rsi'] > 52.03\n",
    "        if dfrow['trend_aroon_ind'] <= 6.0:\n",
    "            if dfrow['volatility_dcp'] <= 0.82:\n",
    "                if dfrow['momentum_tsi'] <= 1.52:\n",
    "                    if dfrow['momentum_pvo_hist'] <= 3.22:\n",
    "                        if dfrow['trend_dpo'] <= 0.85:\n",
    "                            if dfrow['trend_mass_index'] <= 27.71:\n",
    "                                return 0\n",
    "                            else:  # if dfrow['trend_mass_index'] > 27.71\n",
    "                                return 1\n",
    "                        else:  # if dfrow['trend_dpo'] > 0.85\n",
    "                            return 1\n",
    "                    else:  # if dfrow['momentum_pvo_hist'] > 3.22\n",
    "                        if dfrow['open'] <= 66.48:\n",
    "                            return 1\n",
    "                        else:  # if dfrow['open'] > 66.48\n",
    "                            return 0\n",
    "                else:  # if dfrow['momentum_tsi'] > 1.52\n",
    "                    if dfrow['trend_aroon_up'] <= 38.0:\n",
    "                        if dfrow['momentum_stoch_rsi_d'] <= 0.77:\n",
    "                            if dfrow['volatility_bbp'] <= 0.52:\n",
    "                                return 1\n",
    "                            else:  # if dfrow['volatility_bbp'] > 0.52\n",
    "                                if dfrow['trend_adx_pos'] <= 18.27:\n",
    "                                    return 1\n",
    "                                else:  # if dfrow['trend_adx_pos'] > 18.27\n",
    "                                    return 0\n",
    "                        else:  # if dfrow['momentum_stoch_rsi_d'] > 0.77\n",
    "                            return 1\n",
    "                    else:  # if dfrow['trend_aroon_up'] > 38.0\n",
    "                        if dfrow['trend_mass_index'] <= 23.8:\n",
    "                            return 0\n",
    "                        else:  # if dfrow['trend_mass_index'] > 23.8\n",
    "                            return 1\n",
    "            else:  # if dfrow['volatility_dcp'] > 0.82\n",
    "                if dfrow['volatility_kcw'] <= 1.73:\n",
    "                    if dfrow['volume_vpt'] <= 431.58:\n",
    "                        if dfrow['momentum_stoch_rsi_d'] <= 0.95:\n",
    "                            return 1\n",
    "                        else:  # if dfrow['momentum_stoch_rsi_d'] > 0.95\n",
    "                            return 0\n",
    "                    else:  # if dfrow['volume_vpt'] > 431.58\n",
    "                        if dfrow['trend_adx'] <= 25.11:\n",
    "                            return 0\n",
    "                        else:  # if dfrow['trend_adx'] > 25.11\n",
    "                            if dfrow['momentum_stoch_rsi_d'] <= 0.19:\n",
    "                                return 0\n",
    "                            else:  # if dfrow['momentum_stoch_rsi_d'] > 0.19\n",
    "                                return 1\n",
    "                else:  # if dfrow['volatility_kcw'] > 1.73\n",
    "                    if dfrow['momentum_ppo'] <= 0.8:\n",
    "                        return 1\n",
    "                    else:  # if dfrow['momentum_ppo'] > 0.8\n",
    "                        return 0\n",
    "        else:  # if dfrow['trend_aroon_ind'] > 6.0\n",
    "            if dfrow['volatility_dcp'] <= 0.46:\n",
    "                if dfrow['momentum_stoch'] <= 33.55:\n",
    "                    return 1\n",
    "                else:  # if dfrow['momentum_stoch'] > 33.55\n",
    "                    return 0\n",
    "            else:  # if dfrow['volatility_dcp'] > 0.46\n",
    "                if dfrow['trend_vortex_ind_neg'] <= 0.9:\n",
    "                    return 1\n",
    "                else:  # if dfrow['trend_vortex_ind_neg'] > 0.9\n",
    "                    if dfrow['trend_vortex_ind_diff'] <= 0.03:\n",
    "                        if dfrow['open'] <= 76.67:\n",
    "                            return 1\n",
    "                        else:  # if dfrow['open'] > 76.67\n",
    "                            return 0\n",
    "                    else:  # if dfrow['trend_vortex_ind_diff'] > 0.03\n",
    "                        if dfrow['trend_aroon_ind'] <= 56.0:\n",
    "                            return 0\n",
    "                        else:  # if dfrow['trend_aroon_ind'] > 56.0\n",
    "                            return 1\n"
   ]
  },
  {
   "cell_type": "code",
   "execution_count": 112,
   "metadata": {},
   "outputs": [],
   "source": [
    "## tree\n",
    "# the decision tree with lookback 0 would have given you 19227.17$\n",
    "# or +37.98% per year\n",
    "# or 312.13$ per month\n",
    "## XGB - actually not too nice\n",
    "# the xgb with lookback 3 would have given you 3497.44$\n",
    "# or +6.91% per year\n",
    "# or 56.78$ per month\n",
    "## lightgbm \n",
    "# the lightgbm with lookback 3 would have given you 6510.10$\n",
    "# or +12.86% per year\n",
    "# or 105.68$ per month\n",
    "## tuned decision tree\n",
    "# the tuned getDecision decision tree with lookback 1 would have given you 39171.64$\n",
    "# or +77.33% per year\n",
    "# or 635.56$ per month\n",
    "## just holding\n",
    "# just holding would have given you 6582.50$\n",
    "# or 106.86$ per month\n",
    "## hyperopt tree\n",
    "# the hyperoptimized getDecision decision tree with lookback 1 would have given you 19460.34$\n",
    "# or +38.44% per year\n",
    "# or 315.91$ per month"
   ]
  }
 ],
 "metadata": {
  "kernelspec": {
   "display_name": "Python 3.10.4 ('base')",
   "language": "python",
   "name": "python3"
  },
  "language_info": {
   "codemirror_mode": {
    "name": "ipython",
    "version": 3
   },
   "file_extension": ".py",
   "mimetype": "text/x-python",
   "name": "python",
   "nbconvert_exporter": "python",
   "pygments_lexer": "ipython3",
   "version": "3.10.4"
  },
  "orig_nbformat": 4,
  "vscode": {
   "interpreter": {
    "hash": "d436247b9f043f8630513ed1454a5d25f3879733eb5c0e6e904c7c35a517ff37"
   }
  }
 },
 "nbformat": 4,
 "nbformat_minor": 2
}
