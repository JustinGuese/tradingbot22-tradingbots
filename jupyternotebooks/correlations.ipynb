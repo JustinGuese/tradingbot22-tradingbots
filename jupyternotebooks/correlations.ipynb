{
 "cells": [
  {
   "cell_type": "code",
   "execution_count": 28,
   "metadata": {},
   "outputs": [],
   "source": [
    "import pandas as pd\n",
    "from datetime import datetime, date, timedelta\n",
    "from requests import post\n",
    "import matplotlib.pyplot as plt\n",
    "import numpy as np"
   ]
  },
  {
   "cell_type": "code",
   "execution_count": 2,
   "metadata": {},
   "outputs": [],
   "source": [
    "import sys\n",
    "sys.path.insert(1, '../src/')\n",
    "from basebot import BaseBot"
   ]
  },
  {
   "cell_type": "code",
   "execution_count": 3,
   "metadata": {},
   "outputs": [
    {
     "data": {
      "text/html": [
       "<div>\n",
       "<style scoped>\n",
       "    .dataframe tbody tr th:only-of-type {\n",
       "        vertical-align: middle;\n",
       "    }\n",
       "\n",
       "    .dataframe tbody tr th {\n",
       "        vertical-align: top;\n",
       "    }\n",
       "\n",
       "    .dataframe thead th {\n",
       "        text-align: right;\n",
       "    }\n",
       "</style>\n",
       "<table border=\"1\" class=\"dataframe\">\n",
       "  <thead>\n",
       "    <tr style=\"text-align: right;\">\n",
       "      <th></th>\n",
       "      <th>ticker</th>\n",
       "      <th>open</th>\n",
       "      <th>high</th>\n",
       "      <th>low</th>\n",
       "      <th>close</th>\n",
       "      <th>volume</th>\n",
       "      <th>adj_close</th>\n",
       "      <th>volume_adi</th>\n",
       "      <th>volume_obv</th>\n",
       "      <th>volume_cmf</th>\n",
       "      <th>...</th>\n",
       "      <th>momentum_kama</th>\n",
       "      <th>others_dr</th>\n",
       "      <th>others_dlr</th>\n",
       "      <th>others_cr</th>\n",
       "      <th>SMA_3</th>\n",
       "      <th>SMA_10</th>\n",
       "      <th>SMA_50</th>\n",
       "      <th>SMA_100</th>\n",
       "      <th>SMA_200</th>\n",
       "      <th>signal</th>\n",
       "    </tr>\n",
       "    <tr>\n",
       "      <th>timestamp</th>\n",
       "      <th></th>\n",
       "      <th></th>\n",
       "      <th></th>\n",
       "      <th></th>\n",
       "      <th></th>\n",
       "      <th></th>\n",
       "      <th></th>\n",
       "      <th></th>\n",
       "      <th></th>\n",
       "      <th></th>\n",
       "      <th></th>\n",
       "      <th></th>\n",
       "      <th></th>\n",
       "      <th></th>\n",
       "      <th></th>\n",
       "      <th></th>\n",
       "      <th></th>\n",
       "      <th></th>\n",
       "      <th></th>\n",
       "      <th></th>\n",
       "      <th></th>\n",
       "    </tr>\n",
       "  </thead>\n",
       "  <tbody>\n",
       "    <tr>\n",
       "      <th>2017-09-12</th>\n",
       "      <td>IWDA.AS</td>\n",
       "      <td>42.455002</td>\n",
       "      <td>42.674999</td>\n",
       "      <td>42.455002</td>\n",
       "      <td>42.575001</td>\n",
       "      <td>53831</td>\n",
       "      <td>42.575001</td>\n",
       "      <td>4893.896985</td>\n",
       "      <td>53831.0</td>\n",
       "      <td>0.090912</td>\n",
       "      <td>...</td>\n",
       "      <td>42.575001</td>\n",
       "      <td>-25.658017</td>\n",
       "      <td>0.433580</td>\n",
       "      <td>0.434522</td>\n",
       "      <td>42.725</td>\n",
       "      <td>42.7965</td>\n",
       "      <td>44.072</td>\n",
       "      <td>None</td>\n",
       "      <td>45.01955</td>\n",
       "      <td>1.0</td>\n",
       "    </tr>\n",
       "    <tr>\n",
       "      <th>2017-09-13</th>\n",
       "      <td>IWDA.AS</td>\n",
       "      <td>42.540001</td>\n",
       "      <td>42.759998</td>\n",
       "      <td>42.445000</td>\n",
       "      <td>42.759998</td>\n",
       "      <td>73915</td>\n",
       "      <td>42.759998</td>\n",
       "      <td>78808.896985</td>\n",
       "      <td>127746.0</td>\n",
       "      <td>0.616919</td>\n",
       "      <td>...</td>\n",
       "      <td>42.649766</td>\n",
       "      <td>0.434522</td>\n",
       "      <td>0.433580</td>\n",
       "      <td>0.434522</td>\n",
       "      <td>42.725</td>\n",
       "      <td>42.7965</td>\n",
       "      <td>44.072</td>\n",
       "      <td>None</td>\n",
       "      <td>45.01955</td>\n",
       "      <td>1.0</td>\n",
       "    </tr>\n",
       "    <tr>\n",
       "      <th>2017-09-14</th>\n",
       "      <td>IWDA.AS</td>\n",
       "      <td>42.730000</td>\n",
       "      <td>42.860001</td>\n",
       "      <td>42.689999</td>\n",
       "      <td>42.840000</td>\n",
       "      <td>19521</td>\n",
       "      <td>42.840000</td>\n",
       "      <td>93736.668981</td>\n",
       "      <td>147267.0</td>\n",
       "      <td>0.636508</td>\n",
       "      <td>...</td>\n",
       "      <td>42.724116</td>\n",
       "      <td>0.187095</td>\n",
       "      <td>0.186920</td>\n",
       "      <td>0.622430</td>\n",
       "      <td>42.725</td>\n",
       "      <td>42.7965</td>\n",
       "      <td>44.072</td>\n",
       "      <td>None</td>\n",
       "      <td>45.01955</td>\n",
       "      <td>1.0</td>\n",
       "    </tr>\n",
       "    <tr>\n",
       "      <th>2017-09-15</th>\n",
       "      <td>IWDA.AS</td>\n",
       "      <td>42.674999</td>\n",
       "      <td>42.689999</td>\n",
       "      <td>42.470001</td>\n",
       "      <td>42.575001</td>\n",
       "      <td>25357</td>\n",
       "      <td>42.575001</td>\n",
       "      <td>92584.257942</td>\n",
       "      <td>121910.0</td>\n",
       "      <td>0.536335</td>\n",
       "      <td>...</td>\n",
       "      <td>42.662290</td>\n",
       "      <td>-0.618579</td>\n",
       "      <td>-0.620500</td>\n",
       "      <td>0.364061</td>\n",
       "      <td>42.725</td>\n",
       "      <td>42.7965</td>\n",
       "      <td>44.072</td>\n",
       "      <td>None</td>\n",
       "      <td>45.01955</td>\n",
       "      <td>1.0</td>\n",
       "    </tr>\n",
       "    <tr>\n",
       "      <th>2017-09-18</th>\n",
       "      <td>IWDA.AS</td>\n",
       "      <td>42.779999</td>\n",
       "      <td>42.860001</td>\n",
       "      <td>42.669998</td>\n",
       "      <td>42.730000</td>\n",
       "      <td>44301</td>\n",
       "      <td>42.730000</td>\n",
       "      <td>76263.117764</td>\n",
       "      <td>166211.0</td>\n",
       "      <td>0.351564</td>\n",
       "      <td>...</td>\n",
       "      <td>42.689158</td>\n",
       "      <td>0.364061</td>\n",
       "      <td>0.363399</td>\n",
       "      <td>0.364061</td>\n",
       "      <td>42.715</td>\n",
       "      <td>42.7965</td>\n",
       "      <td>44.072</td>\n",
       "      <td>None</td>\n",
       "      <td>45.01955</td>\n",
       "      <td>1.0</td>\n",
       "    </tr>\n",
       "  </tbody>\n",
       "</table>\n",
       "<p>5 rows × 99 columns</p>\n",
       "</div>"
      ],
      "text/plain": [
       "             ticker       open       high        low      close  volume  \\\n",
       "timestamp                                                                 \n",
       "2017-09-12  IWDA.AS  42.455002  42.674999  42.455002  42.575001   53831   \n",
       "2017-09-13  IWDA.AS  42.540001  42.759998  42.445000  42.759998   73915   \n",
       "2017-09-14  IWDA.AS  42.730000  42.860001  42.689999  42.840000   19521   \n",
       "2017-09-15  IWDA.AS  42.674999  42.689999  42.470001  42.575001   25357   \n",
       "2017-09-18  IWDA.AS  42.779999  42.860001  42.669998  42.730000   44301   \n",
       "\n",
       "            adj_close    volume_adi  volume_obv  volume_cmf  ...  \\\n",
       "timestamp                                                    ...   \n",
       "2017-09-12  42.575001   4893.896985     53831.0    0.090912  ...   \n",
       "2017-09-13  42.759998  78808.896985    127746.0    0.616919  ...   \n",
       "2017-09-14  42.840000  93736.668981    147267.0    0.636508  ...   \n",
       "2017-09-15  42.575001  92584.257942    121910.0    0.536335  ...   \n",
       "2017-09-18  42.730000  76263.117764    166211.0    0.351564  ...   \n",
       "\n",
       "            momentum_kama  others_dr  others_dlr  others_cr   SMA_3   SMA_10  \\\n",
       "timestamp                                                                      \n",
       "2017-09-12      42.575001 -25.658017    0.433580   0.434522  42.725  42.7965   \n",
       "2017-09-13      42.649766   0.434522    0.433580   0.434522  42.725  42.7965   \n",
       "2017-09-14      42.724116   0.187095    0.186920   0.622430  42.725  42.7965   \n",
       "2017-09-15      42.662290  -0.618579   -0.620500   0.364061  42.725  42.7965   \n",
       "2017-09-18      42.689158   0.364061    0.363399   0.364061  42.715  42.7965   \n",
       "\n",
       "            SMA_50  SMA_100   SMA_200  signal  \n",
       "timestamp                                      \n",
       "2017-09-12  44.072     None  45.01955     1.0  \n",
       "2017-09-13  44.072     None  45.01955     1.0  \n",
       "2017-09-14  44.072     None  45.01955     1.0  \n",
       "2017-09-15  44.072     None  45.01955     1.0  \n",
       "2017-09-18  44.072     None  45.01955     1.0  \n",
       "\n",
       "[5 rows x 99 columns]"
      ]
     },
     "execution_count": 3,
     "metadata": {},
     "output_type": "execute_result"
    }
   ],
   "source": [
    "bot = BaseBot(\"testbot\")\n",
    "\n",
    "df = bot.getData(ticker = \"IWDA.AS\", start_date = datetime(2010,1,1), technical_indicators=[\"all\"])\n",
    "df = bot.getTrend(df)\n",
    "df.head()"
   ]
  },
  {
   "cell_type": "code",
   "execution_count": 4,
   "metadata": {},
   "outputs": [
    {
     "data": {
      "text/plain": [
       " 1.0    862\n",
       "-1.0    435\n",
       "Name: signal, dtype: int64"
      ]
     },
     "execution_count": 4,
     "metadata": {},
     "output_type": "execute_result"
    }
   ],
   "source": [
    "df[\"signal\"].value_counts()"
   ]
  },
  {
   "cell_type": "markdown",
   "metadata": {},
   "source": [
    "-1 represents sell (downtrend), 1 buy (uptrend), 0 is not yet decided"
   ]
  },
  {
   "cell_type": "markdown",
   "metadata": {},
   "source": [
    "## simulate best possible scenario\n",
    "\n",
    "(following signal)"
   ]
  },
  {
   "cell_type": "code",
   "execution_count": 5,
   "metadata": {},
   "outputs": [
    {
     "data": {
      "text/plain": [
       "<AxesSubplot:xlabel='timestamp'>"
      ]
     },
     "execution_count": 5,
     "metadata": {},
     "output_type": "execute_result"
    },
    {
     "data": {
      "image/png": "[encoded data removed]",
      "text/plain": [
       "<Figure size 640x480 with 1 Axes>"
      ]
     },
     "metadata": {},
     "output_type": "display_data"
    }
   ],
   "source": [
    "df[\"adj_close\"].plot()"
   ]
  },
  {
   "cell_type": "code",
   "execution_count": 7,
   "metadata": {},
   "outputs": [
    {
     "name": "stdout",
     "output_type": "stream",
     "text": [
      "index takes 1848 days\n"
     ]
    }
   ],
   "source": [
    "## calculate timespan\n",
    "days = (df.index[-1] - df.index[0]).days\n",
    "print(\"index takes %d days\" % days)"
   ]
  },
  {
   "cell_type": "code",
   "execution_count": 9,
   "metadata": {},
   "outputs": [
    {
     "name": "stdout",
     "output_type": "stream",
     "text": [
      "you would have bought 234.87961998358358 stocks\n",
      "just holding would have given you 6582.50$\n",
      "or 106.86$ per month\n"
     ]
    }
   ],
   "source": [
    "## baseline\n",
    "startMoney = 10000\n",
    "COMMISSION = 0.00025\n",
    "nrStocks = startMoney / df.iloc[0][\"adj_close\"]\n",
    "print(\"you would have bought {} stocks\".format(nrStocks))\n",
    "baselineWin = df.iloc[-1][\"adj_close\"] * nrStocks - startMoney\n",
    "print(\"just holding would have given you %.2f$\" % baselineWin)\n",
    "baselineWinPerMonth = baselineWin / days * 30\n",
    "print(\"or %.2f$ per month\" % baselineWinPerMonth)"
   ]
  },
  {
   "cell_type": "code",
   "execution_count": 12,
   "metadata": {},
   "outputs": [
    {
     "name": "stdout",
     "output_type": "stream",
     "text": [
      "following the signal would have given you 24914.74$\n",
      "or 404.46$ per month\n"
     ]
    },
    {
     "data": {
      "text/plain": [
       "[<matplotlib.lines.Line2D at 0x7fc0e9ceed10>]"
      ]
     },
     "execution_count": 12,
     "metadata": {},
     "output_type": "execute_result"
    },
    {
     "data": {
      "image/png": "[encoded data removed]",
      "text/plain": [
       "<Figure size 640x480 with 1 Axes>"
      ]
     },
     "metadata": {},
     "output_type": "display_data"
    }
   ],
   "source": [
    "## next check if we follow signal what the best scenario would have been\n",
    "money = startMoney\n",
    "nrStocks = 0\n",
    "bestPortfolio = []\n",
    "for i in range(len(df)):\n",
    "    if df.iloc[i][\"signal\"] == 1 and money > 0 and nrStocks == 0:\n",
    "        amount = money / df.iloc[i][\"adj_close\"] * .99\n",
    "        cost = amount * df.iloc[i][\"adj_close\"] * (1 + COMMISSION)\n",
    "        money -= cost\n",
    "        nrStocks += amount\n",
    "    elif df.iloc[i][\"signal\"] == -1 and nrStocks > 0:\n",
    "        money += nrStocks * df.iloc[i][\"adj_close\"] * (1 - COMMISSION)\n",
    "        nrStocks = 0\n",
    "    bestPortfolio.append(money + nrStocks * df.iloc[i][\"adj_close\"])\n",
    "# last day sell nrStocks\n",
    "money += nrStocks * df.iloc[-1][\"adj_close\"] * (1 - COMMISSION)\n",
    "nrStocks = 0\n",
    "\n",
    "win = money - startMoney\n",
    "print(\"following the signal would have given you %.2f$\" % win)\n",
    "winPerMonth = win / days * 30\n",
    "print(\"or %.2f$ per month\" % winPerMonth)\n",
    "plt.plot(bestPortfolio)"
   ]
  },
  {
   "cell_type": "markdown",
   "metadata": {},
   "source": [
    "## find correlations"
   ]
  },
  {
   "cell_type": "code",
   "execution_count": 13,
   "metadata": {},
   "outputs": [
    {
     "data": {
      "text/plain": [
       "open      -0.012703\n",
       "high      -0.017628\n",
       "low       -0.002791\n",
       "close     -0.007943\n",
       "volume    -0.189934\n",
       "             ...   \n",
       "SMA_3     -0.018456\n",
       "SMA_10    -0.050470\n",
       "SMA_50    -0.134352\n",
       "SMA_200   -0.155830\n",
       "signal     1.000000\n",
       "Name: signal, Length: 97, dtype: float64"
      ]
     },
     "execution_count": 13,
     "metadata": {},
     "output_type": "execute_result"
    }
   ],
   "source": [
    "df.corr()[\"signal\"]"
   ]
  },
  {
   "cell_type": "code",
   "execution_count": 31,
   "metadata": {},
   "outputs": [
    {
     "name": "stdout",
     "output_type": "stream",
     "text": [
      "decision tree scores:  0.8653846153846154\n"
     ]
    }
   ],
   "source": [
    "## try to get some observations with decision tree\n",
    "from sklearn import tree\n",
    "from sklearn.model_selection import train_test_split\n",
    "x_train, x_test, y_train, y_test = train_test_split(  df.drop([\"signal\", \"ticker\"], axis = 1).fillna(method=\"bfill\").fillna(0), df[\"signal\"], test_size=0.2)\n",
    "clf = tree.DecisionTreeClassifier()\n",
    "clf.fit(x_train, y_train)\n",
    "scr = clf.score(x_test, y_test)\n",
    "print(\"decision tree scores: \", scr)\n",
    "pred = clf.predict(df.drop([\"signal\", \"ticker\"], axis = 1).fillna(method=\"bfill\").fillna(0))\n",
    "# tree.plot_tree(clf)"
   ]
  },
  {
   "cell_type": "code",
   "execution_count": 32,
   "metadata": {},
   "outputs": [],
   "source": [
    "import graphviz \n",
    "dot_data = tree.export_graphviz(clf, out_file=None,\n",
    "                        feature_names=x_train.columns,  \n",
    "                        class_names=[\"sell\", \"buy\"],\n",
    "                        filled=True, rounded=True,\n",
    "                        special_characters=True) \n",
    "graph = graphviz.Source(dot_data) \n",
    "# graph "
   ]
  },
  {
   "cell_type": "markdown",
   "metadata": {},
   "source": [
    "## simulate one run with training data"
   ]
  },
  {
   "cell_type": "code",
   "execution_count": 37,
   "metadata": {},
   "outputs": [
    {
     "name": "stdout",
     "output_type": "stream",
     "text": [
      "the decision tree with lookback 0 would have given you 19227.17$\n",
      "or +37.98% per year\n",
      "or 312.13$ per month\n"
     ]
    },
    {
     "data": {
      "text/plain": [
       "[<matplotlib.lines.Line2D at 0x7fc0e15336d0>]"
      ]
     },
     "execution_count": 37,
     "metadata": {},
     "output_type": "execute_result"
    },
    {
     "data": {
      "image/png": "[encoded data removed]",
      "text/plain": [
       "<Figure size 640x480 with 1 Axes>"
      ]
     },
     "metadata": {},
     "output_type": "display_data"
    }
   ],
   "source": [
    "\n",
    "\n",
    "\n",
    "bestLookback = -1\n",
    "bestLookbackWin = -9999\n",
    "bestLookbackPortfolio = []\n",
    "for lookback in [0]: # range(0, 10):\n",
    "    money = startMoney\n",
    "    nrStocks = 0\n",
    "    portfolio = []\n",
    "    for i in range(lookback, len(df)):\n",
    "        # prednow = np.median(pred[i-lookback:i])\n",
    "        prednow = pred[i]\n",
    "        if prednow == 1 and nrStocks == 0 and money > 10:\n",
    "            # buy\n",
    "            howmany = money / df.iloc[i][\"adj_close\"] * .99\n",
    "            cost = howmany * df.iloc[i][\"adj_close\"] * (1 + COMMISSION)\n",
    "            money -= cost\n",
    "            nrStocks += howmany\n",
    "        elif prednow == -1 and nrStocks > 0:\n",
    "            money += nrStocks * df.iloc[i][\"adj_close\"] * (1 - COMMISSION)\n",
    "            nrStocks = 0\n",
    "        portfolio.append(money + nrStocks * df.iloc[i][\"adj_close\"])\n",
    "    # last day sell\n",
    "    money += nrStocks * df.iloc[-1][\"adj_close\"] * (1 - COMMISSION)\n",
    "    win = money - startMoney\n",
    "    if win > bestLookbackWin:\n",
    "        bestLookback = lookback\n",
    "        bestLookbackWin = win\n",
    "        bestLookbackPortfolio = portfolio\n",
    "\n",
    "print(\"the decision tree with lookback %d would have given you %.2f$\" % (bestLookback, bestLookbackWin))\n",
    "winPct = bestLookbackWin / startMoney * 100\n",
    "winPctYear = winPct / days * 365\n",
    "print(\"or +%.2f%% per year\" % winPctYear)\n",
    "winPerMonth = bestLookbackWin / days * 30\n",
    "print(\"or %.2f$ per month\" % winPerMonth)\n",
    "plt.plot(bestLookbackPortfolio)\n",
    "# lookback of 1\n",
    "# the decision tree would have given you 19937.82$\n",
    "# or 323.67$ per month"
   ]
  },
  {
   "cell_type": "markdown",
   "metadata": {},
   "source": [
    "## try the same with xgb"
   ]
  },
  {
   "cell_type": "code",
   "execution_count": 41,
   "metadata": {},
   "outputs": [],
   "source": [
    "# xgb doesnt like -1\n",
    "y_train = y_train.replace(-1, 0)\n",
    "y_test = y_test.replace(-1, 0)"
   ]
  },
  {
   "cell_type": "code",
   "execution_count": 47,
   "metadata": {},
   "outputs": [],
   "source": [
    "import xgboost as xgb\n",
    "from sklearn import metrics\n",
    "\n",
    "\n",
    "clf = xgb.XGBClassifier(n_jobs = -1)\n",
    "clf.fit(x_train, y_train)\n",
    "# print(clf)\n",
    "predicted_y = clf.predict(x_test)\n"
   ]
  },
  {
   "cell_type": "code",
   "execution_count": 48,
   "metadata": {},
   "outputs": [
    {
     "name": "stdout",
     "output_type": "stream",
     "text": [
      "              precision    recall  f1-score   support\n",
      "\n",
      "         0.0       0.86      0.80      0.83        87\n",
      "         1.0       0.91      0.94      0.92       173\n",
      "\n",
      "    accuracy                           0.89       260\n",
      "   macro avg       0.88      0.87      0.88       260\n",
      "weighted avg       0.89      0.89      0.89       260\n",
      "\n",
      "[[ 70  17]\n",
      " [ 11 162]]\n"
     ]
    }
   ],
   "source": [
    "print(metrics.classification_report(y_test, predicted_y))\n",
    "print(metrics.confusion_matrix(y_test, predicted_y))\n",
    "\n"
   ]
  },
  {
   "cell_type": "code",
   "execution_count": 51,
   "metadata": {},
   "outputs": [
    {
     "data": {
      "text/plain": [
       "<AxesSubplot:title={'center':'Feature importance'}, xlabel='F score', ylabel='Features'>"
      ]
     },
     "execution_count": 51,
     "metadata": {},
     "output_type": "execute_result"
    },
    {
     "data": {
      "image/png": "[encoded data removed]",
      "text/plain": [
       "<Figure size 640x480 with 1 Axes>"
      ]
     },
     "metadata": {},
     "output_type": "display_data"
    }
   ],
   "source": [
    "xgb.plot_importance(clf, max_num_features=15)"
   ]
  },
  {
   "cell_type": "code",
   "execution_count": 52,
   "metadata": {},
   "outputs": [],
   "source": [
    "preds = clf.predict(df.drop([\"signal\", \"ticker\"], axis = 1).fillna(method=\"bfill\").fillna(0))"
   ]
  },
  {
   "cell_type": "code",
   "execution_count": 58,
   "metadata": {},
   "outputs": [
    {
     "name": "stdout",
     "output_type": "stream",
     "text": [
      "the XGB with lookback 3 would have given you 6510.10$\n",
      "or +12.86% per year\n",
      "or 105.68$ per month\n"
     ]
    },
    {
     "data": {
      "text/plain": [
       "[<matplotlib.lines.Line2D at 0x7fc0a03bc3d0>]"
      ]
     },
     "execution_count": 58,
     "metadata": {},
     "output_type": "execute_result"
    },
    {
     "data": {
      "image/png": "[encoded data removed]",
      "text/plain": [
       "<Figure size 640x480 with 1 Axes>"
      ]
     },
     "metadata": {},
     "output_type": "display_data"
    }
   ],
   "source": [
    "## do the same dance as with tree\n",
    "\n",
    "\n",
    "bestLookback = -1\n",
    "bestLookbackWin = -9999\n",
    "bestLookbackPortfolio = []\n",
    "for lookback in range(0, 10):\n",
    "    money = startMoney\n",
    "    nrStocks = 0\n",
    "    portfolio = []\n",
    "    for i in range(lookback, len(df)):\n",
    "        prednow = np.median(preds[i-lookback:i])\n",
    "        # prednow = preds[i]\n",
    "        if prednow == 1 and nrStocks == 0 and money > 10:\n",
    "            # buy\n",
    "            howmany = money / df.iloc[i][\"adj_close\"] * .99\n",
    "            cost = howmany * df.iloc[i][\"adj_close\"] * (1 + COMMISSION)\n",
    "            money -= cost\n",
    "            nrStocks += howmany\n",
    "        elif prednow == -1 and nrStocks > 0:\n",
    "            money += nrStocks * df.iloc[i][\"adj_close\"] * (1 - COMMISSION)\n",
    "            nrStocks = 0\n",
    "        portfolio.append(money + nrStocks * df.iloc[i][\"adj_close\"])\n",
    "    # last day sell\n",
    "    money += nrStocks * df.iloc[-1][\"adj_close\"] * (1 - COMMISSION)\n",
    "    win = money - startMoney\n",
    "    if win > bestLookbackWin:\n",
    "        bestLookback = lookback\n",
    "        bestLookbackWin = win\n",
    "        bestLookbackPortfolio = portfolio\n",
    "\n",
    "print(\"the XGB with lookback %d would have given you %.2f$\" % (bestLookback, bestLookbackWin))\n",
    "winPct = bestLookbackWin / startMoney * 100\n",
    "winPctYear = winPct / days * 365\n",
    "print(\"or +%.2f%% per year\" % winPctYear)\n",
    "winPerMonth = bestLookbackWin / days * 30\n",
    "print(\"or %.2f$ per month\" % winPerMonth)\n",
    "plt.plot(bestLookbackPortfolio)\n",
    "## tree\n",
    "# the decision tree with lookback 0 would have given you 19227.17$\n",
    "# or +37.98% per year\n",
    "# or 312.13$ per month\n",
    "## XGB - actually not too nice\n",
    "# the XGB with lookback 3 would have given you 6510.10$\n",
    "# or +12.86% per year\n",
    "# or 105.68$ per month\n"
   ]
  },
  {
   "cell_type": "markdown",
   "metadata": {},
   "source": [
    "## lgbm classifer"
   ]
  },
  {
   "cell_type": "code",
   "execution_count": 59,
   "metadata": {},
   "outputs": [
    {
     "name": "stdout",
     "output_type": "stream",
     "text": [
      "              precision    recall  f1-score   support\n",
      "\n",
      "         0.0       0.86      0.84      0.85        87\n",
      "         1.0       0.92      0.93      0.93       173\n",
      "\n",
      "    accuracy                           0.90       260\n",
      "   macro avg       0.89      0.88      0.89       260\n",
      "weighted avg       0.90      0.90      0.90       260\n",
      "\n",
      "[[ 73  14]\n",
      " [ 12 161]]\n"
     ]
    }
   ],
   "source": [
    "import lightgbm as ltb\n",
    "clf = ltb.LGBMClassifier()\n",
    "clf.fit(x_train, y_train)\n",
    "predicted_y = clf.predict(x_test)\n",
    "print(metrics.classification_report(y_test, predicted_y))\n",
    "print(metrics.confusion_matrix(y_test, predicted_y))"
   ]
  },
  {
   "cell_type": "code",
   "execution_count": 60,
   "metadata": {},
   "outputs": [],
   "source": [
    "preds = clf.predict(df.drop([\"signal\", \"ticker\"], axis = 1).fillna(method=\"bfill\").fillna(0))"
   ]
  },
  {
   "cell_type": "code",
   "execution_count": 62,
   "metadata": {},
   "outputs": [
    {
     "name": "stdout",
     "output_type": "stream",
     "text": [
      "the lightgbm with lookback 0 would have given you 6510.10$\n",
      "or +12.86% per year\n",
      "or 105.68$ per month\n"
     ]
    },
    {
     "data": {
      "text/plain": [
       "[<matplotlib.lines.Line2D at 0x7fc0a0279c90>]"
      ]
     },
     "execution_count": 62,
     "metadata": {},
     "output_type": "execute_result"
    },
    {
     "data": {
      "image/png": "[encoded data removed]",
      "text/plain": [
       "<Figure size 640x480 with 1 Axes>"
      ]
     },
     "metadata": {},
     "output_type": "display_data"
    }
   ],
   "source": [
    "## do the same dance as with xgb\n",
    "\n",
    "\n",
    "bestLookback = -1\n",
    "bestLookbackWin = -9999\n",
    "bestLookbackPortfolio = []\n",
    "for lookback in range(0, 10):\n",
    "    money = startMoney\n",
    "    nrStocks = 0\n",
    "    portfolio = []\n",
    "    for i in range(lookback, len(df)):\n",
    "        prednow = np.median(preds[i-lookback:i])\n",
    "        # prednow = preds[i]\n",
    "        if prednow == 1 and nrStocks == 0 and money > 10:\n",
    "            # buy\n",
    "            howmany = money / df.iloc[i][\"adj_close\"] * .99\n",
    "            cost = howmany * df.iloc[i][\"adj_close\"] * (1 + COMMISSION)\n",
    "            money -= cost\n",
    "            nrStocks += howmany\n",
    "        elif prednow == -1 and nrStocks > 0:\n",
    "            money += nrStocks * df.iloc[i][\"adj_close\"] * (1 - COMMISSION)\n",
    "            nrStocks = 0\n",
    "        portfolio.append(money + nrStocks * df.iloc[i][\"adj_close\"])\n",
    "    # last day sell\n",
    "    money += nrStocks * df.iloc[-1][\"adj_close\"] * (1 - COMMISSION)\n",
    "    win = money - startMoney\n",
    "    if win > bestLookbackWin:\n",
    "        bestLookback = lookback\n",
    "        bestLookbackWin = win\n",
    "        bestLookbackPortfolio = portfolio\n",
    "\n",
    "print(\"the lightgbm with lookback %d would have given you %.2f$\" % (bestLookback, bestLookbackWin))\n",
    "winPct = bestLookbackWin / startMoney * 100\n",
    "winPctYear = winPct / days * 365\n",
    "print(\"or +%.2f%% per year\" % winPctYear)\n",
    "winPerMonth = bestLookbackWin / days * 30\n",
    "print(\"or %.2f$ per month\" % winPerMonth)\n",
    "plt.plot(bestLookbackPortfolio)\n",
    "## tree\n",
    "# the decision tree with lookback 0 would have given you 19227.17$\n",
    "# or +37.98% per year\n",
    "# or 312.13$ per month\n",
    "## XGB - actually not too nice\n",
    "# the xgb with lookback 3 would have given you 3497.44$\n",
    "# or +6.91% per year\n",
    "# or 56.78$ per month\n",
    "## lightgbm \n",
    "# the lightgbm with lookback 3 would have given you 6510.10$\n",
    "# or +12.86% per year\n",
    "# or 105.68$ per month"
   ]
  },
  {
   "cell_type": "markdown",
   "metadata": {},
   "source": [
    "## linear SVC with pipeline"
   ]
  },
  {
   "cell_type": "code",
   "execution_count": 64,
   "metadata": {},
   "outputs": [
    {
     "name": "stdout",
     "output_type": "stream",
     "text": [
      "              precision    recall  f1-score   support\n",
      "\n",
      "         0.0       0.89      0.78      0.83        87\n",
      "         1.0       0.90      0.95      0.92       173\n",
      "\n",
      "    accuracy                           0.90       260\n",
      "   macro avg       0.90      0.87      0.88       260\n",
      "weighted avg       0.90      0.90      0.89       260\n",
      "\n",
      "[[ 68  19]\n",
      " [  8 165]]\n"
     ]
    },
    {
     "name": "stderr",
     "output_type": "stream",
     "text": [
      "/home/jguese/miniconda3/lib/python3.10/site-packages/sklearn/svm/_base.py:1225: ConvergenceWarning: Liblinear failed to converge, increase the number of iterations.\n",
      "  warnings.warn(\n"
     ]
    }
   ],
   "source": [
    "from sklearn.svm import LinearSVC\n",
    "from sklearn.pipeline import make_pipeline\n",
    "from sklearn.preprocessing import StandardScaler\n",
    "clf = make_pipeline(StandardScaler(),LinearSVC())\n",
    "\n",
    "clf.fit(x_train, y_train)\n",
    "\n",
    "predicted_y = clf.predict(x_test)\n",
    "print(metrics.classification_report(y_test, predicted_y))\n",
    "print(metrics.confusion_matrix(y_test, predicted_y))"
   ]
  },
  {
   "cell_type": "code",
   "execution_count": 67,
   "metadata": {},
   "outputs": [
    {
     "name": "stderr",
     "output_type": "stream",
     "text": [
      "/home/jguese/miniconda3/lib/python3.10/site-packages/sklearn/svm/_base.py:1225: ConvergenceWarning: Liblinear failed to converge, increase the number of iterations.\n",
      "  warnings.warn(\n",
      "/home/jguese/miniconda3/lib/python3.10/site-packages/sklearn/svm/_base.py:1225: ConvergenceWarning: Liblinear failed to converge, increase the number of iterations.\n",
      "  warnings.warn(\n",
      "/home/jguese/miniconda3/lib/python3.10/site-packages/sklearn/svm/_base.py:1225: ConvergenceWarning: Liblinear failed to converge, increase the number of iterations.\n",
      "  warnings.warn(\n",
      "/home/jguese/miniconda3/lib/python3.10/site-packages/sklearn/svm/_base.py:1225: ConvergenceWarning: Liblinear failed to converge, increase the number of iterations.\n",
      "  warnings.warn(\n",
      "/home/jguese/miniconda3/lib/python3.10/site-packages/sklearn/svm/_base.py:1225: ConvergenceWarning: Liblinear failed to converge, increase the number of iterations.\n",
      "  warnings.warn(\n",
      "/home/jguese/miniconda3/lib/python3.10/site-packages/sklearn/svm/_base.py:1225: ConvergenceWarning: Liblinear failed to converge, increase the number of iterations.\n",
      "  warnings.warn(\n",
      "/home/jguese/miniconda3/lib/python3.10/site-packages/sklearn/svm/_base.py:1225: ConvergenceWarning: Liblinear failed to converge, increase the number of iterations.\n",
      "  warnings.warn(\n",
      "/home/jguese/miniconda3/lib/python3.10/site-packages/sklearn/svm/_base.py:1225: ConvergenceWarning: Liblinear failed to converge, increase the number of iterations.\n",
      "  warnings.warn(\n",
      "/home/jguese/miniconda3/lib/python3.10/site-packages/sklearn/svm/_base.py:1225: ConvergenceWarning: Liblinear failed to converge, increase the number of iterations.\n",
      "  warnings.warn(\n",
      "/home/jguese/miniconda3/lib/python3.10/site-packages/sklearn/svm/_base.py:1225: ConvergenceWarning: Liblinear failed to converge, increase the number of iterations.\n",
      "  warnings.warn(\n",
      "/home/jguese/miniconda3/lib/python3.10/site-packages/sklearn/svm/_base.py:1225: ConvergenceWarning: Liblinear failed to converge, increase the number of iterations.\n",
      "  warnings.warn(\n",
      "/home/jguese/miniconda3/lib/python3.10/site-packages/sklearn/svm/_base.py:1225: ConvergenceWarning: Liblinear failed to converge, increase the number of iterations.\n",
      "  warnings.warn(\n",
      "/home/jguese/miniconda3/lib/python3.10/site-packages/sklearn/svm/_base.py:1225: ConvergenceWarning: Liblinear failed to converge, increase the number of iterations.\n",
      "  warnings.warn(\n",
      "/home/jguese/miniconda3/lib/python3.10/site-packages/sklearn/svm/_base.py:1225: ConvergenceWarning: Liblinear failed to converge, increase the number of iterations.\n",
      "  warnings.warn(\n",
      "/home/jguese/miniconda3/lib/python3.10/site-packages/sklearn/svm/_base.py:1225: ConvergenceWarning: Liblinear failed to converge, increase the number of iterations.\n",
      "  warnings.warn(\n",
      "/home/jguese/miniconda3/lib/python3.10/site-packages/sklearn/svm/_base.py:1225: ConvergenceWarning: Liblinear failed to converge, increase the number of iterations.\n",
      "  warnings.warn(\n",
      "/home/jguese/miniconda3/lib/python3.10/site-packages/sklearn/svm/_base.py:1225: ConvergenceWarning: Liblinear failed to converge, increase the number of iterations.\n",
      "  warnings.warn(\n",
      "/home/jguese/miniconda3/lib/python3.10/site-packages/sklearn/svm/_base.py:1225: ConvergenceWarning: Liblinear failed to converge, increase the number of iterations.\n",
      "  warnings.warn(\n",
      "/home/jguese/miniconda3/lib/python3.10/site-packages/sklearn/svm/_base.py:1225: ConvergenceWarning: Liblinear failed to converge, increase the number of iterations.\n",
      "  warnings.warn(\n",
      "/home/jguese/miniconda3/lib/python3.10/site-packages/sklearn/svm/_base.py:1225: ConvergenceWarning: Liblinear failed to converge, increase the number of iterations.\n",
      "  warnings.warn(\n",
      "/home/jguese/miniconda3/lib/python3.10/site-packages/sklearn/svm/_base.py:1225: ConvergenceWarning: Liblinear failed to converge, increase the number of iterations.\n",
      "  warnings.warn(\n",
      "/home/jguese/miniconda3/lib/python3.10/site-packages/sklearn/svm/_base.py:1225: ConvergenceWarning: Liblinear failed to converge, increase the number of iterations.\n",
      "  warnings.warn(\n",
      "/home/jguese/miniconda3/lib/python3.10/site-packages/sklearn/svm/_base.py:1225: ConvergenceWarning: Liblinear failed to converge, increase the number of iterations.\n",
      "  warnings.warn(\n",
      "/home/jguese/miniconda3/lib/python3.10/site-packages/sklearn/svm/_base.py:1225: ConvergenceWarning: Liblinear failed to converge, increase the number of iterations.\n",
      "  warnings.warn(\n",
      "/home/jguese/miniconda3/lib/python3.10/site-packages/sklearn/svm/_base.py:1225: ConvergenceWarning: Liblinear failed to converge, increase the number of iterations.\n",
      "  warnings.warn(\n",
      "/home/jguese/miniconda3/lib/python3.10/site-packages/sklearn/svm/_base.py:1225: ConvergenceWarning: Liblinear failed to converge, increase the number of iterations.\n",
      "  warnings.warn(\n",
      "/home/jguese/miniconda3/lib/python3.10/site-packages/sklearn/svm/_base.py:1225: ConvergenceWarning: Liblinear failed to converge, increase the number of iterations.\n",
      "  warnings.warn(\n",
      "/home/jguese/miniconda3/lib/python3.10/site-packages/sklearn/svm/_base.py:1225: ConvergenceWarning: Liblinear failed to converge, increase the number of iterations.\n",
      "  warnings.warn(\n",
      "/home/jguese/miniconda3/lib/python3.10/site-packages/sklearn/svm/_base.py:1225: ConvergenceWarning: Liblinear failed to converge, increase the number of iterations.\n",
      "  warnings.warn(\n",
      "/home/jguese/miniconda3/lib/python3.10/site-packages/sklearn/svm/_base.py:1225: ConvergenceWarning: Liblinear failed to converge, increase the number of iterations.\n",
      "  warnings.warn(\n",
      "/home/jguese/miniconda3/lib/python3.10/site-packages/sklearn/svm/_base.py:1225: ConvergenceWarning: Liblinear failed to converge, increase the number of iterations.\n",
      "  warnings.warn(\n"
     ]
    },
    {
     "name": "stdout",
     "output_type": "stream",
     "text": [
      "{'SVC__C': 0.01}\n",
      "              precision    recall  f1-score   support\n",
      "\n",
      "         0.0       0.87      0.79      0.83        87\n",
      "         1.0       0.90      0.94      0.92       173\n",
      "\n",
      "    accuracy                           0.89       260\n",
      "   macro avg       0.89      0.87      0.88       260\n",
      "weighted avg       0.89      0.89      0.89       260\n",
      "\n",
      "[[ 69  18]\n",
      " [ 10 163]]\n"
     ]
    },
    {
     "name": "stderr",
     "output_type": "stream",
     "text": [
      "/home/jguese/miniconda3/lib/python3.10/site-packages/sklearn/svm/_base.py:1225: ConvergenceWarning: Liblinear failed to converge, increase the number of iterations.\n",
      "  warnings.warn(\n",
      "/home/jguese/miniconda3/lib/python3.10/site-packages/sklearn/svm/_base.py:1225: ConvergenceWarning: Liblinear failed to converge, increase the number of iterations.\n",
      "  warnings.warn(\n",
      "/home/jguese/miniconda3/lib/python3.10/site-packages/sklearn/svm/_base.py:1225: ConvergenceWarning: Liblinear failed to converge, increase the number of iterations.\n",
      "  warnings.warn(\n",
      "/home/jguese/miniconda3/lib/python3.10/site-packages/sklearn/svm/_base.py:1225: ConvergenceWarning: Liblinear failed to converge, increase the number of iterations.\n",
      "  warnings.warn(\n",
      "/home/jguese/miniconda3/lib/python3.10/site-packages/sklearn/svm/_base.py:1225: ConvergenceWarning: Liblinear failed to converge, increase the number of iterations.\n",
      "  warnings.warn(\n"
     ]
    }
   ],
   "source": [
    "## hyperparameter tuning\n",
    "from sklearn.model_selection import GridSearchCV\n",
    "from sklearn.pipeline import Pipeline\n",
    "\n",
    "param_grid = {'SVC__C':np.arange(0.01,100,10)}\n",
    "\n",
    "SVCpipe = Pipeline([('scale', StandardScaler()),\n",
    "                ('SVC',LinearSVC())])\n",
    "linearSVC = GridSearchCV(SVCpipe,param_grid,cv=4,return_train_score=True,n_jobs = -1)\n",
    "linearSVC.fit(x_train,y_train)\n",
    "print(linearSVC.best_params_)\n",
    "bestlinearSVC = linearSVC.best_estimator_\n",
    "\n",
    "predicted_y = bestlinearSVC.predict(x_test)\n",
    "print(metrics.classification_report(y_test, predicted_y))\n",
    "print(metrics.confusion_matrix(y_test, predicted_y))"
   ]
  },
  {
   "cell_type": "markdown",
   "metadata": {},
   "source": [
    "# now something interesting, what if we use the same for another stock :o?"
   ]
  },
  {
   "cell_type": "code",
   "execution_count": 68,
   "metadata": {},
   "outputs": [
    {
     "data": {
      "text/html": [
       "<style>#sk-container-id-1 {color: black;background-color: white;}#sk-container-id-1 pre{padding: 0;}#sk-container-id-1 div.sk-toggleable {background-color: white;}#sk-container-id-1 label.sk-toggleable__label {cursor: pointer;display: block;width: 100%;margin-bottom: 0;padding: 0.3em;box-sizing: border-box;text-align: center;}#sk-container-id-1 label.sk-toggleable__label-arrow:before {content: \"▸\";float: left;margin-right: 0.25em;color: #696969;}#sk-container-id-1 label.sk-toggleable__label-arrow:hover:before {color: black;}#sk-container-id-1 div.sk-estimator:hover label.sk-toggleable__label-arrow:before {color: black;}#sk-container-id-1 div.sk-toggleable__content {max-height: 0;max-width: 0;overflow: hidden;text-align: left;background-color: #f0f8ff;}#sk-container-id-1 div.sk-toggleable__content pre {margin: 0.2em;color: black;border-radius: 0.25em;background-color: #f0f8ff;}#sk-container-id-1 input.sk-toggleable__control:checked~div.sk-toggleable__content {max-height: 200px;max-width: 100%;overflow: auto;}#sk-container-id-1 input.sk-toggleable__control:checked~label.sk-toggleable__label-arrow:before {content: \"▾\";}#sk-container-id-1 div.sk-estimator input.sk-toggleable__control:checked~label.sk-toggleable__label {background-color: #d4ebff;}#sk-container-id-1 div.sk-label input.sk-toggleable__control:checked~label.sk-toggleable__label {background-color: #d4ebff;}#sk-container-id-1 input.sk-hidden--visually {border: 0;clip: rect(1px 1px 1px 1px);clip: rect(1px, 1px, 1px, 1px);height: 1px;margin: -1px;overflow: hidden;padding: 0;position: absolute;width: 1px;}#sk-container-id-1 div.sk-estimator {font-family: monospace;background-color: #f0f8ff;border: 1px dotted black;border-radius: 0.25em;box-sizing: border-box;margin-bottom: 0.5em;}#sk-container-id-1 div.sk-estimator:hover {background-color: #d4ebff;}#sk-container-id-1 div.sk-parallel-item::after {content: \"\";width: 100%;border-bottom: 1px solid gray;flex-grow: 1;}#sk-container-id-1 div.sk-label:hover label.sk-toggleable__label {background-color: #d4ebff;}#sk-container-id-1 div.sk-serial::before {content: \"\";position: absolute;border-left: 1px solid gray;box-sizing: border-box;top: 0;bottom: 0;left: 50%;z-index: 0;}#sk-container-id-1 div.sk-serial {display: flex;flex-direction: column;align-items: center;background-color: white;padding-right: 0.2em;padding-left: 0.2em;position: relative;}#sk-container-id-1 div.sk-item {position: relative;z-index: 1;}#sk-container-id-1 div.sk-parallel {display: flex;align-items: stretch;justify-content: center;background-color: white;position: relative;}#sk-container-id-1 div.sk-item::before, #sk-container-id-1 div.sk-parallel-item::before {content: \"\";position: absolute;border-left: 1px solid gray;box-sizing: border-box;top: 0;bottom: 0;left: 50%;z-index: -1;}#sk-container-id-1 div.sk-parallel-item {display: flex;flex-direction: column;z-index: 1;position: relative;background-color: white;}#sk-container-id-1 div.sk-parallel-item:first-child::after {align-self: flex-end;width: 50%;}#sk-container-id-1 div.sk-parallel-item:last-child::after {align-self: flex-start;width: 50%;}#sk-container-id-1 div.sk-parallel-item:only-child::after {width: 0;}#sk-container-id-1 div.sk-dashed-wrapped {border: 1px dashed gray;margin: 0 0.4em 0.5em 0.4em;box-sizing: border-box;padding-bottom: 0.4em;background-color: white;}#sk-container-id-1 div.sk-label label {font-family: monospace;font-weight: bold;display: inline-block;line-height: 1.2em;}#sk-container-id-1 div.sk-label-container {text-align: center;}#sk-container-id-1 div.sk-container {/* jupyter's `normalize.less` sets `[hidden] { display: none; }` but bootstrap.min.css set `[hidden] { display: none !important; }` so we also need the `!important` here to be able to override the default hidden behavior on the sphinx rendered scikit-learn.org. See: https://github.com/scikit-learn/scikit-learn/issues/21755 */display: inline-block !important;position: relative;}#sk-container-id-1 div.sk-text-repr-fallback {display: none;}</style><div id=\"sk-container-id-1\" class=\"sk-top-container\"><div class=\"sk-text-repr-fallback\"><pre>DecisionTreeClassifier()</pre><b>In a Jupyter environment, please rerun this cell to show the HTML representation or trust the notebook. <br />On GitHub, the HTML representation is unable to render, please try loading this page with nbviewer.org.</b></div><div class=\"sk-container\" hidden><div class=\"sk-item\"><div class=\"sk-estimator sk-toggleable\"><input class=\"sk-toggleable__control sk-hidden--visually\" id=\"sk-estimator-id-1\" type=\"checkbox\" checked><label for=\"sk-estimator-id-1\" class=\"sk-toggleable__label sk-toggleable__label-arrow\">DecisionTreeClassifier</label><div class=\"sk-toggleable__content\"><pre>DecisionTreeClassifier()</pre></div></div></div></div></div>"
      ],
      "text/plain": [
       "DecisionTreeClassifier()"
      ]
     },
     "execution_count": 68,
     "metadata": {},
     "output_type": "execute_result"
    }
   ],
   "source": [
    "clf = tree.DecisionTreeClassifier()\n",
    "clf.fit(x_train, y_train)"
   ]
  },
  {
   "cell_type": "code",
   "execution_count": 69,
   "metadata": {},
   "outputs": [
    {
     "name": "stdout",
     "output_type": "stream",
     "text": [
      "              precision    recall  f1-score   support\n",
      "\n",
      "        -1.0       0.00      0.00      0.00       454\n",
      "         0.0       0.00      0.00      0.00         0\n",
      "         1.0       0.84      0.85      0.85       822\n",
      "\n",
      "    accuracy                           0.55      1276\n",
      "   macro avg       0.28      0.28      0.28      1276\n",
      "weighted avg       0.54      0.55      0.54      1276\n",
      "\n",
      "[[  0 317 137]\n",
      " [  0   0   0]\n",
      " [  0 120 702]]\n"
     ]
    },
    {
     "name": "stderr",
     "output_type": "stream",
     "text": [
      "/home/jguese/miniconda3/lib/python3.10/site-packages/sklearn/metrics/_classification.py:1334: UndefinedMetricWarning: Precision and F-score are ill-defined and being set to 0.0 in labels with no predicted samples. Use `zero_division` parameter to control this behavior.\n",
      "  _warn_prf(average, modifier, msg_start, len(result))\n",
      "/home/jguese/miniconda3/lib/python3.10/site-packages/sklearn/metrics/_classification.py:1334: UndefinedMetricWarning: Recall and F-score are ill-defined and being set to 0.0 in labels with no true samples. Use `zero_division` parameter to control this behavior.\n",
      "  _warn_prf(average, modifier, msg_start, len(result))\n",
      "/home/jguese/miniconda3/lib/python3.10/site-packages/sklearn/metrics/_classification.py:1334: UndefinedMetricWarning: Precision and F-score are ill-defined and being set to 0.0 in labels with no predicted samples. Use `zero_division` parameter to control this behavior.\n",
      "  _warn_prf(average, modifier, msg_start, len(result))\n",
      "/home/jguese/miniconda3/lib/python3.10/site-packages/sklearn/metrics/_classification.py:1334: UndefinedMetricWarning: Recall and F-score are ill-defined and being set to 0.0 in labels with no true samples. Use `zero_division` parameter to control this behavior.\n",
      "  _warn_prf(average, modifier, msg_start, len(result))\n",
      "/home/jguese/miniconda3/lib/python3.10/site-packages/sklearn/metrics/_classification.py:1334: UndefinedMetricWarning: Precision and F-score are ill-defined and being set to 0.0 in labels with no predicted samples. Use `zero_division` parameter to control this behavior.\n",
      "  _warn_prf(average, modifier, msg_start, len(result))\n",
      "/home/jguese/miniconda3/lib/python3.10/site-packages/sklearn/metrics/_classification.py:1334: UndefinedMetricWarning: Recall and F-score are ill-defined and being set to 0.0 in labels with no true samples. Use `zero_division` parameter to control this behavior.\n",
      "  _warn_prf(average, modifier, msg_start, len(result))\n"
     ]
    }
   ],
   "source": [
    "df = bot.getData(ticker = \"AAPL\", start_date = datetime(2010,1,1), technical_indicators=[\"all\"])\n",
    "df = bot.getTrend(df)\n",
    "\n",
    "preds = clf.predict(df.drop([\"signal\", \"ticker\"], axis = 1).fillna(method=\"bfill\").fillna(0))\n",
    "print(metrics.classification_report(df[\"signal\"], preds))\n",
    "print(metrics.confusion_matrix(df[\"signal\"], preds))"
   ]
  },
  {
   "cell_type": "markdown",
   "metadata": {},
   "source": [
    "if we use it for another stock performance is not too good!\n",
    "but well that shouldn't surprise us.\n",
    "\n",
    "next try to train on a ton of different data and see if we can create a generalized predictor"
   ]
  },
  {
   "cell_type": "code",
   "execution_count": 74,
   "metadata": {},
   "outputs": [
    {
     "name": "stdout",
     "output_type": "stream",
     "text": [
      "geddin stock: CWEG.L\n",
      "geddin stock: IWDA.AS\n",
      "geddin stock: EEM\n",
      "geddin stock: AAPL\n",
      "geddin stock: MSFT\n",
      "geddin stock: GOOG\n",
      "geddin stock: TSLA\n",
      "geddin stock: AMD\n",
      "geddin stock: AMZN\n",
      "geddin stock: DG\n",
      "geddin stock: ETH-USD\n"
     ]
    },
    {
     "data": {
      "text/html": [
       "<div>\n",
       "<style scoped>\n",
       "    .dataframe tbody tr th:only-of-type {\n",
       "        vertical-align: middle;\n",
       "    }\n",
       "\n",
       "    .dataframe tbody tr th {\n",
       "        vertical-align: top;\n",
       "    }\n",
       "\n",
       "    .dataframe thead th {\n",
       "        text-align: right;\n",
       "    }\n",
       "</style>\n",
       "<table border=\"1\" class=\"dataframe\">\n",
       "  <thead>\n",
       "    <tr style=\"text-align: right;\">\n",
       "      <th></th>\n",
       "      <th>ticker</th>\n",
       "      <th>open</th>\n",
       "      <th>high</th>\n",
       "      <th>low</th>\n",
       "      <th>close</th>\n",
       "      <th>volume</th>\n",
       "      <th>adj_close</th>\n",
       "      <th>volume_adi</th>\n",
       "      <th>volume_obv</th>\n",
       "      <th>volume_cmf</th>\n",
       "      <th>...</th>\n",
       "      <th>momentum_kama</th>\n",
       "      <th>others_dr</th>\n",
       "      <th>others_dlr</th>\n",
       "      <th>others_cr</th>\n",
       "      <th>SMA_3</th>\n",
       "      <th>SMA_10</th>\n",
       "      <th>SMA_50</th>\n",
       "      <th>SMA_100</th>\n",
       "      <th>SMA_200</th>\n",
       "      <th>signal</th>\n",
       "    </tr>\n",
       "    <tr>\n",
       "      <th>timestamp</th>\n",
       "      <th></th>\n",
       "      <th></th>\n",
       "      <th></th>\n",
       "      <th></th>\n",
       "      <th></th>\n",
       "      <th></th>\n",
       "      <th></th>\n",
       "      <th></th>\n",
       "      <th></th>\n",
       "      <th></th>\n",
       "      <th></th>\n",
       "      <th></th>\n",
       "      <th></th>\n",
       "      <th></th>\n",
       "      <th></th>\n",
       "      <th></th>\n",
       "      <th></th>\n",
       "      <th></th>\n",
       "      <th></th>\n",
       "      <th></th>\n",
       "      <th></th>\n",
       "    </tr>\n",
       "  </thead>\n",
       "  <tbody>\n",
       "    <tr>\n",
       "      <th>2018-03-09</th>\n",
       "      <td>CWEG.L</td>\n",
       "      <td>22440.0</td>\n",
       "      <td>22440.0</td>\n",
       "      <td>22430.0</td>\n",
       "      <td>22470.0</td>\n",
       "      <td>1400</td>\n",
       "      <td>22470.0</td>\n",
       "      <td>9800.0</td>\n",
       "      <td>1400.0</td>\n",
       "      <td>7.000000</td>\n",
       "      <td>...</td>\n",
       "      <td>22470.000000</td>\n",
       "      <td>-4.433549</td>\n",
       "      <td>-0.591421</td>\n",
       "      <td>-0.589675</td>\n",
       "      <td>22313.333333</td>\n",
       "      <td>25491.75</td>\n",
       "      <td>21117.01</td>\n",
       "      <td>0</td>\n",
       "      <td>0.0</td>\n",
       "      <td>1.0</td>\n",
       "    </tr>\n",
       "    <tr>\n",
       "      <th>2018-03-21</th>\n",
       "      <td>CWEG.L</td>\n",
       "      <td>21870.0</td>\n",
       "      <td>21870.0</td>\n",
       "      <td>21870.0</td>\n",
       "      <td>22337.5</td>\n",
       "      <td>1400</td>\n",
       "      <td>22337.5</td>\n",
       "      <td>9800.0</td>\n",
       "      <td>-34.0</td>\n",
       "      <td>3.500000</td>\n",
       "      <td>...</td>\n",
       "      <td>22409.540207</td>\n",
       "      <td>-0.589675</td>\n",
       "      <td>-0.591421</td>\n",
       "      <td>-0.589675</td>\n",
       "      <td>23607.500000</td>\n",
       "      <td>25041.25</td>\n",
       "      <td>21117.01</td>\n",
       "      <td>0</td>\n",
       "      <td>0.0</td>\n",
       "      <td>1.0</td>\n",
       "    </tr>\n",
       "    <tr>\n",
       "      <th>2018-03-27</th>\n",
       "      <td>CWEG.L</td>\n",
       "      <td>22090.0</td>\n",
       "      <td>22090.0</td>\n",
       "      <td>22090.0</td>\n",
       "      <td>22132.5</td>\n",
       "      <td>34</td>\n",
       "      <td>22132.5</td>\n",
       "      <td>9800.0</td>\n",
       "      <td>-34.0</td>\n",
       "      <td>3.458010</td>\n",
       "      <td>...</td>\n",
       "      <td>22281.687834</td>\n",
       "      <td>-0.917739</td>\n",
       "      <td>-0.921976</td>\n",
       "      <td>-1.502003</td>\n",
       "      <td>22313.333333</td>\n",
       "      <td>25491.75</td>\n",
       "      <td>21117.01</td>\n",
       "      <td>0</td>\n",
       "      <td>0.0</td>\n",
       "      <td>1.0</td>\n",
       "    </tr>\n",
       "    <tr>\n",
       "      <th>2018-05-15</th>\n",
       "      <td>CWEG.L</td>\n",
       "      <td>26400.0</td>\n",
       "      <td>26400.0</td>\n",
       "      <td>26400.0</td>\n",
       "      <td>26352.5</td>\n",
       "      <td>619</td>\n",
       "      <td>26352.5</td>\n",
       "      <td>9800.0</td>\n",
       "      <td>585.0</td>\n",
       "      <td>2.838112</td>\n",
       "      <td>...</td>\n",
       "      <td>22828.240240</td>\n",
       "      <td>19.066983</td>\n",
       "      <td>17.451603</td>\n",
       "      <td>17.278594</td>\n",
       "      <td>23607.500000</td>\n",
       "      <td>25041.25</td>\n",
       "      <td>21117.01</td>\n",
       "      <td>0</td>\n",
       "      <td>0.0</td>\n",
       "      <td>1.0</td>\n",
       "    </tr>\n",
       "    <tr>\n",
       "      <th>2018-05-29</th>\n",
       "      <td>CWEG.L</td>\n",
       "      <td>25345.0</td>\n",
       "      <td>25345.0</td>\n",
       "      <td>25345.0</td>\n",
       "      <td>25532.5</td>\n",
       "      <td>619</td>\n",
       "      <td>25532.5</td>\n",
       "      <td>9800.0</td>\n",
       "      <td>-34.0</td>\n",
       "      <td>2.406680</td>\n",
       "      <td>...</td>\n",
       "      <td>23200.201165</td>\n",
       "      <td>-3.111659</td>\n",
       "      <td>-3.161100</td>\n",
       "      <td>13.629283</td>\n",
       "      <td>24672.500000</td>\n",
       "      <td>25491.75</td>\n",
       "      <td>21117.01</td>\n",
       "      <td>0</td>\n",
       "      <td>0.0</td>\n",
       "      <td>1.0</td>\n",
       "    </tr>\n",
       "  </tbody>\n",
       "</table>\n",
       "<p>5 rows × 99 columns</p>\n",
       "</div>"
      ],
      "text/plain": [
       "            ticker     open     high      low    close  volume  adj_close  \\\n",
       "timestamp                                                                   \n",
       "2018-03-09  CWEG.L  22440.0  22440.0  22430.0  22470.0    1400    22470.0   \n",
       "2018-03-21  CWEG.L  21870.0  21870.0  21870.0  22337.5    1400    22337.5   \n",
       "2018-03-27  CWEG.L  22090.0  22090.0  22090.0  22132.5      34    22132.5   \n",
       "2018-05-15  CWEG.L  26400.0  26400.0  26400.0  26352.5     619    26352.5   \n",
       "2018-05-29  CWEG.L  25345.0  25345.0  25345.0  25532.5     619    25532.5   \n",
       "\n",
       "            volume_adi  volume_obv  volume_cmf  ...  momentum_kama  others_dr  \\\n",
       "timestamp                                       ...                             \n",
       "2018-03-09      9800.0      1400.0    7.000000  ...   22470.000000  -4.433549   \n",
       "2018-03-21      9800.0       -34.0    3.500000  ...   22409.540207  -0.589675   \n",
       "2018-03-27      9800.0       -34.0    3.458010  ...   22281.687834  -0.917739   \n",
       "2018-05-15      9800.0       585.0    2.838112  ...   22828.240240  19.066983   \n",
       "2018-05-29      9800.0       -34.0    2.406680  ...   23200.201165  -3.111659   \n",
       "\n",
       "            others_dlr  others_cr         SMA_3    SMA_10    SMA_50  SMA_100  \\\n",
       "timestamp                                                                      \n",
       "2018-03-09   -0.591421  -0.589675  22313.333333  25491.75  21117.01        0   \n",
       "2018-03-21   -0.591421  -0.589675  23607.500000  25041.25  21117.01        0   \n",
       "2018-03-27   -0.921976  -1.502003  22313.333333  25491.75  21117.01        0   \n",
       "2018-05-15   17.451603  17.278594  23607.500000  25041.25  21117.01        0   \n",
       "2018-05-29   -3.161100  13.629283  24672.500000  25491.75  21117.01        0   \n",
       "\n",
       "            SMA_200  signal  \n",
       "timestamp                    \n",
       "2018-03-09      0.0     1.0  \n",
       "2018-03-21      0.0     1.0  \n",
       "2018-03-27      0.0     1.0  \n",
       "2018-05-15      0.0     1.0  \n",
       "2018-05-29      0.0     1.0  \n",
       "\n",
       "[5 rows x 99 columns]"
      ]
     },
     "execution_count": 74,
     "metadata": {},
     "output_type": "execute_result"
    }
   ],
   "source": [
    "bigDf = []\n",
    "for ticker in [\"CWEG.L\", \"IWDA.AS\", \"EEM\", \"AAPL\", \"MSFT\", \"GOOG\", \"TSLA\", 'AMD', 'AMZN', 'DG', \"ETH-USD\"]:\n",
    "    print(\"geddin stock: \" + ticker)\n",
    "    df = bot.getData(ticker = ticker, start_date = datetime(2010,1,1), technical_indicators=[\"all\"])\n",
    "    df = bot.getTrend(df)\n",
    "    bigDf.append(df)\n",
    "    \n",
    "bigDf = pd.concat(bigDf)\n",
    "bigDf.head()"
   ]
  },
  {
   "cell_type": "code",
   "execution_count": 75,
   "metadata": {},
   "outputs": [
    {
     "name": "stdout",
     "output_type": "stream",
     "text": [
      "decision tree scores:  0.8944444444444445\n"
     ]
    }
   ],
   "source": [
    "x_train, x_test, y_train, y_test = train_test_split(  df.drop([\"signal\", \"ticker\"], axis = 1).fillna(method=\"bfill\").fillna(0), df[\"signal\"], test_size=0.1, shuffle=True)\n",
    "clf = tree.DecisionTreeClassifier()\n",
    "clf.fit(x_train, y_train)\n",
    "scr = clf.score(x_test, y_test)\n",
    "print(\"decision tree scores: \", scr)\n",
    "pred = clf.predict(df.drop([\"signal\", \"ticker\"], axis = 1).fillna(method=\"bfill\").fillna(0))"
   ]
  },
  {
   "cell_type": "code",
   "execution_count": 78,
   "metadata": {},
   "outputs": [],
   "source": [
    "dot_data = tree.export_graphviz(clf, out_file=None,\n",
    "                        feature_names=x_train.columns,  \n",
    "                        class_names=[\"sell\", \"buy\"],\n",
    "                        filled=True, rounded=True,\n",
    "                        special_characters=True) \n",
    "graph = graphviz.Source(dot_data) \n",
    "# graph"
   ]
  },
  {
   "cell_type": "code",
   "execution_count": 84,
   "metadata": {},
   "outputs": [
    {
     "name": "stderr",
     "output_type": "stream",
     "text": [
      "/home/jguese/miniconda3/lib/python3.10/site-packages/numpy/core/fromnumeric.py:3432: RuntimeWarning: Mean of empty slice.\n",
      "  return _methods._mean(a, axis=axis, dtype=dtype,\n",
      "/home/jguese/miniconda3/lib/python3.10/site-packages/numpy/core/_methods.py:190: RuntimeWarning: invalid value encountered in double_scalars\n",
      "  ret = ret.dtype.type(ret / rcount)\n"
     ]
    },
    {
     "name": "stdout",
     "output_type": "stream",
     "text": [
      "the lightgbm with lookback 1 would have given you 35155.43$\n",
      "or +71.69% per year\n",
      "or 589.20$ per month\n"
     ]
    }
   ],
   "source": [
    "## simulate\n",
    "\n",
    "\n",
    "bestLookback = -1\n",
    "bestLookbackWin = -9999\n",
    "bestLookbackPortfolio = dict()\n",
    "for lookback in range(0, 10):\n",
    "    money = startMoney\n",
    "    nrStocks = 0\n",
    "    portfolio = dict()\n",
    "    for i in range(lookback, len(df)):\n",
    "        prednow = np.median(preds[i-lookback:i])\n",
    "        # if we switched stock sell the old and continue with new\n",
    "        if df.iloc[i][\"ticker\"] != df.iloc[i-1][\"ticker\"]:\n",
    "            money += nrStocks * df.iloc[i-1][\"adj_close\"] * (1 - COMMISSION)\n",
    "            nrStocks = 0\n",
    "            portfolio[df.iloc[i][\"ticker\"]] = []\n",
    "        # prednow = preds[i]\n",
    "        if prednow == 1 and nrStocks == 0 and money > 10:\n",
    "            # buy\n",
    "            howmany = money / df.iloc[i][\"adj_close\"] * .99\n",
    "            cost = howmany * df.iloc[i][\"adj_close\"] * (1 + COMMISSION)\n",
    "            money -= cost\n",
    "            nrStocks += howmany\n",
    "        elif prednow == -1 and nrStocks > 0:\n",
    "            money += nrStocks * df.iloc[i][\"adj_close\"] * (1 - COMMISSION)\n",
    "            nrStocks = 0\n",
    "        try:\n",
    "            portfolio[df.iloc[i][\"ticker\"]] = portfolio[df.iloc[i][\"ticker\"]].append(money + nrStocks * df.iloc[i][\"adj_close\"])\n",
    "        except:\n",
    "            # idk\n",
    "            pass\n",
    "    # last day sell\n",
    "    money += nrStocks * df.iloc[-1][\"adj_close\"] * (1 - COMMISSION)\n",
    "    win = money - startMoney\n",
    "    if win > bestLookbackWin:\n",
    "        bestLookback = lookback\n",
    "        bestLookbackWin = win\n",
    "        bestLookbackPortfolio = portfolio\n",
    "\n",
    "print(\"the lightgbm with lookback %d would have given you %.2f$\" % (bestLookback, bestLookbackWin))\n",
    "winPct = bestLookbackWin / startMoney * 100\n",
    "days = (df.index[-1] - df.index[0]).days\n",
    "winPctYear = winPct / days * 365\n",
    "print(\"or +%.2f%% per year\" % winPctYear)\n",
    "winPerMonth = bestLookbackWin / days * 30\n",
    "print(\"or %.2f$ per month\" % winPerMonth)\n",
    "for ticker,portfolio in bestLookbackPortfolio:\n",
    "    plt.title(ticker)\n",
    "    plt.plot(bestLookbackPortfolio)\n",
    "    plt.show()\n",
    "## tree\n",
    "# the decision tree with lookback 0 would have given you 19227.17$\n",
    "# or +37.98% per year\n",
    "# or 312.13$ per month\n",
    "## XGB - actually not too nice\n",
    "# the xgb with lookback 3 would have given you 3497.44$\n",
    "# or +6.91% per year\n",
    "# or 56.78$ per month\n",
    "## lightgbm \n",
    "# the lightgbm with lookback 3 would have given you 6510.10$\n",
    "# or +12.86% per year\n",
    "# or 105.68$ per month"
   ]
  },
  {
   "cell_type": "code",
   "execution_count": null,
   "metadata": {},
   "outputs": [],
   "source": []
  }
 ],
 "metadata": {
  "kernelspec": {
   "display_name": "Python 3.10.4 ('base')",
   "language": "python",
   "name": "python3"
  },
  "language_info": {
   "codemirror_mode": {
    "name": "ipython",
    "version": 3
   },
   "file_extension": ".py",
   "mimetype": "text/x-python",
   "name": "python",
   "nbconvert_exporter": "python",
   "pygments_lexer": "ipython3",
   "version": "3.10.4"
  },
  "orig_nbformat": 4,
  "vscode": {
   "interpreter": {
    "hash": "d436247b9f043f8630513ed1454a5d25f3879733eb5c0e6e904c7c35a517ff37"
   }
  }
 },
 "nbformat": 4,
 "nbformat_minor": 2
}
