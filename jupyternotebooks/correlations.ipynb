{
 "cells": [
  {
   "cell_type": "code",
   "execution_count": 11,
   "metadata": {},
   "outputs": [],
   "source": [
    "import pandas as pd\n",
    "from datetime import datetime, date, timedelta\n",
    "from requests import post\n",
    "import matplotlib.pyplot as plt"
   ]
  },
  {
   "cell_type": "code",
   "execution_count": 2,
   "metadata": {},
   "outputs": [],
   "source": [
    "import sys\n",
    "sys.path.insert(1, '../src/')\n",
    "from basebot import BaseBot"
   ]
  },
  {
   "cell_type": "code",
   "execution_count": 3,
   "metadata": {},
   "outputs": [
    {
     "data": {
      "text/html": [
       "<div>\n",
       "<style scoped>\n",
       "    .dataframe tbody tr th:only-of-type {\n",
       "        vertical-align: middle;\n",
       "    }\n",
       "\n",
       "    .dataframe tbody tr th {\n",
       "        vertical-align: top;\n",
       "    }\n",
       "\n",
       "    .dataframe thead th {\n",
       "        text-align: right;\n",
       "    }\n",
       "</style>\n",
       "<table border=\"1\" class=\"dataframe\">\n",
       "  <thead>\n",
       "    <tr style=\"text-align: right;\">\n",
       "      <th></th>\n",
       "      <th>ticker</th>\n",
       "      <th>open</th>\n",
       "      <th>high</th>\n",
       "      <th>low</th>\n",
       "      <th>close</th>\n",
       "      <th>volume</th>\n",
       "      <th>adj_close</th>\n",
       "      <th>volume_adi</th>\n",
       "      <th>volume_obv</th>\n",
       "      <th>volume_cmf</th>\n",
       "      <th>...</th>\n",
       "      <th>momentum_kama</th>\n",
       "      <th>others_dr</th>\n",
       "      <th>others_dlr</th>\n",
       "      <th>others_cr</th>\n",
       "      <th>SMA_3</th>\n",
       "      <th>SMA_10</th>\n",
       "      <th>SMA_50</th>\n",
       "      <th>SMA_100</th>\n",
       "      <th>SMA_200</th>\n",
       "      <th>signal</th>\n",
       "    </tr>\n",
       "    <tr>\n",
       "      <th>timestamp</th>\n",
       "      <th></th>\n",
       "      <th></th>\n",
       "      <th></th>\n",
       "      <th></th>\n",
       "      <th></th>\n",
       "      <th></th>\n",
       "      <th></th>\n",
       "      <th></th>\n",
       "      <th></th>\n",
       "      <th></th>\n",
       "      <th></th>\n",
       "      <th></th>\n",
       "      <th></th>\n",
       "      <th></th>\n",
       "      <th></th>\n",
       "      <th></th>\n",
       "      <th></th>\n",
       "      <th></th>\n",
       "      <th></th>\n",
       "      <th></th>\n",
       "      <th></th>\n",
       "    </tr>\n",
       "  </thead>\n",
       "  <tbody>\n",
       "    <tr>\n",
       "      <th>2017-09-12</th>\n",
       "      <td>IWDA.AS</td>\n",
       "      <td>42.455002</td>\n",
       "      <td>42.674999</td>\n",
       "      <td>42.455002</td>\n",
       "      <td>42.575001</td>\n",
       "      <td>53831</td>\n",
       "      <td>42.575001</td>\n",
       "      <td>4893.896985</td>\n",
       "      <td>53831.0</td>\n",
       "      <td>0.090912</td>\n",
       "      <td>...</td>\n",
       "      <td>42.575001</td>\n",
       "      <td>-25.658017</td>\n",
       "      <td>0.433580</td>\n",
       "      <td>0.434522</td>\n",
       "      <td>42.725</td>\n",
       "      <td>42.7965</td>\n",
       "      <td>44.072</td>\n",
       "      <td>None</td>\n",
       "      <td>45.01955</td>\n",
       "      <td>1.0</td>\n",
       "    </tr>\n",
       "    <tr>\n",
       "      <th>2017-09-13</th>\n",
       "      <td>IWDA.AS</td>\n",
       "      <td>42.540001</td>\n",
       "      <td>42.759998</td>\n",
       "      <td>42.445000</td>\n",
       "      <td>42.759998</td>\n",
       "      <td>73915</td>\n",
       "      <td>42.759998</td>\n",
       "      <td>78808.896985</td>\n",
       "      <td>127746.0</td>\n",
       "      <td>0.616919</td>\n",
       "      <td>...</td>\n",
       "      <td>42.649766</td>\n",
       "      <td>0.434522</td>\n",
       "      <td>0.433580</td>\n",
       "      <td>0.434522</td>\n",
       "      <td>42.725</td>\n",
       "      <td>42.7965</td>\n",
       "      <td>44.072</td>\n",
       "      <td>None</td>\n",
       "      <td>45.01955</td>\n",
       "      <td>1.0</td>\n",
       "    </tr>\n",
       "    <tr>\n",
       "      <th>2017-09-14</th>\n",
       "      <td>IWDA.AS</td>\n",
       "      <td>42.730000</td>\n",
       "      <td>42.860001</td>\n",
       "      <td>42.689999</td>\n",
       "      <td>42.840000</td>\n",
       "      <td>19521</td>\n",
       "      <td>42.840000</td>\n",
       "      <td>93736.668981</td>\n",
       "      <td>147267.0</td>\n",
       "      <td>0.636508</td>\n",
       "      <td>...</td>\n",
       "      <td>42.724116</td>\n",
       "      <td>0.187095</td>\n",
       "      <td>0.186920</td>\n",
       "      <td>0.622430</td>\n",
       "      <td>42.725</td>\n",
       "      <td>42.7965</td>\n",
       "      <td>44.072</td>\n",
       "      <td>None</td>\n",
       "      <td>45.01955</td>\n",
       "      <td>1.0</td>\n",
       "    </tr>\n",
       "    <tr>\n",
       "      <th>2017-09-15</th>\n",
       "      <td>IWDA.AS</td>\n",
       "      <td>42.674999</td>\n",
       "      <td>42.689999</td>\n",
       "      <td>42.470001</td>\n",
       "      <td>42.575001</td>\n",
       "      <td>25357</td>\n",
       "      <td>42.575001</td>\n",
       "      <td>92584.257942</td>\n",
       "      <td>121910.0</td>\n",
       "      <td>0.536335</td>\n",
       "      <td>...</td>\n",
       "      <td>42.662290</td>\n",
       "      <td>-0.618579</td>\n",
       "      <td>-0.620500</td>\n",
       "      <td>0.364061</td>\n",
       "      <td>42.725</td>\n",
       "      <td>42.7965</td>\n",
       "      <td>44.072</td>\n",
       "      <td>None</td>\n",
       "      <td>45.01955</td>\n",
       "      <td>1.0</td>\n",
       "    </tr>\n",
       "    <tr>\n",
       "      <th>2017-09-18</th>\n",
       "      <td>IWDA.AS</td>\n",
       "      <td>42.779999</td>\n",
       "      <td>42.860001</td>\n",
       "      <td>42.669998</td>\n",
       "      <td>42.730000</td>\n",
       "      <td>44301</td>\n",
       "      <td>42.730000</td>\n",
       "      <td>76263.117764</td>\n",
       "      <td>166211.0</td>\n",
       "      <td>0.351564</td>\n",
       "      <td>...</td>\n",
       "      <td>42.689158</td>\n",
       "      <td>0.364061</td>\n",
       "      <td>0.363399</td>\n",
       "      <td>0.364061</td>\n",
       "      <td>42.715</td>\n",
       "      <td>42.7965</td>\n",
       "      <td>44.072</td>\n",
       "      <td>None</td>\n",
       "      <td>45.01955</td>\n",
       "      <td>1.0</td>\n",
       "    </tr>\n",
       "  </tbody>\n",
       "</table>\n",
       "<p>5 rows × 99 columns</p>\n",
       "</div>"
      ],
      "text/plain": [
       "             ticker       open       high        low      close  volume  \\\n",
       "timestamp                                                                 \n",
       "2017-09-12  IWDA.AS  42.455002  42.674999  42.455002  42.575001   53831   \n",
       "2017-09-13  IWDA.AS  42.540001  42.759998  42.445000  42.759998   73915   \n",
       "2017-09-14  IWDA.AS  42.730000  42.860001  42.689999  42.840000   19521   \n",
       "2017-09-15  IWDA.AS  42.674999  42.689999  42.470001  42.575001   25357   \n",
       "2017-09-18  IWDA.AS  42.779999  42.860001  42.669998  42.730000   44301   \n",
       "\n",
       "            adj_close    volume_adi  volume_obv  volume_cmf  ...  \\\n",
       "timestamp                                                    ...   \n",
       "2017-09-12  42.575001   4893.896985     53831.0    0.090912  ...   \n",
       "2017-09-13  42.759998  78808.896985    127746.0    0.616919  ...   \n",
       "2017-09-14  42.840000  93736.668981    147267.0    0.636508  ...   \n",
       "2017-09-15  42.575001  92584.257942    121910.0    0.536335  ...   \n",
       "2017-09-18  42.730000  76263.117764    166211.0    0.351564  ...   \n",
       "\n",
       "            momentum_kama  others_dr  others_dlr  others_cr   SMA_3   SMA_10  \\\n",
       "timestamp                                                                      \n",
       "2017-09-12      42.575001 -25.658017    0.433580   0.434522  42.725  42.7965   \n",
       "2017-09-13      42.649766   0.434522    0.433580   0.434522  42.725  42.7965   \n",
       "2017-09-14      42.724116   0.187095    0.186920   0.622430  42.725  42.7965   \n",
       "2017-09-15      42.662290  -0.618579   -0.620500   0.364061  42.725  42.7965   \n",
       "2017-09-18      42.689158   0.364061    0.363399   0.364061  42.715  42.7965   \n",
       "\n",
       "            SMA_50  SMA_100   SMA_200  signal  \n",
       "timestamp                                      \n",
       "2017-09-12  44.072     None  45.01955     1.0  \n",
       "2017-09-13  44.072     None  45.01955     1.0  \n",
       "2017-09-14  44.072     None  45.01955     1.0  \n",
       "2017-09-15  44.072     None  45.01955     1.0  \n",
       "2017-09-18  44.072     None  45.01955     1.0  \n",
       "\n",
       "[5 rows x 99 columns]"
      ]
     },
     "execution_count": 3,
     "metadata": {},
     "output_type": "execute_result"
    }
   ],
   "source": [
    "bot = BaseBot(\"testbot\")\n",
    "\n",
    "df = bot.getData(ticker = \"IWDA.AS\", start_date = datetime(2010,1,1), technical_indicators=[\"all\"])\n",
    "df = bot.getTrend(df)\n",
    "df.head()"
   ]
  },
  {
   "cell_type": "code",
   "execution_count": 4,
   "metadata": {},
   "outputs": [
    {
     "data": {
      "text/plain": [
       " 1.0    862\n",
       "-1.0    435\n",
       "Name: signal, dtype: int64"
      ]
     },
     "execution_count": 4,
     "metadata": {},
     "output_type": "execute_result"
    }
   ],
   "source": [
    "df[\"signal\"].value_counts()"
   ]
  },
  {
   "cell_type": "markdown",
   "metadata": {},
   "source": [
    "-1 represents sell (downtrend), 1 buy (uptrend), 0 is not yet decided"
   ]
  },
  {
   "cell_type": "markdown",
   "metadata": {},
   "source": [
    "## simulate best possible scenario\n",
    "\n",
    "(following signal)"
   ]
  },
  {
   "cell_type": "code",
   "execution_count": 5,
   "metadata": {},
   "outputs": [
    {
     "data": {
      "text/plain": [
       "<AxesSubplot:xlabel='timestamp'>"
      ]
     },
     "execution_count": 5,
     "metadata": {},
     "output_type": "execute_result"
    },
    {
     "data": {
      "image/png": "[encoded data removed]",
      "text/plain": [
       "<Figure size 640x480 with 1 Axes>"
      ]
     },
     "metadata": {},
     "output_type": "display_data"
    }
   ],
   "source": [
    "df[\"adj_close\"].plot()"
   ]
  },
  {
   "cell_type": "code",
   "execution_count": 7,
   "metadata": {},
   "outputs": [
    {
     "name": "stdout",
     "output_type": "stream",
     "text": [
      "index takes 1848 days\n"
     ]
    }
   ],
   "source": [
    "## calculate timespan\n",
    "days = (df.index[-1] - df.index[0]).days\n",
    "print(\"index takes %d days\" % days)"
   ]
  },
  {
   "cell_type": "code",
   "execution_count": 9,
   "metadata": {},
   "outputs": [
    {
     "name": "stdout",
     "output_type": "stream",
     "text": [
      "you would have bought 234.87961998358358 stocks\n",
      "just holding would have given you 6582.50$\n",
      "or 106.86$ per month\n"
     ]
    }
   ],
   "source": [
    "## baseline\n",
    "startMoney = 10000\n",
    "COMMISSION = 0.00025\n",
    "nrStocks = startMoney / df.iloc[0][\"adj_close\"]\n",
    "print(\"you would have bought {} stocks\".format(nrStocks))\n",
    "baselineWin = df.iloc[-1][\"adj_close\"] * nrStocks - startMoney\n",
    "print(\"just holding would have given you %.2f$\" % baselineWin)\n",
    "baselineWinPerMonth = baselineWin / days * 30\n",
    "print(\"or %.2f$ per month\" % baselineWinPerMonth)"
   ]
  },
  {
   "cell_type": "code",
   "execution_count": 12,
   "metadata": {},
   "outputs": [
    {
     "name": "stdout",
     "output_type": "stream",
     "text": [
      "following the signal would have given you 24914.74$\n",
      "or 404.46$ per month\n"
     ]
    },
    {
     "data": {
      "text/plain": [
       "[<matplotlib.lines.Line2D at 0x7fc0e9ceed10>]"
      ]
     },
     "execution_count": 12,
     "metadata": {},
     "output_type": "execute_result"
    },
    {
     "data": {
      "image/png": "[encoded data removed]",
      "text/plain": [
       "<Figure size 640x480 with 1 Axes>"
      ]
     },
     "metadata": {},
     "output_type": "display_data"
    }
   ],
   "source": [
    "## next check if we follow signal what the best scenario would have been\n",
    "money = startMoney\n",
    "nrStocks = 0\n",
    "bestPortfolio = []\n",
    "for i in range(len(df)):\n",
    "    if df.iloc[i][\"signal\"] == 1 and money > 0 and nrStocks == 0:\n",
    "        amount = money / df.iloc[i][\"adj_close\"] * .99\n",
    "        cost = amount * df.iloc[i][\"adj_close\"] * (1 + COMMISSION)\n",
    "        money -= cost\n",
    "        nrStocks += amount\n",
    "    elif df.iloc[i][\"signal\"] == -1 and nrStocks > 0:\n",
    "        money += nrStocks * df.iloc[i][\"adj_close\"] * (1 - COMMISSION)\n",
    "        nrStocks = 0\n",
    "    bestPortfolio.append(money + nrStocks * df.iloc[i][\"adj_close\"])\n",
    "# last day sell nrStocks\n",
    "money += nrStocks * df.iloc[-1][\"adj_close\"] * (1 - COMMISSION)\n",
    "nrStocks = 0\n",
    "\n",
    "win = money - startMoney\n",
    "print(\"following the signal would have given you %.2f$\" % win)\n",
    "winPerMonth = win / days * 30\n",
    "print(\"or %.2f$ per month\" % winPerMonth)\n",
    "plt.plot(bestPortfolio)"
   ]
  }
 ],
 "metadata": {
  "kernelspec": {
   "display_name": "Python 3.10.4 ('base')",
   "language": "python",
   "name": "python3"
  },
  "language_info": {
   "codemirror_mode": {
    "name": "ipython",
    "version": 3
   },
   "file_extension": ".py",
   "mimetype": "text/x-python",
   "name": "python",
   "nbconvert_exporter": "python",
   "pygments_lexer": "ipython3",
   "version": "3.10.4"
  },
  "orig_nbformat": 4,
  "vscode": {
   "interpreter": {
    "hash": "d436247b9f043f8630513ed1454a5d25f3879733eb5c0e6e904c7c35a517ff37"
   }
  }
 },
 "nbformat": 4,
 "nbformat_minor": 2
}
