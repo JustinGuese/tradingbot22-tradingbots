{
 "cells": [
  {
   "cell_type": "code",
   "execution_count": 4,
   "metadata": {},
   "outputs": [],
   "source": [
    "import pandas as pd\n",
    "from datetime import datetime, date, timedelta\n",
    "from requests import post\n",
    "import matplotlib.pyplot as plt\n",
    "import numpy as np"
   ]
  },
  {
   "cell_type": "code",
   "execution_count": 5,
   "metadata": {},
   "outputs": [],
   "source": [
    "import sys\n",
    "sys.path.insert(1, '../src/')\n",
    "from basebot import BaseBot"
   ]
  },
  {
   "cell_type": "code",
   "execution_count": 6,
   "metadata": {},
   "outputs": [
    {
     "data": {
      "text/html": [
       "<div>\n",
       "<style scoped>\n",
       "    .dataframe tbody tr th:only-of-type {\n",
       "        vertical-align: middle;\n",
       "    }\n",
       "\n",
       "    .dataframe tbody tr th {\n",
       "        vertical-align: top;\n",
       "    }\n",
       "\n",
       "    .dataframe thead th {\n",
       "        text-align: right;\n",
       "    }\n",
       "</style>\n",
       "<table border=\"1\" class=\"dataframe\">\n",
       "  <thead>\n",
       "    <tr style=\"text-align: right;\">\n",
       "      <th></th>\n",
       "      <th>ticker</th>\n",
       "      <th>open</th>\n",
       "      <th>high</th>\n",
       "      <th>low</th>\n",
       "      <th>close</th>\n",
       "      <th>volume</th>\n",
       "      <th>adj_close</th>\n",
       "      <th>volume_adi</th>\n",
       "      <th>volume_obv</th>\n",
       "      <th>volume_cmf</th>\n",
       "      <th>...</th>\n",
       "      <th>momentum_kama</th>\n",
       "      <th>others_dr</th>\n",
       "      <th>others_dlr</th>\n",
       "      <th>others_cr</th>\n",
       "      <th>SMA_3</th>\n",
       "      <th>SMA_10</th>\n",
       "      <th>SMA_50</th>\n",
       "      <th>SMA_100</th>\n",
       "      <th>SMA_200</th>\n",
       "      <th>signal</th>\n",
       "    </tr>\n",
       "    <tr>\n",
       "      <th>timestamp</th>\n",
       "      <th></th>\n",
       "      <th></th>\n",
       "      <th></th>\n",
       "      <th></th>\n",
       "      <th></th>\n",
       "      <th></th>\n",
       "      <th></th>\n",
       "      <th></th>\n",
       "      <th></th>\n",
       "      <th></th>\n",
       "      <th></th>\n",
       "      <th></th>\n",
       "      <th></th>\n",
       "      <th></th>\n",
       "      <th></th>\n",
       "      <th></th>\n",
       "      <th></th>\n",
       "      <th></th>\n",
       "      <th></th>\n",
       "      <th></th>\n",
       "      <th></th>\n",
       "    </tr>\n",
       "  </thead>\n",
       "  <tbody>\n",
       "    <tr>\n",
       "      <th>2017-09-12</th>\n",
       "      <td>IWDA.AS</td>\n",
       "      <td>42.455002</td>\n",
       "      <td>42.674999</td>\n",
       "      <td>42.455002</td>\n",
       "      <td>42.575001</td>\n",
       "      <td>53831</td>\n",
       "      <td>42.575001</td>\n",
       "      <td>4893.896985</td>\n",
       "      <td>53831.0</td>\n",
       "      <td>0.090912</td>\n",
       "      <td>...</td>\n",
       "      <td>42.575001</td>\n",
       "      <td>-25.658017</td>\n",
       "      <td>0.433580</td>\n",
       "      <td>0.434522</td>\n",
       "      <td>42.725</td>\n",
       "      <td>42.7965</td>\n",
       "      <td>44.072</td>\n",
       "      <td>0</td>\n",
       "      <td>45.01955</td>\n",
       "      <td>1.0</td>\n",
       "    </tr>\n",
       "    <tr>\n",
       "      <th>2017-09-13</th>\n",
       "      <td>IWDA.AS</td>\n",
       "      <td>42.540001</td>\n",
       "      <td>42.759998</td>\n",
       "      <td>42.445000</td>\n",
       "      <td>42.759998</td>\n",
       "      <td>73915</td>\n",
       "      <td>42.759998</td>\n",
       "      <td>78808.896985</td>\n",
       "      <td>127746.0</td>\n",
       "      <td>0.616919</td>\n",
       "      <td>...</td>\n",
       "      <td>42.649766</td>\n",
       "      <td>0.434522</td>\n",
       "      <td>0.433580</td>\n",
       "      <td>0.434522</td>\n",
       "      <td>42.725</td>\n",
       "      <td>42.7965</td>\n",
       "      <td>44.072</td>\n",
       "      <td>0</td>\n",
       "      <td>45.01955</td>\n",
       "      <td>1.0</td>\n",
       "    </tr>\n",
       "    <tr>\n",
       "      <th>2017-09-14</th>\n",
       "      <td>IWDA.AS</td>\n",
       "      <td>42.730000</td>\n",
       "      <td>42.860001</td>\n",
       "      <td>42.689999</td>\n",
       "      <td>42.840000</td>\n",
       "      <td>19521</td>\n",
       "      <td>42.840000</td>\n",
       "      <td>93736.668981</td>\n",
       "      <td>147267.0</td>\n",
       "      <td>0.636508</td>\n",
       "      <td>...</td>\n",
       "      <td>42.724116</td>\n",
       "      <td>0.187095</td>\n",
       "      <td>0.186920</td>\n",
       "      <td>0.622430</td>\n",
       "      <td>42.725</td>\n",
       "      <td>42.7965</td>\n",
       "      <td>44.072</td>\n",
       "      <td>0</td>\n",
       "      <td>45.01955</td>\n",
       "      <td>1.0</td>\n",
       "    </tr>\n",
       "    <tr>\n",
       "      <th>2017-09-15</th>\n",
       "      <td>IWDA.AS</td>\n",
       "      <td>42.674999</td>\n",
       "      <td>42.689999</td>\n",
       "      <td>42.470001</td>\n",
       "      <td>42.575001</td>\n",
       "      <td>25357</td>\n",
       "      <td>42.575001</td>\n",
       "      <td>92584.257942</td>\n",
       "      <td>121910.0</td>\n",
       "      <td>0.536335</td>\n",
       "      <td>...</td>\n",
       "      <td>42.662290</td>\n",
       "      <td>-0.618579</td>\n",
       "      <td>-0.620500</td>\n",
       "      <td>0.364061</td>\n",
       "      <td>42.725</td>\n",
       "      <td>42.7965</td>\n",
       "      <td>44.072</td>\n",
       "      <td>0</td>\n",
       "      <td>45.01955</td>\n",
       "      <td>1.0</td>\n",
       "    </tr>\n",
       "    <tr>\n",
       "      <th>2017-09-18</th>\n",
       "      <td>IWDA.AS</td>\n",
       "      <td>42.779999</td>\n",
       "      <td>42.860001</td>\n",
       "      <td>42.669998</td>\n",
       "      <td>42.730000</td>\n",
       "      <td>44301</td>\n",
       "      <td>42.730000</td>\n",
       "      <td>76263.117764</td>\n",
       "      <td>166211.0</td>\n",
       "      <td>0.351564</td>\n",
       "      <td>...</td>\n",
       "      <td>42.689158</td>\n",
       "      <td>0.364061</td>\n",
       "      <td>0.363399</td>\n",
       "      <td>0.364061</td>\n",
       "      <td>42.715</td>\n",
       "      <td>42.7965</td>\n",
       "      <td>44.072</td>\n",
       "      <td>0</td>\n",
       "      <td>45.01955</td>\n",
       "      <td>1.0</td>\n",
       "    </tr>\n",
       "  </tbody>\n",
       "</table>\n",
       "<p>5 rows × 99 columns</p>\n",
       "</div>"
      ],
      "text/plain": [
       "             ticker       open       high        low      close  volume  \\\n",
       "timestamp                                                                 \n",
       "2017-09-12  IWDA.AS  42.455002  42.674999  42.455002  42.575001   53831   \n",
       "2017-09-13  IWDA.AS  42.540001  42.759998  42.445000  42.759998   73915   \n",
       "2017-09-14  IWDA.AS  42.730000  42.860001  42.689999  42.840000   19521   \n",
       "2017-09-15  IWDA.AS  42.674999  42.689999  42.470001  42.575001   25357   \n",
       "2017-09-18  IWDA.AS  42.779999  42.860001  42.669998  42.730000   44301   \n",
       "\n",
       "            adj_close    volume_adi  volume_obv  volume_cmf  ...  \\\n",
       "timestamp                                                    ...   \n",
       "2017-09-12  42.575001   4893.896985     53831.0    0.090912  ...   \n",
       "2017-09-13  42.759998  78808.896985    127746.0    0.616919  ...   \n",
       "2017-09-14  42.840000  93736.668981    147267.0    0.636508  ...   \n",
       "2017-09-15  42.575001  92584.257942    121910.0    0.536335  ...   \n",
       "2017-09-18  42.730000  76263.117764    166211.0    0.351564  ...   \n",
       "\n",
       "            momentum_kama  others_dr  others_dlr  others_cr   SMA_3   SMA_10  \\\n",
       "timestamp                                                                      \n",
       "2017-09-12      42.575001 -25.658017    0.433580   0.434522  42.725  42.7965   \n",
       "2017-09-13      42.649766   0.434522    0.433580   0.434522  42.725  42.7965   \n",
       "2017-09-14      42.724116   0.187095    0.186920   0.622430  42.725  42.7965   \n",
       "2017-09-15      42.662290  -0.618579   -0.620500   0.364061  42.725  42.7965   \n",
       "2017-09-18      42.689158   0.364061    0.363399   0.364061  42.715  42.7965   \n",
       "\n",
       "            SMA_50  SMA_100   SMA_200  signal  \n",
       "timestamp                                      \n",
       "2017-09-12  44.072        0  45.01955     1.0  \n",
       "2017-09-13  44.072        0  45.01955     1.0  \n",
       "2017-09-14  44.072        0  45.01955     1.0  \n",
       "2017-09-15  44.072        0  45.01955     1.0  \n",
       "2017-09-18  44.072        0  45.01955     1.0  \n",
       "\n",
       "[5 rows x 99 columns]"
      ]
     },
     "execution_count": 6,
     "metadata": {},
     "output_type": "execute_result"
    }
   ],
   "source": [
    "bot = BaseBot(\"testbot\")\n",
    "\n",
    "df = bot.getData(ticker = \"IWDA.AS\", start_date = datetime(2010,1,1), technical_indicators=[\"all\"])\n",
    "df = bot.getTrend(df)\n",
    "df.head()"
   ]
  },
  {
   "cell_type": "code",
   "execution_count": 7,
   "metadata": {},
   "outputs": [
    {
     "data": {
      "text/plain": [
       " 1.0    862\n",
       "-1.0    435\n",
       "Name: signal, dtype: int64"
      ]
     },
     "execution_count": 7,
     "metadata": {},
     "output_type": "execute_result"
    }
   ],
   "source": [
    "df[\"signal\"].value_counts()"
   ]
  },
  {
   "cell_type": "markdown",
   "metadata": {},
   "source": [
    "-1 represents sell (downtrend), 1 buy (uptrend), 0 is not yet decided"
   ]
  },
  {
   "cell_type": "markdown",
   "metadata": {},
   "source": [
    "## simulate best possible scenario\n",
    "\n",
    "(following signal)"
   ]
  },
  {
   "cell_type": "code",
   "execution_count": 8,
   "metadata": {},
   "outputs": [
    {
     "data": {
      "text/plain": [
       "<AxesSubplot:xlabel='timestamp'>"
      ]
     },
     "execution_count": 8,
     "metadata": {},
     "output_type": "execute_result"
    },
    {
     "data": {
      "image/png": "[encoded data removed]",
      "text/plain": [
       "<Figure size 640x480 with 1 Axes>"
      ]
     },
     "metadata": {},
     "output_type": "display_data"
    }
   ],
   "source": [
    "df[\"adj_close\"].plot()"
   ]
  },
  {
   "cell_type": "code",
   "execution_count": 9,
   "metadata": {},
   "outputs": [
    {
     "name": "stdout",
     "output_type": "stream",
     "text": [
      "index takes 1848 days\n"
     ]
    }
   ],
   "source": [
    "## calculate timespan\n",
    "days = (df.index[-1] - df.index[0]).days\n",
    "print(\"index takes %d days\" % days)"
   ]
  },
  {
   "cell_type": "code",
   "execution_count": 10,
   "metadata": {},
   "outputs": [
    {
     "name": "stdout",
     "output_type": "stream",
     "text": [
      "you would have bought 234.87961998358358 stocks\n",
      "just holding would have given you 6582.50$\n",
      "or 106.86$ per month\n"
     ]
    }
   ],
   "source": [
    "## baseline\n",
    "startMoney = 10000\n",
    "COMMISSION = 0.00025\n",
    "nrStocks = startMoney / df.iloc[0][\"adj_close\"]\n",
    "print(\"you would have bought {} stocks\".format(nrStocks))\n",
    "baselineWin = df.iloc[-1][\"adj_close\"] * nrStocks - startMoney\n",
    "print(\"just holding would have given you %.2f$\" % baselineWin)\n",
    "baselineWinPerMonth = baselineWin / days * 30\n",
    "print(\"or %.2f$ per month\" % baselineWinPerMonth)"
   ]
  },
  {
   "cell_type": "code",
   "execution_count": 11,
   "metadata": {},
   "outputs": [
    {
     "name": "stdout",
     "output_type": "stream",
     "text": [
      "following the signal would have given you 24914.74$\n",
      "or 404.46$ per month\n"
     ]
    },
    {
     "data": {
      "text/plain": [
       "[<matplotlib.lines.Line2D at 0x7fd785111b70>]"
      ]
     },
     "execution_count": 11,
     "metadata": {},
     "output_type": "execute_result"
    },
    {
     "data": {
      "image/png": "[encoded data removed]",
      "text/plain": [
       "<Figure size 640x480 with 1 Axes>"
      ]
     },
     "metadata": {},
     "output_type": "display_data"
    }
   ],
   "source": [
    "## next check if we follow signal what the best scenario would have been\n",
    "money = startMoney\n",
    "nrStocks = 0\n",
    "bestPortfolio = []\n",
    "for i in range(len(df)):\n",
    "    if df.iloc[i][\"signal\"] == 1 and money > 0 and nrStocks == 0:\n",
    "        amount = money / df.iloc[i][\"adj_close\"] * .99\n",
    "        cost = amount * df.iloc[i][\"adj_close\"] * (1 + COMMISSION)\n",
    "        money -= cost\n",
    "        nrStocks += amount\n",
    "    elif df.iloc[i][\"signal\"] == -1 and nrStocks > 0:\n",
    "        money += nrStocks * df.iloc[i][\"adj_close\"] * (1 - COMMISSION)\n",
    "        nrStocks = 0\n",
    "    bestPortfolio.append(money + nrStocks * df.iloc[i][\"adj_close\"])\n",
    "# last day sell nrStocks\n",
    "money += nrStocks * df.iloc[-1][\"adj_close\"] * (1 - COMMISSION)\n",
    "nrStocks = 0\n",
    "\n",
    "win = money - startMoney\n",
    "print(\"following the signal would have given you %.2f$\" % win)\n",
    "winPerMonth = win / days * 30\n",
    "print(\"or %.2f$ per month\" % winPerMonth)\n",
    "plt.plot(bestPortfolio)"
   ]
  },
  {
   "cell_type": "markdown",
   "metadata": {},
   "source": [
    "## find correlations"
   ]
  },
  {
   "cell_type": "code",
   "execution_count": 12,
   "metadata": {},
   "outputs": [
    {
     "data": {
      "text/plain": [
       "open      -0.012703\n",
       "high      -0.017628\n",
       "low       -0.002791\n",
       "close     -0.007943\n",
       "volume    -0.189934\n",
       "             ...   \n",
       "SMA_10    -0.050470\n",
       "SMA_50    -0.134352\n",
       "SMA_100         NaN\n",
       "SMA_200   -0.155830\n",
       "signal     1.000000\n",
       "Name: signal, Length: 98, dtype: float64"
      ]
     },
     "execution_count": 12,
     "metadata": {},
     "output_type": "execute_result"
    }
   ],
   "source": [
    "df.corr()[\"signal\"]"
   ]
  },
  {
   "cell_type": "code",
   "execution_count": 13,
   "metadata": {},
   "outputs": [
    {
     "name": "stdout",
     "output_type": "stream",
     "text": [
      "decision tree scores:  0.8769230769230769\n"
     ]
    }
   ],
   "source": [
    "## try to get some observations with decision tree\n",
    "from sklearn import tree\n",
    "from sklearn.model_selection import train_test_split\n",
    "x_train, x_test, y_train, y_test = train_test_split(  df.drop([\"signal\", \"ticker\"], axis = 1).fillna(method=\"bfill\").fillna(0), df[\"signal\"], test_size=0.2)\n",
    "clf = tree.DecisionTreeClassifier()\n",
    "clf.fit(x_train, y_train)\n",
    "scr = clf.score(x_test, y_test)\n",
    "print(\"decision tree scores: \", scr)\n",
    "pred = clf.predict(df.drop([\"signal\", \"ticker\"], axis = 1).fillna(method=\"bfill\").fillna(0))\n",
    "# tree.plot_tree(clf)"
   ]
  },
  {
   "cell_type": "code",
   "execution_count": 14,
   "metadata": {},
   "outputs": [],
   "source": [
    "import graphviz \n",
    "dot_data = tree.export_graphviz(clf, out_file=None,\n",
    "                        feature_names=x_train.columns,  \n",
    "                        class_names=[\"sell\", \"buy\"],\n",
    "                        filled=True, rounded=True,\n",
    "                        special_characters=True) \n",
    "graph = graphviz.Source(dot_data) \n",
    "# graph "
   ]
  },
  {
   "cell_type": "markdown",
   "metadata": {},
   "source": [
    "## simulate one run with training data"
   ]
  },
  {
   "cell_type": "code",
   "execution_count": 15,
   "metadata": {},
   "outputs": [
    {
     "name": "stdout",
     "output_type": "stream",
     "text": [
      "the decision tree with lookback 0 would have given you 18469.84$\n",
      "or +36.48% per year\n",
      "or 299.84$ per month\n"
     ]
    },
    {
     "data": {
      "text/plain": [
       "[<matplotlib.lines.Line2D at 0x7fd782265e40>]"
      ]
     },
     "execution_count": 15,
     "metadata": {},
     "output_type": "execute_result"
    },
    {
     "data": {
      "image/png": "[encoded data removed]",
      "text/plain": [
       "<Figure size 640x480 with 1 Axes>"
      ]
     },
     "metadata": {},
     "output_type": "display_data"
    }
   ],
   "source": [
    "\n",
    "\n",
    "\n",
    "bestLookback = -1\n",
    "bestLookbackWin = -9999\n",
    "bestLookbackPortfolio = []\n",
    "for lookback in [0]: # range(0, 10):\n",
    "    money = startMoney\n",
    "    nrStocks = 0\n",
    "    portfolio = []\n",
    "    for i in range(lookback, len(df)):\n",
    "        # prednow = np.median(pred[i-lookback:i])\n",
    "        prednow = pred[i]\n",
    "        if prednow == 1 and nrStocks == 0 and money > 10:\n",
    "            # buy\n",
    "            howmany = money / df.iloc[i][\"adj_close\"] * .99\n",
    "            cost = howmany * df.iloc[i][\"adj_close\"] * (1 + COMMISSION)\n",
    "            money -= cost\n",
    "            nrStocks += howmany\n",
    "        elif prednow == -1 and nrStocks > 0:\n",
    "            money += nrStocks * df.iloc[i][\"adj_close\"] * (1 - COMMISSION)\n",
    "            nrStocks = 0\n",
    "        portfolio.append(money + nrStocks * df.iloc[i][\"adj_close\"])\n",
    "    # last day sell\n",
    "    money += nrStocks * df.iloc[-1][\"adj_close\"] * (1 - COMMISSION)\n",
    "    win = money - startMoney\n",
    "    if win > bestLookbackWin:\n",
    "        bestLookback = lookback\n",
    "        bestLookbackWin = win\n",
    "        bestLookbackPortfolio = portfolio\n",
    "\n",
    "print(\"the decision tree with lookback %d would have given you %.2f$\" % (bestLookback, bestLookbackWin))\n",
    "winPct = bestLookbackWin / startMoney * 100\n",
    "winPctYear = winPct / days * 365\n",
    "print(\"or +%.2f%% per year\" % winPctYear)\n",
    "winPerMonth = bestLookbackWin / days * 30\n",
    "print(\"or %.2f$ per month\" % winPerMonth)\n",
    "plt.plot(bestLookbackPortfolio)\n",
    "# lookback of 1\n",
    "# the decision tree would have given you 19937.82$\n",
    "# or 323.67$ per month"
   ]
  },
  {
   "cell_type": "markdown",
   "metadata": {},
   "source": [
    "## try the same with xgb"
   ]
  },
  {
   "cell_type": "code",
   "execution_count": 16,
   "metadata": {},
   "outputs": [],
   "source": [
    "# xgb doesnt like -1\n",
    "y_train = y_train.replace(-1, 0)\n",
    "y_test = y_test.replace(-1, 0)"
   ]
  },
  {
   "cell_type": "code",
   "execution_count": 17,
   "metadata": {},
   "outputs": [],
   "source": [
    "import xgboost as xgb\n",
    "from sklearn import metrics\n",
    "\n",
    "\n",
    "clf = xgb.XGBClassifier(n_jobs = -1)\n",
    "clf.fit(x_train, y_train)\n",
    "# print(clf)\n",
    "predicted_y = clf.predict(x_test)\n"
   ]
  },
  {
   "cell_type": "code",
   "execution_count": 18,
   "metadata": {},
   "outputs": [
    {
     "name": "stdout",
     "output_type": "stream",
     "text": [
      "              precision    recall  f1-score   support\n",
      "\n",
      "         0.0       0.84      0.83      0.83        92\n",
      "         1.0       0.91      0.91      0.91       168\n",
      "\n",
      "    accuracy                           0.88       260\n",
      "   macro avg       0.87      0.87      0.87       260\n",
      "weighted avg       0.88      0.88      0.88       260\n",
      "\n",
      "[[ 76  16]\n",
      " [ 15 153]]\n"
     ]
    }
   ],
   "source": [
    "print(metrics.classification_report(y_test, predicted_y))\n",
    "print(metrics.confusion_matrix(y_test, predicted_y))\n",
    "\n"
   ]
  },
  {
   "cell_type": "code",
   "execution_count": 19,
   "metadata": {},
   "outputs": [
    {
     "data": {
      "text/plain": [
       "<AxesSubplot:title={'center':'Feature importance'}, xlabel='F score', ylabel='Features'>"
      ]
     },
     "execution_count": 19,
     "metadata": {},
     "output_type": "execute_result"
    },
    {
     "data": {
      "image/png": "[encoded data removed]",
      "text/plain": [
       "<Figure size 640x480 with 1 Axes>"
      ]
     },
     "metadata": {},
     "output_type": "display_data"
    }
   ],
   "source": [
    "xgb.plot_importance(clf, max_num_features=15)"
   ]
  },
  {
   "cell_type": "code",
   "execution_count": 20,
   "metadata": {},
   "outputs": [],
   "source": [
    "preds = clf.predict(df.drop([\"signal\", \"ticker\"], axis = 1).fillna(method=\"bfill\").fillna(0))"
   ]
  },
  {
   "cell_type": "code",
   "execution_count": 21,
   "metadata": {},
   "outputs": [
    {
     "name": "stderr",
     "output_type": "stream",
     "text": [
      "/home/jguese/miniconda3/lib/python3.10/site-packages/numpy/core/fromnumeric.py:3432: RuntimeWarning: Mean of empty slice.\n",
      "  return _methods._mean(a, axis=axis, dtype=dtype,\n",
      "/home/jguese/miniconda3/lib/python3.10/site-packages/numpy/core/_methods.py:190: RuntimeWarning: invalid value encountered in double_scalars\n",
      "  ret = ret.dtype.type(ret / rcount)\n"
     ]
    },
    {
     "name": "stdout",
     "output_type": "stream",
     "text": [
      "the XGB with lookback 3 would have given you 6510.10$\n",
      "or +12.86% per year\n",
      "or 105.68$ per month\n"
     ]
    },
    {
     "data": {
      "text/plain": [
       "[<matplotlib.lines.Line2D at 0x7fd74e701e10>]"
      ]
     },
     "execution_count": 21,
     "metadata": {},
     "output_type": "execute_result"
    },
    {
     "data": {
      "image/png": "[encoded data removed]",
      "text/plain": [
       "<Figure size 640x480 with 1 Axes>"
      ]
     },
     "metadata": {},
     "output_type": "display_data"
    }
   ],
   "source": [
    "## do the same dance as with tree\n",
    "\n",
    "\n",
    "bestLookback = -1\n",
    "bestLookbackWin = -9999\n",
    "bestLookbackPortfolio = []\n",
    "for lookback in range(0, 10):\n",
    "    money = startMoney\n",
    "    nrStocks = 0\n",
    "    portfolio = []\n",
    "    for i in range(lookback, len(df)):\n",
    "        prednow = np.median(preds[i-lookback:i])\n",
    "        # prednow = preds[i]\n",
    "        if prednow == 1 and nrStocks == 0 and money > 10:\n",
    "            # buy\n",
    "            howmany = money / df.iloc[i][\"adj_close\"] * .99\n",
    "            cost = howmany * df.iloc[i][\"adj_close\"] * (1 + COMMISSION)\n",
    "            money -= cost\n",
    "            nrStocks += howmany\n",
    "        elif prednow == -1 and nrStocks > 0:\n",
    "            money += nrStocks * df.iloc[i][\"adj_close\"] * (1 - COMMISSION)\n",
    "            nrStocks = 0\n",
    "        portfolio.append(money + nrStocks * df.iloc[i][\"adj_close\"])\n",
    "    # last day sell\n",
    "    money += nrStocks * df.iloc[-1][\"adj_close\"] * (1 - COMMISSION)\n",
    "    win = money - startMoney\n",
    "    if win > bestLookbackWin:\n",
    "        bestLookback = lookback\n",
    "        bestLookbackWin = win\n",
    "        bestLookbackPortfolio = portfolio\n",
    "\n",
    "print(\"the XGB with lookback %d would have given you %.2f$\" % (bestLookback, bestLookbackWin))\n",
    "winPct = bestLookbackWin / startMoney * 100\n",
    "winPctYear = winPct / days * 365\n",
    "print(\"or +%.2f%% per year\" % winPctYear)\n",
    "winPerMonth = bestLookbackWin / days * 30\n",
    "print(\"or %.2f$ per month\" % winPerMonth)\n",
    "plt.plot(bestLookbackPortfolio)\n",
    "## tree\n",
    "# the decision tree with lookback 0 would have given you 19227.17$\n",
    "# or +37.98% per year\n",
    "# or 312.13$ per month\n",
    "## XGB - actually not too nice\n",
    "# the XGB with lookback 3 would have given you 6510.10$\n",
    "# or +12.86% per year\n",
    "# or 105.68$ per month\n"
   ]
  },
  {
   "cell_type": "markdown",
   "metadata": {},
   "source": [
    "## lgbm classifer"
   ]
  },
  {
   "cell_type": "code",
   "execution_count": 22,
   "metadata": {},
   "outputs": [
    {
     "name": "stdout",
     "output_type": "stream",
     "text": [
      "              precision    recall  f1-score   support\n",
      "\n",
      "         0.0       0.83      0.80      0.82        92\n",
      "         1.0       0.89      0.91      0.90       168\n",
      "\n",
      "    accuracy                           0.87       260\n",
      "   macro avg       0.86      0.86      0.86       260\n",
      "weighted avg       0.87      0.87      0.87       260\n",
      "\n",
      "[[ 74  18]\n",
      " [ 15 153]]\n"
     ]
    }
   ],
   "source": [
    "import lightgbm as ltb\n",
    "clf = ltb.LGBMClassifier()\n",
    "clf.fit(x_train, y_train)\n",
    "predicted_y = clf.predict(x_test)\n",
    "print(metrics.classification_report(y_test, predicted_y))\n",
    "print(metrics.confusion_matrix(y_test, predicted_y))"
   ]
  },
  {
   "cell_type": "code",
   "execution_count": 23,
   "metadata": {},
   "outputs": [],
   "source": [
    "preds = clf.predict(df.drop([\"signal\", \"ticker\"], axis = 1).fillna(method=\"bfill\").fillna(0))"
   ]
  },
  {
   "cell_type": "code",
   "execution_count": 24,
   "metadata": {},
   "outputs": [
    {
     "name": "stderr",
     "output_type": "stream",
     "text": [
      "/home/jguese/miniconda3/lib/python3.10/site-packages/numpy/core/fromnumeric.py:3432: RuntimeWarning: Mean of empty slice.\n",
      "  return _methods._mean(a, axis=axis, dtype=dtype,\n",
      "/home/jguese/miniconda3/lib/python3.10/site-packages/numpy/core/_methods.py:190: RuntimeWarning: invalid value encountered in double_scalars\n",
      "  ret = ret.dtype.type(ret / rcount)\n"
     ]
    },
    {
     "name": "stdout",
     "output_type": "stream",
     "text": [
      "the lightgbm with lookback 3 would have given you 6510.10$\n",
      "or +12.86% per year\n",
      "or 105.68$ per month\n"
     ]
    },
    {
     "data": {
      "text/plain": [
       "[<matplotlib.lines.Line2D at 0x7fd74dae1bd0>]"
      ]
     },
     "execution_count": 24,
     "metadata": {},
     "output_type": "execute_result"
    },
    {
     "data": {
      "image/png": "[encoded data removed]",
      "text/plain": [
       "<Figure size 640x480 with 1 Axes>"
      ]
     },
     "metadata": {},
     "output_type": "display_data"
    }
   ],
   "source": [
    "## do the same dance as with xgb\n",
    "\n",
    "\n",
    "bestLookback = -1\n",
    "bestLookbackWin = -9999\n",
    "bestLookbackPortfolio = []\n",
    "for lookback in range(0, 10):\n",
    "    money = startMoney\n",
    "    nrStocks = 0\n",
    "    portfolio = []\n",
    "    for i in range(lookback, len(df)):\n",
    "        prednow = np.median(preds[i-lookback:i])\n",
    "        # prednow = preds[i]\n",
    "        if prednow == 1 and nrStocks == 0 and money > 10:\n",
    "            # buy\n",
    "            howmany = money / df.iloc[i][\"adj_close\"] * .99\n",
    "            cost = howmany * df.iloc[i][\"adj_close\"] * (1 + COMMISSION)\n",
    "            money -= cost\n",
    "            nrStocks += howmany\n",
    "        elif prednow == -1 and nrStocks > 0:\n",
    "            money += nrStocks * df.iloc[i][\"adj_close\"] * (1 - COMMISSION)\n",
    "            nrStocks = 0\n",
    "        portfolio.append(money + nrStocks * df.iloc[i][\"adj_close\"])\n",
    "    # last day sell\n",
    "    money += nrStocks * df.iloc[-1][\"adj_close\"] * (1 - COMMISSION)\n",
    "    win = money - startMoney\n",
    "    if win > bestLookbackWin:\n",
    "        bestLookback = lookback\n",
    "        bestLookbackWin = win\n",
    "        bestLookbackPortfolio = portfolio\n",
    "\n",
    "print(\"the lightgbm with lookback %d would have given you %.2f$\" % (bestLookback, bestLookbackWin))\n",
    "winPct = bestLookbackWin / startMoney * 100\n",
    "winPctYear = winPct / days * 365\n",
    "print(\"or +%.2f%% per year\" % winPctYear)\n",
    "winPerMonth = bestLookbackWin / days * 30\n",
    "print(\"or %.2f$ per month\" % winPerMonth)\n",
    "plt.plot(bestLookbackPortfolio)\n",
    "## tree\n",
    "# the decision tree with lookback 0 would have given you 19227.17$\n",
    "# or +37.98% per year\n",
    "# or 312.13$ per month\n",
    "## XGB - actually not too nice\n",
    "# the xgb with lookback 3 would have given you 3497.44$\n",
    "# or +6.91% per year\n",
    "# or 56.78$ per month\n",
    "## lightgbm \n",
    "# the lightgbm with lookback 3 would have given you 6510.10$\n",
    "# or +12.86% per year\n",
    "# or 105.68$ per month"
   ]
  },
  {
   "cell_type": "markdown",
   "metadata": {},
   "source": [
    "## linear SVC with pipeline"
   ]
  },
  {
   "cell_type": "code",
   "execution_count": 25,
   "metadata": {},
   "outputs": [
    {
     "name": "stdout",
     "output_type": "stream",
     "text": [
      "              precision    recall  f1-score   support\n",
      "\n",
      "         0.0       0.86      0.82      0.84        92\n",
      "         1.0       0.90      0.93      0.91       168\n",
      "\n",
      "    accuracy                           0.89       260\n",
      "   macro avg       0.88      0.87      0.88       260\n",
      "weighted avg       0.89      0.89      0.89       260\n",
      "\n",
      "[[ 75  17]\n",
      " [ 12 156]]\n"
     ]
    },
    {
     "name": "stderr",
     "output_type": "stream",
     "text": [
      "/home/jguese/miniconda3/lib/python3.10/site-packages/sklearn/svm/_base.py:1225: ConvergenceWarning: Liblinear failed to converge, increase the number of iterations.\n",
      "  warnings.warn(\n"
     ]
    }
   ],
   "source": [
    "from sklearn.svm import LinearSVC\n",
    "from sklearn.pipeline import make_pipeline\n",
    "from sklearn.preprocessing import StandardScaler\n",
    "clf = make_pipeline(StandardScaler(),LinearSVC())\n",
    "\n",
    "clf.fit(x_train, y_train)\n",
    "\n",
    "predicted_y = clf.predict(x_test)\n",
    "print(metrics.classification_report(y_test, predicted_y))\n",
    "print(metrics.confusion_matrix(y_test, predicted_y))"
   ]
  },
  {
   "cell_type": "code",
   "execution_count": 26,
   "metadata": {},
   "outputs": [
    {
     "name": "stderr",
     "output_type": "stream",
     "text": [
      "/home/jguese/miniconda3/lib/python3.10/site-packages/sklearn/svm/_base.py:1225: ConvergenceWarning: Liblinear failed to converge, increase the number of iterations.\n",
      "  warnings.warn(\n",
      "/home/jguese/miniconda3/lib/python3.10/site-packages/sklearn/svm/_base.py:1225: ConvergenceWarning: Liblinear failed to converge, increase the number of iterations.\n",
      "  warnings.warn(\n",
      "/home/jguese/miniconda3/lib/python3.10/site-packages/sklearn/svm/_base.py:1225: ConvergenceWarning: Liblinear failed to converge, increase the number of iterations.\n",
      "  warnings.warn(\n",
      "/home/jguese/miniconda3/lib/python3.10/site-packages/sklearn/svm/_base.py:1225: ConvergenceWarning: Liblinear failed to converge, increase the number of iterations.\n",
      "  warnings.warn(\n",
      "/home/jguese/miniconda3/lib/python3.10/site-packages/sklearn/svm/_base.py:1225: ConvergenceWarning: Liblinear failed to converge, increase the number of iterations.\n",
      "  warnings.warn(\n",
      "/home/jguese/miniconda3/lib/python3.10/site-packages/sklearn/svm/_base.py:1225: ConvergenceWarning: Liblinear failed to converge, increase the number of iterations.\n",
      "  warnings.warn(\n",
      "/home/jguese/miniconda3/lib/python3.10/site-packages/sklearn/svm/_base.py:1225: ConvergenceWarning: Liblinear failed to converge, increase the number of iterations.\n",
      "  warnings.warn(\n",
      "/home/jguese/miniconda3/lib/python3.10/site-packages/sklearn/svm/_base.py:1225: ConvergenceWarning: Liblinear failed to converge, increase the number of iterations.\n",
      "  warnings.warn(\n",
      "/home/jguese/miniconda3/lib/python3.10/site-packages/sklearn/svm/_base.py:1225: ConvergenceWarning: Liblinear failed to converge, increase the number of iterations.\n",
      "  warnings.warn(\n",
      "/home/jguese/miniconda3/lib/python3.10/site-packages/sklearn/svm/_base.py:1225: ConvergenceWarning: Liblinear failed to converge, increase the number of iterations.\n",
      "  warnings.warn(\n",
      "/home/jguese/miniconda3/lib/python3.10/site-packages/sklearn/svm/_base.py:1225: ConvergenceWarning: Liblinear failed to converge, increase the number of iterations.\n",
      "  warnings.warn(\n",
      "/home/jguese/miniconda3/lib/python3.10/site-packages/sklearn/svm/_base.py:1225: ConvergenceWarning: Liblinear failed to converge, increase the number of iterations.\n",
      "  warnings.warn(\n",
      "/home/jguese/miniconda3/lib/python3.10/site-packages/sklearn/svm/_base.py:1225: ConvergenceWarning: Liblinear failed to converge, increase the number of iterations.\n",
      "  warnings.warn(\n",
      "/home/jguese/miniconda3/lib/python3.10/site-packages/sklearn/svm/_base.py:1225: ConvergenceWarning: Liblinear failed to converge, increase the number of iterations.\n",
      "  warnings.warn(\n",
      "/home/jguese/miniconda3/lib/python3.10/site-packages/sklearn/svm/_base.py:1225: ConvergenceWarning: Liblinear failed to converge, increase the number of iterations.\n",
      "  warnings.warn(\n",
      "/home/jguese/miniconda3/lib/python3.10/site-packages/sklearn/svm/_base.py:1225: ConvergenceWarning: Liblinear failed to converge, increase the number of iterations.\n",
      "  warnings.warn(\n",
      "/home/jguese/miniconda3/lib/python3.10/site-packages/sklearn/svm/_base.py:1225: ConvergenceWarning: Liblinear failed to converge, increase the number of iterations.\n",
      "  warnings.warn(\n",
      "/home/jguese/miniconda3/lib/python3.10/site-packages/sklearn/svm/_base.py:1225: ConvergenceWarning: Liblinear failed to converge, increase the number of iterations.\n",
      "  warnings.warn(\n",
      "/home/jguese/miniconda3/lib/python3.10/site-packages/sklearn/svm/_base.py:1225: ConvergenceWarning: Liblinear failed to converge, increase the number of iterations.\n",
      "  warnings.warn(\n",
      "/home/jguese/miniconda3/lib/python3.10/site-packages/sklearn/svm/_base.py:1225: ConvergenceWarning: Liblinear failed to converge, increase the number of iterations.\n",
      "  warnings.warn(\n",
      "/home/jguese/miniconda3/lib/python3.10/site-packages/sklearn/svm/_base.py:1225: ConvergenceWarning: Liblinear failed to converge, increase the number of iterations.\n",
      "  warnings.warn(\n",
      "/home/jguese/miniconda3/lib/python3.10/site-packages/sklearn/svm/_base.py:1225: ConvergenceWarning: Liblinear failed to converge, increase the number of iterations.\n",
      "  warnings.warn(\n"
     ]
    },
    {
     "name": "stdout",
     "output_type": "stream",
     "text": [
      "{'SVC__C': 0.01}\n",
      "              precision    recall  f1-score   support\n",
      "\n",
      "         0.0       0.87      0.82      0.84        92\n",
      "         1.0       0.90      0.93      0.92       168\n",
      "\n",
      "    accuracy                           0.89       260\n",
      "   macro avg       0.89      0.87      0.88       260\n",
      "weighted avg       0.89      0.89      0.89       260\n",
      "\n",
      "[[ 75  17]\n",
      " [ 11 157]]\n"
     ]
    },
    {
     "name": "stderr",
     "output_type": "stream",
     "text": [
      "/home/jguese/miniconda3/lib/python3.10/site-packages/sklearn/svm/_base.py:1225: ConvergenceWarning: Liblinear failed to converge, increase the number of iterations.\n",
      "  warnings.warn(\n",
      "/home/jguese/miniconda3/lib/python3.10/site-packages/sklearn/svm/_base.py:1225: ConvergenceWarning: Liblinear failed to converge, increase the number of iterations.\n",
      "  warnings.warn(\n",
      "/home/jguese/miniconda3/lib/python3.10/site-packages/sklearn/svm/_base.py:1225: ConvergenceWarning: Liblinear failed to converge, increase the number of iterations.\n",
      "  warnings.warn(\n",
      "/home/jguese/miniconda3/lib/python3.10/site-packages/sklearn/svm/_base.py:1225: ConvergenceWarning: Liblinear failed to converge, increase the number of iterations.\n",
      "  warnings.warn(\n",
      "/home/jguese/miniconda3/lib/python3.10/site-packages/sklearn/svm/_base.py:1225: ConvergenceWarning: Liblinear failed to converge, increase the number of iterations.\n",
      "  warnings.warn(\n",
      "/home/jguese/miniconda3/lib/python3.10/site-packages/sklearn/svm/_base.py:1225: ConvergenceWarning: Liblinear failed to converge, increase the number of iterations.\n",
      "  warnings.warn(\n",
      "/home/jguese/miniconda3/lib/python3.10/site-packages/sklearn/svm/_base.py:1225: ConvergenceWarning: Liblinear failed to converge, increase the number of iterations.\n",
      "  warnings.warn(\n",
      "/home/jguese/miniconda3/lib/python3.10/site-packages/sklearn/svm/_base.py:1225: ConvergenceWarning: Liblinear failed to converge, increase the number of iterations.\n",
      "  warnings.warn(\n",
      "/home/jguese/miniconda3/lib/python3.10/site-packages/sklearn/svm/_base.py:1225: ConvergenceWarning: Liblinear failed to converge, increase the number of iterations.\n",
      "  warnings.warn(\n",
      "/home/jguese/miniconda3/lib/python3.10/site-packages/sklearn/svm/_base.py:1225: ConvergenceWarning: Liblinear failed to converge, increase the number of iterations.\n",
      "  warnings.warn(\n",
      "/home/jguese/miniconda3/lib/python3.10/site-packages/sklearn/svm/_base.py:1225: ConvergenceWarning: Liblinear failed to converge, increase the number of iterations.\n",
      "  warnings.warn(\n",
      "/home/jguese/miniconda3/lib/python3.10/site-packages/sklearn/svm/_base.py:1225: ConvergenceWarning: Liblinear failed to converge, increase the number of iterations.\n",
      "  warnings.warn(\n",
      "/home/jguese/miniconda3/lib/python3.10/site-packages/sklearn/svm/_base.py:1225: ConvergenceWarning: Liblinear failed to converge, increase the number of iterations.\n",
      "  warnings.warn(\n",
      "/home/jguese/miniconda3/lib/python3.10/site-packages/sklearn/svm/_base.py:1225: ConvergenceWarning: Liblinear failed to converge, increase the number of iterations.\n",
      "  warnings.warn(\n"
     ]
    }
   ],
   "source": [
    "## hyperparameter tuning\n",
    "from sklearn.model_selection import GridSearchCV\n",
    "from sklearn.pipeline import Pipeline\n",
    "\n",
    "param_grid = {'SVC__C':np.arange(0.01,100,10)}\n",
    "\n",
    "SVCpipe = Pipeline([('scale', StandardScaler()),\n",
    "                ('SVC',LinearSVC())])\n",
    "linearSVC = GridSearchCV(SVCpipe,param_grid,cv=4,return_train_score=True,n_jobs = -1)\n",
    "linearSVC.fit(x_train,y_train)\n",
    "print(linearSVC.best_params_)\n",
    "bestlinearSVC = linearSVC.best_estimator_\n",
    "\n",
    "predicted_y = bestlinearSVC.predict(x_test)\n",
    "print(metrics.classification_report(y_test, predicted_y))\n",
    "print(metrics.confusion_matrix(y_test, predicted_y))"
   ]
  },
  {
   "cell_type": "markdown",
   "metadata": {},
   "source": [
    "# now something interesting, what if we use the same for another stock :o?"
   ]
  },
  {
   "cell_type": "code",
   "execution_count": 27,
   "metadata": {},
   "outputs": [
    {
     "data": {
      "text/html": [
       "<style>#sk-container-id-1 {color: black;background-color: white;}#sk-container-id-1 pre{padding: 0;}#sk-container-id-1 div.sk-toggleable {background-color: white;}#sk-container-id-1 label.sk-toggleable__label {cursor: pointer;display: block;width: 100%;margin-bottom: 0;padding: 0.3em;box-sizing: border-box;text-align: center;}#sk-container-id-1 label.sk-toggleable__label-arrow:before {content: \"▸\";float: left;margin-right: 0.25em;color: #696969;}#sk-container-id-1 label.sk-toggleable__label-arrow:hover:before {color: black;}#sk-container-id-1 div.sk-estimator:hover label.sk-toggleable__label-arrow:before {color: black;}#sk-container-id-1 div.sk-toggleable__content {max-height: 0;max-width: 0;overflow: hidden;text-align: left;background-color: #f0f8ff;}#sk-container-id-1 div.sk-toggleable__content pre {margin: 0.2em;color: black;border-radius: 0.25em;background-color: #f0f8ff;}#sk-container-id-1 input.sk-toggleable__control:checked~div.sk-toggleable__content {max-height: 200px;max-width: 100%;overflow: auto;}#sk-container-id-1 input.sk-toggleable__control:checked~label.sk-toggleable__label-arrow:before {content: \"▾\";}#sk-container-id-1 div.sk-estimator input.sk-toggleable__control:checked~label.sk-toggleable__label {background-color: #d4ebff;}#sk-container-id-1 div.sk-label input.sk-toggleable__control:checked~label.sk-toggleable__label {background-color: #d4ebff;}#sk-container-id-1 input.sk-hidden--visually {border: 0;clip: rect(1px 1px 1px 1px);clip: rect(1px, 1px, 1px, 1px);height: 1px;margin: -1px;overflow: hidden;padding: 0;position: absolute;width: 1px;}#sk-container-id-1 div.sk-estimator {font-family: monospace;background-color: #f0f8ff;border: 1px dotted black;border-radius: 0.25em;box-sizing: border-box;margin-bottom: 0.5em;}#sk-container-id-1 div.sk-estimator:hover {background-color: #d4ebff;}#sk-container-id-1 div.sk-parallel-item::after {content: \"\";width: 100%;border-bottom: 1px solid gray;flex-grow: 1;}#sk-container-id-1 div.sk-label:hover label.sk-toggleable__label {background-color: #d4ebff;}#sk-container-id-1 div.sk-serial::before {content: \"\";position: absolute;border-left: 1px solid gray;box-sizing: border-box;top: 0;bottom: 0;left: 50%;z-index: 0;}#sk-container-id-1 div.sk-serial {display: flex;flex-direction: column;align-items: center;background-color: white;padding-right: 0.2em;padding-left: 0.2em;position: relative;}#sk-container-id-1 div.sk-item {position: relative;z-index: 1;}#sk-container-id-1 div.sk-parallel {display: flex;align-items: stretch;justify-content: center;background-color: white;position: relative;}#sk-container-id-1 div.sk-item::before, #sk-container-id-1 div.sk-parallel-item::before {content: \"\";position: absolute;border-left: 1px solid gray;box-sizing: border-box;top: 0;bottom: 0;left: 50%;z-index: -1;}#sk-container-id-1 div.sk-parallel-item {display: flex;flex-direction: column;z-index: 1;position: relative;background-color: white;}#sk-container-id-1 div.sk-parallel-item:first-child::after {align-self: flex-end;width: 50%;}#sk-container-id-1 div.sk-parallel-item:last-child::after {align-self: flex-start;width: 50%;}#sk-container-id-1 div.sk-parallel-item:only-child::after {width: 0;}#sk-container-id-1 div.sk-dashed-wrapped {border: 1px dashed gray;margin: 0 0.4em 0.5em 0.4em;box-sizing: border-box;padding-bottom: 0.4em;background-color: white;}#sk-container-id-1 div.sk-label label {font-family: monospace;font-weight: bold;display: inline-block;line-height: 1.2em;}#sk-container-id-1 div.sk-label-container {text-align: center;}#sk-container-id-1 div.sk-container {/* jupyter's `normalize.less` sets `[hidden] { display: none; }` but bootstrap.min.css set `[hidden] { display: none !important; }` so we also need the `!important` here to be able to override the default hidden behavior on the sphinx rendered scikit-learn.org. See: https://github.com/scikit-learn/scikit-learn/issues/21755 */display: inline-block !important;position: relative;}#sk-container-id-1 div.sk-text-repr-fallback {display: none;}</style><div id=\"sk-container-id-1\" class=\"sk-top-container\"><div class=\"sk-text-repr-fallback\"><pre>DecisionTreeClassifier()</pre><b>In a Jupyter environment, please rerun this cell to show the HTML representation or trust the notebook. <br />On GitHub, the HTML representation is unable to render, please try loading this page with nbviewer.org.</b></div><div class=\"sk-container\" hidden><div class=\"sk-item\"><div class=\"sk-estimator sk-toggleable\"><input class=\"sk-toggleable__control sk-hidden--visually\" id=\"sk-estimator-id-1\" type=\"checkbox\" checked><label for=\"sk-estimator-id-1\" class=\"sk-toggleable__label sk-toggleable__label-arrow\">DecisionTreeClassifier</label><div class=\"sk-toggleable__content\"><pre>DecisionTreeClassifier()</pre></div></div></div></div></div>"
      ],
      "text/plain": [
       "DecisionTreeClassifier()"
      ]
     },
     "execution_count": 27,
     "metadata": {},
     "output_type": "execute_result"
    }
   ],
   "source": [
    "clf = tree.DecisionTreeClassifier()\n",
    "clf.fit(x_train, y_train)"
   ]
  },
  {
   "cell_type": "code",
   "execution_count": 28,
   "metadata": {},
   "outputs": [
    {
     "name": "stdout",
     "output_type": "stream",
     "text": [
      "              precision    recall  f1-score   support\n",
      "\n",
      "        -1.0       0.00      0.00      0.00       454\n",
      "         0.0       0.00      0.00      0.00         0\n",
      "         1.0       0.83      0.89      0.86       822\n",
      "\n",
      "    accuracy                           0.57      1276\n",
      "   macro avg       0.28      0.30      0.29      1276\n",
      "weighted avg       0.53      0.57      0.55      1276\n",
      "\n",
      "[[  0 302 152]\n",
      " [  0   0   0]\n",
      " [  0  92 730]]\n"
     ]
    },
    {
     "name": "stderr",
     "output_type": "stream",
     "text": [
      "/home/jguese/miniconda3/lib/python3.10/site-packages/sklearn/metrics/_classification.py:1334: UndefinedMetricWarning: Precision and F-score are ill-defined and being set to 0.0 in labels with no predicted samples. Use `zero_division` parameter to control this behavior.\n",
      "  _warn_prf(average, modifier, msg_start, len(result))\n",
      "/home/jguese/miniconda3/lib/python3.10/site-packages/sklearn/metrics/_classification.py:1334: UndefinedMetricWarning: Recall and F-score are ill-defined and being set to 0.0 in labels with no true samples. Use `zero_division` parameter to control this behavior.\n",
      "  _warn_prf(average, modifier, msg_start, len(result))\n",
      "/home/jguese/miniconda3/lib/python3.10/site-packages/sklearn/metrics/_classification.py:1334: UndefinedMetricWarning: Precision and F-score are ill-defined and being set to 0.0 in labels with no predicted samples. Use `zero_division` parameter to control this behavior.\n",
      "  _warn_prf(average, modifier, msg_start, len(result))\n",
      "/home/jguese/miniconda3/lib/python3.10/site-packages/sklearn/metrics/_classification.py:1334: UndefinedMetricWarning: Recall and F-score are ill-defined and being set to 0.0 in labels with no true samples. Use `zero_division` parameter to control this behavior.\n",
      "  _warn_prf(average, modifier, msg_start, len(result))\n",
      "/home/jguese/miniconda3/lib/python3.10/site-packages/sklearn/metrics/_classification.py:1334: UndefinedMetricWarning: Precision and F-score are ill-defined and being set to 0.0 in labels with no predicted samples. Use `zero_division` parameter to control this behavior.\n",
      "  _warn_prf(average, modifier, msg_start, len(result))\n",
      "/home/jguese/miniconda3/lib/python3.10/site-packages/sklearn/metrics/_classification.py:1334: UndefinedMetricWarning: Recall and F-score are ill-defined and being set to 0.0 in labels with no true samples. Use `zero_division` parameter to control this behavior.\n",
      "  _warn_prf(average, modifier, msg_start, len(result))\n"
     ]
    }
   ],
   "source": [
    "df = bot.getData(ticker = \"AAPL\", start_date = datetime(2010,1,1), technical_indicators=[\"all\"])\n",
    "df = bot.getTrend(df)\n",
    "\n",
    "preds = clf.predict(df.drop([\"signal\", \"ticker\"], axis = 1).fillna(method=\"bfill\").fillna(0))\n",
    "print(metrics.classification_report(df[\"signal\"], preds))\n",
    "print(metrics.confusion_matrix(df[\"signal\"], preds))"
   ]
  },
  {
   "cell_type": "markdown",
   "metadata": {},
   "source": [
    "if we use it for another stock performance is not too good!\n",
    "but well that shouldn't surprise us.\n",
    "\n",
    "next try to train on a ton of different data and see if we can create a generalized predictor"
   ]
  },
  {
   "cell_type": "code",
   "execution_count": 29,
   "metadata": {},
   "outputs": [
    {
     "name": "stdout",
     "output_type": "stream",
     "text": [
      "geddin stock: CWEG.L\n",
      "geddin stock: IWDA.AS\n",
      "geddin stock: EEM\n",
      "geddin stock: AAPL\n",
      "geddin stock: MSFT\n",
      "geddin stock: GOOG\n",
      "geddin stock: TSLA\n",
      "geddin stock: AMD\n",
      "geddin stock: AMZN\n",
      "geddin stock: DG\n",
      "geddin stock: ETH-USD\n"
     ]
    },
    {
     "data": {
      "text/html": [
       "<div>\n",
       "<style scoped>\n",
       "    .dataframe tbody tr th:only-of-type {\n",
       "        vertical-align: middle;\n",
       "    }\n",
       "\n",
       "    .dataframe tbody tr th {\n",
       "        vertical-align: top;\n",
       "    }\n",
       "\n",
       "    .dataframe thead th {\n",
       "        text-align: right;\n",
       "    }\n",
       "</style>\n",
       "<table border=\"1\" class=\"dataframe\">\n",
       "  <thead>\n",
       "    <tr style=\"text-align: right;\">\n",
       "      <th></th>\n",
       "      <th>ticker</th>\n",
       "      <th>open</th>\n",
       "      <th>high</th>\n",
       "      <th>low</th>\n",
       "      <th>close</th>\n",
       "      <th>volume</th>\n",
       "      <th>adj_close</th>\n",
       "      <th>volume_adi</th>\n",
       "      <th>volume_obv</th>\n",
       "      <th>volume_cmf</th>\n",
       "      <th>...</th>\n",
       "      <th>momentum_kama</th>\n",
       "      <th>others_dr</th>\n",
       "      <th>others_dlr</th>\n",
       "      <th>others_cr</th>\n",
       "      <th>SMA_3</th>\n",
       "      <th>SMA_10</th>\n",
       "      <th>SMA_50</th>\n",
       "      <th>SMA_100</th>\n",
       "      <th>SMA_200</th>\n",
       "      <th>signal</th>\n",
       "    </tr>\n",
       "    <tr>\n",
       "      <th>timestamp</th>\n",
       "      <th></th>\n",
       "      <th></th>\n",
       "      <th></th>\n",
       "      <th></th>\n",
       "      <th></th>\n",
       "      <th></th>\n",
       "      <th></th>\n",
       "      <th></th>\n",
       "      <th></th>\n",
       "      <th></th>\n",
       "      <th></th>\n",
       "      <th></th>\n",
       "      <th></th>\n",
       "      <th></th>\n",
       "      <th></th>\n",
       "      <th></th>\n",
       "      <th></th>\n",
       "      <th></th>\n",
       "      <th></th>\n",
       "      <th></th>\n",
       "      <th></th>\n",
       "    </tr>\n",
       "  </thead>\n",
       "  <tbody>\n",
       "    <tr>\n",
       "      <th>2018-03-09</th>\n",
       "      <td>CWEG.L</td>\n",
       "      <td>22440.0</td>\n",
       "      <td>22440.0</td>\n",
       "      <td>22430.0</td>\n",
       "      <td>22470.0</td>\n",
       "      <td>1400</td>\n",
       "      <td>22470.0</td>\n",
       "      <td>9800.0</td>\n",
       "      <td>1400.0</td>\n",
       "      <td>7.000000</td>\n",
       "      <td>...</td>\n",
       "      <td>22470.000000</td>\n",
       "      <td>-4.433549</td>\n",
       "      <td>-0.591421</td>\n",
       "      <td>-0.589675</td>\n",
       "      <td>22313.333333</td>\n",
       "      <td>25491.75</td>\n",
       "      <td>21117.01</td>\n",
       "      <td>0</td>\n",
       "      <td>0.0</td>\n",
       "      <td>1.0</td>\n",
       "    </tr>\n",
       "    <tr>\n",
       "      <th>2018-03-21</th>\n",
       "      <td>CWEG.L</td>\n",
       "      <td>21870.0</td>\n",
       "      <td>21870.0</td>\n",
       "      <td>21870.0</td>\n",
       "      <td>22337.5</td>\n",
       "      <td>1400</td>\n",
       "      <td>22337.5</td>\n",
       "      <td>9800.0</td>\n",
       "      <td>-34.0</td>\n",
       "      <td>3.500000</td>\n",
       "      <td>...</td>\n",
       "      <td>22409.540207</td>\n",
       "      <td>-0.589675</td>\n",
       "      <td>-0.591421</td>\n",
       "      <td>-0.589675</td>\n",
       "      <td>23607.500000</td>\n",
       "      <td>25041.25</td>\n",
       "      <td>21117.01</td>\n",
       "      <td>0</td>\n",
       "      <td>0.0</td>\n",
       "      <td>1.0</td>\n",
       "    </tr>\n",
       "    <tr>\n",
       "      <th>2018-03-27</th>\n",
       "      <td>CWEG.L</td>\n",
       "      <td>22090.0</td>\n",
       "      <td>22090.0</td>\n",
       "      <td>22090.0</td>\n",
       "      <td>22132.5</td>\n",
       "      <td>34</td>\n",
       "      <td>22132.5</td>\n",
       "      <td>9800.0</td>\n",
       "      <td>-34.0</td>\n",
       "      <td>3.458010</td>\n",
       "      <td>...</td>\n",
       "      <td>22281.687834</td>\n",
       "      <td>-0.917739</td>\n",
       "      <td>-0.921976</td>\n",
       "      <td>-1.502003</td>\n",
       "      <td>22313.333333</td>\n",
       "      <td>25491.75</td>\n",
       "      <td>21117.01</td>\n",
       "      <td>0</td>\n",
       "      <td>0.0</td>\n",
       "      <td>1.0</td>\n",
       "    </tr>\n",
       "    <tr>\n",
       "      <th>2018-05-15</th>\n",
       "      <td>CWEG.L</td>\n",
       "      <td>26400.0</td>\n",
       "      <td>26400.0</td>\n",
       "      <td>26400.0</td>\n",
       "      <td>26352.5</td>\n",
       "      <td>619</td>\n",
       "      <td>26352.5</td>\n",
       "      <td>9800.0</td>\n",
       "      <td>585.0</td>\n",
       "      <td>2.838112</td>\n",
       "      <td>...</td>\n",
       "      <td>22828.240240</td>\n",
       "      <td>19.066983</td>\n",
       "      <td>17.451603</td>\n",
       "      <td>17.278594</td>\n",
       "      <td>23607.500000</td>\n",
       "      <td>25041.25</td>\n",
       "      <td>21117.01</td>\n",
       "      <td>0</td>\n",
       "      <td>0.0</td>\n",
       "      <td>1.0</td>\n",
       "    </tr>\n",
       "    <tr>\n",
       "      <th>2018-05-29</th>\n",
       "      <td>CWEG.L</td>\n",
       "      <td>25345.0</td>\n",
       "      <td>25345.0</td>\n",
       "      <td>25345.0</td>\n",
       "      <td>25532.5</td>\n",
       "      <td>619</td>\n",
       "      <td>25532.5</td>\n",
       "      <td>9800.0</td>\n",
       "      <td>-34.0</td>\n",
       "      <td>2.406680</td>\n",
       "      <td>...</td>\n",
       "      <td>23200.201165</td>\n",
       "      <td>-3.111659</td>\n",
       "      <td>-3.161100</td>\n",
       "      <td>13.629283</td>\n",
       "      <td>24672.500000</td>\n",
       "      <td>25491.75</td>\n",
       "      <td>21117.01</td>\n",
       "      <td>0</td>\n",
       "      <td>0.0</td>\n",
       "      <td>1.0</td>\n",
       "    </tr>\n",
       "  </tbody>\n",
       "</table>\n",
       "<p>5 rows × 99 columns</p>\n",
       "</div>"
      ],
      "text/plain": [
       "            ticker     open     high      low    close  volume  adj_close  \\\n",
       "timestamp                                                                   \n",
       "2018-03-09  CWEG.L  22440.0  22440.0  22430.0  22470.0    1400    22470.0   \n",
       "2018-03-21  CWEG.L  21870.0  21870.0  21870.0  22337.5    1400    22337.5   \n",
       "2018-03-27  CWEG.L  22090.0  22090.0  22090.0  22132.5      34    22132.5   \n",
       "2018-05-15  CWEG.L  26400.0  26400.0  26400.0  26352.5     619    26352.5   \n",
       "2018-05-29  CWEG.L  25345.0  25345.0  25345.0  25532.5     619    25532.5   \n",
       "\n",
       "            volume_adi  volume_obv  volume_cmf  ...  momentum_kama  others_dr  \\\n",
       "timestamp                                       ...                             \n",
       "2018-03-09      9800.0      1400.0    7.000000  ...   22470.000000  -4.433549   \n",
       "2018-03-21      9800.0       -34.0    3.500000  ...   22409.540207  -0.589675   \n",
       "2018-03-27      9800.0       -34.0    3.458010  ...   22281.687834  -0.917739   \n",
       "2018-05-15      9800.0       585.0    2.838112  ...   22828.240240  19.066983   \n",
       "2018-05-29      9800.0       -34.0    2.406680  ...   23200.201165  -3.111659   \n",
       "\n",
       "            others_dlr  others_cr         SMA_3    SMA_10    SMA_50  SMA_100  \\\n",
       "timestamp                                                                      \n",
       "2018-03-09   -0.591421  -0.589675  22313.333333  25491.75  21117.01        0   \n",
       "2018-03-21   -0.591421  -0.589675  23607.500000  25041.25  21117.01        0   \n",
       "2018-03-27   -0.921976  -1.502003  22313.333333  25491.75  21117.01        0   \n",
       "2018-05-15   17.451603  17.278594  23607.500000  25041.25  21117.01        0   \n",
       "2018-05-29   -3.161100  13.629283  24672.500000  25491.75  21117.01        0   \n",
       "\n",
       "            SMA_200  signal  \n",
       "timestamp                    \n",
       "2018-03-09      0.0     1.0  \n",
       "2018-03-21      0.0     1.0  \n",
       "2018-03-27      0.0     1.0  \n",
       "2018-05-15      0.0     1.0  \n",
       "2018-05-29      0.0     1.0  \n",
       "\n",
       "[5 rows x 99 columns]"
      ]
     },
     "execution_count": 29,
     "metadata": {},
     "output_type": "execute_result"
    }
   ],
   "source": [
    "bigDf = []\n",
    "for ticker in [\"CWEG.L\", \"IWDA.AS\", \"EEM\", \"AAPL\", \"MSFT\", \"GOOG\", \"TSLA\", 'AMD', 'AMZN', 'DG', \"ETH-USD\"]:\n",
    "    print(\"geddin stock: \" + ticker)\n",
    "    df = bot.getData(ticker = ticker, start_date = datetime(2010,1,1), technical_indicators=[\"all\"])\n",
    "    df = bot.getTrend(df)\n",
    "    bigDf.append(df)\n",
    "    \n",
    "bigDf = pd.concat(bigDf)\n",
    "bigDf.head()"
   ]
  },
  {
   "cell_type": "code",
   "execution_count": 30,
   "metadata": {},
   "outputs": [
    {
     "name": "stdout",
     "output_type": "stream",
     "text": [
      "decision tree scores:  0.8833333333333333\n"
     ]
    }
   ],
   "source": [
    "x_train, x_test, y_train, y_test = train_test_split(  df.drop([\"signal\", \"ticker\"], axis = 1).fillna(method=\"bfill\").fillna(0), df[\"signal\"], test_size=0.1, shuffle=True)\n",
    "clf = tree.DecisionTreeClassifier()\n",
    "clf.fit(x_train, y_train)\n",
    "scr = clf.score(x_test, y_test)\n",
    "print(\"decision tree scores: \", scr)\n",
    "pred = clf.predict(df.drop([\"signal\", \"ticker\"], axis = 1).fillna(method=\"bfill\").fillna(0))"
   ]
  },
  {
   "cell_type": "code",
   "execution_count": 31,
   "metadata": {},
   "outputs": [],
   "source": [
    "dot_data = tree.export_graphviz(clf, out_file=None,\n",
    "                        feature_names=x_train.columns,  \n",
    "                        class_names=[\"sell\", \"buy\"],\n",
    "                        filled=True, rounded=True,\n",
    "                        special_characters=True) \n",
    "graph = graphviz.Source(dot_data) \n",
    "# graph"
   ]
  },
  {
   "cell_type": "code",
   "execution_count": 32,
   "metadata": {},
   "outputs": [
    {
     "name": "stderr",
     "output_type": "stream",
     "text": [
      "/home/jguese/miniconda3/lib/python3.10/site-packages/numpy/core/fromnumeric.py:3432: RuntimeWarning: Mean of empty slice.\n",
      "  return _methods._mean(a, axis=axis, dtype=dtype,\n",
      "/home/jguese/miniconda3/lib/python3.10/site-packages/numpy/core/_methods.py:190: RuntimeWarning: invalid value encountered in double_scalars\n",
      "  ret = ret.dtype.type(ret / rcount)\n"
     ]
    },
    {
     "name": "stdout",
     "output_type": "stream",
     "text": [
      "the lightgbm with lookback 1 would have given you 35155.43$\n",
      "or +71.69% per year\n",
      "or 589.20$ per month\n"
     ]
    }
   ],
   "source": [
    "## simulate\n",
    "\n",
    "\n",
    "bestLookback = -1\n",
    "bestLookbackWin = -9999\n",
    "bestLookbackPortfolio = dict()\n",
    "for lookback in range(0, 10):\n",
    "    money = startMoney\n",
    "    nrStocks = 0\n",
    "    portfolio = dict()\n",
    "    for i in range(lookback, len(df)):\n",
    "        prednow = np.median(preds[i-lookback:i])\n",
    "        # if we switched stock sell the old and continue with new\n",
    "        if df.iloc[i][\"ticker\"] != df.iloc[i-1][\"ticker\"]:\n",
    "            money += nrStocks * df.iloc[i-1][\"adj_close\"] * (1 - COMMISSION)\n",
    "            nrStocks = 0\n",
    "            portfolio[df.iloc[i][\"ticker\"]] = []\n",
    "        # prednow = preds[i]\n",
    "        if prednow == 1 and nrStocks == 0 and money > 10:\n",
    "            # buy\n",
    "            howmany = money / df.iloc[i][\"adj_close\"] * .99\n",
    "            cost = howmany * df.iloc[i][\"adj_close\"] * (1 + COMMISSION)\n",
    "            money -= cost\n",
    "            nrStocks += howmany\n",
    "        elif prednow == -1 and nrStocks > 0:\n",
    "            money += nrStocks * df.iloc[i][\"adj_close\"] * (1 - COMMISSION)\n",
    "            nrStocks = 0\n",
    "        try:\n",
    "            portfolio[df.iloc[i][\"ticker\"]] = portfolio[df.iloc[i][\"ticker\"]].append(money + nrStocks * df.iloc[i][\"adj_close\"])\n",
    "        except:\n",
    "            # idk\n",
    "            pass\n",
    "    # last day sell\n",
    "    money += nrStocks * df.iloc[-1][\"adj_close\"] * (1 - COMMISSION)\n",
    "    win = money - startMoney\n",
    "    if win > bestLookbackWin:\n",
    "        bestLookback = lookback\n",
    "        bestLookbackWin = win\n",
    "        bestLookbackPortfolio = portfolio\n",
    "\n",
    "print(\"the lightgbm with lookback %d would have given you %.2f$\" % (bestLookback, bestLookbackWin))\n",
    "winPct = bestLookbackWin / startMoney * 100\n",
    "days = (df.index[-1] - df.index[0]).days\n",
    "winPctYear = winPct / days * 365\n",
    "print(\"or +%.2f%% per year\" % winPctYear)\n",
    "winPerMonth = bestLookbackWin / days * 30\n",
    "print(\"or %.2f$ per month\" % winPerMonth)\n",
    "for ticker,portfolio in bestLookbackPortfolio:\n",
    "    plt.title(ticker)\n",
    "    plt.plot(bestLookbackPortfolio)\n",
    "    plt.show()\n",
    "## tree\n",
    "# the decision tree with lookback 0 would have given you 19227.17$\n",
    "# or +37.98% per year\n",
    "# or 312.13$ per month\n",
    "## XGB - actually not too nice\n",
    "# the xgb with lookback 3 would have given you 3497.44$\n",
    "# or +6.91% per year\n",
    "# or 56.78$ per month\n",
    "## lightgbm \n",
    "# the lightgbm with lookback 3 would have given you 6510.10$\n",
    "# or +12.86% per year\n",
    "# or 105.68$ per month"
   ]
  },
  {
   "cell_type": "markdown",
   "metadata": {},
   "source": [
    "## next try to \"dumb\" down decision tree until we find a good mix between reducing accuracy and complexity\n",
    "\n"
   ]
  },
  {
   "cell_type": "code",
   "execution_count": 116,
   "metadata": {},
   "outputs": [],
   "source": [
    "## limit to one stock?\n",
    "bigDf = bot.getData(ticker = \"AAPL\", start_date = datetime(2010,1,1), technical_indicators=[\"all\"])\n",
    "bigDf = bot.getTrend(bigDf)"
   ]
  },
  {
   "cell_type": "code",
   "execution_count": 117,
   "metadata": {},
   "outputs": [],
   "source": [
    "# for this use the whole data\n",
    "X, Y = bigDf.drop([\"signal\", \"ticker\"], axis = 1).fillna(method=\"bfill\").fillna(0), bigDf[\"signal\"]\n"
   ]
  },
  {
   "cell_type": "code",
   "execution_count": 118,
   "metadata": {},
   "outputs": [
    {
     "name": "stdout",
     "output_type": "stream",
     "text": [
      "decision tree score with a depth of 100:  1.0\n",
      "decision tree score with a depth of 20:  1.0\n",
      "decision tree score with a depth of 15:  1.0\n",
      "decision tree score with a depth of 10:  0.9992163009404389\n",
      "decision tree score with a depth of 5:  0.9655172413793104\n",
      "decision tree score with a depth of 3:  0.9420062695924765\n",
      "decision tree score with a depth of 2:  0.9028213166144201\n"
     ]
    }
   ],
   "source": [
    "# free decision tree has: 0.89\n",
    "for depth in [100,20,15,10,5,3,2]:\n",
    "    clf = tree.DecisionTreeClassifier(max_depth=depth)\n",
    "    clf.fit(X, Y)\n",
    "    scr = clf.score(X, Y)\n",
    "    print(\"decision tree score with a depth of %d: \" % depth, scr)"
   ]
  },
  {
   "cell_type": "code",
   "execution_count": 124,
   "metadata": {},
   "outputs": [
    {
     "name": "stdout",
     "output_type": "stream",
     "text": [
      "decision tree score with a depth of 5:  0.9655172413793104\n"
     ]
    }
   ],
   "source": [
    "clf = tree.DecisionTreeClassifier(max_depth=5)\n",
    "clf.fit(X, Y)\n",
    "scr = clf.score(X, Y)\n",
    "print(\"decision tree score with a depth of 5: \", scr)"
   ]
  },
  {
   "cell_type": "code",
   "execution_count": 125,
   "metadata": {},
   "outputs": [
    {
     "name": "stdout",
     "output_type": "stream",
     "text": [
      "decision tree score with nr features of 10:  0.9498432601880877\n",
      "decision tree score with nr features of 9:  0.9474921630094044\n",
      "decision tree score with nr features of 8:  0.945141065830721\n",
      "decision tree score with nr features of 7:  0.9396551724137931\n",
      "decision tree score with nr features of 6:  0.9365203761755486\n",
      "decision tree score with nr features of 5:  0.9231974921630094\n",
      "decision tree score with nr features of 4:  0.9028213166144201\n",
      "decision tree score with nr features of 3:  0.9028213166144201\n",
      "decision tree score with nr features of 2:  0.9028213166144201\n"
     ]
    }
   ],
   "source": [
    "# then see how many features we can reduce\n",
    "for nrFeatures in [10,9,8,7,6,5,4,3,2]:\n",
    "    clf = tree.DecisionTreeClassifier(max_depth=5, max_leaf_nodes = nrFeatures)\n",
    "    clf.fit(X, Y)\n",
    "    scr = clf.score(X, Y)\n",
    "    print(\"decision tree score with nr features of %d: \" % nrFeatures, scr)"
   ]
  },
  {
   "cell_type": "code",
   "execution_count": 133,
   "metadata": {},
   "outputs": [
    {
     "name": "stdout",
     "output_type": "stream",
     "text": [
      "decision tree score with depth 4 and max_leaf_nodes 6:  0.945141065830721\n"
     ]
    }
   ],
   "source": [
    "# it seems like 6 features looks good with 0.887555228276\n",
    "\n",
    "clf = tree.DecisionTreeClassifier(max_depth=5, max_leaf_nodes = 8)\n",
    "clf.fit(X, Y)\n",
    "scr = clf.score(X,Y)\n",
    "print(\"decision tree score with depth 4 and max_leaf_nodes 6: \" , scr)"
   ]
  },
  {
   "cell_type": "markdown",
   "metadata": {},
   "source": [
    "the ideal depth seems to be 4. it reaches accuracy of 0.88"
   ]
  },
  {
   "cell_type": "code",
   "execution_count": 134,
   "metadata": {},
   "outputs": [
    {
     "data": {
      "image/svg+xml": "<?xml version=\"1.0\" encoding=\"UTF-8\" standalone=\"no\"?>\n<!DOCTYPE svg PUBLIC \"-//W3C//DTD SVG 1.1//EN\"\n \"http://www.w3.org/Graphics/SVG/1.1/DTD/svg11.dtd\">\n<!-- Generated by graphviz version 2.43.0 (0)\n -->\n<!-- Title: Tree Pages: 1 -->\n<svg width=\"955pt\" height=\"552pt\"\n viewBox=\"0.00 0.00 954.50 552.00\" xmlns=\"http://www.w3.org/2000/svg\" xmlns:xlink=\"http://www.w3.org/1999/xlink\">\n<g id=\"graph0\" class=\"graph\" transform=\"scale(1 1) rotate(0) translate(4 548)\">\n<title>Tree</title>\n<polygon fill=\"white\" stroke=\"transparent\" points=\"-4,4 -4,-548 950.5,-548 950.5,4 -4,4\"/>\n<!-- 0 -->\n<g id=\"node1\" class=\"node\">\n<title>0</title>\n<path fill=\"#a6d3f3\" stroke=\"black\" d=\"M485.5,-544C485.5,-544 327.5,-544 327.5,-544 321.5,-544 315.5,-538 315.5,-532 315.5,-532 315.5,-473 315.5,-473 315.5,-467 321.5,-461 327.5,-461 327.5,-461 485.5,-461 485.5,-461 491.5,-461 497.5,-467 497.5,-473 497.5,-473 497.5,-532 497.5,-532 497.5,-538 491.5,-544 485.5,-544\"/>\n<text text-anchor=\"start\" x=\"323.5\" y=\"-528.8\" font-family=\"Helvetica,sans-Serif\" font-size=\"14.00\">momentum_rsi ≤ 49.91</text>\n<text text-anchor=\"start\" x=\"362.5\" y=\"-513.8\" font-family=\"Helvetica,sans-Serif\" font-size=\"14.00\">gini = 0.458</text>\n<text text-anchor=\"start\" x=\"349\" y=\"-498.8\" font-family=\"Helvetica,sans-Serif\" font-size=\"14.00\">samples = 1276</text>\n<text text-anchor=\"start\" x=\"340\" y=\"-483.8\" font-family=\"Helvetica,sans-Serif\" font-size=\"14.00\">value = [454, 822]</text>\n<text text-anchor=\"start\" x=\"365.5\" y=\"-468.8\" font-family=\"Helvetica,sans-Serif\" font-size=\"14.00\">class = buy</text>\n</g>\n<!-- 1 -->\n<g id=\"node2\" class=\"node\">\n<title>1</title>\n<path fill=\"#e99457\" stroke=\"black\" d=\"M386,-425C386,-425 225,-425 225,-425 219,-425 213,-419 213,-413 213,-413 213,-354 213,-354 213,-348 219,-342 225,-342 225,-342 386,-342 386,-342 392,-342 398,-348 398,-354 398,-354 398,-413 398,-413 398,-419 392,-425 386,-425\"/>\n<text text-anchor=\"start\" x=\"221\" y=\"-409.8\" font-family=\"Helvetica,sans-Serif\" font-size=\"14.00\">trend_aroon_ind ≤ &#45;22.0</text>\n<text text-anchor=\"start\" x=\"261.5\" y=\"-394.8\" font-family=\"Helvetica,sans-Serif\" font-size=\"14.00\">gini = 0.226</text>\n<text text-anchor=\"start\" x=\"252.5\" y=\"-379.8\" font-family=\"Helvetica,sans-Serif\" font-size=\"14.00\">samples = 446</text>\n<text text-anchor=\"start\" x=\"243.5\" y=\"-364.8\" font-family=\"Helvetica,sans-Serif\" font-size=\"14.00\">value = [388, 58]</text>\n<text text-anchor=\"start\" x=\"266\" y=\"-349.8\" font-family=\"Helvetica,sans-Serif\" font-size=\"14.00\">class = sell</text>\n</g>\n<!-- 0&#45;&gt;1 -->\n<g id=\"edge1\" class=\"edge\">\n<title>0&#45;&gt;1</title>\n<path fill=\"none\" stroke=\"black\" d=\"M371.46,-460.91C363.62,-451.83 355.24,-442.12 347.17,-432.77\"/>\n<polygon fill=\"black\" stroke=\"black\" points=\"349.66,-430.3 340.48,-425.02 344.36,-434.88 349.66,-430.3\"/>\n<text text-anchor=\"middle\" x=\"338.65\" y=\"-446.25\" font-family=\"Helvetica,sans-Serif\" font-size=\"14.00\">True</text>\n</g>\n<!-- 2 -->\n<g id=\"node9\" class=\"node\">\n<title>2</title>\n<path fill=\"#4aa5e7\" stroke=\"black\" d=\"M600,-425C600,-425 439,-425 439,-425 433,-425 427,-419 427,-413 427,-413 427,-354 427,-354 427,-348 433,-342 439,-342 439,-342 600,-342 600,-342 606,-342 612,-348 612,-354 612,-354 612,-413 612,-413 612,-419 606,-425 600,-425\"/>\n<text text-anchor=\"start\" x=\"435\" y=\"-409.8\" font-family=\"Helvetica,sans-Serif\" font-size=\"14.00\">trend_aroon_ind ≤ &#45;34.0</text>\n<text text-anchor=\"start\" x=\"475.5\" y=\"-394.8\" font-family=\"Helvetica,sans-Serif\" font-size=\"14.00\">gini = 0.146</text>\n<text text-anchor=\"start\" x=\"466.5\" y=\"-379.8\" font-family=\"Helvetica,sans-Serif\" font-size=\"14.00\">samples = 830</text>\n<text text-anchor=\"start\" x=\"457.5\" y=\"-364.8\" font-family=\"Helvetica,sans-Serif\" font-size=\"14.00\">value = [66, 764]</text>\n<text text-anchor=\"start\" x=\"478.5\" y=\"-349.8\" font-family=\"Helvetica,sans-Serif\" font-size=\"14.00\">class = buy</text>\n</g>\n<!-- 0&#45;&gt;2 -->\n<g id=\"edge8\" class=\"edge\">\n<title>0&#45;&gt;2</title>\n<path fill=\"none\" stroke=\"black\" d=\"M445.7,-460.91C454.56,-451.74 464.04,-441.93 473.15,-432.49\"/>\n<polygon fill=\"black\" stroke=\"black\" points=\"475.93,-434.65 480.36,-425.02 470.9,-429.78 475.93,-434.65\"/>\n<text text-anchor=\"middle\" x=\"480.8\" y=\"-446.32\" font-family=\"Helvetica,sans-Serif\" font-size=\"14.00\">False</text>\n</g>\n<!-- 5 -->\n<g id=\"node3\" class=\"node\">\n<title>5</title>\n<path fill=\"#e6843e\" stroke=\"black\" d=\"M189,-298.5C189,-298.5 82,-298.5 82,-298.5 76,-298.5 70,-292.5 70,-286.5 70,-286.5 70,-242.5 70,-242.5 70,-236.5 76,-230.5 82,-230.5 82,-230.5 189,-230.5 189,-230.5 195,-230.5 201,-236.5 201,-242.5 201,-242.5 201,-286.5 201,-286.5 201,-292.5 195,-298.5 189,-298.5\"/>\n<text text-anchor=\"start\" x=\"91.5\" y=\"-283.3\" font-family=\"Helvetica,sans-Serif\" font-size=\"14.00\">gini = 0.052</text>\n<text text-anchor=\"start\" x=\"82.5\" y=\"-268.3\" font-family=\"Helvetica,sans-Serif\" font-size=\"14.00\">samples = 334</text>\n<text text-anchor=\"start\" x=\"78\" y=\"-253.3\" font-family=\"Helvetica,sans-Serif\" font-size=\"14.00\">value = [325, 9]</text>\n<text text-anchor=\"start\" x=\"96\" y=\"-238.3\" font-family=\"Helvetica,sans-Serif\" font-size=\"14.00\">class = sell</text>\n</g>\n<!-- 1&#45;&gt;5 -->\n<g id=\"edge2\" class=\"edge\">\n<title>1&#45;&gt;5</title>\n<path fill=\"none\" stroke=\"black\" d=\"M246.52,-341.91C228.88,-329.77 209.59,-316.49 192.11,-304.46\"/>\n<polygon fill=\"black\" stroke=\"black\" points=\"193.91,-301.45 183.69,-298.67 189.94,-307.22 193.91,-301.45\"/>\n</g>\n<!-- 6 -->\n<g id=\"node4\" class=\"node\">\n<title>6</title>\n<path fill=\"#f9e3d3\" stroke=\"black\" d=\"M379.5,-306C379.5,-306 231.5,-306 231.5,-306 225.5,-306 219.5,-300 219.5,-294 219.5,-294 219.5,-235 219.5,-235 219.5,-229 225.5,-223 231.5,-223 231.5,-223 379.5,-223 379.5,-223 385.5,-223 391.5,-229 391.5,-235 391.5,-235 391.5,-294 391.5,-294 391.5,-300 385.5,-306 379.5,-306\"/>\n<text text-anchor=\"start\" x=\"227.5\" y=\"-290.8\" font-family=\"Helvetica,sans-Serif\" font-size=\"14.00\">trend_kst_diff ≤ 5.956</text>\n<text text-anchor=\"start\" x=\"261.5\" y=\"-275.8\" font-family=\"Helvetica,sans-Serif\" font-size=\"14.00\">gini = 0.492</text>\n<text text-anchor=\"start\" x=\"252.5\" y=\"-260.8\" font-family=\"Helvetica,sans-Serif\" font-size=\"14.00\">samples = 112</text>\n<text text-anchor=\"start\" x=\"248\" y=\"-245.8\" font-family=\"Helvetica,sans-Serif\" font-size=\"14.00\">value = [63, 49]</text>\n<text text-anchor=\"start\" x=\"266\" y=\"-230.8\" font-family=\"Helvetica,sans-Serif\" font-size=\"14.00\">class = sell</text>\n</g>\n<!-- 1&#45;&gt;6 -->\n<g id=\"edge3\" class=\"edge\">\n<title>1&#45;&gt;6</title>\n<path fill=\"none\" stroke=\"black\" d=\"M305.5,-341.91C305.5,-333.65 305.5,-324.86 305.5,-316.3\"/>\n<polygon fill=\"black\" stroke=\"black\" points=\"309,-316.02 305.5,-306.02 302,-316.02 309,-316.02\"/>\n</g>\n<!-- 9 -->\n<g id=\"node5\" class=\"node\">\n<title>9</title>\n<path fill=\"#f1ba93\" stroke=\"black\" d=\"M214.5,-187C214.5,-187 56.5,-187 56.5,-187 50.5,-187 44.5,-181 44.5,-175 44.5,-175 44.5,-116 44.5,-116 44.5,-110 50.5,-104 56.5,-104 56.5,-104 214.5,-104 214.5,-104 220.5,-104 226.5,-110 226.5,-116 226.5,-116 226.5,-175 226.5,-175 226.5,-181 220.5,-187 214.5,-187\"/>\n<text text-anchor=\"start\" x=\"52.5\" y=\"-171.8\" font-family=\"Helvetica,sans-Serif\" font-size=\"14.00\">volatility_bbw ≤ 11.391</text>\n<text text-anchor=\"start\" x=\"96\" y=\"-156.8\" font-family=\"Helvetica,sans-Serif\" font-size=\"14.00\">gini = 0.43</text>\n<text text-anchor=\"start\" x=\"87\" y=\"-141.8\" font-family=\"Helvetica,sans-Serif\" font-size=\"14.00\">samples = 83</text>\n<text text-anchor=\"start\" x=\"78\" y=\"-126.8\" font-family=\"Helvetica,sans-Serif\" font-size=\"14.00\">value = [57, 26]</text>\n<text text-anchor=\"start\" x=\"96\" y=\"-111.8\" font-family=\"Helvetica,sans-Serif\" font-size=\"14.00\">class = sell</text>\n</g>\n<!-- 6&#45;&gt;9 -->\n<g id=\"edge4\" class=\"edge\">\n<title>6&#45;&gt;9</title>\n<path fill=\"none\" stroke=\"black\" d=\"M246.52,-222.91C232.41,-213.2 217.24,-202.76 202.79,-192.81\"/>\n<polygon fill=\"black\" stroke=\"black\" points=\"204.6,-189.81 194.38,-187.02 200.63,-195.57 204.6,-189.81\"/>\n</g>\n<!-- 10 -->\n<g id=\"node8\" class=\"node\">\n<title>10</title>\n<path fill=\"#6db7ec\" stroke=\"black\" d=\"M354.5,-179.5C354.5,-179.5 256.5,-179.5 256.5,-179.5 250.5,-179.5 244.5,-173.5 244.5,-167.5 244.5,-167.5 244.5,-123.5 244.5,-123.5 244.5,-117.5 250.5,-111.5 256.5,-111.5 256.5,-111.5 354.5,-111.5 354.5,-111.5 360.5,-111.5 366.5,-117.5 366.5,-123.5 366.5,-123.5 366.5,-167.5 366.5,-167.5 366.5,-173.5 360.5,-179.5 354.5,-179.5\"/>\n<text text-anchor=\"start\" x=\"261.5\" y=\"-164.3\" font-family=\"Helvetica,sans-Serif\" font-size=\"14.00\">gini = 0.328</text>\n<text text-anchor=\"start\" x=\"257\" y=\"-149.3\" font-family=\"Helvetica,sans-Serif\" font-size=\"14.00\">samples = 29</text>\n<text text-anchor=\"start\" x=\"252.5\" y=\"-134.3\" font-family=\"Helvetica,sans-Serif\" font-size=\"14.00\">value = [6, 23]</text>\n<text text-anchor=\"start\" x=\"264.5\" y=\"-119.3\" font-family=\"Helvetica,sans-Serif\" font-size=\"14.00\">class = buy</text>\n</g>\n<!-- 6&#45;&gt;10 -->\n<g id=\"edge7\" class=\"edge\">\n<title>6&#45;&gt;10</title>\n<path fill=\"none\" stroke=\"black\" d=\"M305.5,-222.91C305.5,-212.2 305.5,-200.62 305.5,-189.78\"/>\n<polygon fill=\"black\" stroke=\"black\" points=\"309,-189.67 305.5,-179.67 302,-189.67 309,-189.67\"/>\n</g>\n<!-- 13 -->\n<g id=\"node6\" class=\"node\">\n<title>13</title>\n<path fill=\"#eda876\" stroke=\"black\" d=\"M119,-68C119,-68 12,-68 12,-68 6,-68 0,-62 0,-56 0,-56 0,-12 0,-12 0,-6 6,0 12,0 12,0 119,0 119,0 125,0 131,-6 131,-12 131,-12 131,-56 131,-56 131,-62 125,-68 119,-68\"/>\n<text text-anchor=\"start\" x=\"21.5\" y=\"-52.8\" font-family=\"Helvetica,sans-Serif\" font-size=\"14.00\">gini = 0.361</text>\n<text text-anchor=\"start\" x=\"17\" y=\"-37.8\" font-family=\"Helvetica,sans-Serif\" font-size=\"14.00\">samples = 72</text>\n<text text-anchor=\"start\" x=\"8\" y=\"-22.8\" font-family=\"Helvetica,sans-Serif\" font-size=\"14.00\">value = [55, 17]</text>\n<text text-anchor=\"start\" x=\"26\" y=\"-7.8\" font-family=\"Helvetica,sans-Serif\" font-size=\"14.00\">class = sell</text>\n</g>\n<!-- 9&#45;&gt;13 -->\n<g id=\"edge5\" class=\"edge\">\n<title>9&#45;&gt;13</title>\n<path fill=\"none\" stroke=\"black\" d=\"M109.43,-103.73C103.84,-94.97 97.91,-85.7 92.29,-76.91\"/>\n<polygon fill=\"black\" stroke=\"black\" points=\"95.12,-74.84 86.79,-68.3 89.22,-78.61 95.12,-74.84\"/>\n</g>\n<!-- 14 -->\n<g id=\"node7\" class=\"node\">\n<title>14</title>\n<path fill=\"#65b3eb\" stroke=\"black\" d=\"M250,-68C250,-68 161,-68 161,-68 155,-68 149,-62 149,-56 149,-56 149,-12 149,-12 149,-6 155,0 161,0 161,0 250,0 250,0 256,0 262,-6 262,-12 262,-12 262,-56 262,-56 262,-62 256,-68 250,-68\"/>\n<text text-anchor=\"start\" x=\"161.5\" y=\"-52.8\" font-family=\"Helvetica,sans-Serif\" font-size=\"14.00\">gini = 0.298</text>\n<text text-anchor=\"start\" x=\"157\" y=\"-37.8\" font-family=\"Helvetica,sans-Serif\" font-size=\"14.00\">samples = 11</text>\n<text text-anchor=\"start\" x=\"157\" y=\"-22.8\" font-family=\"Helvetica,sans-Serif\" font-size=\"14.00\">value = [2, 9]</text>\n<text text-anchor=\"start\" x=\"164.5\" y=\"-7.8\" font-family=\"Helvetica,sans-Serif\" font-size=\"14.00\">class = buy</text>\n</g>\n<!-- 9&#45;&gt;14 -->\n<g id=\"edge6\" class=\"edge\">\n<title>9&#45;&gt;14</title>\n<path fill=\"none\" stroke=\"black\" d=\"M161.57,-103.73C167.16,-94.97 173.09,-85.7 178.71,-76.91\"/>\n<polygon fill=\"black\" stroke=\"black\" points=\"181.78,-78.61 184.21,-68.3 175.88,-74.84 181.78,-78.61\"/>\n</g>\n<!-- 3 -->\n<g id=\"node10\" class=\"node\">\n<title>3</title>\n<path fill=\"#f6fafe\" stroke=\"black\" d=\"M595.5,-306C595.5,-306 443.5,-306 443.5,-306 437.5,-306 431.5,-300 431.5,-294 431.5,-294 431.5,-235 431.5,-235 431.5,-229 437.5,-223 443.5,-223 443.5,-223 595.5,-223 595.5,-223 601.5,-223 607.5,-229 607.5,-235 607.5,-235 607.5,-294 607.5,-294 607.5,-300 601.5,-306 595.5,-306\"/>\n<text text-anchor=\"start\" x=\"439.5\" y=\"-290.8\" font-family=\"Helvetica,sans-Serif\" font-size=\"14.00\">trend_aroon_up ≤ 10.0</text>\n<text text-anchor=\"start\" x=\"484.5\" y=\"-275.8\" font-family=\"Helvetica,sans-Serif\" font-size=\"14.00\">gini = 0.5</text>\n<text text-anchor=\"start\" x=\"471\" y=\"-260.8\" font-family=\"Helvetica,sans-Serif\" font-size=\"14.00\">samples = 84</text>\n<text text-anchor=\"start\" x=\"462\" y=\"-245.8\" font-family=\"Helvetica,sans-Serif\" font-size=\"14.00\">value = [41, 43]</text>\n<text text-anchor=\"start\" x=\"478.5\" y=\"-230.8\" font-family=\"Helvetica,sans-Serif\" font-size=\"14.00\">class = buy</text>\n</g>\n<!-- 2&#45;&gt;3 -->\n<g id=\"edge9\" class=\"edge\">\n<title>2&#45;&gt;3</title>\n<path fill=\"none\" stroke=\"black\" d=\"M519.5,-341.91C519.5,-333.65 519.5,-324.86 519.5,-316.3\"/>\n<polygon fill=\"black\" stroke=\"black\" points=\"523,-316.02 519.5,-306.02 516,-316.02 523,-316.02\"/>\n</g>\n<!-- 4 -->\n<g id=\"node13\" class=\"node\">\n<title>4</title>\n<path fill=\"#40a0e6\" stroke=\"black\" d=\"M813.5,-306C813.5,-306 649.5,-306 649.5,-306 643.5,-306 637.5,-300 637.5,-294 637.5,-294 637.5,-235 637.5,-235 637.5,-229 643.5,-223 649.5,-223 649.5,-223 813.5,-223 813.5,-223 819.5,-223 825.5,-229 825.5,-235 825.5,-235 825.5,-294 825.5,-294 825.5,-300 819.5,-306 813.5,-306\"/>\n<text text-anchor=\"start\" x=\"645.5\" y=\"-290.8\" font-family=\"Helvetica,sans-Serif\" font-size=\"14.00\">trend_adx_pos ≤ 19.336</text>\n<text text-anchor=\"start\" x=\"687.5\" y=\"-275.8\" font-family=\"Helvetica,sans-Serif\" font-size=\"14.00\">gini = 0.065</text>\n<text text-anchor=\"start\" x=\"678.5\" y=\"-260.8\" font-family=\"Helvetica,sans-Serif\" font-size=\"14.00\">samples = 746</text>\n<text text-anchor=\"start\" x=\"669.5\" y=\"-245.8\" font-family=\"Helvetica,sans-Serif\" font-size=\"14.00\">value = [25, 721]</text>\n<text text-anchor=\"start\" x=\"690.5\" y=\"-230.8\" font-family=\"Helvetica,sans-Serif\" font-size=\"14.00\">class = buy</text>\n</g>\n<!-- 2&#45;&gt;4 -->\n<g id=\"edge12\" class=\"edge\">\n<title>2&#45;&gt;4</title>\n<path fill=\"none\" stroke=\"black\" d=\"M593.05,-341.91C611.14,-331.92 630.62,-321.17 649.1,-310.98\"/>\n<polygon fill=\"black\" stroke=\"black\" points=\"651.01,-313.92 658.08,-306.02 647.63,-307.79 651.01,-313.92\"/>\n</g>\n<!-- 7 -->\n<g id=\"node11\" class=\"node\">\n<title>7</title>\n<path fill=\"#6db7ec\" stroke=\"black\" d=\"M504,-179.5C504,-179.5 397,-179.5 397,-179.5 391,-179.5 385,-173.5 385,-167.5 385,-167.5 385,-123.5 385,-123.5 385,-117.5 391,-111.5 397,-111.5 397,-111.5 504,-111.5 504,-111.5 510,-111.5 516,-117.5 516,-123.5 516,-123.5 516,-167.5 516,-167.5 516,-173.5 510,-179.5 504,-179.5\"/>\n<text text-anchor=\"start\" x=\"411\" y=\"-164.3\" font-family=\"Helvetica,sans-Serif\" font-size=\"14.00\">gini = 0.33</text>\n<text text-anchor=\"start\" x=\"402\" y=\"-149.3\" font-family=\"Helvetica,sans-Serif\" font-size=\"14.00\">samples = 48</text>\n<text text-anchor=\"start\" x=\"393\" y=\"-134.3\" font-family=\"Helvetica,sans-Serif\" font-size=\"14.00\">value = [10, 38]</text>\n<text text-anchor=\"start\" x=\"409.5\" y=\"-119.3\" font-family=\"Helvetica,sans-Serif\" font-size=\"14.00\">class = buy</text>\n</g>\n<!-- 3&#45;&gt;7 -->\n<g id=\"edge10\" class=\"edge\">\n<title>3&#45;&gt;7</title>\n<path fill=\"none\" stroke=\"black\" d=\"M495.56,-222.91C488.99,-211.76 481.85,-199.66 475.23,-188.44\"/>\n<polygon fill=\"black\" stroke=\"black\" points=\"478.15,-186.5 470.06,-179.67 472.13,-190.06 478.15,-186.5\"/>\n</g>\n<!-- 8 -->\n<g id=\"node12\" class=\"node\">\n<title>8</title>\n<path fill=\"#e99559\" stroke=\"black\" d=\"M644.5,-179.5C644.5,-179.5 546.5,-179.5 546.5,-179.5 540.5,-179.5 534.5,-173.5 534.5,-167.5 534.5,-167.5 534.5,-123.5 534.5,-123.5 534.5,-117.5 540.5,-111.5 546.5,-111.5 546.5,-111.5 644.5,-111.5 644.5,-111.5 650.5,-111.5 656.5,-117.5 656.5,-123.5 656.5,-123.5 656.5,-167.5 656.5,-167.5 656.5,-173.5 650.5,-179.5 644.5,-179.5\"/>\n<text text-anchor=\"start\" x=\"551.5\" y=\"-164.3\" font-family=\"Helvetica,sans-Serif\" font-size=\"14.00\">gini = 0.239</text>\n<text text-anchor=\"start\" x=\"547\" y=\"-149.3\" font-family=\"Helvetica,sans-Serif\" font-size=\"14.00\">samples = 36</text>\n<text text-anchor=\"start\" x=\"542.5\" y=\"-134.3\" font-family=\"Helvetica,sans-Serif\" font-size=\"14.00\">value = [31, 5]</text>\n<text text-anchor=\"start\" x=\"556\" y=\"-119.3\" font-family=\"Helvetica,sans-Serif\" font-size=\"14.00\">class = sell</text>\n</g>\n<!-- 3&#45;&gt;8 -->\n<g id=\"edge11\" class=\"edge\">\n<title>3&#45;&gt;8</title>\n<path fill=\"none\" stroke=\"black\" d=\"M545.87,-222.91C553.18,-211.65 561.13,-199.42 568.47,-188.11\"/>\n<polygon fill=\"black\" stroke=\"black\" points=\"571.44,-189.96 573.96,-179.67 565.57,-186.15 571.44,-189.96\"/>\n</g>\n<!-- 11 -->\n<g id=\"node14\" class=\"node\">\n<title>11</title>\n<path fill=\"#e58139\" stroke=\"black\" d=\"M776,-179.5C776,-179.5 687,-179.5 687,-179.5 681,-179.5 675,-173.5 675,-167.5 675,-167.5 675,-123.5 675,-123.5 675,-117.5 681,-111.5 687,-111.5 687,-111.5 776,-111.5 776,-111.5 782,-111.5 788,-117.5 788,-123.5 788,-123.5 788,-167.5 788,-167.5 788,-173.5 782,-179.5 776,-179.5\"/>\n<text text-anchor=\"start\" x=\"696.5\" y=\"-164.3\" font-family=\"Helvetica,sans-Serif\" font-size=\"14.00\">gini = 0.0</text>\n<text text-anchor=\"start\" x=\"687.5\" y=\"-149.3\" font-family=\"Helvetica,sans-Serif\" font-size=\"14.00\">samples = 4</text>\n<text text-anchor=\"start\" x=\"683\" y=\"-134.3\" font-family=\"Helvetica,sans-Serif\" font-size=\"14.00\">value = [4, 0]</text>\n<text text-anchor=\"start\" x=\"692\" y=\"-119.3\" font-family=\"Helvetica,sans-Serif\" font-size=\"14.00\">class = sell</text>\n</g>\n<!-- 4&#45;&gt;11 -->\n<g id=\"edge13\" class=\"edge\">\n<title>4&#45;&gt;11</title>\n<path fill=\"none\" stroke=\"black\" d=\"M731.5,-222.91C731.5,-212.2 731.5,-200.62 731.5,-189.78\"/>\n<polygon fill=\"black\" stroke=\"black\" points=\"735,-189.67 731.5,-179.67 728,-189.67 735,-189.67\"/>\n</g>\n<!-- 12 -->\n<g id=\"node15\" class=\"node\">\n<title>12</title>\n<path fill=\"#3fa0e6\" stroke=\"black\" d=\"M934.5,-179.5C934.5,-179.5 818.5,-179.5 818.5,-179.5 812.5,-179.5 806.5,-173.5 806.5,-167.5 806.5,-167.5 806.5,-123.5 806.5,-123.5 806.5,-117.5 812.5,-111.5 818.5,-111.5 818.5,-111.5 934.5,-111.5 934.5,-111.5 940.5,-111.5 946.5,-117.5 946.5,-123.5 946.5,-123.5 946.5,-167.5 946.5,-167.5 946.5,-173.5 940.5,-179.5 934.5,-179.5\"/>\n<text text-anchor=\"start\" x=\"832.5\" y=\"-164.3\" font-family=\"Helvetica,sans-Serif\" font-size=\"14.00\">gini = 0.055</text>\n<text text-anchor=\"start\" x=\"823.5\" y=\"-149.3\" font-family=\"Helvetica,sans-Serif\" font-size=\"14.00\">samples = 742</text>\n<text text-anchor=\"start\" x=\"814.5\" y=\"-134.3\" font-family=\"Helvetica,sans-Serif\" font-size=\"14.00\">value = [21, 721]</text>\n<text text-anchor=\"start\" x=\"835.5\" y=\"-119.3\" font-family=\"Helvetica,sans-Serif\" font-size=\"14.00\">class = buy</text>\n</g>\n<!-- 4&#45;&gt;12 -->\n<g id=\"edge14\" class=\"edge\">\n<title>4&#45;&gt;12</title>\n<path fill=\"none\" stroke=\"black\" d=\"M781.81,-222.91C796.58,-210.99 812.71,-197.98 827.4,-186.12\"/>\n<polygon fill=\"black\" stroke=\"black\" points=\"829.81,-188.67 835.4,-179.67 825.42,-183.22 829.81,-188.67\"/>\n</g>\n</g>\n</svg>\n",
      "text/plain": [
       "<graphviz.sources.Source at 0x7fd791e566e0>"
      ]
     },
     "execution_count": 134,
     "metadata": {},
     "output_type": "execute_result"
    }
   ],
   "source": [
    "dot_data = tree.export_graphviz(clf, out_file=None,\n",
    "                        feature_names=x_train.columns,  \n",
    "                        class_names=[\"sell\", \"buy\"],\n",
    "                        filled=True, rounded=True,\n",
    "                        special_characters=True) \n",
    "graph = graphviz.Source(dot_data) \n",
    "graph"
   ]
  },
  {
   "cell_type": "markdown",
   "metadata": {},
   "source": [
    "## next try to \"translate\" the decision tree to if/else conditions"
   ]
  },
  {
   "cell_type": "code",
   "execution_count": 136,
   "metadata": {},
   "outputs": [
    {
     "name": "stdout",
     "output_type": "stream",
     "text": [
      "|--- feature_71 <= 49.91\n",
      "|   |--- feature_66 <= -22.00\n",
      "|   |   |--- class: -1.0\n",
      "|   |--- feature_66 >  -22.00\n",
      "|   |   |--- feature_52 <= 5.96\n",
      "|   |   |   |--- feature_19 <= 11.39\n",
      "|   |   |   |   |--- class: -1.0\n",
      "|   |   |   |--- feature_19 >  11.39\n",
      "|   |   |   |   |--- class: 1.0\n",
      "|   |   |--- feature_52 >  5.96\n",
      "|   |   |   |--- class: 1.0\n",
      "|--- feature_71 >  49.91\n",
      "|   |--- feature_66 <= -34.00\n",
      "|   |   |--- feature_64 <= 10.00\n",
      "|   |   |   |--- class: 1.0\n",
      "|   |   |--- feature_64 >  10.00\n",
      "|   |   |   |--- class: -1.0\n",
      "|   |--- feature_66 >  -34.00\n",
      "|   |   |--- feature_59 <= 19.34\n",
      "|   |   |   |--- class: -1.0\n",
      "|   |   |--- feature_59 >  19.34\n",
      "|   |   |   |--- class: 1.0\n",
      "\n"
     ]
    }
   ],
   "source": [
    "text_representation = tree.export_text(clf)\n",
    "print(text_representation)"
   ]
  },
  {
   "cell_type": "code",
   "execution_count": 137,
   "metadata": {},
   "outputs": [],
   "source": [
    "from sklearn.tree import _tree\n",
    "\n",
    "def get_rules(tree, feature_names, class_names):\n",
    "    tree_ = tree.tree_\n",
    "    feature_name = [\n",
    "        feature_names[i] if i != _tree.TREE_UNDEFINED else \"undefined!\"\n",
    "        for i in tree_.feature\n",
    "    ]\n",
    "\n",
    "    paths = []\n",
    "    path = []\n",
    "    \n",
    "    def recurse(node, path, paths):\n",
    "        \n",
    "        if tree_.feature[node] != _tree.TREE_UNDEFINED:\n",
    "            name = feature_name[node]\n",
    "            threshold = tree_.threshold[node]\n",
    "            p1, p2 = list(path), list(path)\n",
    "            p1 += [f\"({name} <= {np.round(threshold, 3)})\"]\n",
    "            recurse(tree_.children_left[node], p1, paths)\n",
    "            p2 += [f\"({name} > {np.round(threshold, 3)})\"]\n",
    "            recurse(tree_.children_right[node], p2, paths)\n",
    "        else:\n",
    "            path += [(tree_.value[node], tree_.n_node_samples[node])]\n",
    "            paths += [path]\n",
    "            \n",
    "    recurse(0, path, paths)\n",
    "\n",
    "    # sort by samples count\n",
    "    samples_count = [p[-1][1] for p in paths]\n",
    "    ii = list(np.argsort(samples_count))\n",
    "    paths = [paths[i] for i in reversed(ii)]\n",
    "    \n",
    "    rules = []\n",
    "    for path in paths:\n",
    "        rule = \"if \"\n",
    "        \n",
    "        for p in path[:-1]:\n",
    "            if rule != \"if \":\n",
    "                rule += \" and \"\n",
    "            rule += str(p)\n",
    "        rule += \" then \"\n",
    "        if class_names is None:\n",
    "            rule += \"response: \"+str(np.round(path[-1][0][0][0],3))\n",
    "        else:\n",
    "            classes = path[-1][0][0]\n",
    "            l = np.argmax(classes)\n",
    "            rule += f\"class: {class_names[l]} (proba: {np.round(100.0*classes[l]/np.sum(classes),2)}%)\"\n",
    "        rule += f\" # | based on {path[-1][1]:,} samples\"\n",
    "        rules += [rule]\n",
    "        \n",
    "    return rules"
   ]
  },
  {
   "cell_type": "code",
   "execution_count": 138,
   "metadata": {},
   "outputs": [
    {
     "data": {
      "text/plain": [
       "['if (momentum_rsi > 49.91) and (trend_aroon_ind > -34.0) and (trend_adx_pos > 19.336) then class: buy (proba: 97.17%) # | based on 742 samples',\n",
       " 'if (momentum_rsi <= 49.91) and (trend_aroon_ind <= -22.0) then class: sell (proba: 97.31%) # | based on 334 samples',\n",
       " 'if (momentum_rsi <= 49.91) and (trend_aroon_ind > -22.0) and (trend_kst_diff <= 5.956) and (volatility_bbw <= 11.391) then class: sell (proba: 76.39%) # | based on 72 samples',\n",
       " 'if (momentum_rsi > 49.91) and (trend_aroon_ind <= -34.0) and (trend_aroon_up <= 10.0) then class: buy (proba: 79.17%) # | based on 48 samples',\n",
       " 'if (momentum_rsi > 49.91) and (trend_aroon_ind <= -34.0) and (trend_aroon_up > 10.0) then class: sell (proba: 86.11%) # | based on 36 samples',\n",
       " 'if (momentum_rsi <= 49.91) and (trend_aroon_ind > -22.0) and (trend_kst_diff > 5.956) then class: buy (proba: 79.31%) # | based on 29 samples',\n",
       " 'if (momentum_rsi <= 49.91) and (trend_aroon_ind > -22.0) and (trend_kst_diff <= 5.956) and (volatility_bbw > 11.391) then class: buy (proba: 81.82%) # | based on 11 samples',\n",
       " 'if (momentum_rsi > 49.91) and (trend_aroon_ind > -34.0) and (trend_adx_pos <= 19.336) then class: sell (proba: 100.0%) # | based on 4 samples']"
      ]
     },
     "execution_count": 138,
     "metadata": {},
     "output_type": "execute_result"
    }
   ],
   "source": [
    "get_rules(clf, x_train.columns, [\"sell\", \"buy\"])"
   ]
  },
  {
   "cell_type": "code",
   "execution_count": 139,
   "metadata": {},
   "outputs": [
    {
     "name": "stdout",
     "output_type": "stream",
     "text": [
      "def getDecision(dfrow):\n",
      "    if dfrow['momentum_rsi'] <= 49.91:\n",
      "        if dfrow['trend_aroon_ind'] <= -22.0:\n",
      "            return 0\n",
      "        else:  # if dfrow['trend_aroon_ind'] > -22.0\n",
      "            if dfrow['trend_kst_diff'] <= 5.96:\n",
      "                if dfrow['volatility_bbw'] <= 11.39:\n",
      "                    return 0\n",
      "                else:  # if dfrow['volatility_bbw'] > 11.39\n",
      "                    return 1\n",
      "            else:  # if dfrow['trend_kst_diff'] > 5.96\n",
      "                return 1\n",
      "    else:  # if dfrow['momentum_rsi'] > 49.91\n",
      "        if dfrow['trend_aroon_ind'] <= -34.0:\n",
      "            if dfrow['trend_aroon_up'] <= 10.0:\n",
      "                return 1\n",
      "            else:  # if dfrow['trend_aroon_up'] > 10.0\n",
      "                return 0\n",
      "        else:  # if dfrow['trend_aroon_ind'] > -34.0\n",
      "            if dfrow['trend_adx_pos'] <= 19.34:\n",
      "                return 0\n",
      "            else:  # if dfrow['trend_adx_pos'] > 19.34\n",
      "                return 1\n"
     ]
    }
   ],
   "source": [
    "def tree_to_code(tree, feature_names):\n",
    "    tree_ = tree.tree_\n",
    "    feature_name = [\n",
    "        feature_names[i] if i != _tree.TREE_UNDEFINED else \"undefined!\"\n",
    "        for i in tree_.feature\n",
    "    ]\n",
    "    feature_names = [f.replace(\" \", \"_\")[:-5] for f in feature_names]\n",
    "    print(\"def getDecision(dfrow):\")\n",
    "\n",
    "    def recurse(node, depth):\n",
    "        indent = \"    \" * depth\n",
    "        if tree_.feature[node] != _tree.TREE_UNDEFINED:\n",
    "            name = feature_name[node]\n",
    "            threshold = tree_.threshold[node]\n",
    "            print(\"{}if dfrow['{}'] <= {}:\".format(indent, name, np.round(threshold,2)))\n",
    "            recurse(tree_.children_left[node], depth + 1)\n",
    "            print(\"{}else:  # if dfrow['{}'] > {}\".format(indent, name, np.round(threshold,2)))\n",
    "            recurse(tree_.children_right[node], depth + 1)\n",
    "        else:\n",
    "            print(\"{}return {}\".format(indent, np.argmax(tree_.value[node][0])))\n",
    "\n",
    "    recurse(0, 1)\n",
    "tree_to_code(clf, x_train.columns)"
   ]
  },
  {
   "cell_type": "code",
   "execution_count": 140,
   "metadata": {},
   "outputs": [],
   "source": [
    "def getDecision(dfrow):\n",
    "    if dfrow['momentum_rsi'] <= 49.91:\n",
    "        if dfrow['trend_aroon_ind'] <= -22.0:\n",
    "            return 0\n",
    "        else:  # if dfrow['trend_aroon_ind'] > -22.0\n",
    "            if dfrow['trend_kst_diff'] <= 5.96:\n",
    "                if dfrow['volatility_bbw'] <= 11.39:\n",
    "                    return 0\n",
    "                else:  # if dfrow['volatility_bbw'] > 11.39\n",
    "                    return 1\n",
    "            else:  # if dfrow['trend_kst_diff'] > 5.96\n",
    "                return 1\n",
    "    else:  # if dfrow['momentum_rsi'] > 49.91\n",
    "        if dfrow['trend_aroon_ind'] <= -34.0:\n",
    "            if dfrow['trend_aroon_up'] <= 10.0:\n",
    "                return 1\n",
    "            else:  # if dfrow['trend_aroon_up'] > 10.0\n",
    "                return 0\n",
    "        else:  # if dfrow['trend_aroon_ind'] > -34.0\n",
    "            if dfrow['trend_adx_pos'] <= 19.34:\n",
    "                return 0\n",
    "            else:  # if dfrow['trend_adx_pos'] > 19.34\n",
    "                return 1"
   ]
  },
  {
   "cell_type": "markdown",
   "metadata": {},
   "source": [
    "# final simulation"
   ]
  },
  {
   "cell_type": "code",
   "execution_count": 113,
   "metadata": {},
   "outputs": [],
   "source": [
    "## to simulate earnings we need to grab one ticker only again\n",
    "# df = bot.getData(ticker = \"IWDA.AS\", start_date = datetime(2010,1,1), technical_indicators=[\"all\"])\n",
    "# df = bot.getTrend(df)"
   ]
  },
  {
   "cell_type": "code",
   "execution_count": 141,
   "metadata": {},
   "outputs": [
    {
     "name": "stdout",
     "output_type": "stream",
     "text": [
      "(array([-1,  1]), array([431, 866]))\n",
      "              precision    recall  f1-score   support\n",
      "\n",
      "        -1.0       0.83      0.82      0.82       435\n",
      "         1.0       0.91      0.91      0.91       862\n",
      "\n",
      "    accuracy                           0.88      1297\n",
      "   macro avg       0.87      0.87      0.87      1297\n",
      "weighted avg       0.88      0.88      0.88      1297\n",
      "\n",
      "[[357  78]\n",
      " [ 74 788]]\n"
     ]
    }
   ],
   "source": [
    "preds = []\n",
    "for i in range(len(df)):\n",
    "    dec = getDecision(df.iloc[i])\n",
    "    if dec == 0:\n",
    "        dec = -1\n",
    "    preds.append(dec)\n",
    "print(np.unique(preds, return_counts=True))\n",
    "print(metrics.classification_report(df[\"signal\"], preds))\n",
    "print(metrics.confusion_matrix(df[\"signal\"], preds))"
   ]
  },
  {
   "cell_type": "code",
   "execution_count": 142,
   "metadata": {},
   "outputs": [
    {
     "name": "stderr",
     "output_type": "stream",
     "text": [
      "/home/jguese/miniconda3/lib/python3.10/site-packages/numpy/core/fromnumeric.py:3432: RuntimeWarning: Mean of empty slice.\n",
      "  return _methods._mean(a, axis=axis, dtype=dtype,\n",
      "/home/jguese/miniconda3/lib/python3.10/site-packages/numpy/core/_methods.py:190: RuntimeWarning: invalid value encountered in double_scalars\n",
      "  ret = ret.dtype.type(ret / rcount)\n"
     ]
    },
    {
     "name": "stdout",
     "output_type": "stream",
     "text": [
      "the tuned getDecision decision tree with lookback 4 would have given you 4914.88$\n",
      "or +9.71% per year\n",
      "or 79.79$ per month\n"
     ]
    },
    {
     "data": {
      "text/plain": [
       "[<matplotlib.lines.Line2D at 0x7fd78f91a770>]"
      ]
     },
     "execution_count": 142,
     "metadata": {},
     "output_type": "execute_result"
    },
    {
     "data": {
      "image/png": "[encoded data removed]",
      "text/plain": [
       "<Figure size 640x480 with 1 Axes>"
      ]
     },
     "metadata": {},
     "output_type": "display_data"
    }
   ],
   "source": [
    "## last test on data\n",
    "\n",
    "\n",
    "bestLookback = -1\n",
    "bestLookbackWin = -9999\n",
    "bestLookbackPortfolio = []\n",
    "for lookback in range(0, 10):\n",
    "    money = startMoney\n",
    "    nrStocks = 0\n",
    "    portfolio = []\n",
    "    for i in range(lookback, len(df)):\n",
    "        prednow = np.median(preds[i-lookback:i])\n",
    "        # \"translate\" 0 to -1 like we did it before\n",
    "        if prednow == 0:\n",
    "            prednow = -1\n",
    "        # prednow = preds[i]\n",
    "        if prednow == 1 and nrStocks == 0 and money > 10:\n",
    "            # buy\n",
    "            howmany = money / df.iloc[i][\"adj_close\"] * .99\n",
    "            cost = howmany * df.iloc[i][\"adj_close\"] * (1 + COMMISSION)\n",
    "            money -= cost\n",
    "            nrStocks += howmany\n",
    "        elif prednow == -1 and nrStocks > 0:\n",
    "            money += nrStocks * df.iloc[i][\"adj_close\"] * (1 - COMMISSION)\n",
    "            nrStocks = 0\n",
    "        portfolio.append(money + nrStocks * df.iloc[i][\"adj_close\"])\n",
    "    # last day sell\n",
    "    money += nrStocks * df.iloc[-1][\"adj_close\"] * (1 - COMMISSION)\n",
    "    win = money - startMoney\n",
    "    if win > bestLookbackWin:\n",
    "        bestLookback = lookback\n",
    "        bestLookbackWin = win\n",
    "        bestLookbackPortfolio = portfolio\n",
    "\n",
    "print(\"the tuned getDecision decision tree with lookback %d would have given you %.2f$\" % (bestLookback, bestLookbackWin))\n",
    "days = (df.index[-1] - df.index[0]).days\n",
    "winPct = bestLookbackWin / startMoney * 100\n",
    "winPctYear = winPct / days * 365\n",
    "print(\"or +%.2f%% per year\" % winPctYear)\n",
    "winPerMonth = bestLookbackWin / days * 30\n",
    "print(\"or %.2f$ per month\" % winPerMonth)\n",
    "plt.plot(bestLookbackPortfolio)\n",
    "## tree\n",
    "# the decision tree with lookback 0 would have given you 19227.17$\n",
    "# or +37.98% per year\n",
    "# or 312.13$ per month\n",
    "## XGB - actually not too nice\n",
    "# the xgb with lookback 3 would have given you 3497.44$\n",
    "# or +6.91% per year\n",
    "# or 56.78$ per month\n",
    "## lightgbm \n",
    "# the lightgbm with lookback 3 would have given you 6510.10$\n",
    "# or +12.86% per year\n",
    "# or 105.68$ per month\n",
    "## tuned decision tree\n",
    "# the tuned getDecision decision tree with lookback 1 would have given you 4006.82$\n",
    "# or +7.91% per year\n",
    "# or 65.05$ per month\n",
    "## just holding\n",
    "# just holding would have given you 6582.50$\n",
    "# or 106.86$ per month\n"
   ]
  }
 ],
 "metadata": {
  "kernelspec": {
   "display_name": "Python 3.10.4 ('base')",
   "language": "python",
   "name": "python3"
  },
  "language_info": {
   "codemirror_mode": {
    "name": "ipython",
    "version": 3
   },
   "file_extension": ".py",
   "mimetype": "text/x-python",
   "name": "python",
   "nbconvert_exporter": "python",
   "pygments_lexer": "ipython3",
   "version": "3.10.4"
  },
  "orig_nbformat": 4,
  "vscode": {
   "interpreter": {
    "hash": "d436247b9f043f8630513ed1454a5d25f3879733eb5c0e6e904c7c35a517ff37"
   }
  }
 },
 "nbformat": 4,
 "nbformat_minor": 2
}
