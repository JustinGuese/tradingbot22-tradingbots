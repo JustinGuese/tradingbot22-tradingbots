{
 "cells": [
  {
   "cell_type": "code",
   "execution_count": 1,
   "metadata": {},
   "outputs": [],
   "source": [
    "# try to find the exact values for composer/buythedips-nasdaq/shorting-adapted/buythedipsnasdaq.py\n",
    "\n",
    "# implemented in: composer/buythedips-nasdaq/shorting-explored/buythedipsnasdaq.py"
   ]
  },
  {
   "cell_type": "code",
   "execution_count": 3,
   "metadata": {},
   "outputs": [],
   "source": [
    "from datetime import datetime, timedelta\n",
    "\n",
    "# adapted to to buy tqqq if 5 day qqq return positive, else short qqq with sqqq\n",
    "from basebot22.basebot import BaseBot\n",
    "\n",
    "# basic setup\n",
    "bot = BaseBot(\"testbot\") # backendurl = \"http://tradingbot-baseimage-service:8000\"\n"
   ]
  },
  {
   "cell_type": "code",
   "execution_count": 12,
   "metadata": {},
   "outputs": [
    {
     "data": {
      "text/html": [
       "<div>\n",
       "<style scoped>\n",
       "    .dataframe tbody tr th:only-of-type {\n",
       "        vertical-align: middle;\n",
       "    }\n",
       "\n",
       "    .dataframe tbody tr th {\n",
       "        vertical-align: top;\n",
       "    }\n",
       "\n",
       "    .dataframe thead th {\n",
       "        text-align: right;\n",
       "    }\n",
       "</style>\n",
       "<table border=\"1\" class=\"dataframe\">\n",
       "  <thead>\n",
       "    <tr style=\"text-align: right;\">\n",
       "      <th></th>\n",
       "      <th>high</th>\n",
       "      <th>close</th>\n",
       "      <th>adj_close</th>\n",
       "      <th>low</th>\n",
       "      <th>ticker</th>\n",
       "      <th>open</th>\n",
       "      <th>volume</th>\n",
       "      <th>cumulative_5d_return</th>\n",
       "      <th>cumulative_1d_return</th>\n",
       "      <th>pct_change</th>\n",
       "    </tr>\n",
       "    <tr>\n",
       "      <th>timestamp</th>\n",
       "      <th></th>\n",
       "      <th></th>\n",
       "      <th></th>\n",
       "      <th></th>\n",
       "      <th></th>\n",
       "      <th></th>\n",
       "      <th></th>\n",
       "      <th></th>\n",
       "      <th></th>\n",
       "      <th></th>\n",
       "    </tr>\n",
       "  </thead>\n",
       "  <tbody>\n",
       "    <tr>\n",
       "      <th>2018-01-02</th>\n",
       "      <td>12.178333</td>\n",
       "      <td>12.153333</td>\n",
       "      <td>12.065624</td>\n",
       "      <td>11.657500</td>\n",
       "      <td>TQQQ</td>\n",
       "      <td>11.741667</td>\n",
       "      <td>45867600</td>\n",
       "      <td>NaN</td>\n",
       "      <td>NaN</td>\n",
       "      <td>NaN</td>\n",
       "    </tr>\n",
       "    <tr>\n",
       "      <th>2018-01-03</th>\n",
       "      <td>12.555000</td>\n",
       "      <td>12.509167</td>\n",
       "      <td>12.418888</td>\n",
       "      <td>12.200833</td>\n",
       "      <td>TQQQ</td>\n",
       "      <td>12.202500</td>\n",
       "      <td>42612000</td>\n",
       "      <td>NaN</td>\n",
       "      <td>0.029279</td>\n",
       "      <td>0.029279</td>\n",
       "    </tr>\n",
       "    <tr>\n",
       "      <th>2018-01-04</th>\n",
       "      <td>12.700833</td>\n",
       "      <td>12.582500</td>\n",
       "      <td>12.491693</td>\n",
       "      <td>12.538333</td>\n",
       "      <td>TQQQ</td>\n",
       "      <td>12.655833</td>\n",
       "      <td>35012400</td>\n",
       "      <td>NaN</td>\n",
       "      <td>0.035141</td>\n",
       "      <td>0.005862</td>\n",
       "    </tr>\n",
       "    <tr>\n",
       "      <th>2018-01-05</th>\n",
       "      <td>12.990000</td>\n",
       "      <td>12.962500</td>\n",
       "      <td>12.868951</td>\n",
       "      <td>12.692500</td>\n",
       "      <td>TQQQ</td>\n",
       "      <td>12.758333</td>\n",
       "      <td>41190000</td>\n",
       "      <td>NaN</td>\n",
       "      <td>0.065342</td>\n",
       "      <td>0.030201</td>\n",
       "    </tr>\n",
       "    <tr>\n",
       "      <th>2018-01-08</th>\n",
       "      <td>13.133333</td>\n",
       "      <td>13.106667</td>\n",
       "      <td>13.012076</td>\n",
       "      <td>12.948333</td>\n",
       "      <td>TQQQ</td>\n",
       "      <td>12.960833</td>\n",
       "      <td>36126000</td>\n",
       "      <td>NaN</td>\n",
       "      <td>0.076463</td>\n",
       "      <td>0.011122</td>\n",
       "    </tr>\n",
       "  </tbody>\n",
       "</table>\n",
       "</div>"
      ],
      "text/plain": [
       "                 high      close  adj_close        low ticker       open  \\\n",
       "timestamp                                                                  \n",
       "2018-01-02  12.178333  12.153333  12.065624  11.657500   TQQQ  11.741667   \n",
       "2018-01-03  12.555000  12.509167  12.418888  12.200833   TQQQ  12.202500   \n",
       "2018-01-04  12.700833  12.582500  12.491693  12.538333   TQQQ  12.655833   \n",
       "2018-01-05  12.990000  12.962500  12.868951  12.692500   TQQQ  12.758333   \n",
       "2018-01-08  13.133333  13.106667  13.012076  12.948333   TQQQ  12.960833   \n",
       "\n",
       "              volume  cumulative_5d_return  cumulative_1d_return  pct_change  \n",
       "timestamp                                                                     \n",
       "2018-01-02  45867600                   NaN                   NaN         NaN  \n",
       "2018-01-03  42612000                   NaN              0.029279    0.029279  \n",
       "2018-01-04  35012400                   NaN              0.035141    0.005862  \n",
       "2018-01-05  41190000                   NaN              0.065342    0.030201  \n",
       "2018-01-08  36126000                   NaN              0.076463    0.011122  "
      ]
     },
     "execution_count": 12,
     "metadata": {},
     "output_type": "execute_result"
    }
   ],
   "source": [
    "STOCKS = [\"QQQ\", \"TQQQ\", \"SQQQ\"]\n",
    "datas = dict()\n",
    "for ticker in STOCKS:\n",
    "    datas[ticker] = bot.getData(ticker, start_date = datetime.now() - timedelta(days=3*12*365))\n",
    "    datas[ticker][\"cumulative_5d_return\"] = datas[ticker][\"adj_close\"].pct_change(5).cumsum()\n",
    "    datas[ticker][\"cumulative_1d_return\"] = datas[ticker][\"adj_close\"].pct_change(1).cumsum()\n",
    "    datas[ticker][\"pct_change\"] = datas[ticker][\"adj_close\"].pct_change(1)\n",
    "datas[\"TQQQ\"].head()"
   ]
  },
  {
   "cell_type": "code",
   "execution_count": 13,
   "metadata": {},
   "outputs": [
    {
     "data": {
      "text/html": [
       "<div>\n",
       "<style scoped>\n",
       "    .dataframe tbody tr th:only-of-type {\n",
       "        vertical-align: middle;\n",
       "    }\n",
       "\n",
       "    .dataframe tbody tr th {\n",
       "        vertical-align: top;\n",
       "    }\n",
       "\n",
       "    .dataframe thead th {\n",
       "        text-align: right;\n",
       "    }\n",
       "</style>\n",
       "<table border=\"1\" class=\"dataframe\">\n",
       "  <thead>\n",
       "    <tr style=\"text-align: right;\">\n",
       "      <th></th>\n",
       "      <th>high</th>\n",
       "      <th>close</th>\n",
       "      <th>adj_close</th>\n",
       "      <th>low</th>\n",
       "      <th>ticker</th>\n",
       "      <th>open</th>\n",
       "      <th>volume</th>\n",
       "      <th>cumulative_5d_return</th>\n",
       "      <th>cumulative_1d_return</th>\n",
       "      <th>pct_change</th>\n",
       "    </tr>\n",
       "    <tr>\n",
       "      <th>timestamp</th>\n",
       "      <th></th>\n",
       "      <th></th>\n",
       "      <th></th>\n",
       "      <th></th>\n",
       "      <th></th>\n",
       "      <th></th>\n",
       "      <th></th>\n",
       "      <th></th>\n",
       "      <th></th>\n",
       "      <th></th>\n",
       "    </tr>\n",
       "  </thead>\n",
       "  <tbody>\n",
       "    <tr>\n",
       "      <th>2022-12-23</th>\n",
       "      <td>17.719999</td>\n",
       "      <td>17.590000</td>\n",
       "      <td>17.590000</td>\n",
       "      <td>16.830000</td>\n",
       "      <td>TQQQ</td>\n",
       "      <td>17.209999</td>\n",
       "      <td>165067300</td>\n",
       "      <td>8.122609</td>\n",
       "      <td>1.895785</td>\n",
       "      <td>0.002851</td>\n",
       "    </tr>\n",
       "    <tr>\n",
       "      <th>2022-12-27</th>\n",
       "      <td>17.480000</td>\n",
       "      <td>16.840000</td>\n",
       "      <td>16.840000</td>\n",
       "      <td>16.719999</td>\n",
       "      <td>TQQQ</td>\n",
       "      <td>17.459999</td>\n",
       "      <td>131600300</td>\n",
       "      <td>8.044338</td>\n",
       "      <td>1.853147</td>\n",
       "      <td>-0.042638</td>\n",
       "    </tr>\n",
       "    <tr>\n",
       "      <th>2022-12-28</th>\n",
       "      <td>17.200001</td>\n",
       "      <td>16.160000</td>\n",
       "      <td>16.160000</td>\n",
       "      <td>16.100000</td>\n",
       "      <td>TQQQ</td>\n",
       "      <td>16.750000</td>\n",
       "      <td>182434600</td>\n",
       "      <td>7.932739</td>\n",
       "      <td>1.812767</td>\n",
       "      <td>-0.040380</td>\n",
       "    </tr>\n",
       "    <tr>\n",
       "      <th>2022-12-29</th>\n",
       "      <td>17.500000</td>\n",
       "      <td>17.299999</td>\n",
       "      <td>17.299999</td>\n",
       "      <td>16.530001</td>\n",
       "      <td>TQQQ</td>\n",
       "      <td>16.670000</td>\n",
       "      <td>153054900</td>\n",
       "      <td>7.844224</td>\n",
       "      <td>1.883312</td>\n",
       "      <td>0.070545</td>\n",
       "    </tr>\n",
       "    <tr>\n",
       "      <th>2022-12-30</th>\n",
       "      <td>17.299999</td>\n",
       "      <td>17.299999</td>\n",
       "      <td>17.299999</td>\n",
       "      <td>16.500000</td>\n",
       "      <td>TQQQ</td>\n",
       "      <td>16.760000</td>\n",
       "      <td>150368500</td>\n",
       "      <td>7.830541</td>\n",
       "      <td>1.883312</td>\n",
       "      <td>0.000000</td>\n",
       "    </tr>\n",
       "  </tbody>\n",
       "</table>\n",
       "</div>"
      ],
      "text/plain": [
       "                 high      close  adj_close        low ticker       open  \\\n",
       "timestamp                                                                  \n",
       "2022-12-23  17.719999  17.590000  17.590000  16.830000   TQQQ  17.209999   \n",
       "2022-12-27  17.480000  16.840000  16.840000  16.719999   TQQQ  17.459999   \n",
       "2022-12-28  17.200001  16.160000  16.160000  16.100000   TQQQ  16.750000   \n",
       "2022-12-29  17.500000  17.299999  17.299999  16.530001   TQQQ  16.670000   \n",
       "2022-12-30  17.299999  17.299999  17.299999  16.500000   TQQQ  16.760000   \n",
       "\n",
       "               volume  cumulative_5d_return  cumulative_1d_return  pct_change  \n",
       "timestamp                                                                      \n",
       "2022-12-23  165067300              8.122609              1.895785    0.002851  \n",
       "2022-12-27  131600300              8.044338              1.853147   -0.042638  \n",
       "2022-12-28  182434600              7.932739              1.812767   -0.040380  \n",
       "2022-12-29  153054900              7.844224              1.883312    0.070545  \n",
       "2022-12-30  150368500              7.830541              1.883312    0.000000  "
      ]
     },
     "execution_count": 13,
     "metadata": {},
     "output_type": "execute_result"
    }
   ],
   "source": [
    "datas[\"TQQQ\"].tail()"
   ]
  },
  {
   "cell_type": "code",
   "execution_count": 18,
   "metadata": {},
   "outputs": [
    {
     "name": "stdout",
     "output_type": "stream",
     "text": [
      "QQQ (1259, 10)\n",
      "TQQQ (1259, 10)\n",
      "SQQQ (1259, 10)\n"
     ]
    }
   ],
   "source": [
    "for ticker in STOCKS:\n",
    "    print(ticker, datas[ticker].shape)"
   ]
  },
  {
   "cell_type": "code",
   "execution_count": 44,
   "metadata": {},
   "outputs": [
    {
     "name": "stdout",
     "output_type": "stream",
     "text": [
      "617.069698037243\n"
     ]
    }
   ],
   "source": [
    "## logic\n",
    "def simulateOne(qqq5d_threshold = -0.05, lookback = 5):\n",
    "    money = 10000\n",
    "    stocks = { \"SQQQ\" : 0, \"TQQQ\" : 0}\n",
    "    datas[\"QQQ\"][\"cumulative_5d_return\"] = datas[\"QQQ\"][\"adj_close\"].pct_change(lookback).cumsum()\n",
    "    portfolio = []\n",
    "    for i in range(len(datas[\"QQQ\"])):\n",
    "        qqqCrnt5DCumRet = datas[\"QQQ\"].iloc[i][\"cumulative_5d_return\"]\n",
    "        if qqqCrnt5DCumRet > qqq5d_threshold: # if less than -5%\n",
    "            # buy tqqq\n",
    "            # print(i, \"buy tqqq\")\n",
    "            if stocks.get(\"TQQQ\", 0) == 0:\n",
    "                if stocks.get(\"SQQQ\", 0) > 0:\n",
    "                    # sell them\n",
    "                    money += stocks[\"SQQQ\"] * datas[\"SQQQ\"].iloc[i][\"adj_close\"]\n",
    "                    stocks[\"SQQQ\"] = 0\n",
    "                howmany = money / datas[\"TQQQ\"].iloc[i][\"adj_close\"]\n",
    "                stocks[\"TQQQ\"] = howmany\n",
    "                money -= howmany * datas[\"TQQQ\"].iloc[i][\"adj_close\"]\n",
    "        else:\n",
    "            # buy sqqq\n",
    "            # print(i, \"buy sqqq\")\n",
    "            if stocks.get(\"SQQQ\", 0) == 0:\n",
    "                if stocks.get(\"TQQQ\", 0) > 0:\n",
    "                    # sell them\n",
    "                    money += stocks[\"TQQQ\"] * datas[\"TQQQ\"].iloc[i][\"adj_close\"]\n",
    "                    stocks[\"TQQQ\"] = 0\n",
    "                howmany = money / datas[\"SQQQ\"].iloc[i][\"adj_close\"]\n",
    "                stocks[\"SQQQ\"] = howmany\n",
    "                money -= howmany * datas[\"SQQQ\"].iloc[i][\"adj_close\"]\n",
    "        portfolio.append(money + stocks[\"SQQQ\"] * datas[\"SQQQ\"].iloc[i][\"adj_close\"] + stocks[\"TQQQ\"] * datas[\"TQQQ\"].iloc[i][\"adj_close\"])\n",
    "    # last day liquify\n",
    "    money += stocks[\"SQQQ\"] * datas[\"SQQQ\"].iloc[-1][\"adj_close\"]\n",
    "    money += stocks[\"TQQQ\"] * datas[\"TQQQ\"].iloc[-1][\"adj_close\"]\n",
    "    return money, portfolio\n",
    "\n",
    "balance, portfolio = simulateOne()\n",
    "print(balance)\n"
   ]
  },
  {
   "cell_type": "code",
   "execution_count": 49,
   "metadata": {},
   "outputs": [
    {
     "name": "stderr",
     "output_type": "stream",
     "text": [
      "100%|██████████| 20/20 [00:08<00:00,  2.34it/s]"
     ]
    },
    {
     "name": "stdout",
     "output_type": "stream",
     "text": [
      "100220.91610474128 0.7842105263157895 1\n"
     ]
    },
    {
     "name": "stderr",
     "output_type": "stream",
     "text": [
      "\n"
     ]
    }
   ],
   "source": [
    "# maximize\n",
    "import numpy as np\n",
    "from tqdm import tqdm\n",
    "qqq5d_thresholds = np.linspace(0.5, 0.8, 20)\n",
    "# tqqq5d_thresholds = np.linspace(-0.1, 0.1, 20)\n",
    "lookbacks = np.arange(1, 3)\n",
    "\n",
    "best = -999999\n",
    "bestSettings = dict()\n",
    "for qt in tqdm(qqq5d_thresholds):\n",
    "    for lookback in lookbacks:\n",
    "        balance, portfolio = simulateOne(qt, lookback)\n",
    "        if balance > best:\n",
    "            best = balance\n",
    "            bestSettings = dict(qqq5d_threshold = qt, lookback = lookback, balance = balance, portfolio = portfolio)\n",
    "print(bestSettings[\"balance\"], bestSettings[\"qqq5d_threshold\"], bestSettings[\"lookback\"])"
   ]
  },
  {
   "cell_type": "code",
   "execution_count": 48,
   "metadata": {},
   "outputs": [
    {
     "name": "stdout",
     "output_type": "stream",
     "text": [
      "138468.1745313731 0.7894736842105261 1\n"
     ]
    }
   ],
   "source": [
    "# print(bestSettings[\"balance\"], bestSettings[\"qqq5d_threshold\"], bestSettings[\"lookback\"])\n",
    "# bes: 138468.1745313731 0.7894736842105261 1"
   ]
  },
  {
   "cell_type": "code",
   "execution_count": 50,
   "metadata": {},
   "outputs": [
    {
     "data": {
      "text/plain": [
       "[<matplotlib.lines.Line2D at 0x7fcbb3e065f0>]"
      ]
     },
     "execution_count": 50,
     "metadata": {},
     "output_type": "execute_result"
    },
    {
     "data": {
      "image/png": "[encoded data removed]",
      "text/plain": [
       "<Figure size 640x480 with 1 Axes>"
      ]
     },
     "metadata": {},
     "output_type": "display_data"
    }
   ],
   "source": [
    "from matplotlib import pyplot as plt\n",
    "plt.plot(bestSettings[\"portfolio\"])"
   ]
  }
 ],
 "metadata": {
  "kernelspec": {
   "display_name": "base",
   "language": "python",
   "name": "python3"
  },
  "language_info": {
   "codemirror_mode": {
    "name": "ipython",
    "version": 3
   },
   "file_extension": ".py",
   "mimetype": "text/x-python",
   "name": "python",
   "nbconvert_exporter": "python",
   "pygments_lexer": "ipython3",
   "version": "3.10.8 (main, Nov 24 2022, 14:13:03) [GCC 11.2.0]"
  },
  "orig_nbformat": 4,
  "vscode": {
   "interpreter": {
    "hash": "d436247b9f043f8630513ed1454a5d25f3879733eb5c0e6e904c7c35a517ff37"
   }
  }
 },
 "nbformat": 4,
 "nbformat_minor": 2
}
